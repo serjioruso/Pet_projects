{
 "cells": [
  {
   "cell_type": "markdown",
   "id": "b181a365",
   "metadata": {},
   "source": [
    "<center><h1>AMAZON ALEXA REVIEW CLASSIFICATION MODEL </h1><center>"
   ]
  },
  {
   "cell_type": "markdown",
   "id": "06b6865d",
   "metadata": {},
   "source": [
    "<h3> Contents </h3><br>\n",
    "\n",
    "<b>Introduction</b><br>\n",
    "\n",
    "<b>1.Import libraries</b><br>\n",
    "<b>2. Data analysis</b><br>\n",
    "<b>3. Data preprocessing</b><br>\n",
    "<b>4. Model training</b><br>\n",
    "\n",
    "<b>Results</b><br>"
   ]
  },
  {
   "cell_type": "markdown",
   "id": "36d027b7",
   "metadata": {},
   "source": [
    "<center><h2> Introduction </h2></center>"
   ]
  },
  {
   "cell_type": "markdown",
   "id": "c697768f",
   "metadata": {},
   "source": [
    "<h3> Goals and Objectives </h3>"
   ]
  },
  {
   "cell_type": "markdown",
   "id": "9c22bbe3",
   "metadata": {},
   "source": [
    "The study aims to develop a model which predicts a type of feedback on Amazon Alexa products according to the text of users' reviews. To achieve this goal, a number of objectives were identified, including:<br>\n",
    "1.Analysis of the existing dataset<br>\n",
    "2.Determining the type of the model (classification or regression)<br>\n",
    "3.Engineering of the existing features<br>\n",
    "4.Creating the best-performance model"
   ]
  },
  {
   "cell_type": "markdown",
   "id": "61b06794",
   "metadata": {},
   "source": [
    "<h3> Models and Tools </h3>"
   ]
  },
  {
   "cell_type": "markdown",
   "id": "137972ff",
   "metadata": {},
   "source": [
    "During the research the following classification models were used:\n",
    "    \n",
    "Decision Tree Classifier<br>\n",
    "XGBoost Classifier<br>\n",
    "Random Forest Classifier<br>\n",
    "KNN Classifier<br>\n",
    "AdaBoost Classifier<br>\n",
    "SVC Classifier<br>\n",
    "Logistic Regression Classifier<br>\n",
    "Naive Bayes Classifier"
   ]
  },
  {
   "cell_type": "markdown",
   "id": "934cdc09",
   "metadata": {},
   "source": [
    "<h3> Results </h3>"
   ]
  },
  {
   "cell_type": "markdown",
   "id": "8e018b8f",
   "metadata": {},
   "source": [
    "According to the comparison of train/test accuracy score (difference is less than 3%) and ROC-AUC (above 87%) for test set <b> AdaBoost Classifier </b> was chosen as the best classification model."
   ]
  },
  {
   "cell_type": "markdown",
   "id": "5dd5e76f",
   "metadata": {},
   "source": [
    "<center><h2> 1. Import libraries </h2></center>"
   ]
  },
  {
   "cell_type": "code",
   "execution_count": 2,
   "id": "e1f3b971",
   "metadata": {},
   "outputs": [],
   "source": [
    "#Import libraries\n",
    "\n",
    "import pandas as pd\n",
    "import numpy as np\n",
    "import matplotlib.pyplot as plt\n",
    "import seaborn as sns\n",
    "from sklearn.model_selection import train_test_split\n",
    "from sklearn.metrics import roc_auc_score\n",
    "from sklearn.metrics import classification_report, confusion_matrix, accuracy_score\n",
    "from matplotlib.colors import ListedColormap\n",
    "\n",
    "#Vectorizer\n",
    "\n",
    "from sklearn.feature_extraction.text import CountVectorizer\n",
    "\n",
    "#Classifiers\n",
    "\n",
    "from sklearn.tree import DecisionTreeClassifier\n",
    "from sklearn.ensemble import RandomForestClassifier\n",
    "from sklearn.svm import SVC\n",
    "from sklearn.neighbors import KNeighborsClassifier\n",
    "from sklearn.linear_model import LogisticRegression\n",
    "from sklearn.naive_bayes import GaussianNB\n",
    "from xgboost import XGBClassifier\n",
    "from sklearn.ensemble import AdaBoostClassifier\n",
    "\n",
    "#GridSearchCV\n",
    "\n",
    "from sklearn.model_selection import GridSearchCV"
   ]
  },
  {
   "cell_type": "code",
   "execution_count": 4,
   "id": "407e3fb7",
   "metadata": {},
   "outputs": [],
   "source": [
    "#Disable warnings\n",
    "\n",
    "import warnings\n",
    "warnings.filterwarnings('ignore')"
   ]
  },
  {
   "cell_type": "code",
   "execution_count": 5,
   "id": "8474346e",
   "metadata": {},
   "outputs": [],
   "source": [
    "#Model results list dictionary\n",
    "model_list = list()\n",
    "train_accuracy_score_list = list()\n",
    "test_accuracy_score_list = list()\n",
    "roc_auc_list = list()"
   ]
  },
  {
   "cell_type": "markdown",
   "id": "f8701593",
   "metadata": {},
   "source": [
    "<center><h2> 2. Data analysis </h2><center>"
   ]
  },
  {
   "cell_type": "code",
   "execution_count": 6,
   "id": "fb26ca16",
   "metadata": {},
   "outputs": [],
   "source": [
    "#Upload dataset\n",
    "\n",
    "df_alexa = pd.read_csv('./amazon_alexa.tsv', sep = '\\t')"
   ]
  },
  {
   "cell_type": "code",
   "execution_count": 7,
   "id": "cfae0685",
   "metadata": {},
   "outputs": [
    {
     "data": {
      "text/html": [
       "<div>\n",
       "<style scoped>\n",
       "    .dataframe tbody tr th:only-of-type {\n",
       "        vertical-align: middle;\n",
       "    }\n",
       "\n",
       "    .dataframe tbody tr th {\n",
       "        vertical-align: top;\n",
       "    }\n",
       "\n",
       "    .dataframe thead th {\n",
       "        text-align: right;\n",
       "    }\n",
       "</style>\n",
       "<table border=\"1\" class=\"dataframe\">\n",
       "  <thead>\n",
       "    <tr style=\"text-align: right;\">\n",
       "      <th></th>\n",
       "      <th>rating</th>\n",
       "      <th>date</th>\n",
       "      <th>variation</th>\n",
       "      <th>verified_reviews</th>\n",
       "      <th>feedback</th>\n",
       "    </tr>\n",
       "  </thead>\n",
       "  <tbody>\n",
       "    <tr>\n",
       "      <th>0</th>\n",
       "      <td>5</td>\n",
       "      <td>31-Jul-18</td>\n",
       "      <td>Charcoal Fabric</td>\n",
       "      <td>Love my Echo!</td>\n",
       "      <td>1</td>\n",
       "    </tr>\n",
       "    <tr>\n",
       "      <th>1</th>\n",
       "      <td>5</td>\n",
       "      <td>31-Jul-18</td>\n",
       "      <td>Charcoal Fabric</td>\n",
       "      <td>Loved it!</td>\n",
       "      <td>1</td>\n",
       "    </tr>\n",
       "    <tr>\n",
       "      <th>2</th>\n",
       "      <td>4</td>\n",
       "      <td>31-Jul-18</td>\n",
       "      <td>Walnut Finish</td>\n",
       "      <td>Sometimes while playing a game, you can answer...</td>\n",
       "      <td>1</td>\n",
       "    </tr>\n",
       "    <tr>\n",
       "      <th>3</th>\n",
       "      <td>5</td>\n",
       "      <td>31-Jul-18</td>\n",
       "      <td>Charcoal Fabric</td>\n",
       "      <td>I have had a lot of fun with this thing. My 4 ...</td>\n",
       "      <td>1</td>\n",
       "    </tr>\n",
       "    <tr>\n",
       "      <th>4</th>\n",
       "      <td>5</td>\n",
       "      <td>31-Jul-18</td>\n",
       "      <td>Charcoal Fabric</td>\n",
       "      <td>Music</td>\n",
       "      <td>1</td>\n",
       "    </tr>\n",
       "    <tr>\n",
       "      <th>5</th>\n",
       "      <td>5</td>\n",
       "      <td>31-Jul-18</td>\n",
       "      <td>Heather Gray Fabric</td>\n",
       "      <td>I received the echo as a gift. I needed anothe...</td>\n",
       "      <td>1</td>\n",
       "    </tr>\n",
       "    <tr>\n",
       "      <th>6</th>\n",
       "      <td>3</td>\n",
       "      <td>31-Jul-18</td>\n",
       "      <td>Sandstone Fabric</td>\n",
       "      <td>Without having a cellphone, I cannot use many ...</td>\n",
       "      <td>1</td>\n",
       "    </tr>\n",
       "    <tr>\n",
       "      <th>7</th>\n",
       "      <td>5</td>\n",
       "      <td>31-Jul-18</td>\n",
       "      <td>Charcoal Fabric</td>\n",
       "      <td>I think this is the 5th one I've purchased. I'...</td>\n",
       "      <td>1</td>\n",
       "    </tr>\n",
       "    <tr>\n",
       "      <th>8</th>\n",
       "      <td>5</td>\n",
       "      <td>30-Jul-18</td>\n",
       "      <td>Heather Gray Fabric</td>\n",
       "      <td>looks great</td>\n",
       "      <td>1</td>\n",
       "    </tr>\n",
       "    <tr>\n",
       "      <th>9</th>\n",
       "      <td>5</td>\n",
       "      <td>30-Jul-18</td>\n",
       "      <td>Heather Gray Fabric</td>\n",
       "      <td>Love it! I’ve listened to songs I haven’t hear...</td>\n",
       "      <td>1</td>\n",
       "    </tr>\n",
       "  </tbody>\n",
       "</table>\n",
       "</div>"
      ],
      "text/plain": [
       "   rating       date             variation  \\\n",
       "0       5  31-Jul-18      Charcoal Fabric    \n",
       "1       5  31-Jul-18      Charcoal Fabric    \n",
       "2       4  31-Jul-18        Walnut Finish    \n",
       "3       5  31-Jul-18      Charcoal Fabric    \n",
       "4       5  31-Jul-18      Charcoal Fabric    \n",
       "5       5  31-Jul-18  Heather Gray Fabric    \n",
       "6       3  31-Jul-18     Sandstone Fabric    \n",
       "7       5  31-Jul-18      Charcoal Fabric    \n",
       "8       5  30-Jul-18  Heather Gray Fabric    \n",
       "9       5  30-Jul-18  Heather Gray Fabric    \n",
       "\n",
       "                                    verified_reviews  feedback  \n",
       "0                                      Love my Echo!         1  \n",
       "1                                          Loved it!         1  \n",
       "2  Sometimes while playing a game, you can answer...         1  \n",
       "3  I have had a lot of fun with this thing. My 4 ...         1  \n",
       "4                                              Music         1  \n",
       "5  I received the echo as a gift. I needed anothe...         1  \n",
       "6  Without having a cellphone, I cannot use many ...         1  \n",
       "7  I think this is the 5th one I've purchased. I'...         1  \n",
       "8                                        looks great         1  \n",
       "9  Love it! I’ve listened to songs I haven’t hear...         1  "
      ]
     },
     "execution_count": 7,
     "metadata": {},
     "output_type": "execute_result"
    }
   ],
   "source": [
    "# Show first 10 rows\n",
    "\n",
    "df_alexa.head(10)"
   ]
  },
  {
   "cell_type": "code",
   "execution_count": 8,
   "id": "7eeab84c",
   "metadata": {},
   "outputs": [
    {
     "name": "stdout",
     "output_type": "stream",
     "text": [
      "Current dataset contains:  5  variables, including:\n",
      "['rating', 'date', 'variation', 'verified_reviews', 'feedback']\n"
     ]
    }
   ],
   "source": [
    "#Define variables\n",
    "\n",
    "print('Current dataset contains: ',len(df_alexa.columns),' variables, including:')\n",
    "print(list(df_alexa.columns))\n"
   ]
  },
  {
   "cell_type": "markdown",
   "id": "61cf6442",
   "metadata": {},
   "source": [
    "<h4> Definition of variables: </h4><br>\n",
    "<u> rating </u> - <i> product raiting </i><br>\n",
    "<u> date </u> - <i> feedback date </i><br>\n",
    "<u> variation </u> - <i> type of product </i><br>\n",
    "<u> verified_reviews </u> - <i> feedback text </i><br>\n",
    "<u> feedback </u> - <i> type of feedback </i><br>"
   ]
  },
  {
   "cell_type": "markdown",
   "id": "56fe511c",
   "metadata": {},
   "source": [
    "In current project <b> feedback </b> is dependent variable."
   ]
  },
  {
   "cell_type": "code",
   "execution_count": 9,
   "id": "f8c82af4",
   "metadata": {},
   "outputs": [
    {
     "name": "stdout",
     "output_type": "stream",
     "text": [
      "The dependent variable contains  2  unique labels: [1 0]\n",
      "Percentage of \"0\" labels: 8.16%\n",
      "Percentage of \"1\" labels: 91.84%\n"
     ]
    },
    {
     "data": {
      "image/png": "[encoded data removed]",
      "text/plain": [
       "<Figure size 640x480 with 1 Axes>"
      ]
     },
     "metadata": {},
     "output_type": "display_data"
    }
   ],
   "source": [
    "#Analysis of the dependent variable\n",
    "\n",
    "print('The dependent variable contains ',len(df_alexa['feedback'].unique()),' unique labels:', df_alexa['feedback'].unique())\n",
    "\n",
    "print('Percentage of \"0\" labels: {:.2%}'.format(list(df_alexa['feedback']).count(0) / len(df_alexa['feedback'])))\n",
    "print('Percentage of \"1\" labels: {:.2%}'.format(list(df_alexa['feedback']).count(1) / len(df_alexa['feedback'])))\n",
    "\n",
    "feedback = list()\n",
    "feedback.append(list(df_alexa['feedback']).count(1) / len(df_alexa['feedback']))\n",
    "feedback.append(list(df_alexa['feedback']).count(0) / len(df_alexa['feedback']))\n",
    "feedback_labels = ['positive', 'negative']\n",
    "colors=['lightgreen', 'lightyellow']\n",
    "plt.pie(feedback, labels = feedback_labels, autopct='%.1f%%', colors = colors)\n",
    "plt.title('Distribution of dependent variable')\n",
    "plt.show()"
   ]
  },
  {
   "cell_type": "markdown",
   "id": "0e7cf8eb",
   "metadata": {},
   "source": [
    "The analysis shows that dependent variable has a binary structure which means that classification model can be used to achieve the goal of the project. However the unequal relation between two labels shows that dataset is not balanced."
   ]
  },
  {
   "cell_type": "code",
   "execution_count": 10,
   "id": "b3ff4140",
   "metadata": {},
   "outputs": [
    {
     "name": "stdout",
     "output_type": "stream",
     "text": [
      "<class 'pandas.core.frame.DataFrame'>\n",
      "RangeIndex: 3150 entries, 0 to 3149\n",
      "Data columns (total 5 columns):\n",
      " #   Column            Non-Null Count  Dtype \n",
      "---  ------            --------------  ----- \n",
      " 0   rating            3150 non-null   int64 \n",
      " 1   date              3150 non-null   object\n",
      " 2   variation         3150 non-null   object\n",
      " 3   verified_reviews  3149 non-null   object\n",
      " 4   feedback          3150 non-null   int64 \n",
      "dtypes: int64(2), object(3)\n",
      "memory usage: 123.2+ KB\n"
     ]
    }
   ],
   "source": [
    "# Show general information about dataset \n",
    "\n",
    "df_alexa.info()"
   ]
  },
  {
   "cell_type": "code",
   "execution_count": 11,
   "id": "3cd4ef96",
   "metadata": {},
   "outputs": [
    {
     "name": "stdout",
     "output_type": "stream",
     "text": [
      "Current dataset contains:\n",
      "\n",
      "    1 numerical variables, including:\n",
      "        1 discrete variables: ['rating']\n",
      "        0 continuous variables: []\n",
      "\n",
      "    3 categorical variables: ['date', 'variation', 'verified_reviews']\n"
     ]
    }
   ],
   "source": [
    "#Types of independent variables\n",
    "\n",
    "\n",
    "#numerical: discrete & continuous\n",
    "discrete = [var for var in df_alexa.columns if df_alexa[var].dtype != 'O' and var != 'feedback' and df_alexa[var].nunique() < 10]\n",
    "continuous = [var for var in df_alexa.columns if df_alexa[var].dtype != 'O' and var !='feedback' and var not in discrete]\n",
    "\n",
    "#categorical\n",
    "categorical = [var for var in df_alexa.columns if df_alexa[var].dtype == 'O']\n",
    "\n",
    "print('Current dataset contains:')\n",
    "print()\n",
    "print('    {} numerical variables,'.format(len(discrete) + len(continuous)), 'including:')\n",
    "print('        {} discrete variables:'.format(len(discrete)), list(df_alexa[discrete].columns))\n",
    "print('        {} continuous variables:'.format(len(continuous)), list(df_alexa[continuous].columns))\n",
    "print()\n",
    "print('    {} categorical variables:'.format(len(categorical)), list(df_alexa[categorical].columns))"
   ]
  },
  {
   "cell_type": "code",
   "execution_count": 12,
   "id": "441fe6d3",
   "metadata": {},
   "outputs": [
    {
     "name": "stdout",
     "output_type": "stream",
     "text": [
      "verified_reviews  = 0.03%\n"
     ]
    }
   ],
   "source": [
    "# List of variables with missing values\n",
    "\n",
    "for variable in df_alexa:\n",
    "    percentage_of_missing_values = df_alexa[variable].isnull().mean()\n",
    "    if percentage_of_missing_values > 0:\n",
    "        print(variable, ' = {:.2%}'.format(percentage_of_missing_values))"
   ]
  },
  {
   "cell_type": "markdown",
   "id": "e4ff8f59",
   "metadata": {},
   "source": [
    "The dataset contains both numerical and categorical variables; only one label in 'verified_revies' variable contains missing data, so it can be dropped without any influence on prediction accuracy."
   ]
  },
  {
   "cell_type": "code",
   "execution_count": 13,
   "id": "5e5f9565",
   "metadata": {},
   "outputs": [
    {
     "data": {
      "text/plain": [
       "(3149, 6)"
      ]
     },
     "execution_count": 13,
     "metadata": {},
     "output_type": "execute_result"
    }
   ],
   "source": [
    "# Drop the row with missing data\n",
    "\n",
    "df_alexa = df_alexa.dropna().reset_index()\n",
    "df_alexa.shape"
   ]
  },
  {
   "cell_type": "code",
   "execution_count": 14,
   "id": "dbad504a",
   "metadata": {},
   "outputs": [
    {
     "data": {
      "text/html": [
       "<div>\n",
       "<style scoped>\n",
       "    .dataframe tbody tr th:only-of-type {\n",
       "        vertical-align: middle;\n",
       "    }\n",
       "\n",
       "    .dataframe tbody tr th {\n",
       "        vertical-align: top;\n",
       "    }\n",
       "\n",
       "    .dataframe thead th {\n",
       "        text-align: right;\n",
       "    }\n",
       "</style>\n",
       "<table border=\"1\" class=\"dataframe\">\n",
       "  <thead>\n",
       "    <tr style=\"text-align: right;\">\n",
       "      <th></th>\n",
       "      <th>rating</th>\n",
       "      <th>date</th>\n",
       "      <th>variation</th>\n",
       "      <th>verified_reviews</th>\n",
       "      <th>feedback</th>\n",
       "    </tr>\n",
       "  </thead>\n",
       "  <tbody>\n",
       "    <tr>\n",
       "      <th>0</th>\n",
       "      <td>5</td>\n",
       "      <td>31-Jul-18</td>\n",
       "      <td>Charcoal Fabric</td>\n",
       "      <td>Love my Echo!</td>\n",
       "      <td>1</td>\n",
       "    </tr>\n",
       "    <tr>\n",
       "      <th>1</th>\n",
       "      <td>5</td>\n",
       "      <td>31-Jul-18</td>\n",
       "      <td>Charcoal Fabric</td>\n",
       "      <td>Loved it!</td>\n",
       "      <td>1</td>\n",
       "    </tr>\n",
       "    <tr>\n",
       "      <th>2</th>\n",
       "      <td>4</td>\n",
       "      <td>31-Jul-18</td>\n",
       "      <td>Walnut Finish</td>\n",
       "      <td>Sometimes while playing a game, you can answer...</td>\n",
       "      <td>1</td>\n",
       "    </tr>\n",
       "    <tr>\n",
       "      <th>3</th>\n",
       "      <td>5</td>\n",
       "      <td>31-Jul-18</td>\n",
       "      <td>Charcoal Fabric</td>\n",
       "      <td>I have had a lot of fun with this thing. My 4 ...</td>\n",
       "      <td>1</td>\n",
       "    </tr>\n",
       "    <tr>\n",
       "      <th>4</th>\n",
       "      <td>5</td>\n",
       "      <td>31-Jul-18</td>\n",
       "      <td>Charcoal Fabric</td>\n",
       "      <td>Music</td>\n",
       "      <td>1</td>\n",
       "    </tr>\n",
       "    <tr>\n",
       "      <th>5</th>\n",
       "      <td>5</td>\n",
       "      <td>31-Jul-18</td>\n",
       "      <td>Heather Gray Fabric</td>\n",
       "      <td>I received the echo as a gift. I needed anothe...</td>\n",
       "      <td>1</td>\n",
       "    </tr>\n",
       "    <tr>\n",
       "      <th>6</th>\n",
       "      <td>3</td>\n",
       "      <td>31-Jul-18</td>\n",
       "      <td>Sandstone Fabric</td>\n",
       "      <td>Without having a cellphone, I cannot use many ...</td>\n",
       "      <td>1</td>\n",
       "    </tr>\n",
       "    <tr>\n",
       "      <th>7</th>\n",
       "      <td>5</td>\n",
       "      <td>31-Jul-18</td>\n",
       "      <td>Charcoal Fabric</td>\n",
       "      <td>I think this is the 5th one I've purchased. I'...</td>\n",
       "      <td>1</td>\n",
       "    </tr>\n",
       "    <tr>\n",
       "      <th>8</th>\n",
       "      <td>5</td>\n",
       "      <td>30-Jul-18</td>\n",
       "      <td>Heather Gray Fabric</td>\n",
       "      <td>looks great</td>\n",
       "      <td>1</td>\n",
       "    </tr>\n",
       "    <tr>\n",
       "      <th>9</th>\n",
       "      <td>5</td>\n",
       "      <td>30-Jul-18</td>\n",
       "      <td>Heather Gray Fabric</td>\n",
       "      <td>Love it! I’ve listened to songs I haven’t hear...</td>\n",
       "      <td>1</td>\n",
       "    </tr>\n",
       "  </tbody>\n",
       "</table>\n",
       "</div>"
      ],
      "text/plain": [
       "   rating       date             variation  \\\n",
       "0       5  31-Jul-18      Charcoal Fabric    \n",
       "1       5  31-Jul-18      Charcoal Fabric    \n",
       "2       4  31-Jul-18        Walnut Finish    \n",
       "3       5  31-Jul-18      Charcoal Fabric    \n",
       "4       5  31-Jul-18      Charcoal Fabric    \n",
       "5       5  31-Jul-18  Heather Gray Fabric    \n",
       "6       3  31-Jul-18     Sandstone Fabric    \n",
       "7       5  31-Jul-18      Charcoal Fabric    \n",
       "8       5  30-Jul-18  Heather Gray Fabric    \n",
       "9       5  30-Jul-18  Heather Gray Fabric    \n",
       "\n",
       "                                    verified_reviews  feedback  \n",
       "0                                      Love my Echo!         1  \n",
       "1                                          Loved it!         1  \n",
       "2  Sometimes while playing a game, you can answer...         1  \n",
       "3  I have had a lot of fun with this thing. My 4 ...         1  \n",
       "4                                              Music         1  \n",
       "5  I received the echo as a gift. I needed anothe...         1  \n",
       "6  Without having a cellphone, I cannot use many ...         1  \n",
       "7  I think this is the 5th one I've purchased. I'...         1  \n",
       "8                                        looks great         1  \n",
       "9  Love it! I’ve listened to songs I haven’t hear...         1  "
      ]
     },
     "execution_count": 14,
     "metadata": {},
     "output_type": "execute_result"
    }
   ],
   "source": [
    "# Drop 'index' variable\n",
    "\n",
    "df_alexa = df_alexa.drop(['index'], axis = 1)\n",
    "df_alexa.head(10)"
   ]
  },
  {
   "cell_type": "code",
   "execution_count": 15,
   "id": "c7200714",
   "metadata": {},
   "outputs": [
    {
     "data": {
      "text/html": [
       "<div>\n",
       "<style scoped>\n",
       "    .dataframe tbody tr th:only-of-type {\n",
       "        vertical-align: middle;\n",
       "    }\n",
       "\n",
       "    .dataframe tbody tr th {\n",
       "        vertical-align: top;\n",
       "    }\n",
       "\n",
       "    .dataframe thead th {\n",
       "        text-align: right;\n",
       "    }\n",
       "</style>\n",
       "<table border=\"1\" class=\"dataframe\">\n",
       "  <thead>\n",
       "    <tr style=\"text-align: right;\">\n",
       "      <th></th>\n",
       "      <th>count</th>\n",
       "      <th>mean</th>\n",
       "      <th>std</th>\n",
       "      <th>min</th>\n",
       "      <th>25%</th>\n",
       "      <th>50%</th>\n",
       "      <th>75%</th>\n",
       "      <th>max</th>\n",
       "    </tr>\n",
       "  </thead>\n",
       "  <tbody>\n",
       "    <tr>\n",
       "      <th>rating</th>\n",
       "      <td>3149.0</td>\n",
       "      <td>4.463957</td>\n",
       "      <td>1.067773</td>\n",
       "      <td>1.0</td>\n",
       "      <td>4.0</td>\n",
       "      <td>5.0</td>\n",
       "      <td>5.0</td>\n",
       "      <td>5.0</td>\n",
       "    </tr>\n",
       "    <tr>\n",
       "      <th>feedback</th>\n",
       "      <td>3149.0</td>\n",
       "      <td>0.918704</td>\n",
       "      <td>0.273332</td>\n",
       "      <td>0.0</td>\n",
       "      <td>1.0</td>\n",
       "      <td>1.0</td>\n",
       "      <td>1.0</td>\n",
       "      <td>1.0</td>\n",
       "    </tr>\n",
       "  </tbody>\n",
       "</table>\n",
       "</div>"
      ],
      "text/plain": [
       "           count      mean       std  min  25%  50%  75%  max\n",
       "rating    3149.0  4.463957  1.067773  1.0  4.0  5.0  5.0  5.0\n",
       "feedback  3149.0  0.918704  0.273332  0.0  1.0  1.0  1.0  1.0"
      ]
     },
     "execution_count": 15,
     "metadata": {},
     "output_type": "execute_result"
    }
   ],
   "source": [
    "# Show basic statistical information\n",
    "\n",
    "df_alexa.describe().T"
   ]
  },
  {
   "cell_type": "markdown",
   "id": "96873719",
   "metadata": {},
   "source": [
    "None of the numerical variables has standard deviation equals 0 which could mean that labels inside the variable are all the same. Uncomparable mean values means that variables should be scaled for correct determination of their impact on dependent variable."
   ]
  },
  {
   "cell_type": "code",
   "execution_count": 16,
   "id": "c601bbc2",
   "metadata": {},
   "outputs": [
    {
     "data": {
      "text/plain": [
       "<Axes: xlabel='rating', ylabel='count'>"
      ]
     },
     "execution_count": 16,
     "metadata": {},
     "output_type": "execute_result"
    },
    {
     "data": {
      "image/png": "[encoded data removed]",
      "text/plain": [
       "<Figure size 640x480 with 1 Axes>"
      ]
     },
     "metadata": {},
     "output_type": "display_data"
    }
   ],
   "source": [
    "#Show distribution of labels in 'rating' variable (%)\n",
    "\n",
    "sns.countplot(x = 'rating', data = df_alexa, order = df_alexa['rating'].value_counts().index)"
   ]
  },
  {
   "cell_type": "markdown",
   "id": "da7ccf7d",
   "metadata": {},
   "source": [
    "Distribution shows that the largest amount of feedback has 5-star rating."
   ]
  },
  {
   "cell_type": "code",
   "execution_count": 18,
   "id": "6fd87460",
   "metadata": {},
   "outputs": [
    {
     "data": {
      "image/png": "[encoded data removed]",
      "text/plain": [
       "<Figure size 640x480 with 1 Axes>"
      ]
     },
     "metadata": {},
     "output_type": "display_data"
    }
   ],
   "source": [
    "#Check which rating numbers refers to positive feedback\n",
    "\n",
    "plt.bar(df_alexa['rating'], df_alexa['feedback'])\n",
    "plt.xticks(df_alexa['rating'],rotation = 90, fontsize = 7)\n",
    "plt.yticks(df_alexa['feedback'], fontsize = 7)\n",
    "plt.xlabel('Rating')\n",
    "plt.ylabel('Feedback')\n",
    "plt.show()"
   ]
  },
  {
   "cell_type": "code",
   "execution_count": 19,
   "id": "c1232c82",
   "metadata": {},
   "outputs": [
    {
     "data": {
      "text/plain": [
       "rating\n",
       "5    2286\n",
       "4     455\n",
       "1     161\n",
       "3     152\n",
       "2      95\n",
       "Name: count, dtype: int64"
      ]
     },
     "execution_count": 19,
     "metadata": {},
     "output_type": "execute_result"
    }
   ],
   "source": [
    "df_alexa['rating'].value_counts()"
   ]
  },
  {
   "cell_type": "code",
   "execution_count": 20,
   "id": "376e8d92",
   "metadata": {},
   "outputs": [
    {
     "data": {
      "text/plain": [
       "feedback\n",
       "1    2893\n",
       "0     256\n",
       "Name: count, dtype: int64"
      ]
     },
     "execution_count": 20,
     "metadata": {},
     "output_type": "execute_result"
    }
   ],
   "source": [
    "df_alexa['feedback'].value_counts()"
   ]
  },
  {
   "cell_type": "markdown",
   "id": "714e7238",
   "metadata": {},
   "source": [
    "Distribution of labels in variables 'rating' and 'feedback' shows that reviews with rating 1 and 2 are negative, while the reviews with rating from 3 to 5 are positive."
   ]
  },
  {
   "cell_type": "code",
   "execution_count": 21,
   "id": "51547107",
   "metadata": {},
   "outputs": [
    {
     "name": "stdout",
     "output_type": "stream",
     "text": [
      "rating  - number of labels:  5\n",
      "date  - number of labels:  77\n",
      "variation  - number of labels:  16\n",
      "verified_reviews  - number of labels:  2300\n",
      "feedback  - number of labels:  2\n",
      "\n",
      "Total number of labels:  3149\n"
     ]
    }
   ],
   "source": [
    "#Show number of labels in each variable\n",
    "\n",
    "for variable in df_alexa:\n",
    "    print(variable, ' - number of labels: ', df_alexa[variable].nunique())\n",
    "print()    \n",
    "print('Total number of labels: ', len(df_alexa))"
   ]
  },
  {
   "cell_type": "code",
   "execution_count": 22,
   "id": "9c9909d4",
   "metadata": {},
   "outputs": [
    {
     "name": "stdout",
     "output_type": "stream",
     "text": [
      "Correlation coefficient between \"feedback\" and \"date\": 0.083\n"
     ]
    }
   ],
   "source": [
    "#Check correlation between 'Feedback' and 'Date'\n",
    "\n",
    "count_map = df_alexa['date'].value_counts().to_dict()\n",
    "df_alexa['date'] = df_alexa['date'].map(count_map)\n",
    "\n",
    "print('Correlation coefficient between \"feedback\" and \"date\": {:.2}'.format(df_alexa['feedback'].corr(df_alexa['date'])))"
   ]
  },
  {
   "cell_type": "code",
   "execution_count": 23,
   "id": "ae493634",
   "metadata": {},
   "outputs": [
    {
     "name": "stdout",
     "output_type": "stream",
     "text": [
      "Correlation coefficient between \"feedback\" and \"date\": 0.055\n"
     ]
    }
   ],
   "source": [
    "#Check correlation between 'Feedback' and 'Variation'\n",
    "\n",
    "count_map = df_alexa['variation'].value_counts().to_dict()\n",
    "df_alexa['variation'] = df_alexa['variation'].map(count_map)\n",
    "\n",
    "print('Correlation coefficient between \"feedback\" and \"date\": {:.2}'.format(df_alexa['feedback'].corr(df_alexa['variation'])))"
   ]
  },
  {
   "cell_type": "code",
   "execution_count": 24,
   "id": "3dd1f8b0",
   "metadata": {},
   "outputs": [
    {
     "data": {
      "text/plain": [
       "<Axes: >"
      ]
     },
     "execution_count": 24,
     "metadata": {},
     "output_type": "execute_result"
    },
    {
     "data": {
      "image/png": "[encoded data removed]",
      "text/plain": [
       "<Figure size 640x480 with 2 Axes>"
      ]
     },
     "metadata": {},
     "output_type": "display_data"
    }
   ],
   "source": [
    "#Approve correlation coeffitients with heatmap\n",
    "\n",
    "df_for_heatmap = df_alexa.drop(['verified_reviews'], axis = 1)\n",
    "corr = df_for_heatmap.corr()\n",
    "\n",
    "sns.heatmap(\n",
    "    corr,\n",
    "    annot = True,\n",
    "    xticklabels=corr.columns.values,\n",
    "    yticklabels=corr.columns.values\n",
    ")"
   ]
  },
  {
   "cell_type": "markdown",
   "id": "1e755767",
   "metadata": {},
   "source": [
    "Correlation coefficient of the following variables with dependent variable is less than 0.1, so they can be taken out from dataset."
   ]
  },
  {
   "cell_type": "code",
   "execution_count": 25,
   "id": "24227dc8",
   "metadata": {},
   "outputs": [
    {
     "data": {
      "text/html": [
       "<div>\n",
       "<style scoped>\n",
       "    .dataframe tbody tr th:only-of-type {\n",
       "        vertical-align: middle;\n",
       "    }\n",
       "\n",
       "    .dataframe tbody tr th {\n",
       "        vertical-align: top;\n",
       "    }\n",
       "\n",
       "    .dataframe thead th {\n",
       "        text-align: right;\n",
       "    }\n",
       "</style>\n",
       "<table border=\"1\" class=\"dataframe\">\n",
       "  <thead>\n",
       "    <tr style=\"text-align: right;\">\n",
       "      <th></th>\n",
       "      <th>rating</th>\n",
       "      <th>verified_reviews</th>\n",
       "      <th>feedback</th>\n",
       "    </tr>\n",
       "  </thead>\n",
       "  <tbody>\n",
       "    <tr>\n",
       "      <th>0</th>\n",
       "      <td>5</td>\n",
       "      <td>Love my Echo!</td>\n",
       "      <td>1</td>\n",
       "    </tr>\n",
       "    <tr>\n",
       "      <th>1</th>\n",
       "      <td>5</td>\n",
       "      <td>Loved it!</td>\n",
       "      <td>1</td>\n",
       "    </tr>\n",
       "    <tr>\n",
       "      <th>2</th>\n",
       "      <td>4</td>\n",
       "      <td>Sometimes while playing a game, you can answer...</td>\n",
       "      <td>1</td>\n",
       "    </tr>\n",
       "    <tr>\n",
       "      <th>3</th>\n",
       "      <td>5</td>\n",
       "      <td>I have had a lot of fun with this thing. My 4 ...</td>\n",
       "      <td>1</td>\n",
       "    </tr>\n",
       "    <tr>\n",
       "      <th>4</th>\n",
       "      <td>5</td>\n",
       "      <td>Music</td>\n",
       "      <td>1</td>\n",
       "    </tr>\n",
       "    <tr>\n",
       "      <th>5</th>\n",
       "      <td>5</td>\n",
       "      <td>I received the echo as a gift. I needed anothe...</td>\n",
       "      <td>1</td>\n",
       "    </tr>\n",
       "    <tr>\n",
       "      <th>6</th>\n",
       "      <td>3</td>\n",
       "      <td>Without having a cellphone, I cannot use many ...</td>\n",
       "      <td>1</td>\n",
       "    </tr>\n",
       "    <tr>\n",
       "      <th>7</th>\n",
       "      <td>5</td>\n",
       "      <td>I think this is the 5th one I've purchased. I'...</td>\n",
       "      <td>1</td>\n",
       "    </tr>\n",
       "    <tr>\n",
       "      <th>8</th>\n",
       "      <td>5</td>\n",
       "      <td>looks great</td>\n",
       "      <td>1</td>\n",
       "    </tr>\n",
       "    <tr>\n",
       "      <th>9</th>\n",
       "      <td>5</td>\n",
       "      <td>Love it! I’ve listened to songs I haven’t hear...</td>\n",
       "      <td>1</td>\n",
       "    </tr>\n",
       "  </tbody>\n",
       "</table>\n",
       "</div>"
      ],
      "text/plain": [
       "   rating                                   verified_reviews  feedback\n",
       "0       5                                      Love my Echo!         1\n",
       "1       5                                          Loved it!         1\n",
       "2       4  Sometimes while playing a game, you can answer...         1\n",
       "3       5  I have had a lot of fun with this thing. My 4 ...         1\n",
       "4       5                                              Music         1\n",
       "5       5  I received the echo as a gift. I needed anothe...         1\n",
       "6       3  Without having a cellphone, I cannot use many ...         1\n",
       "7       5  I think this is the 5th one I've purchased. I'...         1\n",
       "8       5                                        looks great         1\n",
       "9       5  Love it! I’ve listened to songs I haven’t hear...         1"
      ]
     },
     "execution_count": 25,
     "metadata": {},
     "output_type": "execute_result"
    }
   ],
   "source": [
    "df_alexa = df_alexa.drop(['date', 'variation'], axis = 1)\n",
    "df_alexa.head(10)"
   ]
  },
  {
   "cell_type": "markdown",
   "id": "9cf32315",
   "metadata": {},
   "source": [
    "<center><h2> 3. Data preprocessing </h2><center>"
   ]
  },
  {
   "cell_type": "code",
   "execution_count": 26,
   "id": "261cfca7",
   "metadata": {},
   "outputs": [],
   "source": [
    "#Implement CountVectorizer\n",
    "\n",
    "vectorizer = CountVectorizer()\n",
    "alexa_countvectorizer = vectorizer.fit_transform(df_alexa['verified_reviews'])"
   ]
  },
  {
   "cell_type": "code",
   "execution_count": 27,
   "id": "d76b335c",
   "metadata": {},
   "outputs": [
    {
     "data": {
      "text/plain": [
       "(3149, 4044)"
      ]
     },
     "execution_count": 27,
     "metadata": {},
     "output_type": "execute_result"
    }
   ],
   "source": [
    "alexa_countvectorizer.shape"
   ]
  },
  {
   "cell_type": "code",
   "execution_count": 28,
   "id": "d745d502",
   "metadata": {},
   "outputs": [],
   "source": [
    "#Drop 'verified_reviews'\n",
    "\n",
    "df_alexa.drop(['verified_reviews'], axis = 1, inplace = True)"
   ]
  },
  {
   "cell_type": "code",
   "execution_count": 29,
   "id": "48af468e",
   "metadata": {},
   "outputs": [
    {
     "data": {
      "text/plain": [
       "(3149, 4044)"
      ]
     },
     "execution_count": 29,
     "metadata": {},
     "output_type": "execute_result"
    }
   ],
   "source": [
    "reviews = pd.DataFrame(alexa_countvectorizer.toarray())\n",
    "\n",
    "reviews.shape"
   ]
  },
  {
   "cell_type": "code",
   "execution_count": 30,
   "id": "d5bbe016",
   "metadata": {},
   "outputs": [
    {
     "data": {
      "text/plain": [
       "(3149, 2)"
      ]
     },
     "execution_count": 30,
     "metadata": {},
     "output_type": "execute_result"
    }
   ],
   "source": [
    "df_alexa.shape"
   ]
  },
  {
   "cell_type": "code",
   "execution_count": 31,
   "id": "e23f2a9f",
   "metadata": {},
   "outputs": [
    {
     "data": {
      "text/html": [
       "<div>\n",
       "<style scoped>\n",
       "    .dataframe tbody tr th:only-of-type {\n",
       "        vertical-align: middle;\n",
       "    }\n",
       "\n",
       "    .dataframe tbody tr th {\n",
       "        vertical-align: top;\n",
       "    }\n",
       "\n",
       "    .dataframe thead th {\n",
       "        text-align: right;\n",
       "    }\n",
       "</style>\n",
       "<table border=\"1\" class=\"dataframe\">\n",
       "  <thead>\n",
       "    <tr style=\"text-align: right;\">\n",
       "      <th></th>\n",
       "      <th>rating</th>\n",
       "      <th>feedback</th>\n",
       "      <th>0</th>\n",
       "      <th>1</th>\n",
       "      <th>2</th>\n",
       "      <th>3</th>\n",
       "      <th>4</th>\n",
       "      <th>5</th>\n",
       "      <th>6</th>\n",
       "      <th>7</th>\n",
       "      <th>...</th>\n",
       "      <th>4034</th>\n",
       "      <th>4035</th>\n",
       "      <th>4036</th>\n",
       "      <th>4037</th>\n",
       "      <th>4038</th>\n",
       "      <th>4039</th>\n",
       "      <th>4040</th>\n",
       "      <th>4041</th>\n",
       "      <th>4042</th>\n",
       "      <th>4043</th>\n",
       "    </tr>\n",
       "  </thead>\n",
       "  <tbody>\n",
       "    <tr>\n",
       "      <th>0</th>\n",
       "      <td>5</td>\n",
       "      <td>1</td>\n",
       "      <td>0</td>\n",
       "      <td>0</td>\n",
       "      <td>0</td>\n",
       "      <td>0</td>\n",
       "      <td>0</td>\n",
       "      <td>0</td>\n",
       "      <td>0</td>\n",
       "      <td>0</td>\n",
       "      <td>...</td>\n",
       "      <td>0</td>\n",
       "      <td>0</td>\n",
       "      <td>0</td>\n",
       "      <td>0</td>\n",
       "      <td>0</td>\n",
       "      <td>0</td>\n",
       "      <td>0</td>\n",
       "      <td>0</td>\n",
       "      <td>0</td>\n",
       "      <td>0</td>\n",
       "    </tr>\n",
       "    <tr>\n",
       "      <th>1</th>\n",
       "      <td>5</td>\n",
       "      <td>1</td>\n",
       "      <td>0</td>\n",
       "      <td>0</td>\n",
       "      <td>0</td>\n",
       "      <td>0</td>\n",
       "      <td>0</td>\n",
       "      <td>0</td>\n",
       "      <td>0</td>\n",
       "      <td>0</td>\n",
       "      <td>...</td>\n",
       "      <td>0</td>\n",
       "      <td>0</td>\n",
       "      <td>0</td>\n",
       "      <td>0</td>\n",
       "      <td>0</td>\n",
       "      <td>0</td>\n",
       "      <td>0</td>\n",
       "      <td>0</td>\n",
       "      <td>0</td>\n",
       "      <td>0</td>\n",
       "    </tr>\n",
       "    <tr>\n",
       "      <th>2</th>\n",
       "      <td>4</td>\n",
       "      <td>1</td>\n",
       "      <td>0</td>\n",
       "      <td>0</td>\n",
       "      <td>0</td>\n",
       "      <td>0</td>\n",
       "      <td>0</td>\n",
       "      <td>0</td>\n",
       "      <td>0</td>\n",
       "      <td>0</td>\n",
       "      <td>...</td>\n",
       "      <td>0</td>\n",
       "      <td>0</td>\n",
       "      <td>0</td>\n",
       "      <td>0</td>\n",
       "      <td>0</td>\n",
       "      <td>0</td>\n",
       "      <td>0</td>\n",
       "      <td>0</td>\n",
       "      <td>0</td>\n",
       "      <td>0</td>\n",
       "    </tr>\n",
       "    <tr>\n",
       "      <th>3</th>\n",
       "      <td>5</td>\n",
       "      <td>1</td>\n",
       "      <td>0</td>\n",
       "      <td>0</td>\n",
       "      <td>0</td>\n",
       "      <td>0</td>\n",
       "      <td>0</td>\n",
       "      <td>0</td>\n",
       "      <td>0</td>\n",
       "      <td>0</td>\n",
       "      <td>...</td>\n",
       "      <td>0</td>\n",
       "      <td>1</td>\n",
       "      <td>0</td>\n",
       "      <td>0</td>\n",
       "      <td>0</td>\n",
       "      <td>0</td>\n",
       "      <td>0</td>\n",
       "      <td>0</td>\n",
       "      <td>0</td>\n",
       "      <td>0</td>\n",
       "    </tr>\n",
       "    <tr>\n",
       "      <th>4</th>\n",
       "      <td>5</td>\n",
       "      <td>1</td>\n",
       "      <td>0</td>\n",
       "      <td>0</td>\n",
       "      <td>0</td>\n",
       "      <td>0</td>\n",
       "      <td>0</td>\n",
       "      <td>0</td>\n",
       "      <td>0</td>\n",
       "      <td>0</td>\n",
       "      <td>...</td>\n",
       "      <td>0</td>\n",
       "      <td>0</td>\n",
       "      <td>0</td>\n",
       "      <td>0</td>\n",
       "      <td>0</td>\n",
       "      <td>0</td>\n",
       "      <td>0</td>\n",
       "      <td>0</td>\n",
       "      <td>0</td>\n",
       "      <td>0</td>\n",
       "    </tr>\n",
       "    <tr>\n",
       "      <th>...</th>\n",
       "      <td>...</td>\n",
       "      <td>...</td>\n",
       "      <td>...</td>\n",
       "      <td>...</td>\n",
       "      <td>...</td>\n",
       "      <td>...</td>\n",
       "      <td>...</td>\n",
       "      <td>...</td>\n",
       "      <td>...</td>\n",
       "      <td>...</td>\n",
       "      <td>...</td>\n",
       "      <td>...</td>\n",
       "      <td>...</td>\n",
       "      <td>...</td>\n",
       "      <td>...</td>\n",
       "      <td>...</td>\n",
       "      <td>...</td>\n",
       "      <td>...</td>\n",
       "      <td>...</td>\n",
       "      <td>...</td>\n",
       "      <td>...</td>\n",
       "    </tr>\n",
       "    <tr>\n",
       "      <th>3144</th>\n",
       "      <td>5</td>\n",
       "      <td>1</td>\n",
       "      <td>0</td>\n",
       "      <td>0</td>\n",
       "      <td>0</td>\n",
       "      <td>0</td>\n",
       "      <td>0</td>\n",
       "      <td>0</td>\n",
       "      <td>0</td>\n",
       "      <td>0</td>\n",
       "      <td>...</td>\n",
       "      <td>0</td>\n",
       "      <td>0</td>\n",
       "      <td>0</td>\n",
       "      <td>0</td>\n",
       "      <td>0</td>\n",
       "      <td>0</td>\n",
       "      <td>0</td>\n",
       "      <td>0</td>\n",
       "      <td>0</td>\n",
       "      <td>0</td>\n",
       "    </tr>\n",
       "    <tr>\n",
       "      <th>3145</th>\n",
       "      <td>5</td>\n",
       "      <td>1</td>\n",
       "      <td>0</td>\n",
       "      <td>0</td>\n",
       "      <td>0</td>\n",
       "      <td>0</td>\n",
       "      <td>0</td>\n",
       "      <td>0</td>\n",
       "      <td>0</td>\n",
       "      <td>0</td>\n",
       "      <td>...</td>\n",
       "      <td>0</td>\n",
       "      <td>0</td>\n",
       "      <td>0</td>\n",
       "      <td>0</td>\n",
       "      <td>0</td>\n",
       "      <td>0</td>\n",
       "      <td>0</td>\n",
       "      <td>0</td>\n",
       "      <td>0</td>\n",
       "      <td>0</td>\n",
       "    </tr>\n",
       "    <tr>\n",
       "      <th>3146</th>\n",
       "      <td>5</td>\n",
       "      <td>1</td>\n",
       "      <td>0</td>\n",
       "      <td>0</td>\n",
       "      <td>0</td>\n",
       "      <td>0</td>\n",
       "      <td>0</td>\n",
       "      <td>0</td>\n",
       "      <td>0</td>\n",
       "      <td>0</td>\n",
       "      <td>...</td>\n",
       "      <td>0</td>\n",
       "      <td>0</td>\n",
       "      <td>0</td>\n",
       "      <td>0</td>\n",
       "      <td>0</td>\n",
       "      <td>0</td>\n",
       "      <td>0</td>\n",
       "      <td>0</td>\n",
       "      <td>0</td>\n",
       "      <td>0</td>\n",
       "    </tr>\n",
       "    <tr>\n",
       "      <th>3147</th>\n",
       "      <td>5</td>\n",
       "      <td>1</td>\n",
       "      <td>0</td>\n",
       "      <td>0</td>\n",
       "      <td>0</td>\n",
       "      <td>0</td>\n",
       "      <td>0</td>\n",
       "      <td>0</td>\n",
       "      <td>0</td>\n",
       "      <td>0</td>\n",
       "      <td>...</td>\n",
       "      <td>0</td>\n",
       "      <td>0</td>\n",
       "      <td>0</td>\n",
       "      <td>0</td>\n",
       "      <td>0</td>\n",
       "      <td>0</td>\n",
       "      <td>0</td>\n",
       "      <td>0</td>\n",
       "      <td>0</td>\n",
       "      <td>0</td>\n",
       "    </tr>\n",
       "    <tr>\n",
       "      <th>3148</th>\n",
       "      <td>4</td>\n",
       "      <td>1</td>\n",
       "      <td>0</td>\n",
       "      <td>0</td>\n",
       "      <td>0</td>\n",
       "      <td>0</td>\n",
       "      <td>0</td>\n",
       "      <td>0</td>\n",
       "      <td>0</td>\n",
       "      <td>0</td>\n",
       "      <td>...</td>\n",
       "      <td>0</td>\n",
       "      <td>0</td>\n",
       "      <td>0</td>\n",
       "      <td>0</td>\n",
       "      <td>0</td>\n",
       "      <td>0</td>\n",
       "      <td>0</td>\n",
       "      <td>0</td>\n",
       "      <td>0</td>\n",
       "      <td>0</td>\n",
       "    </tr>\n",
       "  </tbody>\n",
       "</table>\n",
       "<p>3149 rows × 4046 columns</p>\n",
       "</div>"
      ],
      "text/plain": [
       "      rating  feedback  0  1  2  3  4  5  6  7  ...  4034  4035  4036  4037  \\\n",
       "0          5         1  0  0  0  0  0  0  0  0  ...     0     0     0     0   \n",
       "1          5         1  0  0  0  0  0  0  0  0  ...     0     0     0     0   \n",
       "2          4         1  0  0  0  0  0  0  0  0  ...     0     0     0     0   \n",
       "3          5         1  0  0  0  0  0  0  0  0  ...     0     1     0     0   \n",
       "4          5         1  0  0  0  0  0  0  0  0  ...     0     0     0     0   \n",
       "...      ...       ... .. .. .. .. .. .. .. ..  ...   ...   ...   ...   ...   \n",
       "3144       5         1  0  0  0  0  0  0  0  0  ...     0     0     0     0   \n",
       "3145       5         1  0  0  0  0  0  0  0  0  ...     0     0     0     0   \n",
       "3146       5         1  0  0  0  0  0  0  0  0  ...     0     0     0     0   \n",
       "3147       5         1  0  0  0  0  0  0  0  0  ...     0     0     0     0   \n",
       "3148       4         1  0  0  0  0  0  0  0  0  ...     0     0     0     0   \n",
       "\n",
       "      4038  4039  4040  4041  4042  4043  \n",
       "0        0     0     0     0     0     0  \n",
       "1        0     0     0     0     0     0  \n",
       "2        0     0     0     0     0     0  \n",
       "3        0     0     0     0     0     0  \n",
       "4        0     0     0     0     0     0  \n",
       "...    ...   ...   ...   ...   ...   ...  \n",
       "3144     0     0     0     0     0     0  \n",
       "3145     0     0     0     0     0     0  \n",
       "3146     0     0     0     0     0     0  \n",
       "3147     0     0     0     0     0     0  \n",
       "3148     0     0     0     0     0     0  \n",
       "\n",
       "[3149 rows x 4046 columns]"
      ]
     },
     "execution_count": 31,
     "metadata": {},
     "output_type": "execute_result"
    }
   ],
   "source": [
    "df_alexa = pd.concat([df_alexa, reviews], axis = 1)\n",
    "\n",
    "df_alexa"
   ]
  },
  {
   "cell_type": "code",
   "execution_count": 32,
   "id": "f9084863",
   "metadata": {},
   "outputs": [
    {
     "data": {
      "text/html": [
       "<div>\n",
       "<style scoped>\n",
       "    .dataframe tbody tr th:only-of-type {\n",
       "        vertical-align: middle;\n",
       "    }\n",
       "\n",
       "    .dataframe tbody tr th {\n",
       "        vertical-align: top;\n",
       "    }\n",
       "\n",
       "    .dataframe thead th {\n",
       "        text-align: right;\n",
       "    }\n",
       "</style>\n",
       "<table border=\"1\" class=\"dataframe\">\n",
       "  <thead>\n",
       "    <tr style=\"text-align: right;\">\n",
       "      <th></th>\n",
       "      <th>0</th>\n",
       "      <th>1</th>\n",
       "      <th>2</th>\n",
       "      <th>3</th>\n",
       "      <th>4</th>\n",
       "      <th>5</th>\n",
       "      <th>6</th>\n",
       "      <th>7</th>\n",
       "      <th>8</th>\n",
       "      <th>9</th>\n",
       "      <th>...</th>\n",
       "      <th>4034</th>\n",
       "      <th>4035</th>\n",
       "      <th>4036</th>\n",
       "      <th>4037</th>\n",
       "      <th>4038</th>\n",
       "      <th>4039</th>\n",
       "      <th>4040</th>\n",
       "      <th>4041</th>\n",
       "      <th>4042</th>\n",
       "      <th>4043</th>\n",
       "    </tr>\n",
       "  </thead>\n",
       "  <tbody>\n",
       "    <tr>\n",
       "      <th>0</th>\n",
       "      <td>0</td>\n",
       "      <td>0</td>\n",
       "      <td>0</td>\n",
       "      <td>0</td>\n",
       "      <td>0</td>\n",
       "      <td>0</td>\n",
       "      <td>0</td>\n",
       "      <td>0</td>\n",
       "      <td>0</td>\n",
       "      <td>0</td>\n",
       "      <td>...</td>\n",
       "      <td>0</td>\n",
       "      <td>0</td>\n",
       "      <td>0</td>\n",
       "      <td>0</td>\n",
       "      <td>0</td>\n",
       "      <td>0</td>\n",
       "      <td>0</td>\n",
       "      <td>0</td>\n",
       "      <td>0</td>\n",
       "      <td>0</td>\n",
       "    </tr>\n",
       "    <tr>\n",
       "      <th>1</th>\n",
       "      <td>0</td>\n",
       "      <td>0</td>\n",
       "      <td>0</td>\n",
       "      <td>0</td>\n",
       "      <td>0</td>\n",
       "      <td>0</td>\n",
       "      <td>0</td>\n",
       "      <td>0</td>\n",
       "      <td>0</td>\n",
       "      <td>0</td>\n",
       "      <td>...</td>\n",
       "      <td>0</td>\n",
       "      <td>0</td>\n",
       "      <td>0</td>\n",
       "      <td>0</td>\n",
       "      <td>0</td>\n",
       "      <td>0</td>\n",
       "      <td>0</td>\n",
       "      <td>0</td>\n",
       "      <td>0</td>\n",
       "      <td>0</td>\n",
       "    </tr>\n",
       "    <tr>\n",
       "      <th>2</th>\n",
       "      <td>0</td>\n",
       "      <td>0</td>\n",
       "      <td>0</td>\n",
       "      <td>0</td>\n",
       "      <td>0</td>\n",
       "      <td>0</td>\n",
       "      <td>0</td>\n",
       "      <td>0</td>\n",
       "      <td>0</td>\n",
       "      <td>0</td>\n",
       "      <td>...</td>\n",
       "      <td>0</td>\n",
       "      <td>0</td>\n",
       "      <td>0</td>\n",
       "      <td>0</td>\n",
       "      <td>0</td>\n",
       "      <td>0</td>\n",
       "      <td>0</td>\n",
       "      <td>0</td>\n",
       "      <td>0</td>\n",
       "      <td>0</td>\n",
       "    </tr>\n",
       "    <tr>\n",
       "      <th>3</th>\n",
       "      <td>0</td>\n",
       "      <td>0</td>\n",
       "      <td>0</td>\n",
       "      <td>0</td>\n",
       "      <td>0</td>\n",
       "      <td>0</td>\n",
       "      <td>0</td>\n",
       "      <td>0</td>\n",
       "      <td>0</td>\n",
       "      <td>0</td>\n",
       "      <td>...</td>\n",
       "      <td>0</td>\n",
       "      <td>1</td>\n",
       "      <td>0</td>\n",
       "      <td>0</td>\n",
       "      <td>0</td>\n",
       "      <td>0</td>\n",
       "      <td>0</td>\n",
       "      <td>0</td>\n",
       "      <td>0</td>\n",
       "      <td>0</td>\n",
       "    </tr>\n",
       "    <tr>\n",
       "      <th>4</th>\n",
       "      <td>0</td>\n",
       "      <td>0</td>\n",
       "      <td>0</td>\n",
       "      <td>0</td>\n",
       "      <td>0</td>\n",
       "      <td>0</td>\n",
       "      <td>0</td>\n",
       "      <td>0</td>\n",
       "      <td>0</td>\n",
       "      <td>0</td>\n",
       "      <td>...</td>\n",
       "      <td>0</td>\n",
       "      <td>0</td>\n",
       "      <td>0</td>\n",
       "      <td>0</td>\n",
       "      <td>0</td>\n",
       "      <td>0</td>\n",
       "      <td>0</td>\n",
       "      <td>0</td>\n",
       "      <td>0</td>\n",
       "      <td>0</td>\n",
       "    </tr>\n",
       "    <tr>\n",
       "      <th>...</th>\n",
       "      <td>...</td>\n",
       "      <td>...</td>\n",
       "      <td>...</td>\n",
       "      <td>...</td>\n",
       "      <td>...</td>\n",
       "      <td>...</td>\n",
       "      <td>...</td>\n",
       "      <td>...</td>\n",
       "      <td>...</td>\n",
       "      <td>...</td>\n",
       "      <td>...</td>\n",
       "      <td>...</td>\n",
       "      <td>...</td>\n",
       "      <td>...</td>\n",
       "      <td>...</td>\n",
       "      <td>...</td>\n",
       "      <td>...</td>\n",
       "      <td>...</td>\n",
       "      <td>...</td>\n",
       "      <td>...</td>\n",
       "      <td>...</td>\n",
       "    </tr>\n",
       "    <tr>\n",
       "      <th>3144</th>\n",
       "      <td>0</td>\n",
       "      <td>0</td>\n",
       "      <td>0</td>\n",
       "      <td>0</td>\n",
       "      <td>0</td>\n",
       "      <td>0</td>\n",
       "      <td>0</td>\n",
       "      <td>0</td>\n",
       "      <td>0</td>\n",
       "      <td>0</td>\n",
       "      <td>...</td>\n",
       "      <td>0</td>\n",
       "      <td>0</td>\n",
       "      <td>0</td>\n",
       "      <td>0</td>\n",
       "      <td>0</td>\n",
       "      <td>0</td>\n",
       "      <td>0</td>\n",
       "      <td>0</td>\n",
       "      <td>0</td>\n",
       "      <td>0</td>\n",
       "    </tr>\n",
       "    <tr>\n",
       "      <th>3145</th>\n",
       "      <td>0</td>\n",
       "      <td>0</td>\n",
       "      <td>0</td>\n",
       "      <td>0</td>\n",
       "      <td>0</td>\n",
       "      <td>0</td>\n",
       "      <td>0</td>\n",
       "      <td>0</td>\n",
       "      <td>0</td>\n",
       "      <td>0</td>\n",
       "      <td>...</td>\n",
       "      <td>0</td>\n",
       "      <td>0</td>\n",
       "      <td>0</td>\n",
       "      <td>0</td>\n",
       "      <td>0</td>\n",
       "      <td>0</td>\n",
       "      <td>0</td>\n",
       "      <td>0</td>\n",
       "      <td>0</td>\n",
       "      <td>0</td>\n",
       "    </tr>\n",
       "    <tr>\n",
       "      <th>3146</th>\n",
       "      <td>0</td>\n",
       "      <td>0</td>\n",
       "      <td>0</td>\n",
       "      <td>0</td>\n",
       "      <td>0</td>\n",
       "      <td>0</td>\n",
       "      <td>0</td>\n",
       "      <td>0</td>\n",
       "      <td>0</td>\n",
       "      <td>0</td>\n",
       "      <td>...</td>\n",
       "      <td>0</td>\n",
       "      <td>0</td>\n",
       "      <td>0</td>\n",
       "      <td>0</td>\n",
       "      <td>0</td>\n",
       "      <td>0</td>\n",
       "      <td>0</td>\n",
       "      <td>0</td>\n",
       "      <td>0</td>\n",
       "      <td>0</td>\n",
       "    </tr>\n",
       "    <tr>\n",
       "      <th>3147</th>\n",
       "      <td>0</td>\n",
       "      <td>0</td>\n",
       "      <td>0</td>\n",
       "      <td>0</td>\n",
       "      <td>0</td>\n",
       "      <td>0</td>\n",
       "      <td>0</td>\n",
       "      <td>0</td>\n",
       "      <td>0</td>\n",
       "      <td>0</td>\n",
       "      <td>...</td>\n",
       "      <td>0</td>\n",
       "      <td>0</td>\n",
       "      <td>0</td>\n",
       "      <td>0</td>\n",
       "      <td>0</td>\n",
       "      <td>0</td>\n",
       "      <td>0</td>\n",
       "      <td>0</td>\n",
       "      <td>0</td>\n",
       "      <td>0</td>\n",
       "    </tr>\n",
       "    <tr>\n",
       "      <th>3148</th>\n",
       "      <td>0</td>\n",
       "      <td>0</td>\n",
       "      <td>0</td>\n",
       "      <td>0</td>\n",
       "      <td>0</td>\n",
       "      <td>0</td>\n",
       "      <td>0</td>\n",
       "      <td>0</td>\n",
       "      <td>0</td>\n",
       "      <td>0</td>\n",
       "      <td>...</td>\n",
       "      <td>0</td>\n",
       "      <td>0</td>\n",
       "      <td>0</td>\n",
       "      <td>0</td>\n",
       "      <td>0</td>\n",
       "      <td>0</td>\n",
       "      <td>0</td>\n",
       "      <td>0</td>\n",
       "      <td>0</td>\n",
       "      <td>0</td>\n",
       "    </tr>\n",
       "  </tbody>\n",
       "</table>\n",
       "<p>3149 rows × 4044 columns</p>\n",
       "</div>"
      ],
      "text/plain": [
       "      0     1     2     3     4     5     6     7     8     9     ...  4034  \\\n",
       "0        0     0     0     0     0     0     0     0     0     0  ...     0   \n",
       "1        0     0     0     0     0     0     0     0     0     0  ...     0   \n",
       "2        0     0     0     0     0     0     0     0     0     0  ...     0   \n",
       "3        0     0     0     0     0     0     0     0     0     0  ...     0   \n",
       "4        0     0     0     0     0     0     0     0     0     0  ...     0   \n",
       "...    ...   ...   ...   ...   ...   ...   ...   ...   ...   ...  ...   ...   \n",
       "3144     0     0     0     0     0     0     0     0     0     0  ...     0   \n",
       "3145     0     0     0     0     0     0     0     0     0     0  ...     0   \n",
       "3146     0     0     0     0     0     0     0     0     0     0  ...     0   \n",
       "3147     0     0     0     0     0     0     0     0     0     0  ...     0   \n",
       "3148     0     0     0     0     0     0     0     0     0     0  ...     0   \n",
       "\n",
       "      4035  4036  4037  4038  4039  4040  4041  4042  4043  \n",
       "0        0     0     0     0     0     0     0     0     0  \n",
       "1        0     0     0     0     0     0     0     0     0  \n",
       "2        0     0     0     0     0     0     0     0     0  \n",
       "3        1     0     0     0     0     0     0     0     0  \n",
       "4        0     0     0     0     0     0     0     0     0  \n",
       "...    ...   ...   ...   ...   ...   ...   ...   ...   ...  \n",
       "3144     0     0     0     0     0     0     0     0     0  \n",
       "3145     0     0     0     0     0     0     0     0     0  \n",
       "3146     0     0     0     0     0     0     0     0     0  \n",
       "3147     0     0     0     0     0     0     0     0     0  \n",
       "3148     0     0     0     0     0     0     0     0     0  \n",
       "\n",
       "[3149 rows x 4044 columns]"
      ]
     },
     "execution_count": 32,
     "metadata": {},
     "output_type": "execute_result"
    }
   ],
   "source": [
    "#Redifine independent variables\n",
    "\n",
    "X =  df_alexa.drop(['feedback','rating'], axis = 1)\n",
    "\n",
    "X"
   ]
  },
  {
   "cell_type": "code",
   "execution_count": 33,
   "id": "fd802aaf",
   "metadata": {},
   "outputs": [],
   "source": [
    "#Redifine dependent variable\n",
    "\n",
    "y = df_alexa['feedback']"
   ]
  },
  {
   "cell_type": "code",
   "execution_count": 34,
   "id": "228aa949",
   "metadata": {},
   "outputs": [
    {
     "data": {
      "text/plain": [
       "((2204, 4044), (945, 4044), (2204,), (945,))"
      ]
     },
     "execution_count": 34,
     "metadata": {},
     "output_type": "execute_result"
    }
   ],
   "source": [
    "#Divide dataset on train & test parts\n",
    "\n",
    "X_train, X_test, y_train, y_test = train_test_split(\n",
    "    X,\n",
    "    y,\n",
    "    test_size = 0.3,\n",
    "    random_state = 0)\n",
    "\n",
    "X_train.shape, X_test.shape, y_train.shape, y_test.shape"
   ]
  },
  {
   "cell_type": "code",
   "execution_count": 35,
   "id": "6443278c",
   "metadata": {},
   "outputs": [],
   "source": [
    "X_train.columns = X_train.columns.astype(str)\n",
    "X_test.columns = X_test.columns.astype(str)"
   ]
  },
  {
   "cell_type": "markdown",
   "id": "de01a878",
   "metadata": {},
   "source": [
    "<center><h2> 4. Model Training </h2><center>"
   ]
  },
  {
   "cell_type": "markdown",
   "id": "f7d801d1",
   "metadata": {},
   "source": [
    "<h3> Random Forest Classifier </h3>"
   ]
  },
  {
   "cell_type": "code",
   "execution_count": 33,
   "id": "c9a2fb74",
   "metadata": {},
   "outputs": [
    {
     "name": "stdout",
     "output_type": "stream",
     "text": [
      "Best parameters:  {'criterion': 'gini', 'n_estimators': 50}\n"
     ]
    }
   ],
   "source": [
    "randomforest_classifier = RandomForestClassifier(n_estimators = 100, criterion = 'entropy', random_state=0)\n",
    "randomforest_classifier.fit(X_train, y_train)\n",
    "\n",
    "#GridSearch\n",
    "parameters = [\n",
    "    {\n",
    "        'criterion' : ['gini','entropy','log_loss'],\n",
    "        'n_estimators':[10,50,100]\n",
    "     }\n",
    "]\n",
    "\n",
    "grid_search = GridSearchCV(\n",
    "    estimator = randomforest_classifier,\n",
    "    param_grid = parameters,\n",
    "    scoring = 'accuracy',\n",
    "    cv = 10,\n",
    "    n_jobs = -1\n",
    ")\n",
    "\n",
    "grid_search.fit(X_train, y_train)\n",
    "best_parameters = grid_search.best_params_\n",
    "print('Best parameters: ', best_parameters)\n",
    "\n",
    "model = grid_search.best_estimator_"
   ]
  },
  {
   "cell_type": "code",
   "execution_count": 36,
   "id": "375f2fe8",
   "metadata": {},
   "outputs": [
    {
     "name": "stdout",
     "output_type": "stream",
     "text": [
      "Accuracy: 93.23%\n"
     ]
    },
    {
     "data": {
      "image/png": "[encoded data removed]",
      "text/plain": [
       "<Figure size 640x480 with 2 Axes>"
      ]
     },
     "metadata": {},
     "output_type": "display_data"
    }
   ],
   "source": [
    "#Implement best parameters\n",
    "randomforest_classifier = RandomForestClassifier(n_estimators = 50, criterion = 'gini', random_state=0)\n",
    "randomforest_classifier.fit(X_train, y_train)\n",
    "\n",
    "#Evaluate the model\n",
    "\n",
    "model_list.append('Random Forest Classifier')\n",
    "\n",
    "y_pred_train = randomforest_classifier.predict(X_train)\n",
    "accuracy_score_train = accuracy_score(y_train, y_pred_train)\n",
    "train_accuracy_score_list.append(accuracy_score_train)\n",
    "\n",
    "y_pred_test = randomforest_classifier.predict(X_test)\n",
    "accuracy_score_test = accuracy_score(y_test, y_pred_test)\n",
    "test_accuracy_score_list.append(accuracy_score_test)\n",
    "\n",
    "cm = confusion_matrix(y_test, y_pred_test)\n",
    "\n",
    "ax = sns.heatmap(cm, annot=True,fmt='.2f', cmap='Blues')\n",
    "print('Accuracy: {:.2%}'.format(accuracy_score_test))"
   ]
  },
  {
   "cell_type": "code",
   "execution_count": 37,
   "id": "c56561dc",
   "metadata": {},
   "outputs": [
    {
     "name": "stdout",
     "output_type": "stream",
     "text": [
      "Model ROC-AUC = 91.17%\n"
     ]
    }
   ],
   "source": [
    "probs = randomforest_classifier.predict_proba(X_test)\n",
    "# save probability for true-positive\n",
    "probs = probs[:, 1]\n",
    "# ROC-AUC\n",
    "auc = roc_auc_score(y_test, probs)\n",
    "print('Model ROC-AUC = {:.2%}'.format(auc))\n",
    "roc_auc_list.append(auc)"
   ]
  },
  {
   "cell_type": "code",
   "execution_count": 38,
   "id": "c454b87e",
   "metadata": {},
   "outputs": [
    {
     "name": "stdout",
     "output_type": "stream",
     "text": [
      "              precision    recall  f1-score   support\n",
      "\n",
      "           0       0.90      0.23      0.36        80\n",
      "           1       0.93      1.00      0.96       865\n",
      "\n",
      "    accuracy                           0.93       945\n",
      "   macro avg       0.92      0.61      0.66       945\n",
      "weighted avg       0.93      0.93      0.91       945\n",
      "\n"
     ]
    }
   ],
   "source": [
    "print(classification_report(y_test, y_pred_test))"
   ]
  },
  {
   "cell_type": "markdown",
   "id": "c959328e",
   "metadata": {},
   "source": [
    "<h3> Decision Tree Classifier </h3>"
   ]
  },
  {
   "cell_type": "code",
   "execution_count": 38,
   "id": "e207583a",
   "metadata": {},
   "outputs": [
    {
     "name": "stdout",
     "output_type": "stream",
     "text": [
      "Best parameters:  {'criterion': 'gini', 'splitter': 'random'}\n"
     ]
    }
   ],
   "source": [
    "decisiontree_classifier = DecisionTreeClassifier(criterion='entropy', random_state=0)\n",
    "decisiontree_classifier.fit(X_train, y_train)\n",
    "\n",
    "#GridSearch\n",
    "parameters = [\n",
    "    {\n",
    "        'criterion' : ['gini','entropy','log_loss'],\n",
    "        'splitter' : ['best','random']\n",
    "     }\n",
    "]\n",
    "\n",
    "grid_search = GridSearchCV(\n",
    "    estimator = decisiontree_classifier,\n",
    "    param_grid = parameters,\n",
    "    scoring = 'accuracy',\n",
    "    cv = 10,\n",
    "    n_jobs = -1\n",
    ")\n",
    "\n",
    "grid_search.fit(X_train, y_train)\n",
    "best_parameters = grid_search.best_params_\n",
    "print('Best parameters: ', best_parameters)\n",
    "\n",
    "model = grid_search.best_estimator_"
   ]
  },
  {
   "cell_type": "code",
   "execution_count": 39,
   "id": "5b2577be",
   "metadata": {},
   "outputs": [
    {
     "name": "stdout",
     "output_type": "stream",
     "text": [
      "Accuracy: 92.28%\n"
     ]
    },
    {
     "data": {
      "image/png": "[encoded data removed]",
      "text/plain": [
       "<Figure size 640x480 with 2 Axes>"
      ]
     },
     "metadata": {},
     "output_type": "display_data"
    }
   ],
   "source": [
    "#Implement best parameters\n",
    "decisiontree_classifier = DecisionTreeClassifier(criterion= 'gini', splitter = 'random', random_state=0)\n",
    "decisiontree_classifier.fit(X_train, y_train)\n",
    "\n",
    "#Evaluate the model\n",
    "\n",
    "model_list.append('Decision Tree Classifier')\n",
    "\n",
    "y_pred_train = decisiontree_classifier.predict(X_train)\n",
    "accuracy_score_train = accuracy_score(y_train, y_pred_train)\n",
    "train_accuracy_score_list.append(accuracy_score_train)\n",
    "\n",
    "y_pred_test = decisiontree_classifier.predict(X_test)\n",
    "accuracy_score_test = accuracy_score(y_test, y_pred_test)\n",
    "test_accuracy_score_list.append(accuracy_score_test)\n",
    "\n",
    "cm = confusion_matrix(y_test, y_pred_test)\n",
    "\n",
    "ax = sns.heatmap(cm, annot=True,fmt='.2f', cmap='Blues')\n",
    "print('Accuracy: {:.2%}'.format(accuracy_score_test))"
   ]
  },
  {
   "cell_type": "code",
   "execution_count": 40,
   "id": "b5649151",
   "metadata": {},
   "outputs": [
    {
     "name": "stdout",
     "output_type": "stream",
     "text": [
      "Model ROC-AUC = 72.85%\n"
     ]
    }
   ],
   "source": [
    "probs = decisiontree_classifier.predict_proba(X_test)\n",
    "# save probability for true-positive\n",
    "probs = probs[:, 1]\n",
    "# ROC-AUC\n",
    "auc = roc_auc_score(y_test, probs)\n",
    "print('Model ROC-AUC = {:.2%}'.format(auc))\n",
    "roc_auc_list.append(auc)"
   ]
  },
  {
   "cell_type": "code",
   "execution_count": 41,
   "id": "dd339731",
   "metadata": {},
   "outputs": [
    {
     "name": "stdout",
     "output_type": "stream",
     "text": [
      "              precision    recall  f1-score   support\n",
      "\n",
      "           0       0.56      0.41      0.47        80\n",
      "           1       0.95      0.97      0.96       865\n",
      "\n",
      "    accuracy                           0.92       945\n",
      "   macro avg       0.75      0.69      0.72       945\n",
      "weighted avg       0.91      0.92      0.92       945\n",
      "\n"
     ]
    }
   ],
   "source": [
    "print(classification_report(y_test, y_pred_test))"
   ]
  },
  {
   "cell_type": "markdown",
   "id": "5b337172",
   "metadata": {},
   "source": [
    "<h3> SVC </h3>"
   ]
  },
  {
   "cell_type": "code",
   "execution_count": 70,
   "id": "d914e2d2",
   "metadata": {},
   "outputs": [
    {
     "name": "stdout",
     "output_type": "stream",
     "text": [
      "Best parameters:  {'C': 0.5, 'kernel': 'linear'}\n"
     ]
    }
   ],
   "source": [
    "svc_classifier = SVC(kernel = 'linear', probability = True, random_state=0)\n",
    "svc_classifier.fit(X_train, y_train)\n",
    "\n",
    "#GridSearch\n",
    "parameters = [\n",
    "    {\n",
    "        'C':[0.25, 0.5, 0.75, 1],\n",
    "        'kernel':['linear', 'rbf']\n",
    "     }\n",
    "]\n",
    "\n",
    "grid_search = GridSearchCV(\n",
    "    estimator = svc_classifier,\n",
    "    param_grid = parameters,\n",
    "    scoring = 'accuracy',\n",
    "    cv = 10,\n",
    "    n_jobs = -1\n",
    ")\n",
    "\n",
    "grid_search.fit(X_train, y_train)\n",
    "best_parameters = grid_search.best_params_\n",
    "print('Best parameters: ', best_parameters)\n",
    "\n",
    "model = grid_search.best_estimator_"
   ]
  },
  {
   "cell_type": "code",
   "execution_count": 42,
   "id": "ad2ca404",
   "metadata": {},
   "outputs": [
    {
     "name": "stdout",
     "output_type": "stream",
     "text": [
      "Accuracy: 92.38%\n"
     ]
    },
    {
     "data": {
      "image/png": "[encoded data removed]",
      "text/plain": [
       "<Figure size 640x480 with 2 Axes>"
      ]
     },
     "metadata": {},
     "output_type": "display_data"
    }
   ],
   "source": [
    "#Implement best parameters\n",
    "svc_classifier = SVC(C = 0.5, kernel = 'linear', probability = True, random_state=0)\n",
    "svc_classifier.fit(X_train, y_train)\n",
    "\n",
    "#Evaluate the model\n",
    "\n",
    "model_list.append('SVC')\n",
    "\n",
    "y_pred_train = svc_classifier.predict(X_train)\n",
    "accuracy_score_train = accuracy_score(y_train, y_pred_train)\n",
    "train_accuracy_score_list.append(accuracy_score_train)\n",
    "\n",
    "y_pred_test = svc_classifier.predict(X_test)\n",
    "accuracy_score_test = accuracy_score(y_test, y_pred_test)\n",
    "test_accuracy_score_list.append(accuracy_score_test)\n",
    "\n",
    "cm = confusion_matrix(y_test, y_pred_test)\n",
    "\n",
    "ax = sns.heatmap(cm, annot=True,fmt='.2f', cmap='Blues')\n",
    "print('Accuracy: {:.2%}'.format(accuracy_score_test))"
   ]
  },
  {
   "cell_type": "code",
   "execution_count": 43,
   "id": "7df5ca30",
   "metadata": {},
   "outputs": [
    {
     "name": "stdout",
     "output_type": "stream",
     "text": [
      "Model ROC-AUC = 84.47%\n"
     ]
    }
   ],
   "source": [
    "probs = svc_classifier.predict_proba(X_test)\n",
    "# save probability for true-positive\n",
    "probs = probs[:, 1]\n",
    "# ROC-AUC\n",
    "auc = roc_auc_score(y_test, probs)\n",
    "print('Model ROC-AUC = {:.2%}'.format(auc))\n",
    "roc_auc_list.append(auc)"
   ]
  },
  {
   "cell_type": "code",
   "execution_count": 44,
   "id": "0c1c41f1",
   "metadata": {},
   "outputs": [
    {
     "name": "stdout",
     "output_type": "stream",
     "text": [
      "              precision    recall  f1-score   support\n",
      "\n",
      "           0       0.57      0.41      0.48        80\n",
      "           1       0.95      0.97      0.96       865\n",
      "\n",
      "    accuracy                           0.92       945\n",
      "   macro avg       0.76      0.69      0.72       945\n",
      "weighted avg       0.92      0.92      0.92       945\n",
      "\n"
     ]
    }
   ],
   "source": [
    "print(classification_report(y_test, y_pred_test))"
   ]
  },
  {
   "cell_type": "markdown",
   "id": "bf82aedd",
   "metadata": {},
   "source": [
    "<h3> KNN </h3>"
   ]
  },
  {
   "cell_type": "code",
   "execution_count": 46,
   "id": "b2d0c4af",
   "metadata": {},
   "outputs": [
    {
     "name": "stdout",
     "output_type": "stream",
     "text": [
      "Best parameters:  {'algorithm': 'ball_tree', 'weights': 'distance'}\n"
     ]
    }
   ],
   "source": [
    "knn_classifier = KNeighborsClassifier(n_neighbors = 5, metric = 'minkowski', p = 2)\n",
    "knn_classifier.fit(X_train, y_train)\n",
    "\n",
    "#GridSearch\n",
    "parameters = [\n",
    "    {\n",
    "        'weights':['uniform','distance'],\n",
    "        'algorithm':['ball_tree','kd_tree']\n",
    "     }\n",
    "]\n",
    "\n",
    "grid_search = GridSearchCV(\n",
    "    estimator = knn_classifier,\n",
    "    param_grid = parameters,\n",
    "    scoring = 'accuracy',\n",
    "    cv = 10,\n",
    "    n_jobs = -1\n",
    ")\n",
    "\n",
    "grid_search.fit(X_train, y_train)\n",
    "best_parameters = grid_search.best_params_\n",
    "print('Best parameters: ', best_parameters)\n",
    "\n",
    "model = grid_search.best_estimator_"
   ]
  },
  {
   "cell_type": "code",
   "execution_count": 45,
   "id": "676847a9",
   "metadata": {},
   "outputs": [
    {
     "name": "stdout",
     "output_type": "stream",
     "text": [
      "Accuracy: 92.91%\n"
     ]
    },
    {
     "data": {
      "image/png": "[encoded data removed]",
      "text/plain": [
       "<Figure size 640x480 with 2 Axes>"
      ]
     },
     "metadata": {},
     "output_type": "display_data"
    }
   ],
   "source": [
    "#Implement best parameters\n",
    "knn_classifier = KNeighborsClassifier(weights = 'distance', algorithm = 'ball_tree', n_neighbors = 5, metric = 'minkowski', p = 2)\n",
    "knn_classifier.fit(X_train, y_train)\n",
    "\n",
    "#Evaluate the model\n",
    "\n",
    "model_list.append('KNN Classifier')\n",
    "\n",
    "y_pred_train = knn_classifier.predict(X_train)\n",
    "accuracy_score_train = accuracy_score(y_train, y_pred_train)\n",
    "train_accuracy_score_list.append(accuracy_score_train)\n",
    "\n",
    "y_pred_test = knn_classifier.predict(X_test)\n",
    "accuracy_score_test = accuracy_score(y_test, y_pred_test)\n",
    "test_accuracy_score_list.append(accuracy_score_test)\n",
    "\n",
    "cm = confusion_matrix(y_test, y_pred_test)\n",
    "\n",
    "ax = sns.heatmap(cm, annot=True,fmt='.2f', cmap='Blues')\n",
    "print('Accuracy: {:.2%}'.format(accuracy_score_test))"
   ]
  },
  {
   "cell_type": "code",
   "execution_count": 46,
   "id": "0c03dd27",
   "metadata": {},
   "outputs": [
    {
     "name": "stdout",
     "output_type": "stream",
     "text": [
      "Model ROC-AUC = 68.66%\n"
     ]
    }
   ],
   "source": [
    "probs = knn_classifier.predict_proba(X_test)\n",
    "# save probability for true-positive\n",
    "probs = probs[:, 1]\n",
    "# ROC-AUC\n",
    "auc = roc_auc_score(y_test, probs)\n",
    "print('Model ROC-AUC = {:.2%}'.format(auc))\n",
    "roc_auc_list.append(auc)"
   ]
  },
  {
   "cell_type": "code",
   "execution_count": 47,
   "id": "6e3cd39b",
   "metadata": {},
   "outputs": [
    {
     "name": "stdout",
     "output_type": "stream",
     "text": [
      "              precision    recall  f1-score   support\n",
      "\n",
      "           0       0.84      0.20      0.32        80\n",
      "           1       0.93      1.00      0.96       865\n",
      "\n",
      "    accuracy                           0.93       945\n",
      "   macro avg       0.89      0.60      0.64       945\n",
      "weighted avg       0.92      0.93      0.91       945\n",
      "\n"
     ]
    }
   ],
   "source": [
    "print(classification_report(y_test, y_pred_test))"
   ]
  },
  {
   "cell_type": "markdown",
   "id": "501fa12d",
   "metadata": {},
   "source": [
    "<h3> Logistic Regression </h3>"
   ]
  },
  {
   "cell_type": "code",
   "execution_count": 48,
   "id": "76d8c498",
   "metadata": {},
   "outputs": [
    {
     "name": "stdout",
     "output_type": "stream",
     "text": [
      "Accuracy: 93.12%\n"
     ]
    },
    {
     "data": {
      "image/png": "[encoded data removed]",
      "text/plain": [
       "<Figure size 640x480 with 2 Axes>"
      ]
     },
     "metadata": {},
     "output_type": "display_data"
    }
   ],
   "source": [
    "lr_classifier = LogisticRegression(random_state = 0)\n",
    "lr_classifier.fit(X_train, y_train)\n",
    "\n",
    "#Evaluate the model\n",
    "\n",
    "model_list.append('Logistic Regression Classifier')\n",
    "\n",
    "y_pred_train = lr_classifier.predict(X_train)\n",
    "accuracy_score_train = accuracy_score(y_train, y_pred_train)\n",
    "train_accuracy_score_list.append(accuracy_score_train)\n",
    "\n",
    "y_pred_test = lr_classifier.predict(X_test)\n",
    "accuracy_score_test = accuracy_score(y_test, y_pred_test)\n",
    "test_accuracy_score_list.append(accuracy_score_test)\n",
    "\n",
    "cm = confusion_matrix(y_test, y_pred_test)\n",
    "\n",
    "ax = sns.heatmap(cm, annot=True,fmt='.2f', cmap='Blues')\n",
    "print('Accuracy: {:.2%}'.format(accuracy_score_test))"
   ]
  },
  {
   "cell_type": "code",
   "execution_count": 49,
   "id": "18d1f949",
   "metadata": {},
   "outputs": [
    {
     "name": "stdout",
     "output_type": "stream",
     "text": [
      "Model ROC-AUC = 86.54%\n"
     ]
    }
   ],
   "source": [
    "probs = lr_classifier.predict_proba(X_test)\n",
    "# save probability for true-positive\n",
    "probs = probs[:, 1]\n",
    "# ROC-AUC\n",
    "auc = roc_auc_score(y_test, probs)\n",
    "print('Model ROC-AUC = {:.2%}'.format(auc))\n",
    "roc_auc_list.append(auc)"
   ]
  },
  {
   "cell_type": "code",
   "execution_count": 50,
   "id": "9f5bac58",
   "metadata": {},
   "outputs": [
    {
     "name": "stdout",
     "output_type": "stream",
     "text": [
      "              precision    recall  f1-score   support\n",
      "\n",
      "           0       0.69      0.34      0.45        80\n",
      "           1       0.94      0.99      0.96       865\n",
      "\n",
      "    accuracy                           0.93       945\n",
      "   macro avg       0.82      0.66      0.71       945\n",
      "weighted avg       0.92      0.93      0.92       945\n",
      "\n"
     ]
    }
   ],
   "source": [
    "print(classification_report(y_test, y_pred_test))"
   ]
  },
  {
   "cell_type": "markdown",
   "id": "c6ee0e76",
   "metadata": {},
   "source": [
    "<h3> Naive Bayes </h3>"
   ]
  },
  {
   "cell_type": "code",
   "execution_count": 51,
   "id": "51a0e376",
   "metadata": {},
   "outputs": [
    {
     "name": "stdout",
     "output_type": "stream",
     "text": [
      "Accuracy: 64.87%\n"
     ]
    },
    {
     "data": {
      "image/png": "[encoded data removed]",
      "text/plain": [
       "<Figure size 640x480 with 2 Axes>"
      ]
     },
     "metadata": {},
     "output_type": "display_data"
    }
   ],
   "source": [
    "nb_classifier = GaussianNB()\n",
    "nb_classifier.fit(X_train, y_train)\n",
    "\n",
    "#Evaluate the model\n",
    "\n",
    "model_list.append('Naive Bayese Classifier')\n",
    "\n",
    "y_pred_train = nb_classifier.predict(X_train)\n",
    "accuracy_score_train = accuracy_score(y_train, y_pred_train)\n",
    "train_accuracy_score_list.append(accuracy_score_train)\n",
    "\n",
    "y_pred_test = nb_classifier.predict(X_test)\n",
    "accuracy_score_test = accuracy_score(y_test, y_pred_test)\n",
    "test_accuracy_score_list.append(accuracy_score_test)\n",
    "\n",
    "cm = confusion_matrix(y_test, y_pred_test)\n",
    "\n",
    "ax = sns.heatmap(cm, annot=True,fmt='.2f', cmap='Blues')\n",
    "print('Accuracy: {:.2%}'.format(accuracy_score_test))"
   ]
  },
  {
   "cell_type": "code",
   "execution_count": 52,
   "id": "10cd9fdf",
   "metadata": {},
   "outputs": [
    {
     "name": "stdout",
     "output_type": "stream",
     "text": [
      "Model ROC-AUC = 60.39%\n"
     ]
    }
   ],
   "source": [
    "probs = nb_classifier.predict_proba(X_test)\n",
    "# save probability for true-positive\n",
    "probs = probs[:, 1]\n",
    "# ROC-AUC\n",
    "auc = roc_auc_score(y_test, probs)\n",
    "print('Model ROC-AUC = {:.2%}'.format(auc))\n",
    "roc_auc_list.append(auc)"
   ]
  },
  {
   "cell_type": "code",
   "execution_count": 53,
   "id": "0d476868",
   "metadata": {},
   "outputs": [
    {
     "name": "stdout",
     "output_type": "stream",
     "text": [
      "              precision    recall  f1-score   support\n",
      "\n",
      "           0       0.13      0.55      0.21        80\n",
      "           1       0.94      0.66      0.77       865\n",
      "\n",
      "    accuracy                           0.65       945\n",
      "   macro avg       0.53      0.60      0.49       945\n",
      "weighted avg       0.87      0.65      0.73       945\n",
      "\n"
     ]
    }
   ],
   "source": [
    "print(classification_report(y_test, y_pred_test))"
   ]
  },
  {
   "cell_type": "markdown",
   "id": "0f2a7f08",
   "metadata": {},
   "source": [
    "<h3> XG Boost </h3>"
   ]
  },
  {
   "cell_type": "code",
   "execution_count": 54,
   "id": "7209be74",
   "metadata": {},
   "outputs": [
    {
     "name": "stdout",
     "output_type": "stream",
     "text": [
      "Accuracy: 94.29%\n"
     ]
    },
    {
     "data": {
      "image/png": "[encoded data removed]",
      "text/plain": [
       "<Figure size 640x480 with 2 Axes>"
      ]
     },
     "metadata": {},
     "output_type": "display_data"
    }
   ],
   "source": [
    "xgb_classifier = XGBClassifier(random_state = 0)\n",
    "xgb_classifier.fit(X_train, y_train)\n",
    "\n",
    "#Evaluate the model\n",
    "\n",
    "model_list.append('XG Boost Classifier')\n",
    "\n",
    "y_pred_train = xgb_classifier.predict(X_train)\n",
    "accuracy_score_train = accuracy_score(y_train, y_pred_train)\n",
    "train_accuracy_score_list.append(accuracy_score_train)\n",
    "\n",
    "y_pred_test = xgb_classifier.predict(X_test)\n",
    "accuracy_score_test = accuracy_score(y_test, y_pred_test)\n",
    "test_accuracy_score_list.append(accuracy_score_test)\n",
    "\n",
    "cm = confusion_matrix(y_test, y_pred_test)\n",
    "\n",
    "ax = sns.heatmap(cm, annot=True,fmt='.2f', cmap='Blues')\n",
    "print('Accuracy: {:.2%}'.format(accuracy_score_test))"
   ]
  },
  {
   "cell_type": "code",
   "execution_count": 55,
   "id": "29d6b3fb",
   "metadata": {},
   "outputs": [
    {
     "name": "stdout",
     "output_type": "stream",
     "text": [
      "Model ROC-AUC = 88.63%\n"
     ]
    }
   ],
   "source": [
    "probs = xgb_classifier.predict_proba(X_test)\n",
    "# save probability for true-positive\n",
    "probs = probs[:, 1]\n",
    "# ROC-AUC\n",
    "auc = roc_auc_score(y_test, probs)\n",
    "print('Model ROC-AUC = {:.2%}'.format(auc))\n",
    "roc_auc_list.append(auc)"
   ]
  },
  {
   "cell_type": "code",
   "execution_count": 56,
   "id": "34b79189",
   "metadata": {},
   "outputs": [
    {
     "name": "stdout",
     "output_type": "stream",
     "text": [
      "              precision    recall  f1-score   support\n",
      "\n",
      "           0       0.84      0.40      0.54        80\n",
      "           1       0.95      0.99      0.97       865\n",
      "\n",
      "    accuracy                           0.94       945\n",
      "   macro avg       0.89      0.70      0.76       945\n",
      "weighted avg       0.94      0.94      0.93       945\n",
      "\n"
     ]
    }
   ],
   "source": [
    "print(classification_report(y_test, y_pred_test))"
   ]
  },
  {
   "cell_type": "markdown",
   "id": "c66bca63",
   "metadata": {},
   "source": [
    "<h3> Ada Boost </h3>"
   ]
  },
  {
   "cell_type": "code",
   "execution_count": 57,
   "id": "349c739e",
   "metadata": {},
   "outputs": [
    {
     "name": "stdout",
     "output_type": "stream",
     "text": [
      "Accuracy: 91.43%\n"
     ]
    },
    {
     "data": {
      "image/png": "[encoded data removed]",
      "text/plain": [
       "<Figure size 640x480 with 2 Axes>"
      ]
     },
     "metadata": {},
     "output_type": "display_data"
    }
   ],
   "source": [
    "ab_classifier = AdaBoostClassifier(n_estimators=50, learning_rate=0.5, algorithm='SAMME.R', random_state=1)\n",
    "ab_classifier.fit(X_train, y_train)\n",
    "\n",
    "#Evaluate the model\n",
    "\n",
    "model_list.append('Ada Boost Classifier')\n",
    "\n",
    "y_pred_train = ab_classifier.predict(X_train)\n",
    "accuracy_score_train = accuracy_score(y_train, y_pred_train)\n",
    "train_accuracy_score_list.append(accuracy_score_train)\n",
    "\n",
    "y_pred_test = ab_classifier.predict(X_test)\n",
    "accuracy_score_test = accuracy_score(y_test, y_pred_test)\n",
    "test_accuracy_score_list.append(accuracy_score_test)\n",
    "\n",
    "cm = confusion_matrix(y_test, y_pred_test)\n",
    "\n",
    "ax = sns.heatmap(cm, annot=True,fmt='.2f', cmap='Blues')\n",
    "print('Accuracy: {:.2%}'.format(accuracy_score_test))"
   ]
  },
  {
   "cell_type": "code",
   "execution_count": 58,
   "id": "8e8cfc3f",
   "metadata": {},
   "outputs": [
    {
     "name": "stdout",
     "output_type": "stream",
     "text": [
      "Model ROC-AUC = 87.81%\n"
     ]
    }
   ],
   "source": [
    "probs = ab_classifier.predict_proba(X_test)\n",
    "# save probability for true-positive\n",
    "probs = probs[:, 1]\n",
    "# ROC-AUC\n",
    "auc = roc_auc_score(y_test, probs)\n",
    "print('Model ROC-AUC = {:.2%}'.format(auc))\n",
    "roc_auc_list.append(auc)"
   ]
  },
  {
   "cell_type": "code",
   "execution_count": 59,
   "id": "a74481fd",
   "metadata": {},
   "outputs": [
    {
     "name": "stdout",
     "output_type": "stream",
     "text": [
      "              precision    recall  f1-score   support\n",
      "\n",
      "           0       0.48      0.14      0.21        80\n",
      "           1       0.93      0.99      0.95       865\n",
      "\n",
      "    accuracy                           0.91       945\n",
      "   macro avg       0.70      0.56      0.58       945\n",
      "weighted avg       0.89      0.91      0.89       945\n",
      "\n"
     ]
    }
   ],
   "source": [
    "print(classification_report(y_test, y_pred_test))"
   ]
  },
  {
   "cell_type": "markdown",
   "id": "3ea644e8",
   "metadata": {},
   "source": [
    "<center><h2> RESULTS </h2><center>"
   ]
  },
  {
   "cell_type": "code",
   "execution_count": 60,
   "id": "0c29ab83",
   "metadata": {},
   "outputs": [],
   "source": [
    "results = pd.DataFrame({'model': model_list,\n",
    "                       'train_accuracy_score': train_accuracy_score_list,\n",
    "                       'test_accuracy_score': test_accuracy_score_list,\n",
    "                       'roc-auc_score': roc_auc_list}\n",
    "                       )"
   ]
  },
  {
   "cell_type": "code",
   "execution_count": 61,
   "id": "b794080a",
   "metadata": {},
   "outputs": [
    {
     "data": {
      "text/html": [
       "<div>\n",
       "<style scoped>\n",
       "    .dataframe tbody tr th:only-of-type {\n",
       "        vertical-align: middle;\n",
       "    }\n",
       "\n",
       "    .dataframe tbody tr th {\n",
       "        vertical-align: top;\n",
       "    }\n",
       "\n",
       "    .dataframe thead th {\n",
       "        text-align: right;\n",
       "    }\n",
       "</style>\n",
       "<table border=\"1\" class=\"dataframe\">\n",
       "  <thead>\n",
       "    <tr style=\"text-align: right;\">\n",
       "      <th></th>\n",
       "      <th>model</th>\n",
       "      <th>train_accuracy_score</th>\n",
       "      <th>test_accuracy_score</th>\n",
       "      <th>roc-auc_score</th>\n",
       "    </tr>\n",
       "  </thead>\n",
       "  <tbody>\n",
       "    <tr>\n",
       "      <th>0</th>\n",
       "      <td>Random Forest Classifier</td>\n",
       "      <td>0.994555</td>\n",
       "      <td>0.932275</td>\n",
       "      <td>0.911741</td>\n",
       "    </tr>\n",
       "    <tr>\n",
       "      <th>6</th>\n",
       "      <td>XG Boost Classifier</td>\n",
       "      <td>0.986388</td>\n",
       "      <td>0.942857</td>\n",
       "      <td>0.886329</td>\n",
       "    </tr>\n",
       "    <tr>\n",
       "      <th>7</th>\n",
       "      <td>Ada Boost Classifier</td>\n",
       "      <td>0.948276</td>\n",
       "      <td>0.914286</td>\n",
       "      <td>0.878114</td>\n",
       "    </tr>\n",
       "    <tr>\n",
       "      <th>4</th>\n",
       "      <td>Logistic Regression Classifier</td>\n",
       "      <td>0.984120</td>\n",
       "      <td>0.931217</td>\n",
       "      <td>0.865354</td>\n",
       "    </tr>\n",
       "    <tr>\n",
       "      <th>2</th>\n",
       "      <td>SVC</td>\n",
       "      <td>0.989564</td>\n",
       "      <td>0.923810</td>\n",
       "      <td>0.844704</td>\n",
       "    </tr>\n",
       "    <tr>\n",
       "      <th>1</th>\n",
       "      <td>Decision Tree Classifier</td>\n",
       "      <td>0.994555</td>\n",
       "      <td>0.922751</td>\n",
       "      <td>0.728512</td>\n",
       "    </tr>\n",
       "    <tr>\n",
       "      <th>3</th>\n",
       "      <td>KNN Classifier</td>\n",
       "      <td>0.994555</td>\n",
       "      <td>0.929101</td>\n",
       "      <td>0.686633</td>\n",
       "    </tr>\n",
       "    <tr>\n",
       "      <th>5</th>\n",
       "      <td>Naive Bayese Classifier</td>\n",
       "      <td>0.701906</td>\n",
       "      <td>0.648677</td>\n",
       "      <td>0.603902</td>\n",
       "    </tr>\n",
       "  </tbody>\n",
       "</table>\n",
       "</div>"
      ],
      "text/plain": [
       "                            model  train_accuracy_score  test_accuracy_score  \\\n",
       "0        Random Forest Classifier              0.994555             0.932275   \n",
       "6             XG Boost Classifier              0.986388             0.942857   \n",
       "7            Ada Boost Classifier              0.948276             0.914286   \n",
       "4  Logistic Regression Classifier              0.984120             0.931217   \n",
       "2                             SVC              0.989564             0.923810   \n",
       "1        Decision Tree Classifier              0.994555             0.922751   \n",
       "3                  KNN Classifier              0.994555             0.929101   \n",
       "5         Naive Bayese Classifier              0.701906             0.648677   \n",
       "\n",
       "   roc-auc_score  \n",
       "0       0.911741  \n",
       "6       0.886329  \n",
       "7       0.878114  \n",
       "4       0.865354  \n",
       "2       0.844704  \n",
       "1       0.728512  \n",
       "3       0.686633  \n",
       "5       0.603902  "
      ]
     },
     "execution_count": 61,
     "metadata": {},
     "output_type": "execute_result"
    }
   ],
   "source": [
    "results.sort_values(by = 'roc-auc_score', ascending = False)"
   ]
  },
  {
   "cell_type": "code",
   "execution_count": 65,
   "id": "fc688a61",
   "metadata": {},
   "outputs": [
    {
     "data": {
      "text/plain": [
       "(0.6, 1.02)"
      ]
     },
     "execution_count": 65,
     "metadata": {},
     "output_type": "execute_result"
    },
    {
     "data": {
      "image/png": "[encoded data removed]",
      "text/plain": [
       "<Figure size 640x480 with 1 Axes>"
      ]
     },
     "metadata": {},
     "output_type": "display_data"
    }
   ],
   "source": [
    "results_plot = results.sort_values('train_accuracy_score',ascending=False)\n",
    "plt.bar(results_plot['model'], results_plot['train_accuracy_score'])\n",
    "plt.xticks(results_plot['model'],rotation = 90, fontsize = 7)\n",
    "plt.yticks(results_plot['train_accuracy_score'], fontsize = 7)\n",
    "plt.xlabel('Model')\n",
    "plt.ylabel('Train Accuracy score')\n",
    "plt.ylim(0.60, 1.02)"
   ]
  },
  {
   "cell_type": "code",
   "execution_count": 69,
   "id": "69970040",
   "metadata": {},
   "outputs": [
    {
     "data": {
      "text/plain": [
       "(0.6, 0.96)"
      ]
     },
     "execution_count": 69,
     "metadata": {},
     "output_type": "execute_result"
    },
    {
     "data": {
      "image/png": "[encoded data removed]",
      "text/plain": [
       "<Figure size 640x480 with 1 Axes>"
      ]
     },
     "metadata": {},
     "output_type": "display_data"
    }
   ],
   "source": [
    "results_plot = results.sort_values('test_accuracy_score',ascending=False)\n",
    "plt.bar(results_plot['model'], results_plot['test_accuracy_score'])\n",
    "plt.xticks(results_plot['model'],rotation = 90, fontsize = 7)\n",
    "plt.yticks(results_plot['test_accuracy_score'], fontsize = 7)\n",
    "plt.xlabel('Model')\n",
    "plt.ylabel('Test Accuracy score')\n",
    "plt.ylim(0.60, 0.96)"
   ]
  },
  {
   "cell_type": "code",
   "execution_count": 73,
   "id": "71625bca",
   "metadata": {},
   "outputs": [
    {
     "data": {
      "text/plain": [
       "(0.55, 0.92)"
      ]
     },
     "execution_count": 73,
     "metadata": {},
     "output_type": "execute_result"
    },
    {
     "data": {
      "image/png": "[encoded data removed]",
      "text/plain": [
       "<Figure size 640x480 with 1 Axes>"
      ]
     },
     "metadata": {},
     "output_type": "display_data"
    }
   ],
   "source": [
    "results_plot = results.sort_values('roc-auc_score',ascending=False)\n",
    "plt.bar(results_plot['model'], results_plot['roc-auc_score'])\n",
    "plt.xticks(results_plot['model'],rotation = 90, fontsize = 7)\n",
    "plt.yticks(results_plot['roc-auc_score'], fontsize = 7)\n",
    "plt.xlabel('Model')\n",
    "plt.ylabel('ROC-AUC')\n",
    "plt.ylim(0.55, 0.92)"
   ]
  },
  {
   "cell_type": "markdown",
   "id": "2bb5be99",
   "metadata": {},
   "source": [
    "According to the comparison of train/test accuracy score (difference is less than 3%) and ROC-AUC (above 87%) for test set <b> AdaBoost Classifier </b> was chosen as the best classification model."
   ]
  },
  {
   "cell_type": "code",
   "execution_count": 69,
   "id": "17b435e5",
   "metadata": {},
   "outputs": [
    {
     "data": {
      "text/plain": [
       "array([0, 1], dtype=int64)"
      ]
     },
     "execution_count": 69,
     "metadata": {},
     "output_type": "execute_result"
    }
   ],
   "source": [
    "testing_sample = ['Terrible', 'Awesome, my best buy']\n",
    "testing_sample_countvectorizer = vectorizer.transform(testing_sample)\n",
    "test_predict = ab_classifier.predict(testing_sample_countvectorizer)\n",
    "test_predict"
   ]
  }
 ],
 "metadata": {
  "kernelspec": {
   "display_name": "Python 3 (ipykernel)",
   "language": "python",
   "name": "python3"
  },
  "language_info": {
   "codemirror_mode": {
    "name": "ipython",
    "version": 3
   },
   "file_extension": ".py",
   "mimetype": "text/x-python",
   "name": "python",
   "nbconvert_exporter": "python",
   "pygments_lexer": "ipython3",
   "version": "3.9.16"
  }
 },
 "nbformat": 4,
 "nbformat_minor": 5
}
