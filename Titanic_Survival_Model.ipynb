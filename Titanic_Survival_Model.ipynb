{
 "cells": [
  {
   "cell_type": "markdown",
   "id": "b181a365",
   "metadata": {},
   "source": [
    "<center><h1>TITANIC SURVIVAL MODEL </h1><center>"
   ]
  },
  {
   "cell_type": "markdown",
   "id": "06b6865d",
   "metadata": {},
   "source": [
    "<h3> Contents </h3><br>\n",
    "<b>Introduction</b><br>\n",
    "<b>1.Import libraries</b><br>\n",
    "1.1. Functions<br>\n",
    "<b>2. Data analysis</b><br>\n",
    "2.1. Dataset overview(Column description)<br>\n",
    "2.2. Missing values<br>\n",
    "2.3. Types of independent variables<br>\n",
    "2.4. Rare labels and Cardinality<br>\n",
    "2.5. Distribution and outliers <br>\n",
    "<b>3. Data preprocessing & Feature engineering</b><br>\n",
    "3.1. Divide dataset on Train & Test sets<br>\n",
    "3.2. Missing values imputation<br>\n",
    "3.3. Encoding<br>\n",
    "3.4. Transformation/Discretization<br>\n",
    "3.5. Feature Scaling<br>\n",
    "<b>4. Hyperparameters searching and Model training</b><br>\n",
    "<b>5. Results</b><br>"
   ]
  },
  {
   "cell_type": "markdown",
   "id": "36d027b7",
   "metadata": {},
   "source": [
    "<center><h2> Introduction </h2></center>"
   ]
  },
  {
   "cell_type": "markdown",
   "id": "c697768f",
   "metadata": {},
   "source": [
    "<h3> Goals and Objectives </h3>"
   ]
  },
  {
   "cell_type": "markdown",
   "id": "9c22bbe3",
   "metadata": {},
   "source": [
    "The study aims to develop a model to predict a probability of passengers' survival during the wreck of the Titanic in 1912. To achieve this goal, a number of objectives were identified, including:<br>\n",
    "1.Analysis of the existing dataset<br>\n",
    "2.Determining the type of the model (classification or regression)<br>\n",
    "3.Engineering of the existing features<br>\n",
    "4.Creating the best-performance model"
   ]
  },
  {
   "cell_type": "markdown",
   "id": "61b06794",
   "metadata": {},
   "source": [
    "<h3> Models and Tools </h3>"
   ]
  },
  {
   "cell_type": "markdown",
   "id": "137972ff",
   "metadata": {},
   "source": [
    "For the analysis of dataset imputing, encoding, transforming and discreising methods were implemented.\n",
    "During the research the following classification models were used:\n",
    "    \n",
    "Decision Tree Classifier<br>\n",
    "XGBoost Classifier<br>\n",
    "Random Forest Classifier<br>\n",
    "KNN Classifier<br>\n",
    "AdaBoost Classifier<br>\n",
    "SVC Classifier<br>\n",
    "Logistic Regression Classifier<br>\n",
    "Naive Bayes Classifier"
   ]
  },
  {
   "cell_type": "markdown",
   "id": "934cdc09",
   "metadata": {},
   "source": [
    "<h3> Results </h3>"
   ]
  },
  {
   "cell_type": "markdown",
   "id": "8e018b8f",
   "metadata": {},
   "source": [
    "According to the accuracy score for test set ( accuracy score is less than 90%), comparison of train/test accuracy score (difference is less than 1.5%) and ROC-AUC (above 83%) for test set <b> AdaBoost Classifier </b> was chosen as the best classification model."
   ]
  },
  {
   "cell_type": "markdown",
   "id": "5dd5e76f",
   "metadata": {},
   "source": [
    "<center><h2> 1. Import libraries </h2></center>"
   ]
  },
  {
   "cell_type": "code",
   "execution_count": 1,
   "id": "e1f3b971",
   "metadata": {},
   "outputs": [],
   "source": [
    "#Import libraries\n",
    "import pandas as pd\n",
    "import numpy as np\n",
    "import matplotlib.pyplot as plt\n",
    "import seaborn as sns\n",
    "from sklearn.model_selection import train_test_split\n",
    "from sklearn.metrics import roc_auc_score\n",
    "from sklearn.metrics import confusion_matrix, accuracy_score\n",
    "from matplotlib.colors import ListedColormap\n",
    "from sklearn.metrics import classification_report\n",
    "\n",
    "#Shapiro-Wilk test\n",
    "from scipy.stats import shapiro\n",
    "\n",
    "#Imputers\n",
    "from feature_engine.imputation import(\n",
    "    AddMissingIndicator,\n",
    "    MeanMedianImputer,\n",
    "    CategoricalImputer\n",
    ")\n",
    "from feature_engine.imputation import RandomSampleImputer\n",
    "from feature_engine import imputation as mdi\n",
    "\n",
    "#Encoders\n",
    "from feature_engine.encoding import CountFrequencyEncoder\n",
    "from feature_engine.encoding import OneHotEncoder\n",
    "from feature_engine import encoding as ce\n",
    "\n",
    "#Transformers\n",
    "from sklearn.preprocessing import FunctionTransformer, PowerTransformer\n",
    "\n",
    "#Discretizers\n",
    "from feature_engine.discretisation import DecisionTreeDiscretiser\n",
    "\n",
    "#Scalers\n",
    "from sklearn.preprocessing import StandardScaler, RobustScaler\n",
    "\n",
    "#Classifiers\n",
    "from sklearn.tree import DecisionTreeClassifier\n",
    "from sklearn.ensemble import RandomForestClassifier\n",
    "from sklearn.svm import SVC\n",
    "from sklearn.neighbors import KNeighborsClassifier\n",
    "from sklearn.linear_model import LogisticRegression\n",
    "from sklearn.naive_bayes import GaussianNB\n",
    "from xgboost import XGBClassifier\n",
    "from sklearn.ensemble import AdaBoostClassifier\n",
    "\n",
    "#Pipeline\n",
    "from sklearn.pipeline import Pipeline\n",
    "\n",
    "#GridSearchCV\n",
    "from sklearn.model_selection import GridSearchCV"
   ]
  },
  {
   "cell_type": "code",
   "execution_count": 2,
   "id": "407e3fb7",
   "metadata": {},
   "outputs": [],
   "source": [
    "#Disable warnings\n",
    "\n",
    "import warnings\n",
    "warnings.filterwarnings('ignore')"
   ]
  },
  {
   "cell_type": "code",
   "execution_count": 3,
   "id": "8474346e",
   "metadata": {},
   "outputs": [],
   "source": [
    "#Model results list\n",
    "model_list = list()\n",
    "train_accuracy_score_list = list()\n",
    "accuracy_score_list = list()\n",
    "roc_auc_list = list()"
   ]
  },
  {
   "cell_type": "markdown",
   "id": "635adbdc",
   "metadata": {},
   "source": [
    "<h3>1.1. Functions</h3>"
   ]
  },
  {
   "cell_type": "code",
   "execution_count": 4,
   "id": "ddfdc1f0",
   "metadata": {},
   "outputs": [],
   "source": [
    "#Functions used in project\n",
    "\n",
    "##Calculate mean target per category\n",
    "\n",
    "def calculate_mean_target_per_category (data, variable):\n",
    "    total_number_of_labels = len(data)\n",
    "    \n",
    "    temp_df = pd.Series(data[variable].value_counts() / total_number_of_labels).reset_index()\n",
    "    temp_df.columns = [variable, 'perc_of_total']\n",
    "    temp_df = temp_df.merge(\n",
    "        data.groupby([variable])['survived'].mean().reset_index(),\n",
    "        on = variable,\n",
    "        how = 'left'\n",
    "    )\n",
    "    \n",
    "    return temp_df\n",
    "\n",
    "##Find normal boundaries\n",
    "\n",
    "def find_normal_boundaries (data, variable):\n",
    "    lower_limit = data[variable].mean() - 3*data[variable].std()\n",
    "    upper_limit = data[variable].mean() + 3*data[variable].std()\n",
    "    \n",
    "    return lower_limit, upper_limit\n",
    "\n",
    "##Find skewed boundaries\n",
    "\n",
    "def find_skewed_boundaries(data, variable, distance):\n",
    "    IQR = data[variable].quantile(0.75) - data[variable].quantile(0.25)\n",
    "    lower_boundary = data[variable].quantile(0.25) - (IQR*distance)\n",
    "    upper_boundary = data[variable].quantile(0.75) + (IQR*distance)\n",
    "    \n",
    "    return lower_boundary, upper_boundary"
   ]
  },
  {
   "cell_type": "markdown",
   "id": "f8701593",
   "metadata": {},
   "source": [
    "<center><h2> 2. Data analysis </h2><center>"
   ]
  },
  {
   "cell_type": "markdown",
   "id": "2e5f97e8",
   "metadata": {},
   "source": [
    "<h3>2.1. Dataset overview (Column description) </h3>"
   ]
  },
  {
   "cell_type": "code",
   "execution_count": 5,
   "id": "fb26ca16",
   "metadata": {},
   "outputs": [],
   "source": [
    "#Upload dataset\n",
    "\n",
    "data = pd.read_csv('../titanic.csv')"
   ]
  },
  {
   "cell_type": "code",
   "execution_count": 6,
   "id": "cfae0685",
   "metadata": {},
   "outputs": [
    {
     "data": {
      "text/html": [
       "<div>\n",
       "<style scoped>\n",
       "    .dataframe tbody tr th:only-of-type {\n",
       "        vertical-align: middle;\n",
       "    }\n",
       "\n",
       "    .dataframe tbody tr th {\n",
       "        vertical-align: top;\n",
       "    }\n",
       "\n",
       "    .dataframe thead th {\n",
       "        text-align: right;\n",
       "    }\n",
       "</style>\n",
       "<table border=\"1\" class=\"dataframe\">\n",
       "  <thead>\n",
       "    <tr style=\"text-align: right;\">\n",
       "      <th></th>\n",
       "      <th>pclass</th>\n",
       "      <th>survived</th>\n",
       "      <th>name</th>\n",
       "      <th>sex</th>\n",
       "      <th>age</th>\n",
       "      <th>sibsp</th>\n",
       "      <th>parch</th>\n",
       "      <th>ticket</th>\n",
       "      <th>fare</th>\n",
       "      <th>cabin</th>\n",
       "      <th>embarked</th>\n",
       "      <th>boat</th>\n",
       "      <th>body</th>\n",
       "      <th>home.dest</th>\n",
       "    </tr>\n",
       "  </thead>\n",
       "  <tbody>\n",
       "    <tr>\n",
       "      <th>0</th>\n",
       "      <td>1</td>\n",
       "      <td>1</td>\n",
       "      <td>Allen, Miss. Elisabeth Walton</td>\n",
       "      <td>female</td>\n",
       "      <td>29.0000</td>\n",
       "      <td>0</td>\n",
       "      <td>0</td>\n",
       "      <td>24160</td>\n",
       "      <td>211.3375</td>\n",
       "      <td>B5</td>\n",
       "      <td>S</td>\n",
       "      <td>2</td>\n",
       "      <td>NaN</td>\n",
       "      <td>St Louis, MO</td>\n",
       "    </tr>\n",
       "    <tr>\n",
       "      <th>1</th>\n",
       "      <td>1</td>\n",
       "      <td>1</td>\n",
       "      <td>Allison, Master. Hudson Trevor</td>\n",
       "      <td>male</td>\n",
       "      <td>0.9167</td>\n",
       "      <td>1</td>\n",
       "      <td>2</td>\n",
       "      <td>113781</td>\n",
       "      <td>151.5500</td>\n",
       "      <td>C22</td>\n",
       "      <td>S</td>\n",
       "      <td>11</td>\n",
       "      <td>NaN</td>\n",
       "      <td>Montreal, PQ / Chesterville, ON</td>\n",
       "    </tr>\n",
       "    <tr>\n",
       "      <th>2</th>\n",
       "      <td>1</td>\n",
       "      <td>0</td>\n",
       "      <td>Allison, Miss. Helen Loraine</td>\n",
       "      <td>female</td>\n",
       "      <td>2.0000</td>\n",
       "      <td>1</td>\n",
       "      <td>2</td>\n",
       "      <td>113781</td>\n",
       "      <td>151.5500</td>\n",
       "      <td>C22</td>\n",
       "      <td>S</td>\n",
       "      <td>NaN</td>\n",
       "      <td>NaN</td>\n",
       "      <td>Montreal, PQ / Chesterville, ON</td>\n",
       "    </tr>\n",
       "    <tr>\n",
       "      <th>3</th>\n",
       "      <td>1</td>\n",
       "      <td>0</td>\n",
       "      <td>Allison, Mr. Hudson Joshua Creighton</td>\n",
       "      <td>male</td>\n",
       "      <td>30.0000</td>\n",
       "      <td>1</td>\n",
       "      <td>2</td>\n",
       "      <td>113781</td>\n",
       "      <td>151.5500</td>\n",
       "      <td>C22</td>\n",
       "      <td>S</td>\n",
       "      <td>NaN</td>\n",
       "      <td>135.0</td>\n",
       "      <td>Montreal, PQ / Chesterville, ON</td>\n",
       "    </tr>\n",
       "    <tr>\n",
       "      <th>4</th>\n",
       "      <td>1</td>\n",
       "      <td>0</td>\n",
       "      <td>Allison, Mrs. Hudson J C (Bessie Waldo Daniels)</td>\n",
       "      <td>female</td>\n",
       "      <td>25.0000</td>\n",
       "      <td>1</td>\n",
       "      <td>2</td>\n",
       "      <td>113781</td>\n",
       "      <td>151.5500</td>\n",
       "      <td>C22</td>\n",
       "      <td>S</td>\n",
       "      <td>NaN</td>\n",
       "      <td>NaN</td>\n",
       "      <td>Montreal, PQ / Chesterville, ON</td>\n",
       "    </tr>\n",
       "    <tr>\n",
       "      <th>5</th>\n",
       "      <td>1</td>\n",
       "      <td>1</td>\n",
       "      <td>Anderson, Mr. Harry</td>\n",
       "      <td>male</td>\n",
       "      <td>48.0000</td>\n",
       "      <td>0</td>\n",
       "      <td>0</td>\n",
       "      <td>19952</td>\n",
       "      <td>26.5500</td>\n",
       "      <td>E12</td>\n",
       "      <td>S</td>\n",
       "      <td>3</td>\n",
       "      <td>NaN</td>\n",
       "      <td>New York, NY</td>\n",
       "    </tr>\n",
       "    <tr>\n",
       "      <th>6</th>\n",
       "      <td>1</td>\n",
       "      <td>1</td>\n",
       "      <td>Andrews, Miss. Kornelia Theodosia</td>\n",
       "      <td>female</td>\n",
       "      <td>63.0000</td>\n",
       "      <td>1</td>\n",
       "      <td>0</td>\n",
       "      <td>13502</td>\n",
       "      <td>77.9583</td>\n",
       "      <td>D7</td>\n",
       "      <td>S</td>\n",
       "      <td>10</td>\n",
       "      <td>NaN</td>\n",
       "      <td>Hudson, NY</td>\n",
       "    </tr>\n",
       "    <tr>\n",
       "      <th>7</th>\n",
       "      <td>1</td>\n",
       "      <td>0</td>\n",
       "      <td>Andrews, Mr. Thomas Jr</td>\n",
       "      <td>male</td>\n",
       "      <td>39.0000</td>\n",
       "      <td>0</td>\n",
       "      <td>0</td>\n",
       "      <td>112050</td>\n",
       "      <td>0.0000</td>\n",
       "      <td>A36</td>\n",
       "      <td>S</td>\n",
       "      <td>NaN</td>\n",
       "      <td>NaN</td>\n",
       "      <td>Belfast, NI</td>\n",
       "    </tr>\n",
       "    <tr>\n",
       "      <th>8</th>\n",
       "      <td>1</td>\n",
       "      <td>1</td>\n",
       "      <td>Appleton, Mrs. Edward Dale (Charlotte Lamson)</td>\n",
       "      <td>female</td>\n",
       "      <td>53.0000</td>\n",
       "      <td>2</td>\n",
       "      <td>0</td>\n",
       "      <td>11769</td>\n",
       "      <td>51.4792</td>\n",
       "      <td>C101</td>\n",
       "      <td>S</td>\n",
       "      <td>D</td>\n",
       "      <td>NaN</td>\n",
       "      <td>Bayside, Queens, NY</td>\n",
       "    </tr>\n",
       "    <tr>\n",
       "      <th>9</th>\n",
       "      <td>1</td>\n",
       "      <td>0</td>\n",
       "      <td>Artagaveytia, Mr. Ramon</td>\n",
       "      <td>male</td>\n",
       "      <td>71.0000</td>\n",
       "      <td>0</td>\n",
       "      <td>0</td>\n",
       "      <td>PC 17609</td>\n",
       "      <td>49.5042</td>\n",
       "      <td>NaN</td>\n",
       "      <td>C</td>\n",
       "      <td>NaN</td>\n",
       "      <td>22.0</td>\n",
       "      <td>Montevideo, Uruguay</td>\n",
       "    </tr>\n",
       "  </tbody>\n",
       "</table>\n",
       "</div>"
      ],
      "text/plain": [
       "   pclass  survived                                             name     sex  \\\n",
       "0       1         1                    Allen, Miss. Elisabeth Walton  female   \n",
       "1       1         1                   Allison, Master. Hudson Trevor    male   \n",
       "2       1         0                     Allison, Miss. Helen Loraine  female   \n",
       "3       1         0             Allison, Mr. Hudson Joshua Creighton    male   \n",
       "4       1         0  Allison, Mrs. Hudson J C (Bessie Waldo Daniels)  female   \n",
       "5       1         1                              Anderson, Mr. Harry    male   \n",
       "6       1         1                Andrews, Miss. Kornelia Theodosia  female   \n",
       "7       1         0                           Andrews, Mr. Thomas Jr    male   \n",
       "8       1         1    Appleton, Mrs. Edward Dale (Charlotte Lamson)  female   \n",
       "9       1         0                          Artagaveytia, Mr. Ramon    male   \n",
       "\n",
       "       age  sibsp  parch    ticket      fare cabin embarked boat   body  \\\n",
       "0  29.0000      0      0     24160  211.3375    B5        S    2    NaN   \n",
       "1   0.9167      1      2    113781  151.5500   C22        S   11    NaN   \n",
       "2   2.0000      1      2    113781  151.5500   C22        S  NaN    NaN   \n",
       "3  30.0000      1      2    113781  151.5500   C22        S  NaN  135.0   \n",
       "4  25.0000      1      2    113781  151.5500   C22        S  NaN    NaN   \n",
       "5  48.0000      0      0     19952   26.5500   E12        S    3    NaN   \n",
       "6  63.0000      1      0     13502   77.9583    D7        S   10    NaN   \n",
       "7  39.0000      0      0    112050    0.0000   A36        S  NaN    NaN   \n",
       "8  53.0000      2      0     11769   51.4792  C101        S    D    NaN   \n",
       "9  71.0000      0      0  PC 17609   49.5042   NaN        C  NaN   22.0   \n",
       "\n",
       "                         home.dest  \n",
       "0                     St Louis, MO  \n",
       "1  Montreal, PQ / Chesterville, ON  \n",
       "2  Montreal, PQ / Chesterville, ON  \n",
       "3  Montreal, PQ / Chesterville, ON  \n",
       "4  Montreal, PQ / Chesterville, ON  \n",
       "5                     New York, NY  \n",
       "6                       Hudson, NY  \n",
       "7                      Belfast, NI  \n",
       "8              Bayside, Queens, NY  \n",
       "9              Montevideo, Uruguay  "
      ]
     },
     "execution_count": 6,
     "metadata": {},
     "output_type": "execute_result"
    }
   ],
   "source": [
    "# Show first 10 rows\n",
    "\n",
    "data.head(10)"
   ]
  },
  {
   "cell_type": "code",
   "execution_count": 7,
   "id": "7eeab84c",
   "metadata": {},
   "outputs": [
    {
     "name": "stdout",
     "output_type": "stream",
     "text": [
      "Current dataset contains:  14  variables, including:\n",
      "['pclass', 'survived', 'name', 'sex', 'age', 'sibsp', 'parch', 'ticket', 'fare', 'cabin', 'embarked', 'boat', 'body', 'home.dest']\n"
     ]
    }
   ],
   "source": [
    "#Define variables\n",
    "\n",
    "print('Current dataset contains: ',len(data.columns),' variables, including:')\n",
    "print(list(data.columns))\n"
   ]
  },
  {
   "cell_type": "markdown",
   "id": "61cf6442",
   "metadata": {},
   "source": [
    "<h4> Definition of variables: </h4><br>\n",
    "<u> pclass </u> - <i> Ticket class </i><br>\n",
    "<u> survived </u> - <i> Survival </i><br>\n",
    "<u> name </u> - <i> Name </i><br>\n",
    "<u> sex </u> - <i> Sex </i><br>\n",
    "<u> age </u> - <i> Age in years </i><br>\n",
    "<u> sibsp </u> - <i> Number of siblings / spouses aboard the Titanic </i><br>\n",
    "<u> parch </u> - <i> Number of parents / children aboard the Titanic </i><br>\n",
    "<u> ticket </u> - <i> Ticket number </i><br>\n",
    "<u> fare </u> - <i> Passenger fare </i><br>\n",
    "<u> cabin </u> - <i> Cabin number </i><br>\n",
    "<u> embarked </u> - <i> Port of embarkation </i><br>\n",
    "<u> boat </u> - <i> Lifeboat number </i><br>\n",
    "<u> body </u> - <i> Body Identification Number </i><br>\n",
    "<u> home.dest </u> - <i> Home / Destination </i><br>"
   ]
  },
  {
   "cell_type": "markdown",
   "id": "56fe511c",
   "metadata": {},
   "source": [
    "In current project <b> survived </b> is dependent variable."
   ]
  },
  {
   "cell_type": "code",
   "execution_count": 8,
   "id": "f8c82af4",
   "metadata": {},
   "outputs": [
    {
     "name": "stdout",
     "output_type": "stream",
     "text": [
      "The dependent variable contains  2  unique labels: [1 0]\n",
      "Percentage of \"0\" labels: 61.80%\n",
      "Percentage of \"1\" labels: 38.20%\n"
     ]
    },
    {
     "data": {
      "image/png": "[encoded data removed]",
      "text/plain": [
       "<Figure size 640x480 with 1 Axes>"
      ]
     },
     "metadata": {},
     "output_type": "display_data"
    }
   ],
   "source": [
    "#Analysis of the dependent variable\n",
    "\n",
    "print('The dependent variable contains ',len(data['survived'].unique()),' unique labels:', data['survived'].unique())\n",
    "\n",
    "print('Percentage of \"0\" labels: {:.2%}'.format(list(data['survived']).count(0) / len(data['survived'])))\n",
    "print('Percentage of \"1\" labels: {:.2%}'.format(list(data['survived']).count(1) / len(data['survived'])))\n",
    "\n",
    "survived = list()\n",
    "survived.append(list(data['survived']).count(1) / len(data['survived']))\n",
    "survived.append(list(data['survived']).count(0) / len(data['survived']))\n",
    "survived_labels = ['survied', 'non-survived']\n",
    "colors=['springgreen', 'salmon']\n",
    "plt.pie(survived, labels = survived_labels, autopct='%.1f%%', colors = colors)\n",
    "plt.title('Distribution of dependent variable')\n",
    "plt.show()"
   ]
  },
  {
   "cell_type": "markdown",
   "id": "0e7cf8eb",
   "metadata": {},
   "source": [
    "The analysis shows that dependent variable has a binary structure which means that classification model can be used to achieve the goal of the project. However the unequal relation between two labels shows that dataset is not balanced."
   ]
  },
  {
   "cell_type": "code",
   "execution_count": 9,
   "id": "b3ff4140",
   "metadata": {},
   "outputs": [
    {
     "name": "stdout",
     "output_type": "stream",
     "text": [
      "<class 'pandas.core.frame.DataFrame'>\n",
      "RangeIndex: 1309 entries, 0 to 1308\n",
      "Data columns (total 14 columns):\n",
      " #   Column     Non-Null Count  Dtype  \n",
      "---  ------     --------------  -----  \n",
      " 0   pclass     1309 non-null   int64  \n",
      " 1   survived   1309 non-null   int64  \n",
      " 2   name       1309 non-null   object \n",
      " 3   sex        1309 non-null   object \n",
      " 4   age        1046 non-null   float64\n",
      " 5   sibsp      1309 non-null   int64  \n",
      " 6   parch      1309 non-null   int64  \n",
      " 7   ticket     1309 non-null   object \n",
      " 8   fare       1308 non-null   float64\n",
      " 9   cabin      295 non-null    object \n",
      " 10  embarked   1307 non-null   object \n",
      " 11  boat       486 non-null    object \n",
      " 12  body       121 non-null    float64\n",
      " 13  home.dest  745 non-null    object \n",
      "dtypes: float64(3), int64(4), object(7)\n",
      "memory usage: 143.3+ KB\n"
     ]
    }
   ],
   "source": [
    "# Show general information about dataset \n",
    "\n",
    "data.info()"
   ]
  },
  {
   "cell_type": "markdown",
   "id": "e4ff8f59",
   "metadata": {},
   "source": [
    "The dataset contains both numerical and categorical variables with missing data in both groups."
   ]
  },
  {
   "cell_type": "code",
   "execution_count": 10,
   "id": "c7200714",
   "metadata": {},
   "outputs": [
    {
     "data": {
      "text/html": [
       "<div>\n",
       "<style scoped>\n",
       "    .dataframe tbody tr th:only-of-type {\n",
       "        vertical-align: middle;\n",
       "    }\n",
       "\n",
       "    .dataframe tbody tr th {\n",
       "        vertical-align: top;\n",
       "    }\n",
       "\n",
       "    .dataframe thead th {\n",
       "        text-align: right;\n",
       "    }\n",
       "</style>\n",
       "<table border=\"1\" class=\"dataframe\">\n",
       "  <thead>\n",
       "    <tr style=\"text-align: right;\">\n",
       "      <th></th>\n",
       "      <th>count</th>\n",
       "      <th>mean</th>\n",
       "      <th>std</th>\n",
       "      <th>min</th>\n",
       "      <th>25%</th>\n",
       "      <th>50%</th>\n",
       "      <th>75%</th>\n",
       "      <th>max</th>\n",
       "    </tr>\n",
       "  </thead>\n",
       "  <tbody>\n",
       "    <tr>\n",
       "      <th>pclass</th>\n",
       "      <td>1309.0</td>\n",
       "      <td>2.294882</td>\n",
       "      <td>0.837836</td>\n",
       "      <td>1.0000</td>\n",
       "      <td>2.0000</td>\n",
       "      <td>3.0000</td>\n",
       "      <td>3.000</td>\n",
       "      <td>3.0000</td>\n",
       "    </tr>\n",
       "    <tr>\n",
       "      <th>survived</th>\n",
       "      <td>1309.0</td>\n",
       "      <td>0.381971</td>\n",
       "      <td>0.486055</td>\n",
       "      <td>0.0000</td>\n",
       "      <td>0.0000</td>\n",
       "      <td>0.0000</td>\n",
       "      <td>1.000</td>\n",
       "      <td>1.0000</td>\n",
       "    </tr>\n",
       "    <tr>\n",
       "      <th>age</th>\n",
       "      <td>1046.0</td>\n",
       "      <td>29.881135</td>\n",
       "      <td>14.413500</td>\n",
       "      <td>0.1667</td>\n",
       "      <td>21.0000</td>\n",
       "      <td>28.0000</td>\n",
       "      <td>39.000</td>\n",
       "      <td>80.0000</td>\n",
       "    </tr>\n",
       "    <tr>\n",
       "      <th>sibsp</th>\n",
       "      <td>1309.0</td>\n",
       "      <td>0.498854</td>\n",
       "      <td>1.041658</td>\n",
       "      <td>0.0000</td>\n",
       "      <td>0.0000</td>\n",
       "      <td>0.0000</td>\n",
       "      <td>1.000</td>\n",
       "      <td>8.0000</td>\n",
       "    </tr>\n",
       "    <tr>\n",
       "      <th>parch</th>\n",
       "      <td>1309.0</td>\n",
       "      <td>0.385027</td>\n",
       "      <td>0.865560</td>\n",
       "      <td>0.0000</td>\n",
       "      <td>0.0000</td>\n",
       "      <td>0.0000</td>\n",
       "      <td>0.000</td>\n",
       "      <td>9.0000</td>\n",
       "    </tr>\n",
       "    <tr>\n",
       "      <th>fare</th>\n",
       "      <td>1308.0</td>\n",
       "      <td>33.295479</td>\n",
       "      <td>51.758668</td>\n",
       "      <td>0.0000</td>\n",
       "      <td>7.8958</td>\n",
       "      <td>14.4542</td>\n",
       "      <td>31.275</td>\n",
       "      <td>512.3292</td>\n",
       "    </tr>\n",
       "    <tr>\n",
       "      <th>body</th>\n",
       "      <td>121.0</td>\n",
       "      <td>160.809917</td>\n",
       "      <td>97.696922</td>\n",
       "      <td>1.0000</td>\n",
       "      <td>72.0000</td>\n",
       "      <td>155.0000</td>\n",
       "      <td>256.000</td>\n",
       "      <td>328.0000</td>\n",
       "    </tr>\n",
       "  </tbody>\n",
       "</table>\n",
       "</div>"
      ],
      "text/plain": [
       "           count        mean        std     min      25%       50%      75%  \\\n",
       "pclass    1309.0    2.294882   0.837836  1.0000   2.0000    3.0000    3.000   \n",
       "survived  1309.0    0.381971   0.486055  0.0000   0.0000    0.0000    1.000   \n",
       "age       1046.0   29.881135  14.413500  0.1667  21.0000   28.0000   39.000   \n",
       "sibsp     1309.0    0.498854   1.041658  0.0000   0.0000    0.0000    1.000   \n",
       "parch     1309.0    0.385027   0.865560  0.0000   0.0000    0.0000    0.000   \n",
       "fare      1308.0   33.295479  51.758668  0.0000   7.8958   14.4542   31.275   \n",
       "body       121.0  160.809917  97.696922  1.0000  72.0000  155.0000  256.000   \n",
       "\n",
       "               max  \n",
       "pclass      3.0000  \n",
       "survived    1.0000  \n",
       "age        80.0000  \n",
       "sibsp       8.0000  \n",
       "parch       9.0000  \n",
       "fare      512.3292  \n",
       "body      328.0000  "
      ]
     },
     "execution_count": 10,
     "metadata": {},
     "output_type": "execute_result"
    }
   ],
   "source": [
    "# Show basic statistical information\n",
    "\n",
    "data.describe().T"
   ]
  },
  {
   "cell_type": "markdown",
   "id": "96873719",
   "metadata": {},
   "source": [
    "None of the numerical variables has standard deviation equals 0 which could mean that labels inside the variable are all the same. Uncomparable mean values means that variables should be scaled for correct determination of their impact on dependent variable."
   ]
  },
  {
   "cell_type": "markdown",
   "id": "c0484706",
   "metadata": {},
   "source": [
    "<h3> 2.2. Missing values </h3>"
   ]
  },
  {
   "cell_type": "code",
   "execution_count": 11,
   "id": "ba70b940",
   "metadata": {},
   "outputs": [
    {
     "name": "stdout",
     "output_type": "stream",
     "text": [
      "age  = 20.09%\n",
      "fare  = 0.08%\n",
      "cabin  = 77.46%\n",
      "embarked  = 0.15%\n",
      "boat  = 62.87%\n",
      "body  = 90.76%\n",
      "home.dest  = 43.09%\n"
     ]
    }
   ],
   "source": [
    "# List of variables with missing values\n",
    "\n",
    "for variable in data:\n",
    "    percentage_of_missing_values = data[variable].isnull().mean()\n",
    "    if percentage_of_missing_values > 0:\n",
    "        print(variable, ' = {:.2%}'.format(percentage_of_missing_values))"
   ]
  },
  {
   "cell_type": "code",
   "execution_count": 12,
   "id": "7e430c64",
   "metadata": {},
   "outputs": [
    {
     "data": {
      "text/html": [
       "<div>\n",
       "<style scoped>\n",
       "    .dataframe tbody tr th:only-of-type {\n",
       "        vertical-align: middle;\n",
       "    }\n",
       "\n",
       "    .dataframe tbody tr th {\n",
       "        vertical-align: top;\n",
       "    }\n",
       "\n",
       "    .dataframe thead th {\n",
       "        text-align: right;\n",
       "    }\n",
       "</style>\n",
       "<table border=\"1\" class=\"dataframe\">\n",
       "  <thead>\n",
       "    <tr style=\"text-align: right;\">\n",
       "      <th></th>\n",
       "      <th>variable</th>\n",
       "      <th>% of missing values</th>\n",
       "    </tr>\n",
       "  </thead>\n",
       "  <tbody>\n",
       "    <tr>\n",
       "      <th>5</th>\n",
       "      <td>body</td>\n",
       "      <td>0.907563</td>\n",
       "    </tr>\n",
       "    <tr>\n",
       "      <th>2</th>\n",
       "      <td>cabin</td>\n",
       "      <td>0.774637</td>\n",
       "    </tr>\n",
       "    <tr>\n",
       "      <th>4</th>\n",
       "      <td>boat</td>\n",
       "      <td>0.628724</td>\n",
       "    </tr>\n",
       "    <tr>\n",
       "      <th>6</th>\n",
       "      <td>home.dest</td>\n",
       "      <td>0.430863</td>\n",
       "    </tr>\n",
       "    <tr>\n",
       "      <th>0</th>\n",
       "      <td>age</td>\n",
       "      <td>0.200917</td>\n",
       "    </tr>\n",
       "    <tr>\n",
       "      <th>3</th>\n",
       "      <td>embarked</td>\n",
       "      <td>0.001528</td>\n",
       "    </tr>\n",
       "    <tr>\n",
       "      <th>1</th>\n",
       "      <td>fare</td>\n",
       "      <td>0.000764</td>\n",
       "    </tr>\n",
       "  </tbody>\n",
       "</table>\n",
       "</div>"
      ],
      "text/plain": [
       "    variable  % of missing values\n",
       "5       body             0.907563\n",
       "2      cabin             0.774637\n",
       "4       boat             0.628724\n",
       "6  home.dest             0.430863\n",
       "0        age             0.200917\n",
       "3   embarked             0.001528\n",
       "1       fare             0.000764"
      ]
     },
     "execution_count": 12,
     "metadata": {},
     "output_type": "execute_result"
    }
   ],
   "source": [
    "#Table\n",
    "\n",
    "variable_name = data.columns.values.tolist()\n",
    "\n",
    "perc_missing_values = []\n",
    "for variable in data:\n",
    "    number = data[variable].isnull().mean()\n",
    "    perc_missing_values.append(number)\n",
    "    \n",
    "table = pd.DataFrame(\n",
    "{'variable':variable_name,\n",
    "'% of missing values':perc_missing_values})\n",
    "\n",
    "mv_table = table[table['% of missing values'] > 0].reset_index(drop=True)\n",
    "mv_table = mv_table.sort_values('% of missing values', ascending = False)\n",
    "mv_table"
   ]
  },
  {
   "cell_type": "code",
   "execution_count": 13,
   "id": "82915c45",
   "metadata": {},
   "outputs": [
    {
     "data": {
      "text/plain": [
       "Text(0, 0.5, '% of Missing values')"
      ]
     },
     "execution_count": 13,
     "metadata": {},
     "output_type": "execute_result"
    },
    {
     "data": {
      "image/png": "[encoded data removed]",
      "text/plain": [
       "<Figure size 640x480 with 1 Axes>"
      ]
     },
     "metadata": {},
     "output_type": "display_data"
    }
   ],
   "source": [
    "#Figure\n",
    "\n",
    "plt.bar(mv_table['variable'], mv_table['% of missing values'])\n",
    "plt.xticks(mv_table['variable'])\n",
    "plt.yticks(mv_table['% of missing values'])\n",
    "plt.axhline(y = 0.5,color = 'red')\n",
    "plt.xlabel('Variable')\n",
    "plt.ylabel('% of Missing values')"
   ]
  },
  {
   "cell_type": "markdown",
   "id": "976c3074",
   "metadata": {},
   "source": [
    "The variables <b>body</b>, <b>cabin</b> and <b>boat</b> have more than 50% of values missing, which means that they can't be used for proper model developing."
   ]
  },
  {
   "cell_type": "code",
   "execution_count": 14,
   "id": "a7cd7e8e",
   "metadata": {},
   "outputs": [
    {
     "data": {
      "text/html": [
       "<div>\n",
       "<style scoped>\n",
       "    .dataframe tbody tr th:only-of-type {\n",
       "        vertical-align: middle;\n",
       "    }\n",
       "\n",
       "    .dataframe tbody tr th {\n",
       "        vertical-align: top;\n",
       "    }\n",
       "\n",
       "    .dataframe thead th {\n",
       "        text-align: right;\n",
       "    }\n",
       "</style>\n",
       "<table border=\"1\" class=\"dataframe\">\n",
       "  <thead>\n",
       "    <tr style=\"text-align: right;\">\n",
       "      <th></th>\n",
       "      <th>pclass</th>\n",
       "      <th>survived</th>\n",
       "      <th>name</th>\n",
       "      <th>sex</th>\n",
       "      <th>age</th>\n",
       "      <th>sibsp</th>\n",
       "      <th>parch</th>\n",
       "      <th>ticket</th>\n",
       "      <th>fare</th>\n",
       "      <th>embarked</th>\n",
       "      <th>home.dest</th>\n",
       "    </tr>\n",
       "  </thead>\n",
       "  <tbody>\n",
       "    <tr>\n",
       "      <th>0</th>\n",
       "      <td>1</td>\n",
       "      <td>1</td>\n",
       "      <td>Allen, Miss. Elisabeth Walton</td>\n",
       "      <td>female</td>\n",
       "      <td>29.0000</td>\n",
       "      <td>0</td>\n",
       "      <td>0</td>\n",
       "      <td>24160</td>\n",
       "      <td>211.3375</td>\n",
       "      <td>S</td>\n",
       "      <td>St Louis, MO</td>\n",
       "    </tr>\n",
       "    <tr>\n",
       "      <th>1</th>\n",
       "      <td>1</td>\n",
       "      <td>1</td>\n",
       "      <td>Allison, Master. Hudson Trevor</td>\n",
       "      <td>male</td>\n",
       "      <td>0.9167</td>\n",
       "      <td>1</td>\n",
       "      <td>2</td>\n",
       "      <td>113781</td>\n",
       "      <td>151.5500</td>\n",
       "      <td>S</td>\n",
       "      <td>Montreal, PQ / Chesterville, ON</td>\n",
       "    </tr>\n",
       "    <tr>\n",
       "      <th>2</th>\n",
       "      <td>1</td>\n",
       "      <td>0</td>\n",
       "      <td>Allison, Miss. Helen Loraine</td>\n",
       "      <td>female</td>\n",
       "      <td>2.0000</td>\n",
       "      <td>1</td>\n",
       "      <td>2</td>\n",
       "      <td>113781</td>\n",
       "      <td>151.5500</td>\n",
       "      <td>S</td>\n",
       "      <td>Montreal, PQ / Chesterville, ON</td>\n",
       "    </tr>\n",
       "    <tr>\n",
       "      <th>3</th>\n",
       "      <td>1</td>\n",
       "      <td>0</td>\n",
       "      <td>Allison, Mr. Hudson Joshua Creighton</td>\n",
       "      <td>male</td>\n",
       "      <td>30.0000</td>\n",
       "      <td>1</td>\n",
       "      <td>2</td>\n",
       "      <td>113781</td>\n",
       "      <td>151.5500</td>\n",
       "      <td>S</td>\n",
       "      <td>Montreal, PQ / Chesterville, ON</td>\n",
       "    </tr>\n",
       "    <tr>\n",
       "      <th>4</th>\n",
       "      <td>1</td>\n",
       "      <td>0</td>\n",
       "      <td>Allison, Mrs. Hudson J C (Bessie Waldo Daniels)</td>\n",
       "      <td>female</td>\n",
       "      <td>25.0000</td>\n",
       "      <td>1</td>\n",
       "      <td>2</td>\n",
       "      <td>113781</td>\n",
       "      <td>151.5500</td>\n",
       "      <td>S</td>\n",
       "      <td>Montreal, PQ / Chesterville, ON</td>\n",
       "    </tr>\n",
       "  </tbody>\n",
       "</table>\n",
       "</div>"
      ],
      "text/plain": [
       "   pclass  survived                                             name     sex  \\\n",
       "0       1         1                    Allen, Miss. Elisabeth Walton  female   \n",
       "1       1         1                   Allison, Master. Hudson Trevor    male   \n",
       "2       1         0                     Allison, Miss. Helen Loraine  female   \n",
       "3       1         0             Allison, Mr. Hudson Joshua Creighton    male   \n",
       "4       1         0  Allison, Mrs. Hudson J C (Bessie Waldo Daniels)  female   \n",
       "\n",
       "       age  sibsp  parch  ticket      fare embarked  \\\n",
       "0  29.0000      0      0   24160  211.3375        S   \n",
       "1   0.9167      1      2  113781  151.5500        S   \n",
       "2   2.0000      1      2  113781  151.5500        S   \n",
       "3  30.0000      1      2  113781  151.5500        S   \n",
       "4  25.0000      1      2  113781  151.5500        S   \n",
       "\n",
       "                         home.dest  \n",
       "0                     St Louis, MO  \n",
       "1  Montreal, PQ / Chesterville, ON  \n",
       "2  Montreal, PQ / Chesterville, ON  \n",
       "3  Montreal, PQ / Chesterville, ON  \n",
       "4  Montreal, PQ / Chesterville, ON  "
      ]
     },
     "execution_count": 14,
     "metadata": {},
     "output_type": "execute_result"
    }
   ],
   "source": [
    "#drop variables with number of missing values more than 50%\n",
    "\n",
    "data_22 = data.drop(['body','cabin','boat'], axis = 1)\n",
    "data_22.head(5)"
   ]
  },
  {
   "cell_type": "markdown",
   "id": "aaab6715",
   "metadata": {},
   "source": [
    "<h3> 2.3. Types of independent variables </h3>"
   ]
  },
  {
   "cell_type": "code",
   "execution_count": 15,
   "id": "7564c831",
   "metadata": {},
   "outputs": [
    {
     "name": "stdout",
     "output_type": "stream",
     "text": [
      "Current dataset contains:\n",
      "\n",
      "    5 numerical variables, including:\n",
      "        3 discrete variables: ['pclass', 'sibsp', 'parch']\n",
      "        2 continuous variables: ['age', 'fare']\n",
      "\n",
      "    5 categorical variables: ['name', 'sex', 'ticket', 'embarked', 'home.dest']\n"
     ]
    }
   ],
   "source": [
    "#Types of independent variables\n",
    "\n",
    "\n",
    "#numerical: discrete & continuous\n",
    "discrete = [var for var in data_22.columns if data_22[var].dtype != 'O' and var != 'survived' and data_22[var].nunique() < 10]\n",
    "continuous = [var for var in data_22.columns if data_22[var].dtype != 'O' and var !='survived' and var not in discrete]\n",
    "\n",
    "#categorical\n",
    "categorical = [var for var in data_22.columns if data_22[var].dtype == 'O']\n",
    "\n",
    "print('Current dataset contains:')\n",
    "print()\n",
    "print('    {} numerical variables,'.format(len(discrete) + len(continuous)), 'including:')\n",
    "print('        {} discrete variables:'.format(len(discrete)), list(data_22[discrete].columns))\n",
    "print('        {} continuous variables:'.format(len(continuous)), list(data_22[continuous].columns))\n",
    "print()\n",
    "print('    {} categorical variables:'.format(len(categorical)), list(data_22[categorical].columns))"
   ]
  },
  {
   "cell_type": "markdown",
   "id": "645331e8",
   "metadata": {},
   "source": [
    "<h3> 2.4. Rare labels and Cardinality </h3>"
   ]
  },
  {
   "cell_type": "code",
   "execution_count": 16,
   "id": "51547107",
   "metadata": {},
   "outputs": [
    {
     "name": "stdout",
     "output_type": "stream",
     "text": [
      "pclass  - number of labels:  3\n",
      "survived  - number of labels:  2\n",
      "name  - number of labels:  1307\n",
      "sex  - number of labels:  2\n",
      "age  - number of labels:  98\n",
      "sibsp  - number of labels:  7\n",
      "parch  - number of labels:  8\n",
      "ticket  - number of labels:  929\n",
      "fare  - number of labels:  281\n",
      "embarked  - number of labels:  3\n",
      "home.dest  - number of labels:  369\n",
      "\n",
      "Total number of labels:  1309\n"
     ]
    }
   ],
   "source": [
    "#Show number of labels in each variable\n",
    "\n",
    "for variable in data_22:\n",
    "    print(variable, ' - number of labels: ', data_22[variable].nunique())\n",
    "print()    \n",
    "print('Total number of labels: ', len(data_22))"
   ]
  },
  {
   "cell_type": "code",
   "execution_count": 17,
   "id": "b418d966",
   "metadata": {},
   "outputs": [
    {
     "name": "stdout",
     "output_type": "stream",
     "text": [
      "pclass\n",
      "---------\n",
      "   pclass  perc_of_total  survived\n",
      "0       3       0.541635  0.255289\n",
      "1       1       0.246753  0.619195\n",
      "2       2       0.211612  0.429603\n",
      "---------\n",
      "name\n",
      "---------\n",
      "                               name  perc_of_total  survived\n",
      "0              Connolly, Miss. Kate       0.001528       0.5\n",
      "1                  Kelly, Mr. James       0.001528       0.0\n",
      "2     Allen, Miss. Elisabeth Walton       0.000764       1.0\n",
      "3      Ilmakangas, Miss. Ida Livija       0.000764       0.0\n",
      "4                  Ilieff, Mr. Ylio       0.000764       0.0\n",
      "...                             ...            ...       ...\n",
      "1302         Hart, Miss. Eva Miriam       0.000764       1.0\n",
      "1303             Harris, Mr. Walter       0.000764       0.0\n",
      "1304             Harris, Mr. George       0.000764       1.0\n",
      "1305              Harper, Rev. John       0.000764       0.0\n",
      "1306             Zimmerman, Mr. Leo       0.000764       0.0\n",
      "\n",
      "[1307 rows x 3 columns]\n",
      "---------\n",
      "sex\n",
      "---------\n",
      "      sex  perc_of_total  survived\n",
      "0    male       0.644003  0.190985\n",
      "1  female       0.355997  0.727468\n",
      "---------\n",
      "age\n",
      "---------\n",
      "        age  perc_of_total  survived\n",
      "0   24.0000       0.035905  0.468085\n",
      "1   22.0000       0.032850  0.465116\n",
      "2   21.0000       0.031322  0.268293\n",
      "3   30.0000       0.030558  0.375000\n",
      "4   18.0000       0.029794  0.358974\n",
      "..      ...            ...       ...\n",
      "93   0.3333       0.000764  0.000000\n",
      "94  22.5000       0.000764  0.000000\n",
      "95  70.5000       0.000764  0.000000\n",
      "96   0.6667       0.000764  1.000000\n",
      "97  26.5000       0.000764  0.000000\n",
      "\n",
      "[98 rows x 3 columns]\n",
      "---------\n",
      "sibsp\n",
      "---------\n",
      "   sibsp  perc_of_total  survived\n",
      "0      0       0.680672  0.346801\n",
      "1      1       0.243697  0.510972\n",
      "2      2       0.032086  0.452381\n",
      "3      4       0.016807  0.136364\n",
      "4      3       0.015279  0.300000\n",
      "5      8       0.006875  0.000000\n",
      "6      5       0.004584  0.000000\n",
      "---------\n",
      "parch\n",
      "---------\n",
      "   parch  perc_of_total  survived\n",
      "0      0       0.765470  0.335329\n",
      "1      1       0.129870  0.588235\n",
      "2      2       0.086325  0.504425\n",
      "3      3       0.006112  0.625000\n",
      "4      4       0.004584  0.166667\n",
      "5      5       0.004584  0.166667\n",
      "6      6       0.001528  0.000000\n",
      "7      9       0.001528  0.000000\n",
      "---------\n",
      "ticket\n",
      "---------\n",
      "       ticket  perc_of_total  survived\n",
      "0    CA. 2343       0.008403  0.000000\n",
      "1        1601       0.006112  0.750000\n",
      "2     CA 2144       0.006112  0.000000\n",
      "3    PC 17608       0.005348  0.857143\n",
      "4      347077       0.005348  0.428571\n",
      "..        ...            ...       ...\n",
      "924    373450       0.000764  0.000000\n",
      "925      2223       0.000764  0.000000\n",
      "926    350046       0.000764  1.000000\n",
      "927   3101281       0.000764  1.000000\n",
      "928    315082       0.000764  0.000000\n",
      "\n",
      "[929 rows x 3 columns]\n",
      "---------\n",
      "fare\n",
      "---------\n",
      "        fare  perc_of_total  survived\n",
      "0     8.0500       0.045837  0.150000\n",
      "1    13.0000       0.045073  0.288136\n",
      "2     7.7500       0.042017  0.309091\n",
      "3    26.0000       0.038197  0.380000\n",
      "4     7.8958       0.037433  0.020408\n",
      "..       ...            ...       ...\n",
      "276  15.0500       0.000764  0.000000\n",
      "277   9.6875       0.000764  0.000000\n",
      "278  15.5792       0.000764  0.000000\n",
      "279  12.0000       0.000764  1.000000\n",
      "280   7.8750       0.000764  0.000000\n",
      "\n",
      "[281 rows x 3 columns]\n",
      "---------\n",
      "cabin\n",
      "---------\n",
      "    cabin  perc_of_total  survived\n",
      "0       F       0.006112  0.375000\n",
      "1     C23       0.004584  0.666667\n",
      "2      G6       0.003820  0.600000\n",
      "3     B57       0.003820  0.800000\n",
      "4     C78       0.003056  0.750000\n",
      "..    ...            ...       ...\n",
      "176  B102       0.000764  0.000000\n",
      "177   B39       0.000764  1.000000\n",
      "178   D40       0.000764  1.000000\n",
      "179   D34       0.000764  0.000000\n",
      "180   F38       0.000764  0.000000\n",
      "\n",
      "[181 rows x 3 columns]\n",
      "---------\n",
      "embarked\n",
      "---------\n",
      "  embarked  perc_of_total  survived\n",
      "0        S       0.698243  0.332604\n",
      "1        C       0.206264  0.555556\n",
      "2        Q       0.093965  0.357724\n",
      "---------\n",
      "boat\n",
      "---------\n",
      "       boat  perc_of_total  survived\n",
      "0        13       0.029794  1.000000\n",
      "1         C       0.029030  0.973684\n",
      "2        15       0.028266  1.000000\n",
      "3        14       0.025210  0.969697\n",
      "4         4       0.023682  1.000000\n",
      "5        10       0.022154  1.000000\n",
      "6         5       0.020626  1.000000\n",
      "7         3       0.019862  1.000000\n",
      "8         9       0.019099  1.000000\n",
      "9        11       0.019099  1.000000\n",
      "10       16       0.017571  1.000000\n",
      "11        8       0.017571  1.000000\n",
      "12        7       0.017571  1.000000\n",
      "13        D       0.015279  0.950000\n",
      "14        6       0.015279  1.000000\n",
      "15       12       0.014515  0.947368\n",
      "16        2       0.009931  1.000000\n",
      "17        A       0.008403  0.636364\n",
      "18        B       0.006875  0.888889\n",
      "19        1       0.003820  1.000000\n",
      "20      5 7       0.001528  1.000000\n",
      "21      C D       0.001528  1.000000\n",
      "22    13 15       0.001528  1.000000\n",
      "23      5 9       0.000764  1.000000\n",
      "24     8 10       0.000764  1.000000\n",
      "25  13 15 B       0.000764  1.000000\n",
      "26    15 16       0.000764  1.000000\n",
      "---------\n",
      "body\n",
      "---------\n",
      "      body  perc_of_total  survived\n",
      "0    135.0       0.000764       0.0\n",
      "1    101.0       0.000764       0.0\n",
      "2     37.0       0.000764       0.0\n",
      "3    285.0       0.000764       0.0\n",
      "4    156.0       0.000764       0.0\n",
      "..     ...            ...       ...\n",
      "116   97.0       0.000764       0.0\n",
      "117  174.0       0.000764       0.0\n",
      "118  169.0       0.000764       0.0\n",
      "119  245.0       0.000764       0.0\n",
      "120  304.0       0.000764       0.0\n",
      "\n",
      "[121 rows x 3 columns]\n",
      "---------\n",
      "home.dest\n",
      "---------\n",
      "                                        home.dest  perc_of_total  survived\n",
      "0                                    New York, NY       0.048892  0.625000\n",
      "1                                          London       0.010695  0.357143\n",
      "2                                    Montreal, PQ       0.007639  0.400000\n",
      "3                                   Paris, France       0.006875  0.888889\n",
      "4                            Cornwall / Akron, OH       0.006875  0.888889\n",
      "..                                            ...            ...       ...\n",
      "364                               Chelsea, London       0.000764  1.000000\n",
      "365                 Harrow-on-the-Hill, Middlesex       0.000764  0.000000\n",
      "366                           Copenhagen, Denmark       0.000764  0.000000\n",
      "367  Guernsey / Montclair, NJ and/or Toledo, Ohio       0.000764  0.000000\n",
      "368                Antwerp, Belgium / Stanton, OH       0.000764  0.000000\n",
      "\n",
      "[369 rows x 3 columns]\n",
      "---------\n"
     ]
    }
   ],
   "source": [
    "#Show the share of each label and mean value of dependent variable\n",
    "\n",
    "for variable in data:\n",
    "    if variable != 'survived':\n",
    "        temp_df = calculate_mean_target_per_category(data,variable)\n",
    "        print(variable)\n",
    "        print('---------')\n",
    "        print(temp_df)\n",
    "        print('---------')"
   ]
  },
  {
   "cell_type": "code",
   "execution_count": 18,
   "id": "6c091dfe",
   "metadata": {},
   "outputs": [
    {
     "name": "stdout",
     "output_type": "stream",
     "text": [
      "Cardinality of categorical variables\n",
      "\n",
      "Number of categories in the variable  \" name \"  = 1307\n",
      "Number of categories in the variable  \" sex \"  = 2\n",
      "Number of categories in the variable  \" ticket \"  = 929\n",
      "Number of categories in the variable  \" embarked \"  = 4\n",
      "Number of categories in the variable  \" home.dest \"  = 370\n"
     ]
    }
   ],
   "source": [
    "#Show cardinality\n",
    "\n",
    "print('Cardinality of categorical variables')\n",
    "print()\n",
    "\n",
    "for variable in data_22[categorical].columns:\n",
    "    print('Number of categories in the variable  \"',variable,'\"  = {}'.format(len(data_22[variable].unique())))"
   ]
  },
  {
   "cell_type": "code",
   "execution_count": 19,
   "id": "9c9909d4",
   "metadata": {},
   "outputs": [
    {
     "name": "stdout",
     "output_type": "stream",
     "text": [
      "Correlation coefficient between \"survived\" and \"name\":  -0.015037773283035832\n"
     ]
    }
   ],
   "source": [
    "#Survived-Name correlation\n",
    "count_map = data_22['name'].value_counts().to_dict()\n",
    "data_22['name'] = data_22['name'].map(count_map)\n",
    "print('Correlation coefficient between \"survived\" and \"name\": ',data_22['survived'].corr(data_22['name']))"
   ]
  },
  {
   "cell_type": "code",
   "execution_count": 20,
   "id": "a0ef7d52",
   "metadata": {},
   "outputs": [
    {
     "name": "stdout",
     "output_type": "stream",
     "text": [
      "Correlation coefficient between \"survived\" and \"ticket\":  0.07529329106464326\n"
     ]
    }
   ],
   "source": [
    "#Survived-ticket correlation\n",
    "count_map = data_22['ticket'].value_counts().to_dict()\n",
    "data_22['ticket'] = data_22['ticket'].map(count_map)\n",
    "print('Correlation coefficient between \"survived\" and \"ticket\": ',data_22['survived'].corr(data_22['ticket']))"
   ]
  },
  {
   "cell_type": "markdown",
   "id": "1e755767",
   "metadata": {},
   "source": [
    "Variables 'name' and 'ticket' have high cardinality but their correlation coefficient with dependent variable is less than 0.1, so they can be taken out from dataset."
   ]
  },
  {
   "cell_type": "code",
   "execution_count": 21,
   "id": "24227dc8",
   "metadata": {},
   "outputs": [],
   "source": [
    "data_24 = data_22.drop(['name', 'ticket'], axis = 1)"
   ]
  },
  {
   "cell_type": "code",
   "execution_count": 22,
   "id": "4e197a01",
   "metadata": {},
   "outputs": [
    {
     "data": {
      "text/html": [
       "<div>\n",
       "<style scoped>\n",
       "    .dataframe tbody tr th:only-of-type {\n",
       "        vertical-align: middle;\n",
       "    }\n",
       "\n",
       "    .dataframe tbody tr th {\n",
       "        vertical-align: top;\n",
       "    }\n",
       "\n",
       "    .dataframe thead th {\n",
       "        text-align: right;\n",
       "    }\n",
       "</style>\n",
       "<table border=\"1\" class=\"dataframe\">\n",
       "  <thead>\n",
       "    <tr style=\"text-align: right;\">\n",
       "      <th></th>\n",
       "      <th>pclass</th>\n",
       "      <th>survived</th>\n",
       "      <th>sex</th>\n",
       "      <th>age</th>\n",
       "      <th>sibsp</th>\n",
       "      <th>parch</th>\n",
       "      <th>fare</th>\n",
       "      <th>embarked</th>\n",
       "      <th>home.dest</th>\n",
       "    </tr>\n",
       "  </thead>\n",
       "  <tbody>\n",
       "    <tr>\n",
       "      <th>0</th>\n",
       "      <td>1</td>\n",
       "      <td>1</td>\n",
       "      <td>female</td>\n",
       "      <td>29.0000</td>\n",
       "      <td>0</td>\n",
       "      <td>0</td>\n",
       "      <td>211.3375</td>\n",
       "      <td>S</td>\n",
       "      <td>St Louis, MO</td>\n",
       "    </tr>\n",
       "    <tr>\n",
       "      <th>1</th>\n",
       "      <td>1</td>\n",
       "      <td>1</td>\n",
       "      <td>male</td>\n",
       "      <td>0.9167</td>\n",
       "      <td>1</td>\n",
       "      <td>2</td>\n",
       "      <td>151.5500</td>\n",
       "      <td>S</td>\n",
       "      <td>Montreal, PQ / Chesterville, ON</td>\n",
       "    </tr>\n",
       "    <tr>\n",
       "      <th>2</th>\n",
       "      <td>1</td>\n",
       "      <td>0</td>\n",
       "      <td>female</td>\n",
       "      <td>2.0000</td>\n",
       "      <td>1</td>\n",
       "      <td>2</td>\n",
       "      <td>151.5500</td>\n",
       "      <td>S</td>\n",
       "      <td>Montreal, PQ / Chesterville, ON</td>\n",
       "    </tr>\n",
       "    <tr>\n",
       "      <th>3</th>\n",
       "      <td>1</td>\n",
       "      <td>0</td>\n",
       "      <td>male</td>\n",
       "      <td>30.0000</td>\n",
       "      <td>1</td>\n",
       "      <td>2</td>\n",
       "      <td>151.5500</td>\n",
       "      <td>S</td>\n",
       "      <td>Montreal, PQ / Chesterville, ON</td>\n",
       "    </tr>\n",
       "    <tr>\n",
       "      <th>4</th>\n",
       "      <td>1</td>\n",
       "      <td>0</td>\n",
       "      <td>female</td>\n",
       "      <td>25.0000</td>\n",
       "      <td>1</td>\n",
       "      <td>2</td>\n",
       "      <td>151.5500</td>\n",
       "      <td>S</td>\n",
       "      <td>Montreal, PQ / Chesterville, ON</td>\n",
       "    </tr>\n",
       "  </tbody>\n",
       "</table>\n",
       "</div>"
      ],
      "text/plain": [
       "   pclass  survived     sex      age  sibsp  parch      fare embarked  \\\n",
       "0       1         1  female  29.0000      0      0  211.3375        S   \n",
       "1       1         1    male   0.9167      1      2  151.5500        S   \n",
       "2       1         0  female   2.0000      1      2  151.5500        S   \n",
       "3       1         0    male  30.0000      1      2  151.5500        S   \n",
       "4       1         0  female  25.0000      1      2  151.5500        S   \n",
       "\n",
       "                         home.dest  \n",
       "0                     St Louis, MO  \n",
       "1  Montreal, PQ / Chesterville, ON  \n",
       "2  Montreal, PQ / Chesterville, ON  \n",
       "3  Montreal, PQ / Chesterville, ON  \n",
       "4  Montreal, PQ / Chesterville, ON  "
      ]
     },
     "execution_count": 22,
     "metadata": {},
     "output_type": "execute_result"
    }
   ],
   "source": [
    "data_24.head(5)"
   ]
  },
  {
   "cell_type": "markdown",
   "id": "8d332a43",
   "metadata": {},
   "source": [
    "<h3> 2.5. Distribution and outliers </h3>"
   ]
  },
  {
   "cell_type": "code",
   "execution_count": 23,
   "id": "42505c79",
   "metadata": {},
   "outputs": [],
   "source": [
    "#Redefine variables after data drop\n",
    "\n",
    "#numerical: discrete & continuous\n",
    "discrete = [var for var in data_24.columns if data_24[var].dtype != 'O' and var != 'survived' and data_24[var].nunique() < 10]\n",
    "continuous = [var for var in data_24.columns if data_24[var].dtype != 'O' and var !=' survived' and var not in discrete]\n",
    "\n",
    "#categorical\n",
    "categorical = [var for var in data_24.columns if data_24[var].dtype == 'O']"
   ]
  },
  {
   "cell_type": "code",
   "execution_count": 24,
   "id": "ad08186f",
   "metadata": {},
   "outputs": [
    {
     "name": "stdout",
     "output_type": "stream",
     "text": [
      "pvalue for numerical variables:\n",
      "\n",
      "variable \" pclass \" is not distributed normally, pvalue is less than 0.05 ( pvalue =  0.0000 )\n",
      "variable \" survived \" is not distributed normally, pvalue is less than 0.05 ( pvalue =  0.0000 )\n",
      "variable \" age \" is not distributed normally, pvalue is less than 0.05 ( pvalue =  0.0000 )\n",
      "variable \" sibsp \" is not distributed normally, pvalue is less than 0.05 ( pvalue =  0.0000 )\n",
      "variable \" parch \" is not distributed normally, pvalue is less than 0.05 ( pvalue =  0.0000 )\n",
      "variable \" fare \" is not distributed normally, pvalue is less than 0.05 ( pvalue =  0.0000 )\n"
     ]
    }
   ],
   "source": [
    "#Shapiro-Wilk test for distirbution analysis\n",
    "\n",
    "print('pvalue for numerical variables:')\n",
    "print()\n",
    "for variable in data_24:\n",
    "    if variable in data_24[discrete]:\n",
    "        variable_swt = data_24[variable].dropna()\n",
    "        if shapiro(variable_swt).pvalue > 0.05:\n",
    "            print('variable \"',variable, '\" is distributed normally, pvalue is more than 0.05 ( pvalue = ',format(shapiro(variable_swt).pvalue, '.4f'),')')\n",
    "        else:\n",
    "            print('variable \"',variable, '\" is not distributed normally, pvalue is less than 0.05 ( pvalue = ',format(shapiro(variable_swt).pvalue, '.4f'),')')\n",
    "    if variable in data_24[continuous]:\n",
    "        variable_swt = data_24[variable].dropna()\n",
    "        if shapiro(variable_swt).pvalue > 0.05:\n",
    "            print('variable \"',variable, '\" is distributed normally, pvalue is more than 0.05 ( pvalue = ',format(shapiro(variable_swt).pvalue, '.4f'),')')\n",
    "        else:\n",
    "            print('variable \"',variable, '\" is not distributed normally, pvalue is less than 0.05 ( pvalue = ',format(shapiro(variable_swt).pvalue, '.4f'),')')\n",
    "   "
   ]
  },
  {
   "cell_type": "markdown",
   "id": "8ec787a7",
   "metadata": {},
   "source": [
    "<b> Distribution visualisation"
   ]
  },
  {
   "cell_type": "code",
   "execution_count": 25,
   "id": "d8095f31",
   "metadata": {},
   "outputs": [
    {
     "data": {
      "image/png": "[encoded data removed]",
      "text/plain": [
       "<Figure size 640x480 with 1 Axes>"
      ]
     },
     "metadata": {},
     "output_type": "display_data"
    },
    {
     "data": {
      "image/png": "[encoded data removed]",
      "text/plain": [
       "<Figure size 640x480 with 1 Axes>"
      ]
     },
     "metadata": {},
     "output_type": "display_data"
    }
   ],
   "source": [
    "#Distribution of continuous variables\n",
    "\n",
    "for variable in data_24:\n",
    "    if variable in data_24[continuous] and variable != 'survived':\n",
    "        plt.hist(data_24[variable], edgecolor = 'black', bins=30)\n",
    "        plt.xlabel(variable)\n",
    "        plt.show()"
   ]
  },
  {
   "cell_type": "code",
   "execution_count": 26,
   "id": "1c3dd17a",
   "metadata": {},
   "outputs": [
    {
     "data": {
      "image/png": "[encoded data removed]",
      "text/plain": [
       "<Figure size 640x480 with 1 Axes>"
      ]
     },
     "metadata": {},
     "output_type": "display_data"
    },
    {
     "data": {
      "image/png": "[encoded data removed]",
      "text/plain": [
       "<Figure size 640x480 with 1 Axes>"
      ]
     },
     "metadata": {},
     "output_type": "display_data"
    },
    {
     "data": {
      "image/png": "[encoded data removed]",
      "text/plain": [
       "<Figure size 640x480 with 1 Axes>"
      ]
     },
     "metadata": {},
     "output_type": "display_data"
    }
   ],
   "source": [
    "#Distribution of discrete variables\n",
    "\n",
    "for variable in data_24:\n",
    "    if variable in data_24[discrete] and variable != 'survived':\n",
    "        plt.hist(data_24[variable], edgecolor = 'black', bins=15)\n",
    "        plt.xlabel(variable)\n",
    "        plt.show()"
   ]
  },
  {
   "cell_type": "markdown",
   "id": "8345452d",
   "metadata": {},
   "source": [
    "The analysis above shows that all numerical variables have skewed distribution."
   ]
  },
  {
   "cell_type": "code",
   "execution_count": 27,
   "id": "042dfd3a",
   "metadata": {},
   "outputs": [
    {
     "name": "stdout",
     "output_type": "stream",
     "text": [
      "pclass (0.5, 4.5)\n",
      "sibsp (-1.5, 2.5)\n",
      "parch (0.0, 0.0)\n"
     ]
    }
   ],
   "source": [
    "for variable in data_24[discrete]:\n",
    "    distance = 1.5\n",
    "    print(variable, find_skewed_boundaries(data, variable, distance))"
   ]
  },
  {
   "cell_type": "code",
   "execution_count": 28,
   "id": "8a3dacff",
   "metadata": {},
   "outputs": [
    {
     "data": {
      "text/plain": [
       "<Axes: >"
      ]
     },
     "execution_count": 28,
     "metadata": {},
     "output_type": "execute_result"
    },
    {
     "data": {
      "image/png": "[encoded data removed]",
      "text/plain": [
       "<Figure size 800x400 with 1 Axes>"
      ]
     },
     "metadata": {},
     "output_type": "display_data"
    }
   ],
   "source": [
    "# Outliers in continuous variables\n",
    "\n",
    "data_24[continuous].boxplot(figsize = (8, 4))"
   ]
  },
  {
   "cell_type": "code",
   "execution_count": 29,
   "id": "d92f4df6",
   "metadata": {},
   "outputs": [
    {
     "data": {
      "text/plain": [
       "<Axes: >"
      ]
     },
     "execution_count": 29,
     "metadata": {},
     "output_type": "execute_result"
    },
    {
     "data": {
      "image/png": "[encoded data removed]",
      "text/plain": [
       "<Figure size 800x400 with 1 Axes>"
      ]
     },
     "metadata": {},
     "output_type": "display_data"
    }
   ],
   "source": [
    "# Outliers in discrete variables\n",
    "\n",
    "data_24[discrete].boxplot(figsize = (8, 4))"
   ]
  },
  {
   "cell_type": "markdown",
   "id": "7f1de0bc",
   "metadata": {},
   "source": [
    "According to the analysis 4 out of 5 numerical variables have outliers"
   ]
  },
  {
   "cell_type": "markdown",
   "id": "8660a2f0",
   "metadata": {},
   "source": [
    "<center><h2> 3. Data preprocessing & Feature engineering </h2><center>"
   ]
  },
  {
   "cell_type": "markdown",
   "id": "e66842d3",
   "metadata": {},
   "source": [
    "<h3>3.1. Divide dataset on Train & Test sets </h3>"
   ]
  },
  {
   "cell_type": "code",
   "execution_count": 30,
   "id": "573646b4",
   "metadata": {},
   "outputs": [
    {
     "data": {
      "text/plain": [
       "((916, 8), (393, 8))"
      ]
     },
     "execution_count": 30,
     "metadata": {},
     "output_type": "execute_result"
    }
   ],
   "source": [
    "X_train, X_test, y_train, y_test = train_test_split(\n",
    "    data_24.drop(['survived'], axis = 1),\n",
    "    data_24['survived'],\n",
    "    test_size = 0.3,\n",
    "    random_state = 0\n",
    ")\n",
    "\n",
    "X_train.shape, X_test.shape"
   ]
  },
  {
   "cell_type": "markdown",
   "id": "3c5a4625",
   "metadata": {},
   "source": [
    "<h3>3.2. Missing values imputation</h3>"
   ]
  },
  {
   "cell_type": "code",
   "execution_count": 31,
   "id": "86ac7c3d",
   "metadata": {},
   "outputs": [
    {
     "data": {
      "text/plain": [
       "pclass    0.000000\n",
       "age       0.191048\n",
       "sibsp     0.000000\n",
       "parch     0.000000\n",
       "fare      0.000000\n",
       "dtype: float64"
      ]
     },
     "execution_count": 31,
     "metadata": {},
     "output_type": "execute_result"
    }
   ],
   "source": [
    "#Missing values imputation in numerical variables\n",
    "\n",
    "X_train.select_dtypes(exclude = 'O').isnull().mean()"
   ]
  },
  {
   "cell_type": "markdown",
   "id": "8f0d5044",
   "metadata": {},
   "source": [
    "Only one variable ('age') in numerical variables in Train set has missing values."
   ]
  },
  {
   "cell_type": "code",
   "execution_count": 32,
   "id": "cd7a5947",
   "metadata": {},
   "outputs": [
    {
     "name": "stdout",
     "output_type": "stream",
     "text": [
      "5.141604919600695e-09\n",
      "1.191000109881826e-15\n",
      "3.485340069370963e-17\n"
     ]
    },
    {
     "data": {
      "image/png": "[encoded data removed]",
      "text/plain": [
       "<Figure size 640x480 with 1 Axes>"
      ]
     },
     "metadata": {},
     "output_type": "display_data"
    },
    {
     "data": {
      "image/png": "[encoded data removed]",
      "text/plain": [
       "<Figure size 640x480 with 1 Axes>"
      ]
     },
     "metadata": {},
     "output_type": "display_data"
    },
    {
     "data": {
      "image/png": "[encoded data removed]",
      "text/plain": [
       "<Figure size 640x480 with 1 Axes>"
      ]
     },
     "metadata": {},
     "output_type": "display_data"
    }
   ],
   "source": [
    "# MeanMedianImputer('mean')\n",
    "mean = X_train['age'].mean()\n",
    "X_train['age_mean'] = X_train['age'].fillna(mean)\n",
    "\n",
    "# MeanMedianImputer ('median')\n",
    "median = X_train['age'].median()\n",
    "X_train['age_median'] = X_train['age'].fillna(median)\n",
    "\n",
    "print(shapiro(X_train['age'].dropna()).pvalue)\n",
    "print(shapiro(X_train['age_mean']).pvalue)\n",
    "print(shapiro(X_train['age_median']).pvalue)\n",
    "\n",
    "# Visualization of distribution of variable before and after imputation methods\n",
    "\n",
    "plt.hist(X_train['age'], edgecolor = 'black', bins=30)\n",
    "plt.xlabel('age')\n",
    "plt.show()\n",
    "\n",
    "plt.hist(X_train['age_mean'], edgecolor = 'black', bins=30)\n",
    "plt.xlabel('age_mean')\n",
    "plt.show()\n",
    "\n",
    "plt.hist(X_train['age_median'], edgecolor = 'black', bins=30)\n",
    "plt.xlabel('age_median')\n",
    "plt.show()"
   ]
  },
  {
   "cell_type": "code",
   "execution_count": 33,
   "id": "69520e76",
   "metadata": {},
   "outputs": [
    {
     "data": {
      "text/html": [
       "<div>\n",
       "<style scoped>\n",
       "    .dataframe tbody tr th:only-of-type {\n",
       "        vertical-align: middle;\n",
       "    }\n",
       "\n",
       "    .dataframe tbody tr th {\n",
       "        vertical-align: top;\n",
       "    }\n",
       "\n",
       "    .dataframe thead th {\n",
       "        text-align: right;\n",
       "    }\n",
       "</style>\n",
       "<table border=\"1\" class=\"dataframe\">\n",
       "  <thead>\n",
       "    <tr style=\"text-align: right;\">\n",
       "      <th></th>\n",
       "      <th>pclass</th>\n",
       "      <th>sex</th>\n",
       "      <th>age</th>\n",
       "      <th>sibsp</th>\n",
       "      <th>parch</th>\n",
       "      <th>fare</th>\n",
       "      <th>embarked</th>\n",
       "      <th>home.dest</th>\n",
       "      <th>age_mean</th>\n",
       "      <th>age_median</th>\n",
       "    </tr>\n",
       "  </thead>\n",
       "  <tbody>\n",
       "    <tr>\n",
       "      <th>501</th>\n",
       "      <td>2</td>\n",
       "      <td>female</td>\n",
       "      <td>13.0000</td>\n",
       "      <td>0</td>\n",
       "      <td>1</td>\n",
       "      <td>19.5000</td>\n",
       "      <td>S</td>\n",
       "      <td>England / Bennington, VT</td>\n",
       "      <td>13.000000</td>\n",
       "      <td>13.0000</td>\n",
       "    </tr>\n",
       "    <tr>\n",
       "      <th>588</th>\n",
       "      <td>2</td>\n",
       "      <td>female</td>\n",
       "      <td>4.0000</td>\n",
       "      <td>1</td>\n",
       "      <td>1</td>\n",
       "      <td>23.0000</td>\n",
       "      <td>S</td>\n",
       "      <td>Cornwall / Akron, OH</td>\n",
       "      <td>4.000000</td>\n",
       "      <td>4.0000</td>\n",
       "    </tr>\n",
       "    <tr>\n",
       "      <th>402</th>\n",
       "      <td>2</td>\n",
       "      <td>female</td>\n",
       "      <td>30.0000</td>\n",
       "      <td>1</td>\n",
       "      <td>0</td>\n",
       "      <td>13.8583</td>\n",
       "      <td>C</td>\n",
       "      <td>Barcelona, Spain / Havana, Cuba</td>\n",
       "      <td>30.000000</td>\n",
       "      <td>30.0000</td>\n",
       "    </tr>\n",
       "    <tr>\n",
       "      <th>1193</th>\n",
       "      <td>3</td>\n",
       "      <td>male</td>\n",
       "      <td>NaN</td>\n",
       "      <td>0</td>\n",
       "      <td>0</td>\n",
       "      <td>7.7250</td>\n",
       "      <td>Q</td>\n",
       "      <td>NaN</td>\n",
       "      <td>30.231444</td>\n",
       "      <td>28.0000</td>\n",
       "    </tr>\n",
       "    <tr>\n",
       "      <th>686</th>\n",
       "      <td>3</td>\n",
       "      <td>female</td>\n",
       "      <td>22.0000</td>\n",
       "      <td>0</td>\n",
       "      <td>0</td>\n",
       "      <td>7.7250</td>\n",
       "      <td>Q</td>\n",
       "      <td>Kingwilliamstown, Co Cork, Ireland Glens Falls...</td>\n",
       "      <td>22.000000</td>\n",
       "      <td>22.0000</td>\n",
       "    </tr>\n",
       "    <tr>\n",
       "      <th>...</th>\n",
       "      <td>...</td>\n",
       "      <td>...</td>\n",
       "      <td>...</td>\n",
       "      <td>...</td>\n",
       "      <td>...</td>\n",
       "      <td>...</td>\n",
       "      <td>...</td>\n",
       "      <td>...</td>\n",
       "      <td>...</td>\n",
       "      <td>...</td>\n",
       "    </tr>\n",
       "    <tr>\n",
       "      <th>763</th>\n",
       "      <td>3</td>\n",
       "      <td>female</td>\n",
       "      <td>0.1667</td>\n",
       "      <td>1</td>\n",
       "      <td>2</td>\n",
       "      <td>20.5750</td>\n",
       "      <td>S</td>\n",
       "      <td>Devon, England Wichita, KS</td>\n",
       "      <td>0.166700</td>\n",
       "      <td>0.1667</td>\n",
       "    </tr>\n",
       "    <tr>\n",
       "      <th>835</th>\n",
       "      <td>3</td>\n",
       "      <td>male</td>\n",
       "      <td>NaN</td>\n",
       "      <td>0</td>\n",
       "      <td>0</td>\n",
       "      <td>8.0500</td>\n",
       "      <td>S</td>\n",
       "      <td>NaN</td>\n",
       "      <td>30.231444</td>\n",
       "      <td>28.0000</td>\n",
       "    </tr>\n",
       "    <tr>\n",
       "      <th>1216</th>\n",
       "      <td>3</td>\n",
       "      <td>female</td>\n",
       "      <td>NaN</td>\n",
       "      <td>0</td>\n",
       "      <td>0</td>\n",
       "      <td>7.7333</td>\n",
       "      <td>Q</td>\n",
       "      <td>NaN</td>\n",
       "      <td>30.231444</td>\n",
       "      <td>28.0000</td>\n",
       "    </tr>\n",
       "    <tr>\n",
       "      <th>559</th>\n",
       "      <td>2</td>\n",
       "      <td>female</td>\n",
       "      <td>20.0000</td>\n",
       "      <td>0</td>\n",
       "      <td>0</td>\n",
       "      <td>36.7500</td>\n",
       "      <td>S</td>\n",
       "      <td>Cornwall / Hancock, MI</td>\n",
       "      <td>20.000000</td>\n",
       "      <td>20.0000</td>\n",
       "    </tr>\n",
       "    <tr>\n",
       "      <th>684</th>\n",
       "      <td>3</td>\n",
       "      <td>female</td>\n",
       "      <td>32.0000</td>\n",
       "      <td>1</td>\n",
       "      <td>1</td>\n",
       "      <td>15.5000</td>\n",
       "      <td>Q</td>\n",
       "      <td>Ireland Chicago, IL</td>\n",
       "      <td>32.000000</td>\n",
       "      <td>32.0000</td>\n",
       "    </tr>\n",
       "  </tbody>\n",
       "</table>\n",
       "<p>916 rows × 10 columns</p>\n",
       "</div>"
      ],
      "text/plain": [
       "      pclass     sex      age  sibsp  parch     fare embarked  \\\n",
       "501        2  female  13.0000      0      1  19.5000        S   \n",
       "588        2  female   4.0000      1      1  23.0000        S   \n",
       "402        2  female  30.0000      1      0  13.8583        C   \n",
       "1193       3    male      NaN      0      0   7.7250        Q   \n",
       "686        3  female  22.0000      0      0   7.7250        Q   \n",
       "...      ...     ...      ...    ...    ...      ...      ...   \n",
       "763        3  female   0.1667      1      2  20.5750        S   \n",
       "835        3    male      NaN      0      0   8.0500        S   \n",
       "1216       3  female      NaN      0      0   7.7333        Q   \n",
       "559        2  female  20.0000      0      0  36.7500        S   \n",
       "684        3  female  32.0000      1      1  15.5000        Q   \n",
       "\n",
       "                                              home.dest   age_mean  age_median  \n",
       "501                            England / Bennington, VT  13.000000     13.0000  \n",
       "588                                Cornwall / Akron, OH   4.000000      4.0000  \n",
       "402                     Barcelona, Spain / Havana, Cuba  30.000000     30.0000  \n",
       "1193                                                NaN  30.231444     28.0000  \n",
       "686   Kingwilliamstown, Co Cork, Ireland Glens Falls...  22.000000     22.0000  \n",
       "...                                                 ...        ...         ...  \n",
       "763                          Devon, England Wichita, KS   0.166700      0.1667  \n",
       "835                                                 NaN  30.231444     28.0000  \n",
       "1216                                                NaN  30.231444     28.0000  \n",
       "559                              Cornwall / Hancock, MI  20.000000     20.0000  \n",
       "684                                 Ireland Chicago, IL  32.000000     32.0000  \n",
       "\n",
       "[916 rows x 10 columns]"
      ]
     },
     "execution_count": 33,
     "metadata": {},
     "output_type": "execute_result"
    }
   ],
   "source": [
    "X_train_32 = X_train\n",
    "X_train_32"
   ]
  },
  {
   "cell_type": "code",
   "execution_count": 34,
   "id": "639df64a",
   "metadata": {},
   "outputs": [
    {
     "data": {
      "text/html": [
       "<div>\n",
       "<style scoped>\n",
       "    .dataframe tbody tr th:only-of-type {\n",
       "        vertical-align: middle;\n",
       "    }\n",
       "\n",
       "    .dataframe tbody tr th {\n",
       "        vertical-align: top;\n",
       "    }\n",
       "\n",
       "    .dataframe thead th {\n",
       "        text-align: right;\n",
       "    }\n",
       "</style>\n",
       "<table border=\"1\" class=\"dataframe\">\n",
       "  <thead>\n",
       "    <tr style=\"text-align: right;\">\n",
       "      <th></th>\n",
       "      <th>pclass</th>\n",
       "      <th>sex</th>\n",
       "      <th>age</th>\n",
       "      <th>sibsp</th>\n",
       "      <th>parch</th>\n",
       "      <th>fare</th>\n",
       "      <th>embarked</th>\n",
       "      <th>home.dest</th>\n",
       "    </tr>\n",
       "  </thead>\n",
       "  <tbody>\n",
       "    <tr>\n",
       "      <th>501</th>\n",
       "      <td>2</td>\n",
       "      <td>female</td>\n",
       "      <td>13.000000</td>\n",
       "      <td>0</td>\n",
       "      <td>1</td>\n",
       "      <td>19.5000</td>\n",
       "      <td>S</td>\n",
       "      <td>England / Bennington, VT</td>\n",
       "    </tr>\n",
       "    <tr>\n",
       "      <th>588</th>\n",
       "      <td>2</td>\n",
       "      <td>female</td>\n",
       "      <td>4.000000</td>\n",
       "      <td>1</td>\n",
       "      <td>1</td>\n",
       "      <td>23.0000</td>\n",
       "      <td>S</td>\n",
       "      <td>Cornwall / Akron, OH</td>\n",
       "    </tr>\n",
       "    <tr>\n",
       "      <th>402</th>\n",
       "      <td>2</td>\n",
       "      <td>female</td>\n",
       "      <td>30.000000</td>\n",
       "      <td>1</td>\n",
       "      <td>0</td>\n",
       "      <td>13.8583</td>\n",
       "      <td>C</td>\n",
       "      <td>Barcelona, Spain / Havana, Cuba</td>\n",
       "    </tr>\n",
       "    <tr>\n",
       "      <th>1193</th>\n",
       "      <td>3</td>\n",
       "      <td>male</td>\n",
       "      <td>30.231444</td>\n",
       "      <td>0</td>\n",
       "      <td>0</td>\n",
       "      <td>7.7250</td>\n",
       "      <td>Q</td>\n",
       "      <td>NaN</td>\n",
       "    </tr>\n",
       "    <tr>\n",
       "      <th>686</th>\n",
       "      <td>3</td>\n",
       "      <td>female</td>\n",
       "      <td>22.000000</td>\n",
       "      <td>0</td>\n",
       "      <td>0</td>\n",
       "      <td>7.7250</td>\n",
       "      <td>Q</td>\n",
       "      <td>Kingwilliamstown, Co Cork, Ireland Glens Falls...</td>\n",
       "    </tr>\n",
       "    <tr>\n",
       "      <th>...</th>\n",
       "      <td>...</td>\n",
       "      <td>...</td>\n",
       "      <td>...</td>\n",
       "      <td>...</td>\n",
       "      <td>...</td>\n",
       "      <td>...</td>\n",
       "      <td>...</td>\n",
       "      <td>...</td>\n",
       "    </tr>\n",
       "    <tr>\n",
       "      <th>763</th>\n",
       "      <td>3</td>\n",
       "      <td>female</td>\n",
       "      <td>0.166700</td>\n",
       "      <td>1</td>\n",
       "      <td>2</td>\n",
       "      <td>20.5750</td>\n",
       "      <td>S</td>\n",
       "      <td>Devon, England Wichita, KS</td>\n",
       "    </tr>\n",
       "    <tr>\n",
       "      <th>835</th>\n",
       "      <td>3</td>\n",
       "      <td>male</td>\n",
       "      <td>30.231444</td>\n",
       "      <td>0</td>\n",
       "      <td>0</td>\n",
       "      <td>8.0500</td>\n",
       "      <td>S</td>\n",
       "      <td>NaN</td>\n",
       "    </tr>\n",
       "    <tr>\n",
       "      <th>1216</th>\n",
       "      <td>3</td>\n",
       "      <td>female</td>\n",
       "      <td>30.231444</td>\n",
       "      <td>0</td>\n",
       "      <td>0</td>\n",
       "      <td>7.7333</td>\n",
       "      <td>Q</td>\n",
       "      <td>NaN</td>\n",
       "    </tr>\n",
       "    <tr>\n",
       "      <th>559</th>\n",
       "      <td>2</td>\n",
       "      <td>female</td>\n",
       "      <td>20.000000</td>\n",
       "      <td>0</td>\n",
       "      <td>0</td>\n",
       "      <td>36.7500</td>\n",
       "      <td>S</td>\n",
       "      <td>Cornwall / Hancock, MI</td>\n",
       "    </tr>\n",
       "    <tr>\n",
       "      <th>684</th>\n",
       "      <td>3</td>\n",
       "      <td>female</td>\n",
       "      <td>32.000000</td>\n",
       "      <td>1</td>\n",
       "      <td>1</td>\n",
       "      <td>15.5000</td>\n",
       "      <td>Q</td>\n",
       "      <td>Ireland Chicago, IL</td>\n",
       "    </tr>\n",
       "  </tbody>\n",
       "</table>\n",
       "<p>916 rows × 8 columns</p>\n",
       "</div>"
      ],
      "text/plain": [
       "      pclass     sex        age  sibsp  parch     fare embarked  \\\n",
       "501        2  female  13.000000      0      1  19.5000        S   \n",
       "588        2  female   4.000000      1      1  23.0000        S   \n",
       "402        2  female  30.000000      1      0  13.8583        C   \n",
       "1193       3    male  30.231444      0      0   7.7250        Q   \n",
       "686        3  female  22.000000      0      0   7.7250        Q   \n",
       "...      ...     ...        ...    ...    ...      ...      ...   \n",
       "763        3  female   0.166700      1      2  20.5750        S   \n",
       "835        3    male  30.231444      0      0   8.0500        S   \n",
       "1216       3  female  30.231444      0      0   7.7333        Q   \n",
       "559        2  female  20.000000      0      0  36.7500        S   \n",
       "684        3  female  32.000000      1      1  15.5000        Q   \n",
       "\n",
       "                                              home.dest  \n",
       "501                            England / Bennington, VT  \n",
       "588                                Cornwall / Akron, OH  \n",
       "402                     Barcelona, Spain / Havana, Cuba  \n",
       "1193                                                NaN  \n",
       "686   Kingwilliamstown, Co Cork, Ireland Glens Falls...  \n",
       "...                                                 ...  \n",
       "763                          Devon, England Wichita, KS  \n",
       "835                                                 NaN  \n",
       "1216                                                NaN  \n",
       "559                              Cornwall / Hancock, MI  \n",
       "684                                 Ireland Chicago, IL  \n",
       "\n",
       "[916 rows x 8 columns]"
      ]
     },
     "execution_count": 34,
     "metadata": {},
     "output_type": "execute_result"
    }
   ],
   "source": [
    "X_train_32['age'] = X_train_32['age_mean']\n",
    "X_train_32 = X_train_32.drop(['age_median'], axis = 1)\n",
    "X_train_32 = X_train_32.drop(['age_mean'], axis = 1)\n",
    "X_train_32"
   ]
  },
  {
   "cell_type": "code",
   "execution_count": 35,
   "id": "a0b073ed",
   "metadata": {},
   "outputs": [
    {
     "data": {
      "text/plain": [
       "0.0"
      ]
     },
     "execution_count": 35,
     "metadata": {},
     "output_type": "execute_result"
    }
   ],
   "source": [
    "X_train_32['age'].isnull().mean()"
   ]
  },
  {
   "cell_type": "code",
   "execution_count": 36,
   "id": "64ff30e3",
   "metadata": {},
   "outputs": [
    {
     "data": {
      "text/plain": [
       "sex          0.000000\n",
       "embarked     0.002183\n",
       "home.dest    0.424672\n",
       "dtype: float64"
      ]
     },
     "execution_count": 36,
     "metadata": {},
     "output_type": "execute_result"
    }
   ],
   "source": [
    "#Missing values imputation in categorical variables\n",
    "\n",
    "X_train_32.select_dtypes(include = 'O').isnull().mean()"
   ]
  },
  {
   "cell_type": "code",
   "execution_count": 37,
   "id": "9d7b22d8",
   "metadata": {},
   "outputs": [
    {
     "data": {
      "image/png": "[encoded data removed]",
      "text/plain": [
       "<Figure size 640x480 with 1 Axes>"
      ]
     },
     "metadata": {},
     "output_type": "display_data"
    },
    {
     "data": {
      "image/png": "[encoded data removed]",
      "text/plain": [
       "<Figure size 640x480 with 1 Axes>"
      ]
     },
     "metadata": {},
     "output_type": "display_data"
    },
    {
     "data": {
      "image/png": "[encoded data removed]",
      "text/plain": [
       "<Figure size 640x480 with 1 Axes>"
      ]
     },
     "metadata": {},
     "output_type": "display_data"
    },
    {
     "data": {
      "image/png": "[encoded data removed]",
      "text/plain": [
       "<Figure size 640x480 with 1 Axes>"
      ]
     },
     "metadata": {},
     "output_type": "display_data"
    }
   ],
   "source": [
    "# CategoricalImputer ('frequent')\n",
    "\n",
    "X_train_32['embarked_mode'] = X_train_32['embarked'].fillna(X_train_32['embarked'].mode()[0])\n",
    "X_train_32['home.dest_mode'] = X_train_32['home.dest'].fillna(X_train_32['home.dest'].mode()[0])\n",
    "\n",
    "# Visualization of distribution of variable before and after imputation methods\n",
    "\n",
    "plt.hist(X_train_32['embarked'].dropna(), edgecolor = 'black', bins=30)\n",
    "plt.xlabel('embarked')\n",
    "plt.show()\n",
    "\n",
    "plt.hist(X_train_32['embarked_mode'], edgecolor = 'black', bins=30)\n",
    "plt.xlabel('embarked_mode')\n",
    "plt.show()\n",
    "\n",
    "plt.hist(X_train_32['home.dest'].dropna(), edgecolor = 'black', bins=30)\n",
    "plt.xlabel('home.dest')\n",
    "plt.show()\n",
    "\n",
    "plt.hist(X_train_32['home.dest_mode'], edgecolor = 'black', bins=30)\n",
    "plt.xlabel('home.dest_mode')\n",
    "plt.show()"
   ]
  },
  {
   "cell_type": "code",
   "execution_count": 38,
   "id": "984b1722",
   "metadata": {},
   "outputs": [
    {
     "data": {
      "text/html": [
       "<div>\n",
       "<style scoped>\n",
       "    .dataframe tbody tr th:only-of-type {\n",
       "        vertical-align: middle;\n",
       "    }\n",
       "\n",
       "    .dataframe tbody tr th {\n",
       "        vertical-align: top;\n",
       "    }\n",
       "\n",
       "    .dataframe thead th {\n",
       "        text-align: right;\n",
       "    }\n",
       "</style>\n",
       "<table border=\"1\" class=\"dataframe\">\n",
       "  <thead>\n",
       "    <tr style=\"text-align: right;\">\n",
       "      <th></th>\n",
       "      <th>pclass</th>\n",
       "      <th>sex</th>\n",
       "      <th>age</th>\n",
       "      <th>sibsp</th>\n",
       "      <th>parch</th>\n",
       "      <th>fare</th>\n",
       "      <th>embarked</th>\n",
       "      <th>home.dest</th>\n",
       "      <th>embarked_mode</th>\n",
       "      <th>home.dest_mode</th>\n",
       "    </tr>\n",
       "  </thead>\n",
       "  <tbody>\n",
       "    <tr>\n",
       "      <th>501</th>\n",
       "      <td>2</td>\n",
       "      <td>female</td>\n",
       "      <td>13.000000</td>\n",
       "      <td>0</td>\n",
       "      <td>1</td>\n",
       "      <td>19.5000</td>\n",
       "      <td>S</td>\n",
       "      <td>England / Bennington, VT</td>\n",
       "      <td>S</td>\n",
       "      <td>England / Bennington, VT</td>\n",
       "    </tr>\n",
       "    <tr>\n",
       "      <th>588</th>\n",
       "      <td>2</td>\n",
       "      <td>female</td>\n",
       "      <td>4.000000</td>\n",
       "      <td>1</td>\n",
       "      <td>1</td>\n",
       "      <td>23.0000</td>\n",
       "      <td>S</td>\n",
       "      <td>Cornwall / Akron, OH</td>\n",
       "      <td>S</td>\n",
       "      <td>Cornwall / Akron, OH</td>\n",
       "    </tr>\n",
       "    <tr>\n",
       "      <th>402</th>\n",
       "      <td>2</td>\n",
       "      <td>female</td>\n",
       "      <td>30.000000</td>\n",
       "      <td>1</td>\n",
       "      <td>0</td>\n",
       "      <td>13.8583</td>\n",
       "      <td>C</td>\n",
       "      <td>Barcelona, Spain / Havana, Cuba</td>\n",
       "      <td>C</td>\n",
       "      <td>Barcelona, Spain / Havana, Cuba</td>\n",
       "    </tr>\n",
       "    <tr>\n",
       "      <th>1193</th>\n",
       "      <td>3</td>\n",
       "      <td>male</td>\n",
       "      <td>30.231444</td>\n",
       "      <td>0</td>\n",
       "      <td>0</td>\n",
       "      <td>7.7250</td>\n",
       "      <td>Q</td>\n",
       "      <td>NaN</td>\n",
       "      <td>Q</td>\n",
       "      <td>New York, NY</td>\n",
       "    </tr>\n",
       "    <tr>\n",
       "      <th>686</th>\n",
       "      <td>3</td>\n",
       "      <td>female</td>\n",
       "      <td>22.000000</td>\n",
       "      <td>0</td>\n",
       "      <td>0</td>\n",
       "      <td>7.7250</td>\n",
       "      <td>Q</td>\n",
       "      <td>Kingwilliamstown, Co Cork, Ireland Glens Falls...</td>\n",
       "      <td>Q</td>\n",
       "      <td>Kingwilliamstown, Co Cork, Ireland Glens Falls...</td>\n",
       "    </tr>\n",
       "    <tr>\n",
       "      <th>...</th>\n",
       "      <td>...</td>\n",
       "      <td>...</td>\n",
       "      <td>...</td>\n",
       "      <td>...</td>\n",
       "      <td>...</td>\n",
       "      <td>...</td>\n",
       "      <td>...</td>\n",
       "      <td>...</td>\n",
       "      <td>...</td>\n",
       "      <td>...</td>\n",
       "    </tr>\n",
       "    <tr>\n",
       "      <th>763</th>\n",
       "      <td>3</td>\n",
       "      <td>female</td>\n",
       "      <td>0.166700</td>\n",
       "      <td>1</td>\n",
       "      <td>2</td>\n",
       "      <td>20.5750</td>\n",
       "      <td>S</td>\n",
       "      <td>Devon, England Wichita, KS</td>\n",
       "      <td>S</td>\n",
       "      <td>Devon, England Wichita, KS</td>\n",
       "    </tr>\n",
       "    <tr>\n",
       "      <th>835</th>\n",
       "      <td>3</td>\n",
       "      <td>male</td>\n",
       "      <td>30.231444</td>\n",
       "      <td>0</td>\n",
       "      <td>0</td>\n",
       "      <td>8.0500</td>\n",
       "      <td>S</td>\n",
       "      <td>NaN</td>\n",
       "      <td>S</td>\n",
       "      <td>New York, NY</td>\n",
       "    </tr>\n",
       "    <tr>\n",
       "      <th>1216</th>\n",
       "      <td>3</td>\n",
       "      <td>female</td>\n",
       "      <td>30.231444</td>\n",
       "      <td>0</td>\n",
       "      <td>0</td>\n",
       "      <td>7.7333</td>\n",
       "      <td>Q</td>\n",
       "      <td>NaN</td>\n",
       "      <td>Q</td>\n",
       "      <td>New York, NY</td>\n",
       "    </tr>\n",
       "    <tr>\n",
       "      <th>559</th>\n",
       "      <td>2</td>\n",
       "      <td>female</td>\n",
       "      <td>20.000000</td>\n",
       "      <td>0</td>\n",
       "      <td>0</td>\n",
       "      <td>36.7500</td>\n",
       "      <td>S</td>\n",
       "      <td>Cornwall / Hancock, MI</td>\n",
       "      <td>S</td>\n",
       "      <td>Cornwall / Hancock, MI</td>\n",
       "    </tr>\n",
       "    <tr>\n",
       "      <th>684</th>\n",
       "      <td>3</td>\n",
       "      <td>female</td>\n",
       "      <td>32.000000</td>\n",
       "      <td>1</td>\n",
       "      <td>1</td>\n",
       "      <td>15.5000</td>\n",
       "      <td>Q</td>\n",
       "      <td>Ireland Chicago, IL</td>\n",
       "      <td>Q</td>\n",
       "      <td>Ireland Chicago, IL</td>\n",
       "    </tr>\n",
       "  </tbody>\n",
       "</table>\n",
       "<p>916 rows × 10 columns</p>\n",
       "</div>"
      ],
      "text/plain": [
       "      pclass     sex        age  sibsp  parch     fare embarked  \\\n",
       "501        2  female  13.000000      0      1  19.5000        S   \n",
       "588        2  female   4.000000      1      1  23.0000        S   \n",
       "402        2  female  30.000000      1      0  13.8583        C   \n",
       "1193       3    male  30.231444      0      0   7.7250        Q   \n",
       "686        3  female  22.000000      0      0   7.7250        Q   \n",
       "...      ...     ...        ...    ...    ...      ...      ...   \n",
       "763        3  female   0.166700      1      2  20.5750        S   \n",
       "835        3    male  30.231444      0      0   8.0500        S   \n",
       "1216       3  female  30.231444      0      0   7.7333        Q   \n",
       "559        2  female  20.000000      0      0  36.7500        S   \n",
       "684        3  female  32.000000      1      1  15.5000        Q   \n",
       "\n",
       "                                              home.dest embarked_mode  \\\n",
       "501                            England / Bennington, VT             S   \n",
       "588                                Cornwall / Akron, OH             S   \n",
       "402                     Barcelona, Spain / Havana, Cuba             C   \n",
       "1193                                                NaN             Q   \n",
       "686   Kingwilliamstown, Co Cork, Ireland Glens Falls...             Q   \n",
       "...                                                 ...           ...   \n",
       "763                          Devon, England Wichita, KS             S   \n",
       "835                                                 NaN             S   \n",
       "1216                                                NaN             Q   \n",
       "559                              Cornwall / Hancock, MI             S   \n",
       "684                                 Ireland Chicago, IL             Q   \n",
       "\n",
       "                                         home.dest_mode  \n",
       "501                            England / Bennington, VT  \n",
       "588                                Cornwall / Akron, OH  \n",
       "402                     Barcelona, Spain / Havana, Cuba  \n",
       "1193                                       New York, NY  \n",
       "686   Kingwilliamstown, Co Cork, Ireland Glens Falls...  \n",
       "...                                                 ...  \n",
       "763                          Devon, England Wichita, KS  \n",
       "835                                        New York, NY  \n",
       "1216                                       New York, NY  \n",
       "559                              Cornwall / Hancock, MI  \n",
       "684                                 Ireland Chicago, IL  \n",
       "\n",
       "[916 rows x 10 columns]"
      ]
     },
     "execution_count": 38,
     "metadata": {},
     "output_type": "execute_result"
    }
   ],
   "source": [
    "X_train_32"
   ]
  },
  {
   "cell_type": "code",
   "execution_count": 39,
   "id": "2a86d644",
   "metadata": {
    "scrolled": true
   },
   "outputs": [
    {
     "data": {
      "text/html": [
       "<div>\n",
       "<style scoped>\n",
       "    .dataframe tbody tr th:only-of-type {\n",
       "        vertical-align: middle;\n",
       "    }\n",
       "\n",
       "    .dataframe tbody tr th {\n",
       "        vertical-align: top;\n",
       "    }\n",
       "\n",
       "    .dataframe thead th {\n",
       "        text-align: right;\n",
       "    }\n",
       "</style>\n",
       "<table border=\"1\" class=\"dataframe\">\n",
       "  <thead>\n",
       "    <tr style=\"text-align: right;\">\n",
       "      <th></th>\n",
       "      <th>pclass</th>\n",
       "      <th>sex</th>\n",
       "      <th>age</th>\n",
       "      <th>sibsp</th>\n",
       "      <th>parch</th>\n",
       "      <th>fare</th>\n",
       "      <th>embarked</th>\n",
       "      <th>home.dest</th>\n",
       "    </tr>\n",
       "  </thead>\n",
       "  <tbody>\n",
       "    <tr>\n",
       "      <th>501</th>\n",
       "      <td>2</td>\n",
       "      <td>female</td>\n",
       "      <td>13.000000</td>\n",
       "      <td>0</td>\n",
       "      <td>1</td>\n",
       "      <td>19.5000</td>\n",
       "      <td>S</td>\n",
       "      <td>England / Bennington, VT</td>\n",
       "    </tr>\n",
       "    <tr>\n",
       "      <th>588</th>\n",
       "      <td>2</td>\n",
       "      <td>female</td>\n",
       "      <td>4.000000</td>\n",
       "      <td>1</td>\n",
       "      <td>1</td>\n",
       "      <td>23.0000</td>\n",
       "      <td>S</td>\n",
       "      <td>Cornwall / Akron, OH</td>\n",
       "    </tr>\n",
       "    <tr>\n",
       "      <th>402</th>\n",
       "      <td>2</td>\n",
       "      <td>female</td>\n",
       "      <td>30.000000</td>\n",
       "      <td>1</td>\n",
       "      <td>0</td>\n",
       "      <td>13.8583</td>\n",
       "      <td>C</td>\n",
       "      <td>Barcelona, Spain / Havana, Cuba</td>\n",
       "    </tr>\n",
       "    <tr>\n",
       "      <th>1193</th>\n",
       "      <td>3</td>\n",
       "      <td>male</td>\n",
       "      <td>30.231444</td>\n",
       "      <td>0</td>\n",
       "      <td>0</td>\n",
       "      <td>7.7250</td>\n",
       "      <td>Q</td>\n",
       "      <td>New York, NY</td>\n",
       "    </tr>\n",
       "    <tr>\n",
       "      <th>686</th>\n",
       "      <td>3</td>\n",
       "      <td>female</td>\n",
       "      <td>22.000000</td>\n",
       "      <td>0</td>\n",
       "      <td>0</td>\n",
       "      <td>7.7250</td>\n",
       "      <td>Q</td>\n",
       "      <td>Kingwilliamstown, Co Cork, Ireland Glens Falls...</td>\n",
       "    </tr>\n",
       "    <tr>\n",
       "      <th>...</th>\n",
       "      <td>...</td>\n",
       "      <td>...</td>\n",
       "      <td>...</td>\n",
       "      <td>...</td>\n",
       "      <td>...</td>\n",
       "      <td>...</td>\n",
       "      <td>...</td>\n",
       "      <td>...</td>\n",
       "    </tr>\n",
       "    <tr>\n",
       "      <th>763</th>\n",
       "      <td>3</td>\n",
       "      <td>female</td>\n",
       "      <td>0.166700</td>\n",
       "      <td>1</td>\n",
       "      <td>2</td>\n",
       "      <td>20.5750</td>\n",
       "      <td>S</td>\n",
       "      <td>Devon, England Wichita, KS</td>\n",
       "    </tr>\n",
       "    <tr>\n",
       "      <th>835</th>\n",
       "      <td>3</td>\n",
       "      <td>male</td>\n",
       "      <td>30.231444</td>\n",
       "      <td>0</td>\n",
       "      <td>0</td>\n",
       "      <td>8.0500</td>\n",
       "      <td>S</td>\n",
       "      <td>New York, NY</td>\n",
       "    </tr>\n",
       "    <tr>\n",
       "      <th>1216</th>\n",
       "      <td>3</td>\n",
       "      <td>female</td>\n",
       "      <td>30.231444</td>\n",
       "      <td>0</td>\n",
       "      <td>0</td>\n",
       "      <td>7.7333</td>\n",
       "      <td>Q</td>\n",
       "      <td>New York, NY</td>\n",
       "    </tr>\n",
       "    <tr>\n",
       "      <th>559</th>\n",
       "      <td>2</td>\n",
       "      <td>female</td>\n",
       "      <td>20.000000</td>\n",
       "      <td>0</td>\n",
       "      <td>0</td>\n",
       "      <td>36.7500</td>\n",
       "      <td>S</td>\n",
       "      <td>Cornwall / Hancock, MI</td>\n",
       "    </tr>\n",
       "    <tr>\n",
       "      <th>684</th>\n",
       "      <td>3</td>\n",
       "      <td>female</td>\n",
       "      <td>32.000000</td>\n",
       "      <td>1</td>\n",
       "      <td>1</td>\n",
       "      <td>15.5000</td>\n",
       "      <td>Q</td>\n",
       "      <td>Ireland Chicago, IL</td>\n",
       "    </tr>\n",
       "  </tbody>\n",
       "</table>\n",
       "<p>916 rows × 8 columns</p>\n",
       "</div>"
      ],
      "text/plain": [
       "      pclass     sex        age  sibsp  parch     fare embarked  \\\n",
       "501        2  female  13.000000      0      1  19.5000        S   \n",
       "588        2  female   4.000000      1      1  23.0000        S   \n",
       "402        2  female  30.000000      1      0  13.8583        C   \n",
       "1193       3    male  30.231444      0      0   7.7250        Q   \n",
       "686        3  female  22.000000      0      0   7.7250        Q   \n",
       "...      ...     ...        ...    ...    ...      ...      ...   \n",
       "763        3  female   0.166700      1      2  20.5750        S   \n",
       "835        3    male  30.231444      0      0   8.0500        S   \n",
       "1216       3  female  30.231444      0      0   7.7333        Q   \n",
       "559        2  female  20.000000      0      0  36.7500        S   \n",
       "684        3  female  32.000000      1      1  15.5000        Q   \n",
       "\n",
       "                                              home.dest  \n",
       "501                            England / Bennington, VT  \n",
       "588                                Cornwall / Akron, OH  \n",
       "402                     Barcelona, Spain / Havana, Cuba  \n",
       "1193                                       New York, NY  \n",
       "686   Kingwilliamstown, Co Cork, Ireland Glens Falls...  \n",
       "...                                                 ...  \n",
       "763                          Devon, England Wichita, KS  \n",
       "835                                        New York, NY  \n",
       "1216                                       New York, NY  \n",
       "559                              Cornwall / Hancock, MI  \n",
       "684                                 Ireland Chicago, IL  \n",
       "\n",
       "[916 rows x 8 columns]"
      ]
     },
     "execution_count": 39,
     "metadata": {},
     "output_type": "execute_result"
    }
   ],
   "source": [
    "X_train_32['embarked'] = X_train_32['embarked_mode']\n",
    "X_train_32 = X_train_32.drop(['embarked_mode'], axis = 1)\n",
    "X_train_32['home.dest'] = X_train_32['home.dest_mode']\n",
    "X_train_32 = X_train_32.drop(['home.dest_mode'], axis = 1)\n",
    "X_train_32"
   ]
  },
  {
   "cell_type": "markdown",
   "id": "a0992a08",
   "metadata": {},
   "source": [
    "<h3>3.3. Encoding</h3>"
   ]
  },
  {
   "cell_type": "code",
   "execution_count": 40,
   "id": "b4ea59e9",
   "metadata": {},
   "outputs": [
    {
     "data": {
      "text/html": [
       "<div>\n",
       "<style scoped>\n",
       "    .dataframe tbody tr th:only-of-type {\n",
       "        vertical-align: middle;\n",
       "    }\n",
       "\n",
       "    .dataframe tbody tr th {\n",
       "        vertical-align: top;\n",
       "    }\n",
       "\n",
       "    .dataframe thead th {\n",
       "        text-align: right;\n",
       "    }\n",
       "</style>\n",
       "<table border=\"1\" class=\"dataframe\">\n",
       "  <thead>\n",
       "    <tr style=\"text-align: right;\">\n",
       "      <th></th>\n",
       "      <th>pclass</th>\n",
       "      <th>sex</th>\n",
       "      <th>age</th>\n",
       "      <th>sibsp</th>\n",
       "      <th>parch</th>\n",
       "      <th>fare</th>\n",
       "      <th>embarked</th>\n",
       "      <th>home.dest</th>\n",
       "    </tr>\n",
       "  </thead>\n",
       "  <tbody>\n",
       "    <tr>\n",
       "      <th>501</th>\n",
       "      <td>2</td>\n",
       "      <td>female</td>\n",
       "      <td>13.000000</td>\n",
       "      <td>0</td>\n",
       "      <td>1</td>\n",
       "      <td>19.5000</td>\n",
       "      <td>S</td>\n",
       "      <td>England / Bennington, VT</td>\n",
       "    </tr>\n",
       "    <tr>\n",
       "      <th>588</th>\n",
       "      <td>2</td>\n",
       "      <td>female</td>\n",
       "      <td>4.000000</td>\n",
       "      <td>1</td>\n",
       "      <td>1</td>\n",
       "      <td>23.0000</td>\n",
       "      <td>S</td>\n",
       "      <td>Cornwall / Akron, OH</td>\n",
       "    </tr>\n",
       "    <tr>\n",
       "      <th>402</th>\n",
       "      <td>2</td>\n",
       "      <td>female</td>\n",
       "      <td>30.000000</td>\n",
       "      <td>1</td>\n",
       "      <td>0</td>\n",
       "      <td>13.8583</td>\n",
       "      <td>C</td>\n",
       "      <td>Barcelona, Spain / Havana, Cuba</td>\n",
       "    </tr>\n",
       "    <tr>\n",
       "      <th>1193</th>\n",
       "      <td>3</td>\n",
       "      <td>male</td>\n",
       "      <td>30.231444</td>\n",
       "      <td>0</td>\n",
       "      <td>0</td>\n",
       "      <td>7.7250</td>\n",
       "      <td>Q</td>\n",
       "      <td>New York, NY</td>\n",
       "    </tr>\n",
       "    <tr>\n",
       "      <th>686</th>\n",
       "      <td>3</td>\n",
       "      <td>female</td>\n",
       "      <td>22.000000</td>\n",
       "      <td>0</td>\n",
       "      <td>0</td>\n",
       "      <td>7.7250</td>\n",
       "      <td>Q</td>\n",
       "      <td>Kingwilliamstown, Co Cork, Ireland Glens Falls...</td>\n",
       "    </tr>\n",
       "    <tr>\n",
       "      <th>...</th>\n",
       "      <td>...</td>\n",
       "      <td>...</td>\n",
       "      <td>...</td>\n",
       "      <td>...</td>\n",
       "      <td>...</td>\n",
       "      <td>...</td>\n",
       "      <td>...</td>\n",
       "      <td>...</td>\n",
       "    </tr>\n",
       "    <tr>\n",
       "      <th>763</th>\n",
       "      <td>3</td>\n",
       "      <td>female</td>\n",
       "      <td>0.166700</td>\n",
       "      <td>1</td>\n",
       "      <td>2</td>\n",
       "      <td>20.5750</td>\n",
       "      <td>S</td>\n",
       "      <td>Devon, England Wichita, KS</td>\n",
       "    </tr>\n",
       "    <tr>\n",
       "      <th>835</th>\n",
       "      <td>3</td>\n",
       "      <td>male</td>\n",
       "      <td>30.231444</td>\n",
       "      <td>0</td>\n",
       "      <td>0</td>\n",
       "      <td>8.0500</td>\n",
       "      <td>S</td>\n",
       "      <td>New York, NY</td>\n",
       "    </tr>\n",
       "    <tr>\n",
       "      <th>1216</th>\n",
       "      <td>3</td>\n",
       "      <td>female</td>\n",
       "      <td>30.231444</td>\n",
       "      <td>0</td>\n",
       "      <td>0</td>\n",
       "      <td>7.7333</td>\n",
       "      <td>Q</td>\n",
       "      <td>New York, NY</td>\n",
       "    </tr>\n",
       "    <tr>\n",
       "      <th>559</th>\n",
       "      <td>2</td>\n",
       "      <td>female</td>\n",
       "      <td>20.000000</td>\n",
       "      <td>0</td>\n",
       "      <td>0</td>\n",
       "      <td>36.7500</td>\n",
       "      <td>S</td>\n",
       "      <td>Cornwall / Hancock, MI</td>\n",
       "    </tr>\n",
       "    <tr>\n",
       "      <th>684</th>\n",
       "      <td>3</td>\n",
       "      <td>female</td>\n",
       "      <td>32.000000</td>\n",
       "      <td>1</td>\n",
       "      <td>1</td>\n",
       "      <td>15.5000</td>\n",
       "      <td>Q</td>\n",
       "      <td>Ireland Chicago, IL</td>\n",
       "    </tr>\n",
       "  </tbody>\n",
       "</table>\n",
       "<p>916 rows × 8 columns</p>\n",
       "</div>"
      ],
      "text/plain": [
       "      pclass     sex        age  sibsp  parch     fare embarked  \\\n",
       "501        2  female  13.000000      0      1  19.5000        S   \n",
       "588        2  female   4.000000      1      1  23.0000        S   \n",
       "402        2  female  30.000000      1      0  13.8583        C   \n",
       "1193       3    male  30.231444      0      0   7.7250        Q   \n",
       "686        3  female  22.000000      0      0   7.7250        Q   \n",
       "...      ...     ...        ...    ...    ...      ...      ...   \n",
       "763        3  female   0.166700      1      2  20.5750        S   \n",
       "835        3    male  30.231444      0      0   8.0500        S   \n",
       "1216       3  female  30.231444      0      0   7.7333        Q   \n",
       "559        2  female  20.000000      0      0  36.7500        S   \n",
       "684        3  female  32.000000      1      1  15.5000        Q   \n",
       "\n",
       "                                              home.dest  \n",
       "501                            England / Bennington, VT  \n",
       "588                                Cornwall / Akron, OH  \n",
       "402                     Barcelona, Spain / Havana, Cuba  \n",
       "1193                                       New York, NY  \n",
       "686   Kingwilliamstown, Co Cork, Ireland Glens Falls...  \n",
       "...                                                 ...  \n",
       "763                          Devon, England Wichita, KS  \n",
       "835                                        New York, NY  \n",
       "1216                                       New York, NY  \n",
       "559                              Cornwall / Hancock, MI  \n",
       "684                                 Ireland Chicago, IL  \n",
       "\n",
       "[916 rows x 8 columns]"
      ]
     },
     "execution_count": 40,
     "metadata": {},
     "output_type": "execute_result"
    }
   ],
   "source": [
    "X_train_32"
   ]
  },
  {
   "cell_type": "code",
   "execution_count": 41,
   "id": "b5688b53",
   "metadata": {},
   "outputs": [
    {
     "data": {
      "text/plain": [
       "array(['S', 'C', 'Q'], dtype=object)"
      ]
     },
     "execution_count": 41,
     "metadata": {},
     "output_type": "execute_result"
    }
   ],
   "source": [
    "X_train_32['embarked'].unique()"
   ]
  },
  {
   "cell_type": "code",
   "execution_count": 42,
   "id": "b2a98778",
   "metadata": {},
   "outputs": [
    {
     "data": {
      "text/plain": [
       "array(['England / Bennington, VT', 'Cornwall / Akron, OH',\n",
       "       'Barcelona, Spain / Havana, Cuba', 'New York, NY',\n",
       "       'Kingwilliamstown, Co Cork, Ireland Glens Falls, NY',\n",
       "       'Plymouth, Devon / Detroit, MI', 'Haverford, PA', 'St Louis, MO',\n",
       "       'Weston-Super-Mare, Somerset', 'Montreal, PQ / Chesterville, ON',\n",
       "       'Oslo, Norway Bayonne, NJ', 'England', 'Southsea, Hants',\n",
       "       'Syria New York, NY', 'Greece', 'Cologne, Germany', 'Southampton',\n",
       "       'Basel, Switzerland', 'Trenton, NJ', 'Philadelphia, PA',\n",
       "       'Salo, Finland Astoria, OR', 'Bronx, NY',\n",
       "       'Ruotsinphytaa, Finland New York, NY', 'Belfast', 'Vancouver, BC',\n",
       "       'Wimbledon Park, London / Hayling Island, Hants',\n",
       "       'New York, NY / Ithaca, NY', 'Paris / Haiti',\n",
       "       'Windsor, England New York, NY', 'Minneapolis, MN',\n",
       "       'New York, NY /  Stamford CT', 'Bournmouth, England',\n",
       "       'Antwerp, Belgium / Stanton, OH', 'Paris, France',\n",
       "       'England Albion, NY', 'Portugal', 'Ireland Brooklyn, NY',\n",
       "       'Geneva, Switzerland / Radnor, PA', 'Lexington, MA',\n",
       "       'Sweden  Worcester, MA', 'Mamaroneck, NY',\n",
       "       'New York, NY / Greenwich CT', 'Winnipeg, MN',\n",
       "       'Medeltorp, Sweden Chicago, IL',\n",
       "       'St Ives, Cornwall / Houghton, MI', 'Hong Kong New York, NY',\n",
       "       'Haverford, PA / Cooperstown, NY', 'Sweden Winnipeg, MN',\n",
       "       'Austria', 'Guernsey / Wilmington, DE',\n",
       "       'Devon, England Wichita, KS', 'Duluth, MN', 'London New York, NY',\n",
       "       'Bryn Mawr, PA', 'Stanton, IA', 'London / New York, NY',\n",
       "       'West Bromwich, England Pontiac, MI',\n",
       "       'Karberg, Sweden Jerome Junction, AZ', 'London', 'West Haven, CT',\n",
       "       'Fond du Lac, WI', 'Hudson, NY', 'Paris / Montreal, PQ',\n",
       "       'London, England', 'Brooklyn, NY', 'Spain', 'Bulgaria Chicago, IL',\n",
       "       'Milwaukee, WI', 'Montreal, PQ', 'Scituate, MA',\n",
       "       'England / Detroit, MI', 'Cornwall / Clear Creek, CO',\n",
       "       'St Denys, Southampton, Hants',\n",
       "       'Cape Town, South Africa / Seattle, WA', 'San Francisco, CA',\n",
       "       'Los Angeles, CA', 'London / Birmingham',\n",
       "       'Krakoryd, Sweden Bloomington, IL', '?Havana, Cuba',\n",
       "       'Bristol, England / New Britain, CT', 'Amenia, ND',\n",
       "       'Paris /  New York, NY', 'Ireland New York, NY',\n",
       "       'Folkstone, Kent / New York, NY', 'London Skanteales, NY',\n",
       "       'Aberdeen / Portland, OR', 'Upper Burma, India Pittsburgh, PA',\n",
       "       'Penzance, Cornwall / Akron, OH', 'Pomeroy, WA', 'Elizabeth, NJ',\n",
       "       'Westcliff-on-Sea, Essex', 'Chicago, IL',\n",
       "       'Germantown, Philadelphia, PA',\n",
       "       'Wiltshire, England Niagara Falls, NY',\n",
       "       'Co Athlone, Ireland New York, NY', 'East Orange, NJ',\n",
       "       'Rochester, NY', 'Brunswick, ME', 'Isle of Wight, England',\n",
       "       'Bishopstoke, Hants / Fayette Valley, ID',\n",
       "       'West Kensington, London', 'Middleburg Heights, OH',\n",
       "       'Pennsylvania', 'England / San Francisco, CA',\n",
       "       'Bristol, England Cleveland, OH', 'Portland, OR',\n",
       "       'Syria Ottawa, ON', 'Belmont, MA', 'Nice, France',\n",
       "       'Sault St Marie, ON', 'Winnipeg, MB', 'London /  East Orange, NJ',\n",
       "       'Lakewood, NJ', 'Washington, DC', 'Bridgerule, Devon', 'Guernsey',\n",
       "       'Barre, Co Washington, VT', 'Foresvik, Norway Portland, ND',\n",
       "       'Spain / Havana, Cuba', 'Brighton, MA', 'Norwich / New York, NY',\n",
       "       'St Austall, Cornwall', 'Guernsey / Elizabeth, NJ',\n",
       "       'Somerset / Bernardsville, NJ', 'Boston, MA', 'Bryn Mawr, PA, USA',\n",
       "       'Tampico, MT', 'St Ives, Cornwall / Calumet, MI',\n",
       "       'Elkins Park, PA', 'Liverpool, England Bedford, OH',\n",
       "       'England / Sacramento, CA', 'Liverpool', 'Croatia',\n",
       "       'Paris, France / New York, NY', 'Elmira, NY / Orange, NJ',\n",
       "       'Portugal / Sau Paulo, Brazil', 'St Ives, Cornwall / Hancock, MI',\n",
       "       'Madrid, Spain', 'Cooperstown, NY', 'Tranvik, Finland New York',\n",
       "       'Worcester, MA', 'Kilmacowen, Co Sligo, Ireland New York, NY',\n",
       "       'Norway Los Angeles, CA', 'Bennington, VT',\n",
       "       'Co Longford, Ireland New York, NY', 'Halifax, NS',\n",
       "       'Swindon, England', 'Vadsbro, Sweden Ministee, MI',\n",
       "       'Perkins County, SD', 'London / Paris',\n",
       "       'Plymouth, Dorset / Houghton, MI', 'Syria Kent, ON',\n",
       "       'Providence, RI', 'Lucca, Italy / California', 'Youngstown, OH',\n",
       "       'St Andrews, Guernsey', 'London  Vancouver, BC',\n",
       "       'Treherbert, Cardiff, Wales', 'Cornwall / Hancock, MI',\n",
       "       'New Forest, England', 'Sweden Worcester, MA', 'Brookline, MA',\n",
       "       'East Providence, RI', 'Skara, Sweden / Rockford, IL',\n",
       "       'Hartford, Huntingdonshire', 'Milford, NH',\n",
       "       'Bromsgrove, England / Montreal, PQ', 'East Bridgewater, MA',\n",
       "       'Weston-Super-Mare / Moose Jaw, SK', 'Stockholm, Sweden New York',\n",
       "       'Helsinki, Finland Ashtabula, Ohio', 'Stockholm, Sweden',\n",
       "       'Goteborg, Sweden / Rockford, IL', 'Ottawa, ON',\n",
       "       'Finland Sudbury, ON', 'India / Rapid City, SD', 'Detroit, MI',\n",
       "       'Deephaven, MN / Cedar Rapids, IA', 'Altdorf, Switzerland',\n",
       "       'Bournemouth, England Newark, NJ', 'Sarnia, ON', 'Stoughton, MA',\n",
       "       'Broomfield, Chelmsford, England', 'Finland / Minneapolis, MN',\n",
       "       'Ireland Chicago, IL', 'Glasgow', 'Cornwall, England Houghton, MI',\n",
       "       'Mt Airy, Philadelphia, PA', 'Bergen, Norway',\n",
       "       'Dagsas, Sweden Fower, MN', 'Merrill, WI', 'Dowagiac, MI',\n",
       "       'Waukegan, Chicago, IL', 'Cincinatti, OH', 'Syria',\n",
       "       'Sittingbourne, England / San Diego, CA', 'Isleworth, England',\n",
       "       'Cornwall / Spokane, WA', 'Guntur, India / Benton Harbour, MI',\n",
       "       'Cornwall / Camden, NJ', 'New Britain, CT', 'Tokyo, Japan',\n",
       "       'Bangkok, Thailand / Roseville, IL',\n",
       "       'Rotherfield, Sussex, England Essex Co, MA',\n",
       "       'London / Fort Byron, NY', 'Co Cork, Ireland Charlestown, MA',\n",
       "       'Greenwich, CT', 'Belfast, NI', 'Hartford, CT',\n",
       "       'Stockholm, Sweden / Washington, DC',\n",
       "       'Janjgir, India / Pennsylvania', 'Effington Rut, SD',\n",
       "       'England Salt Lake City, Utah', 'London, England Norfolk, VA',\n",
       "       'Newark, NJ', 'Greenport, NY', 'Columbus, OH',\n",
       "       'India / Pittsburgh, PA', 'Harrow-on-the-Hill, Middlesex',\n",
       "       'Worcester, England', 'Co Limerick, Ireland Sherbrooke, PQ',\n",
       "       'Austria Niagara Falls, NY', 'Indianapolis, IN',\n",
       "       'Montevideo, Uruguay', 'Southampton / New York, NY',\n",
       "       'Buenos Aires, Argentina / New Jersey, NJ',\n",
       "       'Strood, Kent, England Detroit, MI', 'Krakudden, Sweden Moune, IL',\n",
       "       'Cornwall', 'Tofta, Sweden Joliet, IL',\n",
       "       'Co Clare, Ireland Washington, DC',\n",
       "       'Lake Arthur, Chavez County, NM', 'Syria Youngstown, OH',\n",
       "       'Bath, England / Massachusetts', 'England / Hartford, CT',\n",
       "       'Taalintehdas, Finland Hoboken, NJ', 'Argentina',\n",
       "       'Warwick, England', 'Sydney, Australia', 'Walthamstow, England',\n",
       "       'Co Sligo, Ireland Hartford, CT', 'Hornsey, England',\n",
       "       'St Leonards-on-Sea, England Ohio', 'Frankfort, KY',\n",
       "       'Southington / Noank, CT', 'Ireland', 'Springfield, MA',\n",
       "       'Oskarshamn, Sweden Minneapolis, MN',\n",
       "       'Birkdale, England Cleveland, Ohio', 'Belgium  Montreal, PQ',\n",
       "       'Seattle, WA / Toledo, OH', 'Rotterdam, Netherlands',\n",
       "       'England Brooklyn, NY', 'Green Bay, WI', 'Tuxedo Park, NY',\n",
       "       'Denver, CO', 'Hamilton, ON', 'Haddenfield, NJ', 'Harrisburg, PA',\n",
       "       'Yoevil, England / Cottage Grove, OR', 'Russia New York, NY',\n",
       "       'Greensburg, PA', 'Sweden Joliet, IL',\n",
       "       'West Hampstead, London / Neepawa, MB', 'Lima, Peru',\n",
       "       'Union Hill, NJ', 'Guernsey, England / Edgewood, RI',\n",
       "       'Zurich, Switzerland', 'Dorchester, MA',\n",
       "       'Paris, France New York, NY', 'Finland / Washington, DC',\n",
       "       'London Brooklyn, NY', 'Sweden Chicago, IL', 'Calgary, AB',\n",
       "       'Denmark Hill, Surrey / Chicago', 'London / Staten Island, NY',\n",
       "       'Jacksonville, FL', \"St Anne's-on-Sea, Lancashire\",\n",
       "       'Halesworth, England', 'Brennes, Norway New York',\n",
       "       'Brighton, Sussex',\n",
       "       'Aughnacliff, Co Longford, Ireland New York, NY',\n",
       "       'Devonport, England', 'England Oglesby, IL',\n",
       "       'Denmark / New York, NY', 'Buffalo, NY',\n",
       "       'London, England / Marietta, Ohio and Milwaukee, WI', 'Paris'],\n",
       "      dtype=object)"
      ]
     },
     "execution_count": 42,
     "metadata": {},
     "output_type": "execute_result"
    }
   ],
   "source": [
    "X_train_32['home.dest'].unique()"
   ]
  },
  {
   "cell_type": "code",
   "execution_count": 43,
   "id": "ff2d1a9e",
   "metadata": {},
   "outputs": [
    {
     "data": {
      "text/html": [
       "<div>\n",
       "<style scoped>\n",
       "    .dataframe tbody tr th:only-of-type {\n",
       "        vertical-align: middle;\n",
       "    }\n",
       "\n",
       "    .dataframe tbody tr th {\n",
       "        vertical-align: top;\n",
       "    }\n",
       "\n",
       "    .dataframe thead th {\n",
       "        text-align: right;\n",
       "    }\n",
       "</style>\n",
       "<table border=\"1\" class=\"dataframe\">\n",
       "  <thead>\n",
       "    <tr style=\"text-align: right;\">\n",
       "      <th></th>\n",
       "      <th>pclass</th>\n",
       "      <th>sex</th>\n",
       "      <th>age</th>\n",
       "      <th>sibsp</th>\n",
       "      <th>parch</th>\n",
       "      <th>fare</th>\n",
       "      <th>embarked</th>\n",
       "      <th>home.dest</th>\n",
       "    </tr>\n",
       "  </thead>\n",
       "  <tbody>\n",
       "    <tr>\n",
       "      <th>501</th>\n",
       "      <td>2</td>\n",
       "      <td>female</td>\n",
       "      <td>13.000000</td>\n",
       "      <td>0</td>\n",
       "      <td>1</td>\n",
       "      <td>19.5000</td>\n",
       "      <td>654</td>\n",
       "      <td>2</td>\n",
       "    </tr>\n",
       "    <tr>\n",
       "      <th>588</th>\n",
       "      <td>2</td>\n",
       "      <td>female</td>\n",
       "      <td>4.000000</td>\n",
       "      <td>1</td>\n",
       "      <td>1</td>\n",
       "      <td>23.0000</td>\n",
       "      <td>654</td>\n",
       "      <td>5</td>\n",
       "    </tr>\n",
       "    <tr>\n",
       "      <th>402</th>\n",
       "      <td>2</td>\n",
       "      <td>female</td>\n",
       "      <td>30.000000</td>\n",
       "      <td>1</td>\n",
       "      <td>0</td>\n",
       "      <td>13.8583</td>\n",
       "      <td>179</td>\n",
       "      <td>2</td>\n",
       "    </tr>\n",
       "    <tr>\n",
       "      <th>1193</th>\n",
       "      <td>3</td>\n",
       "      <td>male</td>\n",
       "      <td>30.231444</td>\n",
       "      <td>0</td>\n",
       "      <td>0</td>\n",
       "      <td>7.7250</td>\n",
       "      <td>83</td>\n",
       "      <td>433</td>\n",
       "    </tr>\n",
       "    <tr>\n",
       "      <th>686</th>\n",
       "      <td>3</td>\n",
       "      <td>female</td>\n",
       "      <td>22.000000</td>\n",
       "      <td>0</td>\n",
       "      <td>0</td>\n",
       "      <td>7.7250</td>\n",
       "      <td>83</td>\n",
       "      <td>1</td>\n",
       "    </tr>\n",
       "    <tr>\n",
       "      <th>...</th>\n",
       "      <td>...</td>\n",
       "      <td>...</td>\n",
       "      <td>...</td>\n",
       "      <td>...</td>\n",
       "      <td>...</td>\n",
       "      <td>...</td>\n",
       "      <td>...</td>\n",
       "      <td>...</td>\n",
       "    </tr>\n",
       "    <tr>\n",
       "      <th>763</th>\n",
       "      <td>3</td>\n",
       "      <td>female</td>\n",
       "      <td>0.166700</td>\n",
       "      <td>1</td>\n",
       "      <td>2</td>\n",
       "      <td>20.5750</td>\n",
       "      <td>654</td>\n",
       "      <td>3</td>\n",
       "    </tr>\n",
       "    <tr>\n",
       "      <th>835</th>\n",
       "      <td>3</td>\n",
       "      <td>male</td>\n",
       "      <td>30.231444</td>\n",
       "      <td>0</td>\n",
       "      <td>0</td>\n",
       "      <td>8.0500</td>\n",
       "      <td>654</td>\n",
       "      <td>433</td>\n",
       "    </tr>\n",
       "    <tr>\n",
       "      <th>1216</th>\n",
       "      <td>3</td>\n",
       "      <td>female</td>\n",
       "      <td>30.231444</td>\n",
       "      <td>0</td>\n",
       "      <td>0</td>\n",
       "      <td>7.7333</td>\n",
       "      <td>83</td>\n",
       "      <td>433</td>\n",
       "    </tr>\n",
       "    <tr>\n",
       "      <th>559</th>\n",
       "      <td>2</td>\n",
       "      <td>female</td>\n",
       "      <td>20.000000</td>\n",
       "      <td>0</td>\n",
       "      <td>0</td>\n",
       "      <td>36.7500</td>\n",
       "      <td>654</td>\n",
       "      <td>2</td>\n",
       "    </tr>\n",
       "    <tr>\n",
       "      <th>684</th>\n",
       "      <td>3</td>\n",
       "      <td>female</td>\n",
       "      <td>32.000000</td>\n",
       "      <td>1</td>\n",
       "      <td>1</td>\n",
       "      <td>15.5000</td>\n",
       "      <td>83</td>\n",
       "      <td>3</td>\n",
       "    </tr>\n",
       "  </tbody>\n",
       "</table>\n",
       "<p>916 rows × 8 columns</p>\n",
       "</div>"
      ],
      "text/plain": [
       "      pclass     sex        age  sibsp  parch     fare  embarked  home.dest\n",
       "501        2  female  13.000000      0      1  19.5000       654          2\n",
       "588        2  female   4.000000      1      1  23.0000       654          5\n",
       "402        2  female  30.000000      1      0  13.8583       179          2\n",
       "1193       3    male  30.231444      0      0   7.7250        83        433\n",
       "686        3  female  22.000000      0      0   7.7250        83          1\n",
       "...      ...     ...        ...    ...    ...      ...       ...        ...\n",
       "763        3  female   0.166700      1      2  20.5750       654          3\n",
       "835        3    male  30.231444      0      0   8.0500       654        433\n",
       "1216       3  female  30.231444      0      0   7.7333        83        433\n",
       "559        2  female  20.000000      0      0  36.7500       654          2\n",
       "684        3  female  32.000000      1      1  15.5000        83          3\n",
       "\n",
       "[916 rows x 8 columns]"
      ]
     },
     "execution_count": 43,
     "metadata": {},
     "output_type": "execute_result"
    }
   ],
   "source": [
    "#Count encoding\n",
    "\n",
    "X_train_34 = X_train_32\n",
    "\n",
    "count_map = X_train_32['embarked'].value_counts().to_dict()\n",
    "X_train_34['embarked'] = X_train_32['embarked'].map(count_map)\n",
    "\n",
    "count_map = X_train_32['home.dest'].value_counts().to_dict()\n",
    "X_train_34['home.dest'] = X_train_32['home.dest'].map(count_map)\n",
    "\n",
    "X_train_34"
   ]
  },
  {
   "cell_type": "code",
   "execution_count": 44,
   "id": "2a7236d2",
   "metadata": {},
   "outputs": [
    {
     "data": {
      "text/html": [
       "<div>\n",
       "<style scoped>\n",
       "    .dataframe tbody tr th:only-of-type {\n",
       "        vertical-align: middle;\n",
       "    }\n",
       "\n",
       "    .dataframe tbody tr th {\n",
       "        vertical-align: top;\n",
       "    }\n",
       "\n",
       "    .dataframe thead th {\n",
       "        text-align: right;\n",
       "    }\n",
       "</style>\n",
       "<table border=\"1\" class=\"dataframe\">\n",
       "  <thead>\n",
       "    <tr style=\"text-align: right;\">\n",
       "      <th></th>\n",
       "      <th>pclass</th>\n",
       "      <th>age</th>\n",
       "      <th>sibsp</th>\n",
       "      <th>parch</th>\n",
       "      <th>fare</th>\n",
       "      <th>embarked</th>\n",
       "      <th>home.dest</th>\n",
       "      <th>sex_male</th>\n",
       "    </tr>\n",
       "  </thead>\n",
       "  <tbody>\n",
       "    <tr>\n",
       "      <th>501</th>\n",
       "      <td>2</td>\n",
       "      <td>13.000000</td>\n",
       "      <td>0</td>\n",
       "      <td>1</td>\n",
       "      <td>19.5000</td>\n",
       "      <td>654</td>\n",
       "      <td>2</td>\n",
       "      <td>0</td>\n",
       "    </tr>\n",
       "    <tr>\n",
       "      <th>588</th>\n",
       "      <td>2</td>\n",
       "      <td>4.000000</td>\n",
       "      <td>1</td>\n",
       "      <td>1</td>\n",
       "      <td>23.0000</td>\n",
       "      <td>654</td>\n",
       "      <td>5</td>\n",
       "      <td>0</td>\n",
       "    </tr>\n",
       "    <tr>\n",
       "      <th>402</th>\n",
       "      <td>2</td>\n",
       "      <td>30.000000</td>\n",
       "      <td>1</td>\n",
       "      <td>0</td>\n",
       "      <td>13.8583</td>\n",
       "      <td>179</td>\n",
       "      <td>2</td>\n",
       "      <td>0</td>\n",
       "    </tr>\n",
       "    <tr>\n",
       "      <th>1193</th>\n",
       "      <td>3</td>\n",
       "      <td>30.231444</td>\n",
       "      <td>0</td>\n",
       "      <td>0</td>\n",
       "      <td>7.7250</td>\n",
       "      <td>83</td>\n",
       "      <td>433</td>\n",
       "      <td>1</td>\n",
       "    </tr>\n",
       "    <tr>\n",
       "      <th>686</th>\n",
       "      <td>3</td>\n",
       "      <td>22.000000</td>\n",
       "      <td>0</td>\n",
       "      <td>0</td>\n",
       "      <td>7.7250</td>\n",
       "      <td>83</td>\n",
       "      <td>1</td>\n",
       "      <td>0</td>\n",
       "    </tr>\n",
       "    <tr>\n",
       "      <th>971</th>\n",
       "      <td>3</td>\n",
       "      <td>30.231444</td>\n",
       "      <td>0</td>\n",
       "      <td>0</td>\n",
       "      <td>7.8792</td>\n",
       "      <td>83</td>\n",
       "      <td>433</td>\n",
       "      <td>1</td>\n",
       "    </tr>\n",
       "    <tr>\n",
       "      <th>117</th>\n",
       "      <td>1</td>\n",
       "      <td>30.000000</td>\n",
       "      <td>0</td>\n",
       "      <td>0</td>\n",
       "      <td>56.9292</td>\n",
       "      <td>179</td>\n",
       "      <td>433</td>\n",
       "      <td>0</td>\n",
       "    </tr>\n",
       "    <tr>\n",
       "      <th>540</th>\n",
       "      <td>2</td>\n",
       "      <td>2.000000</td>\n",
       "      <td>1</td>\n",
       "      <td>1</td>\n",
       "      <td>26.0000</td>\n",
       "      <td>654</td>\n",
       "      <td>2</td>\n",
       "      <td>0</td>\n",
       "    </tr>\n",
       "    <tr>\n",
       "      <th>294</th>\n",
       "      <td>1</td>\n",
       "      <td>49.000000</td>\n",
       "      <td>1</td>\n",
       "      <td>1</td>\n",
       "      <td>110.8833</td>\n",
       "      <td>179</td>\n",
       "      <td>3</td>\n",
       "      <td>1</td>\n",
       "    </tr>\n",
       "    <tr>\n",
       "      <th>261</th>\n",
       "      <td>1</td>\n",
       "      <td>35.000000</td>\n",
       "      <td>0</td>\n",
       "      <td>0</td>\n",
       "      <td>26.2875</td>\n",
       "      <td>654</td>\n",
       "      <td>4</td>\n",
       "      <td>1</td>\n",
       "    </tr>\n",
       "  </tbody>\n",
       "</table>\n",
       "</div>"
      ],
      "text/plain": [
       "      pclass        age  sibsp  parch      fare  embarked  home.dest  sex_male\n",
       "501        2  13.000000      0      1   19.5000       654          2         0\n",
       "588        2   4.000000      1      1   23.0000       654          5         0\n",
       "402        2  30.000000      1      0   13.8583       179          2         0\n",
       "1193       3  30.231444      0      0    7.7250        83        433         1\n",
       "686        3  22.000000      0      0    7.7250        83          1         0\n",
       "971        3  30.231444      0      0    7.8792        83        433         1\n",
       "117        1  30.000000      0      0   56.9292       179        433         0\n",
       "540        2   2.000000      1      1   26.0000       654          2         0\n",
       "294        1  49.000000      1      1  110.8833       179          3         1\n",
       "261        1  35.000000      0      0   26.2875       654          4         1"
      ]
     },
     "execution_count": 44,
     "metadata": {},
     "output_type": "execute_result"
    }
   ],
   "source": [
    "#Get dummies encoding\n",
    "\n",
    "X_train_34 = pd.get_dummies(X_train_34, drop_first = True, dtype = int)\n",
    "X_train_34.head(10)"
   ]
  },
  {
   "cell_type": "code",
   "execution_count": 45,
   "id": "8c36b451",
   "metadata": {},
   "outputs": [
    {
     "data": {
      "text/plain": [
       "<Axes: >"
      ]
     },
     "execution_count": 45,
     "metadata": {},
     "output_type": "execute_result"
    },
    {
     "data": {
      "image/png": "[encoded data removed]",
      "text/plain": [
       "<Figure size 640x480 with 2 Axes>"
      ]
     },
     "metadata": {},
     "output_type": "display_data"
    }
   ],
   "source": [
    "#Correlation matrix\n",
    "\n",
    "import seaborn as sns\n",
    "corr = X_train_34.corr()\n",
    "sns.heatmap(corr, \n",
    "            xticklabels=corr.columns.values,\n",
    "            yticklabels=corr.columns.values)\n",
    "\n",
    "#add numbers to plot"
   ]
  },
  {
   "cell_type": "code",
   "execution_count": 46,
   "id": "926f2ee0",
   "metadata": {},
   "outputs": [
    {
     "name": "stdout",
     "output_type": "stream",
     "text": [
      "Correlation coefficient between \"survived\" and \" pclass \":  -0.3097346181512482\n",
      "Correlation coefficient between \"survived\" and \" age \":  -0.018281552609949816\n",
      "Correlation coefficient between \"survived\" and \" sibsp \":  -0.06988756318393864\n",
      "Correlation coefficient between \"survived\" and \" parch \":  0.0615657883927588\n",
      "Correlation coefficient between \"survived\" and \" fare \":  0.24146675835376247\n",
      "Correlation coefficient between \"survived\" and \" embarked \":  -0.13378204049862255\n",
      "Correlation coefficient between \"survived\" and \" home.dest \":  -0.14343768712380106\n",
      "Correlation coefficient between \"survived\" and \" sex_male \":  -0.5351382059530202\n"
     ]
    }
   ],
   "source": [
    "#Dependent variable correlation\n",
    "for variable in X_train_34:\n",
    "    print('Correlation coefficient between \"survived\" and \"', variable, '\": ',y_train.corr(X_train_34[variable]))"
   ]
  },
  {
   "cell_type": "markdown",
   "id": "cc83edb1",
   "metadata": {},
   "source": [
    "Variables 'sibsp', 'parch', 'embarked' and 'home.dest' has a small correlation with dependent variable, so they can be dropped."
   ]
  },
  {
   "cell_type": "code",
   "execution_count": 47,
   "id": "3da8894d",
   "metadata": {},
   "outputs": [],
   "source": [
    "X_train_35 = X_train_34.drop(['sibsp','parch','embarked','home.dest'], axis = 1)"
   ]
  },
  {
   "cell_type": "code",
   "execution_count": 48,
   "id": "485ef6a5",
   "metadata": {},
   "outputs": [
    {
     "data": {
      "text/html": [
       "<div>\n",
       "<style scoped>\n",
       "    .dataframe tbody tr th:only-of-type {\n",
       "        vertical-align: middle;\n",
       "    }\n",
       "\n",
       "    .dataframe tbody tr th {\n",
       "        vertical-align: top;\n",
       "    }\n",
       "\n",
       "    .dataframe thead th {\n",
       "        text-align: right;\n",
       "    }\n",
       "</style>\n",
       "<table border=\"1\" class=\"dataframe\">\n",
       "  <thead>\n",
       "    <tr style=\"text-align: right;\">\n",
       "      <th></th>\n",
       "      <th>pclass</th>\n",
       "      <th>age</th>\n",
       "      <th>fare</th>\n",
       "      <th>sex_male</th>\n",
       "    </tr>\n",
       "  </thead>\n",
       "  <tbody>\n",
       "    <tr>\n",
       "      <th>501</th>\n",
       "      <td>2</td>\n",
       "      <td>13.000000</td>\n",
       "      <td>19.5000</td>\n",
       "      <td>0</td>\n",
       "    </tr>\n",
       "    <tr>\n",
       "      <th>588</th>\n",
       "      <td>2</td>\n",
       "      <td>4.000000</td>\n",
       "      <td>23.0000</td>\n",
       "      <td>0</td>\n",
       "    </tr>\n",
       "    <tr>\n",
       "      <th>402</th>\n",
       "      <td>2</td>\n",
       "      <td>30.000000</td>\n",
       "      <td>13.8583</td>\n",
       "      <td>0</td>\n",
       "    </tr>\n",
       "    <tr>\n",
       "      <th>1193</th>\n",
       "      <td>3</td>\n",
       "      <td>30.231444</td>\n",
       "      <td>7.7250</td>\n",
       "      <td>1</td>\n",
       "    </tr>\n",
       "    <tr>\n",
       "      <th>686</th>\n",
       "      <td>3</td>\n",
       "      <td>22.000000</td>\n",
       "      <td>7.7250</td>\n",
       "      <td>0</td>\n",
       "    </tr>\n",
       "    <tr>\n",
       "      <th>...</th>\n",
       "      <td>...</td>\n",
       "      <td>...</td>\n",
       "      <td>...</td>\n",
       "      <td>...</td>\n",
       "    </tr>\n",
       "    <tr>\n",
       "      <th>763</th>\n",
       "      <td>3</td>\n",
       "      <td>0.166700</td>\n",
       "      <td>20.5750</td>\n",
       "      <td>0</td>\n",
       "    </tr>\n",
       "    <tr>\n",
       "      <th>835</th>\n",
       "      <td>3</td>\n",
       "      <td>30.231444</td>\n",
       "      <td>8.0500</td>\n",
       "      <td>1</td>\n",
       "    </tr>\n",
       "    <tr>\n",
       "      <th>1216</th>\n",
       "      <td>3</td>\n",
       "      <td>30.231444</td>\n",
       "      <td>7.7333</td>\n",
       "      <td>0</td>\n",
       "    </tr>\n",
       "    <tr>\n",
       "      <th>559</th>\n",
       "      <td>2</td>\n",
       "      <td>20.000000</td>\n",
       "      <td>36.7500</td>\n",
       "      <td>0</td>\n",
       "    </tr>\n",
       "    <tr>\n",
       "      <th>684</th>\n",
       "      <td>3</td>\n",
       "      <td>32.000000</td>\n",
       "      <td>15.5000</td>\n",
       "      <td>0</td>\n",
       "    </tr>\n",
       "  </tbody>\n",
       "</table>\n",
       "<p>916 rows × 4 columns</p>\n",
       "</div>"
      ],
      "text/plain": [
       "      pclass        age     fare  sex_male\n",
       "501        2  13.000000  19.5000         0\n",
       "588        2   4.000000  23.0000         0\n",
       "402        2  30.000000  13.8583         0\n",
       "1193       3  30.231444   7.7250         1\n",
       "686        3  22.000000   7.7250         0\n",
       "...      ...        ...      ...       ...\n",
       "763        3   0.166700  20.5750         0\n",
       "835        3  30.231444   8.0500         1\n",
       "1216       3  30.231444   7.7333         0\n",
       "559        2  20.000000  36.7500         0\n",
       "684        3  32.000000  15.5000         0\n",
       "\n",
       "[916 rows x 4 columns]"
      ]
     },
     "execution_count": 48,
     "metadata": {},
     "output_type": "execute_result"
    }
   ],
   "source": [
    "X_train_35"
   ]
  },
  {
   "cell_type": "markdown",
   "id": "64ac3823",
   "metadata": {},
   "source": [
    "<h3>3.4. Transformation/Discretization</h3>"
   ]
  },
  {
   "cell_type": "code",
   "execution_count": 49,
   "id": "b0dc5109",
   "metadata": {},
   "outputs": [],
   "source": [
    "import scipy.stats as stats"
   ]
  },
  {
   "cell_type": "code",
   "execution_count": 50,
   "id": "c636d8e4",
   "metadata": {},
   "outputs": [
    {
     "data": {
      "image/png": "[encoded data removed]",
      "text/plain": [
       "<Figure size 640x480 with 1 Axes>"
      ]
     },
     "metadata": {},
     "output_type": "display_data"
    },
    {
     "data": {
      "image/png": "[encoded data removed]",
      "text/plain": [
       "<Figure size 640x480 with 1 Axes>"
      ]
     },
     "metadata": {},
     "output_type": "display_data"
    },
    {
     "data": {
      "image/png": "[encoded data removed]",
      "text/plain": [
       "<Figure size 640x480 with 1 Axes>"
      ]
     },
     "metadata": {},
     "output_type": "display_data"
    },
    {
     "data": {
      "image/png": "[encoded data removed]",
      "text/plain": [
       "<Figure size 640x480 with 1 Axes>"
      ]
     },
     "metadata": {},
     "output_type": "display_data"
    },
    {
     "data": {
      "image/png": "[encoded data removed]",
      "text/plain": [
       "<Figure size 640x480 with 1 Axes>"
      ]
     },
     "metadata": {},
     "output_type": "display_data"
    }
   ],
   "source": [
    "#age transformation\n",
    "X_train_35['age_log'] = np.log(X_train_35['age'])\n",
    "X_train_35['age_boxcox'], param = stats.boxcox(X_train_35['age'])\n",
    "X_train_35['age_reciprocal'] = 1 / X_train_35['age']\n",
    "X_train_35['age_sqr'] = X_train_35['age']**(1/2)\n",
    "\n",
    "\n",
    "plt.hist(X_train_35['age'], edgecolor = 'black', bins=30)\n",
    "plt.xlabel('age')\n",
    "plt.show()\n",
    "\n",
    "plt.hist(X_train_35['age_log'], edgecolor = 'black', bins=30)\n",
    "plt.xlabel('age_log')\n",
    "plt.show()\n",
    "\n",
    "plt.hist(X_train_35['age_boxcox'], edgecolor = 'black', bins=30)\n",
    "plt.xlabel('age_boxcox')\n",
    "plt.show()\n",
    "\n",
    "plt.hist(X_train_35['age_reciprocal'], edgecolor = 'black', bins=30)\n",
    "plt.xlabel('age_reciprocal')\n",
    "plt.show()\n",
    "\n",
    "plt.hist(X_train_35['age_sqr'], edgecolor = 'black', bins=30)\n",
    "plt.xlabel('age_sqr')\n",
    "plt.show()\n",
    "\n",
    "\n",
    "#choose age_boxcox"
   ]
  },
  {
   "cell_type": "code",
   "execution_count": 51,
   "id": "a5757370",
   "metadata": {},
   "outputs": [
    {
     "data": {
      "image/png": "[encoded data removed]",
      "text/plain": [
       "<Figure size 640x480 with 1 Axes>"
      ]
     },
     "metadata": {},
     "output_type": "display_data"
    },
    {
     "data": {
      "image/png": "[encoded data removed]",
      "text/plain": [
       "<Figure size 640x480 with 1 Axes>"
      ]
     },
     "metadata": {},
     "output_type": "display_data"
    }
   ],
   "source": [
    "#fare transformation\n",
    "X_train_35['fare_sqr'] = X_train_35['fare']**(1/2)\n",
    "\n",
    "\n",
    "plt.hist(X_train_35['fare'], edgecolor = 'black', bins=30)\n",
    "plt.xlabel('fare')\n",
    "plt.show()\n",
    "\n",
    "plt.hist(X_train_35['fare_sqr'], edgecolor = 'black', bins=30)\n",
    "plt.xlabel('fare_sqr')\n",
    "plt.show()\n",
    "\n",
    "\n",
    "#choose fare_sqr"
   ]
  },
  {
   "cell_type": "code",
   "execution_count": 52,
   "id": "084dbc68",
   "metadata": {},
   "outputs": [
    {
     "data": {
      "text/html": [
       "<div>\n",
       "<style scoped>\n",
       "    .dataframe tbody tr th:only-of-type {\n",
       "        vertical-align: middle;\n",
       "    }\n",
       "\n",
       "    .dataframe tbody tr th {\n",
       "        vertical-align: top;\n",
       "    }\n",
       "\n",
       "    .dataframe thead th {\n",
       "        text-align: right;\n",
       "    }\n",
       "</style>\n",
       "<table border=\"1\" class=\"dataframe\">\n",
       "  <thead>\n",
       "    <tr style=\"text-align: right;\">\n",
       "      <th></th>\n",
       "      <th>pclass</th>\n",
       "      <th>age</th>\n",
       "      <th>fare</th>\n",
       "      <th>sex_male</th>\n",
       "      <th>age_log</th>\n",
       "      <th>age_boxcox</th>\n",
       "      <th>age_reciprocal</th>\n",
       "      <th>age_sqr</th>\n",
       "      <th>fare_sqr</th>\n",
       "    </tr>\n",
       "  </thead>\n",
       "  <tbody>\n",
       "    <tr>\n",
       "      <th>501</th>\n",
       "      <td>2</td>\n",
       "      <td>13.000000</td>\n",
       "      <td>19.5000</td>\n",
       "      <td>0</td>\n",
       "      <td>2.564949</td>\n",
       "      <td>8.874353</td>\n",
       "      <td>0.076923</td>\n",
       "      <td>3.605551</td>\n",
       "      <td>4.415880</td>\n",
       "    </tr>\n",
       "    <tr>\n",
       "      <th>588</th>\n",
       "      <td>2</td>\n",
       "      <td>4.000000</td>\n",
       "      <td>23.0000</td>\n",
       "      <td>0</td>\n",
       "      <td>1.386294</td>\n",
       "      <td>2.595822</td>\n",
       "      <td>0.250000</td>\n",
       "      <td>2.000000</td>\n",
       "      <td>4.795832</td>\n",
       "    </tr>\n",
       "    <tr>\n",
       "      <th>402</th>\n",
       "      <td>2</td>\n",
       "      <td>30.000000</td>\n",
       "      <td>13.8583</td>\n",
       "      <td>0</td>\n",
       "      <td>3.401197</td>\n",
       "      <td>18.923603</td>\n",
       "      <td>0.033333</td>\n",
       "      <td>5.477226</td>\n",
       "      <td>3.722674</td>\n",
       "    </tr>\n",
       "    <tr>\n",
       "      <th>1193</th>\n",
       "      <td>3</td>\n",
       "      <td>30.231444</td>\n",
       "      <td>7.7250</td>\n",
       "      <td>1</td>\n",
       "      <td>3.408883</td>\n",
       "      <td>19.051943</td>\n",
       "      <td>0.033078</td>\n",
       "      <td>5.498313</td>\n",
       "      <td>2.779388</td>\n",
       "    </tr>\n",
       "    <tr>\n",
       "      <th>686</th>\n",
       "      <td>3</td>\n",
       "      <td>22.000000</td>\n",
       "      <td>7.7250</td>\n",
       "      <td>0</td>\n",
       "      <td>3.091042</td>\n",
       "      <td>14.369465</td>\n",
       "      <td>0.045455</td>\n",
       "      <td>4.690416</td>\n",
       "      <td>2.779388</td>\n",
       "    </tr>\n",
       "    <tr>\n",
       "      <th>...</th>\n",
       "      <td>...</td>\n",
       "      <td>...</td>\n",
       "      <td>...</td>\n",
       "      <td>...</td>\n",
       "      <td>...</td>\n",
       "      <td>...</td>\n",
       "      <td>...</td>\n",
       "      <td>...</td>\n",
       "      <td>...</td>\n",
       "    </tr>\n",
       "    <tr>\n",
       "      <th>763</th>\n",
       "      <td>3</td>\n",
       "      <td>0.166700</td>\n",
       "      <td>20.5750</td>\n",
       "      <td>0</td>\n",
       "      <td>-1.791559</td>\n",
       "      <td>-0.934488</td>\n",
       "      <td>5.998800</td>\n",
       "      <td>0.408289</td>\n",
       "      <td>4.535967</td>\n",
       "    </tr>\n",
       "    <tr>\n",
       "      <th>835</th>\n",
       "      <td>3</td>\n",
       "      <td>30.231444</td>\n",
       "      <td>8.0500</td>\n",
       "      <td>1</td>\n",
       "      <td>3.408883</td>\n",
       "      <td>19.051943</td>\n",
       "      <td>0.033078</td>\n",
       "      <td>5.498313</td>\n",
       "      <td>2.837252</td>\n",
       "    </tr>\n",
       "    <tr>\n",
       "      <th>1216</th>\n",
       "      <td>3</td>\n",
       "      <td>30.231444</td>\n",
       "      <td>7.7333</td>\n",
       "      <td>0</td>\n",
       "      <td>3.408883</td>\n",
       "      <td>19.051943</td>\n",
       "      <td>0.033078</td>\n",
       "      <td>5.498313</td>\n",
       "      <td>2.780881</td>\n",
       "    </tr>\n",
       "    <tr>\n",
       "      <th>559</th>\n",
       "      <td>2</td>\n",
       "      <td>20.000000</td>\n",
       "      <td>36.7500</td>\n",
       "      <td>0</td>\n",
       "      <td>2.995732</td>\n",
       "      <td>13.188897</td>\n",
       "      <td>0.050000</td>\n",
       "      <td>4.472136</td>\n",
       "      <td>6.062178</td>\n",
       "    </tr>\n",
       "    <tr>\n",
       "      <th>684</th>\n",
       "      <td>3</td>\n",
       "      <td>32.000000</td>\n",
       "      <td>15.5000</td>\n",
       "      <td>0</td>\n",
       "      <td>3.465736</td>\n",
       "      <td>20.027129</td>\n",
       "      <td>0.031250</td>\n",
       "      <td>5.656854</td>\n",
       "      <td>3.937004</td>\n",
       "    </tr>\n",
       "  </tbody>\n",
       "</table>\n",
       "<p>916 rows × 9 columns</p>\n",
       "</div>"
      ],
      "text/plain": [
       "      pclass        age     fare  sex_male   age_log  age_boxcox  \\\n",
       "501        2  13.000000  19.5000         0  2.564949    8.874353   \n",
       "588        2   4.000000  23.0000         0  1.386294    2.595822   \n",
       "402        2  30.000000  13.8583         0  3.401197   18.923603   \n",
       "1193       3  30.231444   7.7250         1  3.408883   19.051943   \n",
       "686        3  22.000000   7.7250         0  3.091042   14.369465   \n",
       "...      ...        ...      ...       ...       ...         ...   \n",
       "763        3   0.166700  20.5750         0 -1.791559   -0.934488   \n",
       "835        3  30.231444   8.0500         1  3.408883   19.051943   \n",
       "1216       3  30.231444   7.7333         0  3.408883   19.051943   \n",
       "559        2  20.000000  36.7500         0  2.995732   13.188897   \n",
       "684        3  32.000000  15.5000         0  3.465736   20.027129   \n",
       "\n",
       "      age_reciprocal   age_sqr  fare_sqr  \n",
       "501         0.076923  3.605551  4.415880  \n",
       "588         0.250000  2.000000  4.795832  \n",
       "402         0.033333  5.477226  3.722674  \n",
       "1193        0.033078  5.498313  2.779388  \n",
       "686         0.045455  4.690416  2.779388  \n",
       "...              ...       ...       ...  \n",
       "763         5.998800  0.408289  4.535967  \n",
       "835         0.033078  5.498313  2.837252  \n",
       "1216        0.033078  5.498313  2.780881  \n",
       "559         0.050000  4.472136  6.062178  \n",
       "684         0.031250  5.656854  3.937004  \n",
       "\n",
       "[916 rows x 9 columns]"
      ]
     },
     "execution_count": 52,
     "metadata": {},
     "output_type": "execute_result"
    }
   ],
   "source": [
    "X_train_35"
   ]
  },
  {
   "cell_type": "code",
   "execution_count": 53,
   "id": "1fcaf81b",
   "metadata": {},
   "outputs": [],
   "source": [
    "X_train_35['fare'] = X_train_35['fare_sqr']\n",
    "X_train_35['age'] = X_train_35['age_boxcox']\n",
    "\n",
    "X_train_35 = X_train_35.drop(['age_log','age_reciprocal','age_sqr','age_boxcox','fare_sqr'], axis = 1)\n"
   ]
  },
  {
   "cell_type": "code",
   "execution_count": 54,
   "id": "a8ff3d19",
   "metadata": {},
   "outputs": [
    {
     "data": {
      "text/html": [
       "<div>\n",
       "<style scoped>\n",
       "    .dataframe tbody tr th:only-of-type {\n",
       "        vertical-align: middle;\n",
       "    }\n",
       "\n",
       "    .dataframe tbody tr th {\n",
       "        vertical-align: top;\n",
       "    }\n",
       "\n",
       "    .dataframe thead th {\n",
       "        text-align: right;\n",
       "    }\n",
       "</style>\n",
       "<table border=\"1\" class=\"dataframe\">\n",
       "  <thead>\n",
       "    <tr style=\"text-align: right;\">\n",
       "      <th></th>\n",
       "      <th>pclass</th>\n",
       "      <th>age</th>\n",
       "      <th>fare</th>\n",
       "      <th>sex_male</th>\n",
       "    </tr>\n",
       "  </thead>\n",
       "  <tbody>\n",
       "    <tr>\n",
       "      <th>501</th>\n",
       "      <td>2</td>\n",
       "      <td>8.874353</td>\n",
       "      <td>4.415880</td>\n",
       "      <td>0</td>\n",
       "    </tr>\n",
       "    <tr>\n",
       "      <th>588</th>\n",
       "      <td>2</td>\n",
       "      <td>2.595822</td>\n",
       "      <td>4.795832</td>\n",
       "      <td>0</td>\n",
       "    </tr>\n",
       "    <tr>\n",
       "      <th>402</th>\n",
       "      <td>2</td>\n",
       "      <td>18.923603</td>\n",
       "      <td>3.722674</td>\n",
       "      <td>0</td>\n",
       "    </tr>\n",
       "    <tr>\n",
       "      <th>1193</th>\n",
       "      <td>3</td>\n",
       "      <td>19.051943</td>\n",
       "      <td>2.779388</td>\n",
       "      <td>1</td>\n",
       "    </tr>\n",
       "    <tr>\n",
       "      <th>686</th>\n",
       "      <td>3</td>\n",
       "      <td>14.369465</td>\n",
       "      <td>2.779388</td>\n",
       "      <td>0</td>\n",
       "    </tr>\n",
       "    <tr>\n",
       "      <th>...</th>\n",
       "      <td>...</td>\n",
       "      <td>...</td>\n",
       "      <td>...</td>\n",
       "      <td>...</td>\n",
       "    </tr>\n",
       "    <tr>\n",
       "      <th>763</th>\n",
       "      <td>3</td>\n",
       "      <td>-0.934488</td>\n",
       "      <td>4.535967</td>\n",
       "      <td>0</td>\n",
       "    </tr>\n",
       "    <tr>\n",
       "      <th>835</th>\n",
       "      <td>3</td>\n",
       "      <td>19.051943</td>\n",
       "      <td>2.837252</td>\n",
       "      <td>1</td>\n",
       "    </tr>\n",
       "    <tr>\n",
       "      <th>1216</th>\n",
       "      <td>3</td>\n",
       "      <td>19.051943</td>\n",
       "      <td>2.780881</td>\n",
       "      <td>0</td>\n",
       "    </tr>\n",
       "    <tr>\n",
       "      <th>559</th>\n",
       "      <td>2</td>\n",
       "      <td>13.188897</td>\n",
       "      <td>6.062178</td>\n",
       "      <td>0</td>\n",
       "    </tr>\n",
       "    <tr>\n",
       "      <th>684</th>\n",
       "      <td>3</td>\n",
       "      <td>20.027129</td>\n",
       "      <td>3.937004</td>\n",
       "      <td>0</td>\n",
       "    </tr>\n",
       "  </tbody>\n",
       "</table>\n",
       "<p>916 rows × 4 columns</p>\n",
       "</div>"
      ],
      "text/plain": [
       "      pclass        age      fare  sex_male\n",
       "501        2   8.874353  4.415880         0\n",
       "588        2   2.595822  4.795832         0\n",
       "402        2  18.923603  3.722674         0\n",
       "1193       3  19.051943  2.779388         1\n",
       "686        3  14.369465  2.779388         0\n",
       "...      ...        ...       ...       ...\n",
       "763        3  -0.934488  4.535967         0\n",
       "835        3  19.051943  2.837252         1\n",
       "1216       3  19.051943  2.780881         0\n",
       "559        2  13.188897  6.062178         0\n",
       "684        3  20.027129  3.937004         0\n",
       "\n",
       "[916 rows x 4 columns]"
      ]
     },
     "execution_count": 54,
     "metadata": {},
     "output_type": "execute_result"
    }
   ],
   "source": [
    "X_train_35"
   ]
  },
  {
   "cell_type": "code",
   "execution_count": 55,
   "id": "c3bb7b52",
   "metadata": {},
   "outputs": [
    {
     "data": {
      "text/html": [
       "<style>#sk-container-id-1 {color: black;background-color: white;}#sk-container-id-1 pre{padding: 0;}#sk-container-id-1 div.sk-toggleable {background-color: white;}#sk-container-id-1 label.sk-toggleable__label {cursor: pointer;display: block;width: 100%;margin-bottom: 0;padding: 0.3em;box-sizing: border-box;text-align: center;}#sk-container-id-1 label.sk-toggleable__label-arrow:before {content: \"▸\";float: left;margin-right: 0.25em;color: #696969;}#sk-container-id-1 label.sk-toggleable__label-arrow:hover:before {color: black;}#sk-container-id-1 div.sk-estimator:hover label.sk-toggleable__label-arrow:before {color: black;}#sk-container-id-1 div.sk-toggleable__content {max-height: 0;max-width: 0;overflow: hidden;text-align: left;background-color: #f0f8ff;}#sk-container-id-1 div.sk-toggleable__content pre {margin: 0.2em;color: black;border-radius: 0.25em;background-color: #f0f8ff;}#sk-container-id-1 input.sk-toggleable__control:checked~div.sk-toggleable__content {max-height: 200px;max-width: 100%;overflow: auto;}#sk-container-id-1 input.sk-toggleable__control:checked~label.sk-toggleable__label-arrow:before {content: \"▾\";}#sk-container-id-1 div.sk-estimator input.sk-toggleable__control:checked~label.sk-toggleable__label {background-color: #d4ebff;}#sk-container-id-1 div.sk-label input.sk-toggleable__control:checked~label.sk-toggleable__label {background-color: #d4ebff;}#sk-container-id-1 input.sk-hidden--visually {border: 0;clip: rect(1px 1px 1px 1px);clip: rect(1px, 1px, 1px, 1px);height: 1px;margin: -1px;overflow: hidden;padding: 0;position: absolute;width: 1px;}#sk-container-id-1 div.sk-estimator {font-family: monospace;background-color: #f0f8ff;border: 1px dotted black;border-radius: 0.25em;box-sizing: border-box;margin-bottom: 0.5em;}#sk-container-id-1 div.sk-estimator:hover {background-color: #d4ebff;}#sk-container-id-1 div.sk-parallel-item::after {content: \"\";width: 100%;border-bottom: 1px solid gray;flex-grow: 1;}#sk-container-id-1 div.sk-label:hover label.sk-toggleable__label {background-color: #d4ebff;}#sk-container-id-1 div.sk-serial::before {content: \"\";position: absolute;border-left: 1px solid gray;box-sizing: border-box;top: 0;bottom: 0;left: 50%;z-index: 0;}#sk-container-id-1 div.sk-serial {display: flex;flex-direction: column;align-items: center;background-color: white;padding-right: 0.2em;padding-left: 0.2em;position: relative;}#sk-container-id-1 div.sk-item {position: relative;z-index: 1;}#sk-container-id-1 div.sk-parallel {display: flex;align-items: stretch;justify-content: center;background-color: white;position: relative;}#sk-container-id-1 div.sk-item::before, #sk-container-id-1 div.sk-parallel-item::before {content: \"\";position: absolute;border-left: 1px solid gray;box-sizing: border-box;top: 0;bottom: 0;left: 50%;z-index: -1;}#sk-container-id-1 div.sk-parallel-item {display: flex;flex-direction: column;z-index: 1;position: relative;background-color: white;}#sk-container-id-1 div.sk-parallel-item:first-child::after {align-self: flex-end;width: 50%;}#sk-container-id-1 div.sk-parallel-item:last-child::after {align-self: flex-start;width: 50%;}#sk-container-id-1 div.sk-parallel-item:only-child::after {width: 0;}#sk-container-id-1 div.sk-dashed-wrapped {border: 1px dashed gray;margin: 0 0.4em 0.5em 0.4em;box-sizing: border-box;padding-bottom: 0.4em;background-color: white;}#sk-container-id-1 div.sk-label label {font-family: monospace;font-weight: bold;display: inline-block;line-height: 1.2em;}#sk-container-id-1 div.sk-label-container {text-align: center;}#sk-container-id-1 div.sk-container {/* jupyter's `normalize.less` sets `[hidden] { display: none; }` but bootstrap.min.css set `[hidden] { display: none !important; }` so we also need the `!important` here to be able to override the default hidden behavior on the sphinx rendered scikit-learn.org. See: https://github.com/scikit-learn/scikit-learn/issues/21755 */display: inline-block !important;position: relative;}#sk-container-id-1 div.sk-text-repr-fallback {display: none;}</style><div id=\"sk-container-id-1\" class=\"sk-top-container\"><div class=\"sk-text-repr-fallback\"><pre>DecisionTreeDiscretiser(cv=10, regression=False, scoring=&#x27;accuracy&#x27;,\n",
       "                        variables=[&#x27;age&#x27;])</pre><b>In a Jupyter environment, please rerun this cell to show the HTML representation or trust the notebook. <br />On GitHub, the HTML representation is unable to render, please try loading this page with nbviewer.org.</b></div><div class=\"sk-container\" hidden><div class=\"sk-item\"><div class=\"sk-estimator sk-toggleable\"><input class=\"sk-toggleable__control sk-hidden--visually\" id=\"sk-estimator-id-1\" type=\"checkbox\" checked><label for=\"sk-estimator-id-1\" class=\"sk-toggleable__label sk-toggleable__label-arrow\">DecisionTreeDiscretiser</label><div class=\"sk-toggleable__content\"><pre>DecisionTreeDiscretiser(cv=10, regression=False, scoring=&#x27;accuracy&#x27;,\n",
       "                        variables=[&#x27;age&#x27;])</pre></div></div></div></div></div>"
      ],
      "text/plain": [
       "DecisionTreeDiscretiser(cv=10, regression=False, scoring='accuracy',\n",
       "                        variables=['age'])"
      ]
     },
     "execution_count": 55,
     "metadata": {},
     "output_type": "execute_result"
    }
   ],
   "source": [
    "#age discretisation\n",
    "\n",
    "treeDisc = DecisionTreeDiscretiser(\n",
    "    cv = 10,\n",
    "    scoring = 'accuracy',\n",
    "    variables = ['age'],\n",
    "    regression = False\n",
    ")\n",
    "\n",
    "treeDisc.fit(X_train_35, y_train)"
   ]
  },
  {
   "cell_type": "code",
   "execution_count": 56,
   "id": "45f43e27",
   "metadata": {},
   "outputs": [],
   "source": [
    "train_t = treeDisc.transform(X_train_35)"
   ]
  },
  {
   "cell_type": "code",
   "execution_count": 57,
   "id": "ee0e7bcb",
   "metadata": {},
   "outputs": [
    {
     "data": {
      "text/html": [
       "<div>\n",
       "<style scoped>\n",
       "    .dataframe tbody tr th:only-of-type {\n",
       "        vertical-align: middle;\n",
       "    }\n",
       "\n",
       "    .dataframe tbody tr th {\n",
       "        vertical-align: top;\n",
       "    }\n",
       "\n",
       "    .dataframe thead th {\n",
       "        text-align: right;\n",
       "    }\n",
       "</style>\n",
       "<table border=\"1\" class=\"dataframe\">\n",
       "  <thead>\n",
       "    <tr style=\"text-align: right;\">\n",
       "      <th></th>\n",
       "      <th>pclass</th>\n",
       "      <th>age</th>\n",
       "      <th>fare</th>\n",
       "      <th>sex_male</th>\n",
       "    </tr>\n",
       "  </thead>\n",
       "  <tbody>\n",
       "    <tr>\n",
       "      <th>501</th>\n",
       "      <td>2</td>\n",
       "      <td>0.382199</td>\n",
       "      <td>4.415880</td>\n",
       "      <td>0</td>\n",
       "    </tr>\n",
       "    <tr>\n",
       "      <th>588</th>\n",
       "      <td>2</td>\n",
       "      <td>0.589744</td>\n",
       "      <td>4.795832</td>\n",
       "      <td>0</td>\n",
       "    </tr>\n",
       "    <tr>\n",
       "      <th>402</th>\n",
       "      <td>2</td>\n",
       "      <td>0.382199</td>\n",
       "      <td>3.722674</td>\n",
       "      <td>0</td>\n",
       "    </tr>\n",
       "    <tr>\n",
       "      <th>1193</th>\n",
       "      <td>3</td>\n",
       "      <td>0.267045</td>\n",
       "      <td>2.779388</td>\n",
       "      <td>1</td>\n",
       "    </tr>\n",
       "    <tr>\n",
       "      <th>686</th>\n",
       "      <td>3</td>\n",
       "      <td>0.382199</td>\n",
       "      <td>2.779388</td>\n",
       "      <td>0</td>\n",
       "    </tr>\n",
       "    <tr>\n",
       "      <th>971</th>\n",
       "      <td>3</td>\n",
       "      <td>0.267045</td>\n",
       "      <td>2.806991</td>\n",
       "      <td>1</td>\n",
       "    </tr>\n",
       "    <tr>\n",
       "      <th>117</th>\n",
       "      <td>1</td>\n",
       "      <td>0.382199</td>\n",
       "      <td>7.545144</td>\n",
       "      <td>0</td>\n",
       "    </tr>\n",
       "    <tr>\n",
       "      <th>540</th>\n",
       "      <td>2</td>\n",
       "      <td>0.589744</td>\n",
       "      <td>5.099020</td>\n",
       "      <td>0</td>\n",
       "    </tr>\n",
       "    <tr>\n",
       "      <th>294</th>\n",
       "      <td>1</td>\n",
       "      <td>0.436482</td>\n",
       "      <td>10.530114</td>\n",
       "      <td>1</td>\n",
       "    </tr>\n",
       "    <tr>\n",
       "      <th>261</th>\n",
       "      <td>1</td>\n",
       "      <td>0.436482</td>\n",
       "      <td>5.127134</td>\n",
       "      <td>1</td>\n",
       "    </tr>\n",
       "  </tbody>\n",
       "</table>\n",
       "</div>"
      ],
      "text/plain": [
       "      pclass       age       fare  sex_male\n",
       "501        2  0.382199   4.415880         0\n",
       "588        2  0.589744   4.795832         0\n",
       "402        2  0.382199   3.722674         0\n",
       "1193       3  0.267045   2.779388         1\n",
       "686        3  0.382199   2.779388         0\n",
       "971        3  0.267045   2.806991         1\n",
       "117        1  0.382199   7.545144         0\n",
       "540        2  0.589744   5.099020         0\n",
       "294        1  0.436482  10.530114         1\n",
       "261        1  0.436482   5.127134         1"
      ]
     },
     "execution_count": 57,
     "metadata": {},
     "output_type": "execute_result"
    }
   ],
   "source": [
    "train_t.head(10)"
   ]
  },
  {
   "cell_type": "code",
   "execution_count": 58,
   "id": "d43eed73",
   "metadata": {},
   "outputs": [],
   "source": [
    "X_train_35 = train_t"
   ]
  },
  {
   "cell_type": "code",
   "execution_count": 59,
   "id": "4d8525cb",
   "metadata": {},
   "outputs": [
    {
     "data": {
      "text/html": [
       "<div>\n",
       "<style scoped>\n",
       "    .dataframe tbody tr th:only-of-type {\n",
       "        vertical-align: middle;\n",
       "    }\n",
       "\n",
       "    .dataframe tbody tr th {\n",
       "        vertical-align: top;\n",
       "    }\n",
       "\n",
       "    .dataframe thead th {\n",
       "        text-align: right;\n",
       "    }\n",
       "</style>\n",
       "<table border=\"1\" class=\"dataframe\">\n",
       "  <thead>\n",
       "    <tr style=\"text-align: right;\">\n",
       "      <th></th>\n",
       "      <th>pclass</th>\n",
       "      <th>age</th>\n",
       "      <th>fare</th>\n",
       "      <th>sex_male</th>\n",
       "    </tr>\n",
       "  </thead>\n",
       "  <tbody>\n",
       "    <tr>\n",
       "      <th>501</th>\n",
       "      <td>2</td>\n",
       "      <td>0.382199</td>\n",
       "      <td>4.415880</td>\n",
       "      <td>0</td>\n",
       "    </tr>\n",
       "    <tr>\n",
       "      <th>588</th>\n",
       "      <td>2</td>\n",
       "      <td>0.589744</td>\n",
       "      <td>4.795832</td>\n",
       "      <td>0</td>\n",
       "    </tr>\n",
       "    <tr>\n",
       "      <th>402</th>\n",
       "      <td>2</td>\n",
       "      <td>0.382199</td>\n",
       "      <td>3.722674</td>\n",
       "      <td>0</td>\n",
       "    </tr>\n",
       "    <tr>\n",
       "      <th>1193</th>\n",
       "      <td>3</td>\n",
       "      <td>0.267045</td>\n",
       "      <td>2.779388</td>\n",
       "      <td>1</td>\n",
       "    </tr>\n",
       "    <tr>\n",
       "      <th>686</th>\n",
       "      <td>3</td>\n",
       "      <td>0.382199</td>\n",
       "      <td>2.779388</td>\n",
       "      <td>0</td>\n",
       "    </tr>\n",
       "    <tr>\n",
       "      <th>971</th>\n",
       "      <td>3</td>\n",
       "      <td>0.267045</td>\n",
       "      <td>2.806991</td>\n",
       "      <td>1</td>\n",
       "    </tr>\n",
       "    <tr>\n",
       "      <th>117</th>\n",
       "      <td>1</td>\n",
       "      <td>0.382199</td>\n",
       "      <td>7.545144</td>\n",
       "      <td>0</td>\n",
       "    </tr>\n",
       "    <tr>\n",
       "      <th>540</th>\n",
       "      <td>2</td>\n",
       "      <td>0.589744</td>\n",
       "      <td>5.099020</td>\n",
       "      <td>0</td>\n",
       "    </tr>\n",
       "    <tr>\n",
       "      <th>294</th>\n",
       "      <td>1</td>\n",
       "      <td>0.436482</td>\n",
       "      <td>10.530114</td>\n",
       "      <td>1</td>\n",
       "    </tr>\n",
       "    <tr>\n",
       "      <th>261</th>\n",
       "      <td>1</td>\n",
       "      <td>0.436482</td>\n",
       "      <td>5.127134</td>\n",
       "      <td>1</td>\n",
       "    </tr>\n",
       "  </tbody>\n",
       "</table>\n",
       "</div>"
      ],
      "text/plain": [
       "      pclass       age       fare  sex_male\n",
       "501        2  0.382199   4.415880         0\n",
       "588        2  0.589744   4.795832         0\n",
       "402        2  0.382199   3.722674         0\n",
       "1193       3  0.267045   2.779388         1\n",
       "686        3  0.382199   2.779388         0\n",
       "971        3  0.267045   2.806991         1\n",
       "117        1  0.382199   7.545144         0\n",
       "540        2  0.589744   5.099020         0\n",
       "294        1  0.436482  10.530114         1\n",
       "261        1  0.436482   5.127134         1"
      ]
     },
     "execution_count": 59,
     "metadata": {},
     "output_type": "execute_result"
    }
   ],
   "source": [
    "X_train_35.head(10)"
   ]
  },
  {
   "cell_type": "markdown",
   "id": "c0454c20",
   "metadata": {},
   "source": [
    "<h3>3.5. Feature Scaling</h3>"
   ]
  },
  {
   "cell_type": "code",
   "execution_count": 60,
   "id": "3ad57306",
   "metadata": {},
   "outputs": [],
   "source": [
    "#StandardScaler\n",
    "\n",
    "from sklearn.preprocessing import StandardScaler\n",
    "scaler = StandardScaler()\n",
    "X_train_36 = scaler.fit_transform(X_train_35)\n",
    "\n",
    "#test another Scalers\n",
    "X_train_35 = pd.DataFrame(X_train_35)"
   ]
  },
  {
   "cell_type": "code",
   "execution_count": 61,
   "id": "c06a8bd8",
   "metadata": {},
   "outputs": [],
   "source": [
    "X_train_36 = pd.DataFrame(X_train_36, columns = X_train_35.columns)"
   ]
  },
  {
   "cell_type": "code",
   "execution_count": 62,
   "id": "55c3d6be",
   "metadata": {},
   "outputs": [
    {
     "data": {
      "text/html": [
       "<div>\n",
       "<style scoped>\n",
       "    .dataframe tbody tr th:only-of-type {\n",
       "        vertical-align: middle;\n",
       "    }\n",
       "\n",
       "    .dataframe tbody tr th {\n",
       "        vertical-align: top;\n",
       "    }\n",
       "\n",
       "    .dataframe thead th {\n",
       "        text-align: right;\n",
       "    }\n",
       "</style>\n",
       "<table border=\"1\" class=\"dataframe\">\n",
       "  <thead>\n",
       "    <tr style=\"text-align: right;\">\n",
       "      <th></th>\n",
       "      <th>pclass</th>\n",
       "      <th>age</th>\n",
       "      <th>fare</th>\n",
       "      <th>sex_male</th>\n",
       "    </tr>\n",
       "  </thead>\n",
       "  <tbody>\n",
       "    <tr>\n",
       "      <th>0</th>\n",
       "      <td>-0.347430</td>\n",
       "      <td>-0.035368</td>\n",
       "      <td>-0.157018</td>\n",
       "      <td>-1.316939</td>\n",
       "    </tr>\n",
       "    <tr>\n",
       "      <th>1</th>\n",
       "      <td>-0.347430</td>\n",
       "      <td>2.278609</td>\n",
       "      <td>-0.028363</td>\n",
       "      <td>-1.316939</td>\n",
       "    </tr>\n",
       "    <tr>\n",
       "      <th>2</th>\n",
       "      <td>-0.347430</td>\n",
       "      <td>-0.035368</td>\n",
       "      <td>-0.391746</td>\n",
       "      <td>-1.316939</td>\n",
       "    </tr>\n",
       "    <tr>\n",
       "      <th>3</th>\n",
       "      <td>0.840055</td>\n",
       "      <td>-1.319249</td>\n",
       "      <td>-0.711153</td>\n",
       "      <td>0.759337</td>\n",
       "    </tr>\n",
       "    <tr>\n",
       "      <th>4</th>\n",
       "      <td>0.840055</td>\n",
       "      <td>-0.035368</td>\n",
       "      <td>-0.711153</td>\n",
       "      <td>-1.316939</td>\n",
       "    </tr>\n",
       "    <tr>\n",
       "      <th>...</th>\n",
       "      <td>...</td>\n",
       "      <td>...</td>\n",
       "      <td>...</td>\n",
       "      <td>...</td>\n",
       "    </tr>\n",
       "    <tr>\n",
       "      <th>911</th>\n",
       "      <td>0.840055</td>\n",
       "      <td>2.278609</td>\n",
       "      <td>-0.116356</td>\n",
       "      <td>-1.316939</td>\n",
       "    </tr>\n",
       "    <tr>\n",
       "      <th>912</th>\n",
       "      <td>0.840055</td>\n",
       "      <td>-1.319249</td>\n",
       "      <td>-0.691560</td>\n",
       "      <td>0.759337</td>\n",
       "    </tr>\n",
       "    <tr>\n",
       "      <th>913</th>\n",
       "      <td>0.840055</td>\n",
       "      <td>-1.319249</td>\n",
       "      <td>-0.710648</td>\n",
       "      <td>-1.316939</td>\n",
       "    </tr>\n",
       "    <tr>\n",
       "      <th>914</th>\n",
       "      <td>-0.347430</td>\n",
       "      <td>-0.035368</td>\n",
       "      <td>0.400436</td>\n",
       "      <td>-1.316939</td>\n",
       "    </tr>\n",
       "    <tr>\n",
       "      <th>915</th>\n",
       "      <td>0.840055</td>\n",
       "      <td>0.569851</td>\n",
       "      <td>-0.319171</td>\n",
       "      <td>-1.316939</td>\n",
       "    </tr>\n",
       "  </tbody>\n",
       "</table>\n",
       "<p>916 rows × 4 columns</p>\n",
       "</div>"
      ],
      "text/plain": [
       "       pclass       age      fare  sex_male\n",
       "0   -0.347430 -0.035368 -0.157018 -1.316939\n",
       "1   -0.347430  2.278609 -0.028363 -1.316939\n",
       "2   -0.347430 -0.035368 -0.391746 -1.316939\n",
       "3    0.840055 -1.319249 -0.711153  0.759337\n",
       "4    0.840055 -0.035368 -0.711153 -1.316939\n",
       "..        ...       ...       ...       ...\n",
       "911  0.840055  2.278609 -0.116356 -1.316939\n",
       "912  0.840055 -1.319249 -0.691560  0.759337\n",
       "913  0.840055 -1.319249 -0.710648 -1.316939\n",
       "914 -0.347430 -0.035368  0.400436 -1.316939\n",
       "915  0.840055  0.569851 -0.319171 -1.316939\n",
       "\n",
       "[916 rows x 4 columns]"
      ]
     },
     "execution_count": 62,
     "metadata": {},
     "output_type": "execute_result"
    }
   ],
   "source": [
    "X_train_36"
   ]
  },
  {
   "cell_type": "code",
   "execution_count": 63,
   "id": "04f56be1",
   "metadata": {},
   "outputs": [
    {
     "data": {
      "text/html": [
       "<div>\n",
       "<style scoped>\n",
       "    .dataframe tbody tr th:only-of-type {\n",
       "        vertical-align: middle;\n",
       "    }\n",
       "\n",
       "    .dataframe tbody tr th {\n",
       "        vertical-align: top;\n",
       "    }\n",
       "\n",
       "    .dataframe thead th {\n",
       "        text-align: right;\n",
       "    }\n",
       "</style>\n",
       "<table border=\"1\" class=\"dataframe\">\n",
       "  <thead>\n",
       "    <tr style=\"text-align: right;\">\n",
       "      <th></th>\n",
       "      <th>count</th>\n",
       "      <th>mean</th>\n",
       "      <th>std</th>\n",
       "      <th>min</th>\n",
       "      <th>25%</th>\n",
       "      <th>50%</th>\n",
       "      <th>75%</th>\n",
       "      <th>max</th>\n",
       "    </tr>\n",
       "  </thead>\n",
       "  <tbody>\n",
       "    <tr>\n",
       "      <th>pclass</th>\n",
       "      <td>916.0</td>\n",
       "      <td>1.163553e-16</td>\n",
       "      <td>1.000546</td>\n",
       "      <td>-1.534915</td>\n",
       "      <td>-1.534915</td>\n",
       "      <td>0.840055</td>\n",
       "      <td>0.840055</td>\n",
       "      <td>0.840055</td>\n",
       "    </tr>\n",
       "    <tr>\n",
       "      <th>age</th>\n",
       "      <td>916.0</td>\n",
       "      <td>-2.850704e-16</td>\n",
       "      <td>1.000546</td>\n",
       "      <td>-4.296619</td>\n",
       "      <td>-0.035368</td>\n",
       "      <td>-0.035368</td>\n",
       "      <td>0.569851</td>\n",
       "      <td>6.852681</td>\n",
       "    </tr>\n",
       "    <tr>\n",
       "      <th>fare</th>\n",
       "      <td>916.0</td>\n",
       "      <td>-1.628974e-16</td>\n",
       "      <td>1.000546</td>\n",
       "      <td>-1.652285</td>\n",
       "      <td>-0.700806</td>\n",
       "      <td>-0.364930</td>\n",
       "      <td>0.241366</td>\n",
       "      <td>6.012077</td>\n",
       "    </tr>\n",
       "    <tr>\n",
       "      <th>sex_male</th>\n",
       "      <td>916.0</td>\n",
       "      <td>-2.908881e-17</td>\n",
       "      <td>1.000546</td>\n",
       "      <td>-1.316939</td>\n",
       "      <td>-1.316939</td>\n",
       "      <td>0.759337</td>\n",
       "      <td>0.759337</td>\n",
       "      <td>0.759337</td>\n",
       "    </tr>\n",
       "  </tbody>\n",
       "</table>\n",
       "</div>"
      ],
      "text/plain": [
       "          count          mean       std       min       25%       50%  \\\n",
       "pclass    916.0  1.163553e-16  1.000546 -1.534915 -1.534915  0.840055   \n",
       "age       916.0 -2.850704e-16  1.000546 -4.296619 -0.035368 -0.035368   \n",
       "fare      916.0 -1.628974e-16  1.000546 -1.652285 -0.700806 -0.364930   \n",
       "sex_male  916.0 -2.908881e-17  1.000546 -1.316939 -1.316939  0.759337   \n",
       "\n",
       "               75%       max  \n",
       "pclass    0.840055  0.840055  \n",
       "age       0.569851  6.852681  \n",
       "fare      0.241366  6.012077  \n",
       "sex_male  0.759337  0.759337  "
      ]
     },
     "execution_count": 63,
     "metadata": {},
     "output_type": "execute_result"
    }
   ],
   "source": [
    "X_train_36.describe().T"
   ]
  },
  {
   "cell_type": "code",
   "execution_count": 64,
   "id": "93cf1988",
   "metadata": {},
   "outputs": [
    {
     "data": {
      "text/html": [
       "<div>\n",
       "<style scoped>\n",
       "    .dataframe tbody tr th:only-of-type {\n",
       "        vertical-align: middle;\n",
       "    }\n",
       "\n",
       "    .dataframe tbody tr th {\n",
       "        vertical-align: top;\n",
       "    }\n",
       "\n",
       "    .dataframe thead th {\n",
       "        text-align: right;\n",
       "    }\n",
       "</style>\n",
       "<table border=\"1\" class=\"dataframe\">\n",
       "  <thead>\n",
       "    <tr style=\"text-align: right;\">\n",
       "      <th></th>\n",
       "      <th>count</th>\n",
       "      <th>mean</th>\n",
       "      <th>std</th>\n",
       "      <th>min</th>\n",
       "      <th>25%</th>\n",
       "      <th>50%</th>\n",
       "      <th>75%</th>\n",
       "      <th>max</th>\n",
       "    </tr>\n",
       "  </thead>\n",
       "  <tbody>\n",
       "    <tr>\n",
       "      <th>pclass</th>\n",
       "      <td>916.0</td>\n",
       "      <td>0.0</td>\n",
       "      <td>0.4</td>\n",
       "      <td>-0.6</td>\n",
       "      <td>-0.6</td>\n",
       "      <td>0.4</td>\n",
       "      <td>0.4</td>\n",
       "      <td>0.4</td>\n",
       "    </tr>\n",
       "    <tr>\n",
       "      <th>age</th>\n",
       "      <td>916.0</td>\n",
       "      <td>-0.0</td>\n",
       "      <td>0.1</td>\n",
       "      <td>-0.4</td>\n",
       "      <td>-0.0</td>\n",
       "      <td>-0.0</td>\n",
       "      <td>0.1</td>\n",
       "      <td>0.6</td>\n",
       "    </tr>\n",
       "    <tr>\n",
       "      <th>fare</th>\n",
       "      <td>916.0</td>\n",
       "      <td>-0.0</td>\n",
       "      <td>0.1</td>\n",
       "      <td>-0.2</td>\n",
       "      <td>-0.1</td>\n",
       "      <td>-0.0</td>\n",
       "      <td>0.0</td>\n",
       "      <td>0.8</td>\n",
       "    </tr>\n",
       "    <tr>\n",
       "      <th>sex_male</th>\n",
       "      <td>916.0</td>\n",
       "      <td>-0.0</td>\n",
       "      <td>0.5</td>\n",
       "      <td>-0.6</td>\n",
       "      <td>-0.6</td>\n",
       "      <td>0.4</td>\n",
       "      <td>0.4</td>\n",
       "      <td>0.4</td>\n",
       "    </tr>\n",
       "  </tbody>\n",
       "</table>\n",
       "</div>"
      ],
      "text/plain": [
       "          count  mean  std  min  25%  50%  75%  max\n",
       "pclass    916.0   0.0  0.4 -0.6 -0.6  0.4  0.4  0.4\n",
       "age       916.0  -0.0  0.1 -0.4 -0.0 -0.0  0.1  0.6\n",
       "fare      916.0  -0.0  0.1 -0.2 -0.1 -0.0  0.0  0.8\n",
       "sex_male  916.0  -0.0  0.5 -0.6 -0.6  0.4  0.4  0.4"
      ]
     },
     "execution_count": 64,
     "metadata": {},
     "output_type": "execute_result"
    }
   ],
   "source": [
    "scaler_mean = StandardScaler(with_mean =True, with_std = False)\n",
    "scaler_minmax = RobustScaler(with_centering = False, with_scaling = True, quantile_range = (0, 100))\n",
    "\n",
    "scaler_mean.fit(X_train_35)\n",
    "scaler_minmax.fit(X_train_35)\n",
    "\n",
    "X_train_35_scaled = scaler_minmax.transform(scaler_mean.transform(X_train_35))\n",
    "\n",
    "X_train_35_scaled = pd.DataFrame(X_train_35_scaled, columns = X_train_35.columns)\n",
    "\n",
    "np.round(X_train_35_scaled.describe().T, 1)"
   ]
  },
  {
   "cell_type": "markdown",
   "id": "51294f71",
   "metadata": {},
   "source": [
    "<center><h2> 4. Hyperparameters searching and Model training </h2><center>"
   ]
  },
  {
   "cell_type": "code",
   "execution_count": 65,
   "id": "80af1caf",
   "metadata": {},
   "outputs": [
    {
     "data": {
      "text/plain": [
       "((916, 4), (393, 4))"
      ]
     },
     "execution_count": 65,
     "metadata": {},
     "output_type": "execute_result"
    }
   ],
   "source": [
    "X_train, X_test, y_train, y_test = train_test_split(\n",
    "    data.drop(['survived', 'name', 'sibsp', 'parch', 'ticket', 'cabin', 'embarked', 'boat', 'body', 'home.dest'], axis = 1),\n",
    "    data['survived'],\n",
    "    test_size = 0.3,\n",
    "    random_state = 0\n",
    ")\n",
    "\n",
    "X_train.shape, X_test.shape"
   ]
  },
  {
   "cell_type": "code",
   "execution_count": 66,
   "id": "afebf0b7",
   "metadata": {},
   "outputs": [
    {
     "data": {
      "text/html": [
       "<div>\n",
       "<style scoped>\n",
       "    .dataframe tbody tr th:only-of-type {\n",
       "        vertical-align: middle;\n",
       "    }\n",
       "\n",
       "    .dataframe tbody tr th {\n",
       "        vertical-align: top;\n",
       "    }\n",
       "\n",
       "    .dataframe thead th {\n",
       "        text-align: right;\n",
       "    }\n",
       "</style>\n",
       "<table border=\"1\" class=\"dataframe\">\n",
       "  <thead>\n",
       "    <tr style=\"text-align: right;\">\n",
       "      <th></th>\n",
       "      <th>pclass</th>\n",
       "      <th>sex</th>\n",
       "      <th>age</th>\n",
       "      <th>fare</th>\n",
       "    </tr>\n",
       "  </thead>\n",
       "  <tbody>\n",
       "    <tr>\n",
       "      <th>501</th>\n",
       "      <td>2</td>\n",
       "      <td>female</td>\n",
       "      <td>13.0000</td>\n",
       "      <td>19.5000</td>\n",
       "    </tr>\n",
       "    <tr>\n",
       "      <th>588</th>\n",
       "      <td>2</td>\n",
       "      <td>female</td>\n",
       "      <td>4.0000</td>\n",
       "      <td>23.0000</td>\n",
       "    </tr>\n",
       "    <tr>\n",
       "      <th>402</th>\n",
       "      <td>2</td>\n",
       "      <td>female</td>\n",
       "      <td>30.0000</td>\n",
       "      <td>13.8583</td>\n",
       "    </tr>\n",
       "    <tr>\n",
       "      <th>1193</th>\n",
       "      <td>3</td>\n",
       "      <td>male</td>\n",
       "      <td>NaN</td>\n",
       "      <td>7.7250</td>\n",
       "    </tr>\n",
       "    <tr>\n",
       "      <th>686</th>\n",
       "      <td>3</td>\n",
       "      <td>female</td>\n",
       "      <td>22.0000</td>\n",
       "      <td>7.7250</td>\n",
       "    </tr>\n",
       "    <tr>\n",
       "      <th>...</th>\n",
       "      <td>...</td>\n",
       "      <td>...</td>\n",
       "      <td>...</td>\n",
       "      <td>...</td>\n",
       "    </tr>\n",
       "    <tr>\n",
       "      <th>763</th>\n",
       "      <td>3</td>\n",
       "      <td>female</td>\n",
       "      <td>0.1667</td>\n",
       "      <td>20.5750</td>\n",
       "    </tr>\n",
       "    <tr>\n",
       "      <th>835</th>\n",
       "      <td>3</td>\n",
       "      <td>male</td>\n",
       "      <td>NaN</td>\n",
       "      <td>8.0500</td>\n",
       "    </tr>\n",
       "    <tr>\n",
       "      <th>1216</th>\n",
       "      <td>3</td>\n",
       "      <td>female</td>\n",
       "      <td>NaN</td>\n",
       "      <td>7.7333</td>\n",
       "    </tr>\n",
       "    <tr>\n",
       "      <th>559</th>\n",
       "      <td>2</td>\n",
       "      <td>female</td>\n",
       "      <td>20.0000</td>\n",
       "      <td>36.7500</td>\n",
       "    </tr>\n",
       "    <tr>\n",
       "      <th>684</th>\n",
       "      <td>3</td>\n",
       "      <td>female</td>\n",
       "      <td>32.0000</td>\n",
       "      <td>15.5000</td>\n",
       "    </tr>\n",
       "  </tbody>\n",
       "</table>\n",
       "<p>916 rows × 4 columns</p>\n",
       "</div>"
      ],
      "text/plain": [
       "      pclass     sex      age     fare\n",
       "501        2  female  13.0000  19.5000\n",
       "588        2  female   4.0000  23.0000\n",
       "402        2  female  30.0000  13.8583\n",
       "1193       3    male      NaN   7.7250\n",
       "686        3  female  22.0000   7.7250\n",
       "...      ...     ...      ...      ...\n",
       "763        3  female   0.1667  20.5750\n",
       "835        3    male      NaN   8.0500\n",
       "1216       3  female      NaN   7.7333\n",
       "559        2  female  20.0000  36.7500\n",
       "684        3  female  32.0000  15.5000\n",
       "\n",
       "[916 rows x 4 columns]"
      ]
     },
     "execution_count": 66,
     "metadata": {},
     "output_type": "execute_result"
    }
   ],
   "source": [
    "X_train"
   ]
  },
  {
   "cell_type": "code",
   "execution_count": 67,
   "id": "0f9b287b",
   "metadata": {},
   "outputs": [
    {
     "data": {
      "text/html": [
       "<div>\n",
       "<style scoped>\n",
       "    .dataframe tbody tr th:only-of-type {\n",
       "        vertical-align: middle;\n",
       "    }\n",
       "\n",
       "    .dataframe tbody tr th {\n",
       "        vertical-align: top;\n",
       "    }\n",
       "\n",
       "    .dataframe thead th {\n",
       "        text-align: right;\n",
       "    }\n",
       "</style>\n",
       "<table border=\"1\" class=\"dataframe\">\n",
       "  <thead>\n",
       "    <tr style=\"text-align: right;\">\n",
       "      <th></th>\n",
       "      <th>pclass</th>\n",
       "      <th>sex</th>\n",
       "      <th>age</th>\n",
       "      <th>fare</th>\n",
       "    </tr>\n",
       "  </thead>\n",
       "  <tbody>\n",
       "    <tr>\n",
       "      <th>1139</th>\n",
       "      <td>3</td>\n",
       "      <td>male</td>\n",
       "      <td>38.0</td>\n",
       "      <td>7.8958</td>\n",
       "    </tr>\n",
       "    <tr>\n",
       "      <th>533</th>\n",
       "      <td>2</td>\n",
       "      <td>female</td>\n",
       "      <td>21.0</td>\n",
       "      <td>21.0000</td>\n",
       "    </tr>\n",
       "    <tr>\n",
       "      <th>459</th>\n",
       "      <td>2</td>\n",
       "      <td>male</td>\n",
       "      <td>42.0</td>\n",
       "      <td>27.0000</td>\n",
       "    </tr>\n",
       "    <tr>\n",
       "      <th>1150</th>\n",
       "      <td>3</td>\n",
       "      <td>male</td>\n",
       "      <td>NaN</td>\n",
       "      <td>14.5000</td>\n",
       "    </tr>\n",
       "    <tr>\n",
       "      <th>393</th>\n",
       "      <td>2</td>\n",
       "      <td>male</td>\n",
       "      <td>25.0</td>\n",
       "      <td>31.5000</td>\n",
       "    </tr>\n",
       "    <tr>\n",
       "      <th>...</th>\n",
       "      <td>...</td>\n",
       "      <td>...</td>\n",
       "      <td>...</td>\n",
       "      <td>...</td>\n",
       "    </tr>\n",
       "    <tr>\n",
       "      <th>914</th>\n",
       "      <td>3</td>\n",
       "      <td>male</td>\n",
       "      <td>33.0</td>\n",
       "      <td>7.8542</td>\n",
       "    </tr>\n",
       "    <tr>\n",
       "      <th>580</th>\n",
       "      <td>2</td>\n",
       "      <td>female</td>\n",
       "      <td>31.0</td>\n",
       "      <td>21.0000</td>\n",
       "    </tr>\n",
       "    <tr>\n",
       "      <th>1080</th>\n",
       "      <td>3</td>\n",
       "      <td>male</td>\n",
       "      <td>NaN</td>\n",
       "      <td>7.7500</td>\n",
       "    </tr>\n",
       "    <tr>\n",
       "      <th>1249</th>\n",
       "      <td>3</td>\n",
       "      <td>male</td>\n",
       "      <td>NaN</td>\n",
       "      <td>7.7500</td>\n",
       "    </tr>\n",
       "    <tr>\n",
       "      <th>88</th>\n",
       "      <td>1</td>\n",
       "      <td>female</td>\n",
       "      <td>33.0</td>\n",
       "      <td>151.5500</td>\n",
       "    </tr>\n",
       "  </tbody>\n",
       "</table>\n",
       "<p>393 rows × 4 columns</p>\n",
       "</div>"
      ],
      "text/plain": [
       "      pclass     sex   age      fare\n",
       "1139       3    male  38.0    7.8958\n",
       "533        2  female  21.0   21.0000\n",
       "459        2    male  42.0   27.0000\n",
       "1150       3    male   NaN   14.5000\n",
       "393        2    male  25.0   31.5000\n",
       "...      ...     ...   ...       ...\n",
       "914        3    male  33.0    7.8542\n",
       "580        2  female  31.0   21.0000\n",
       "1080       3    male   NaN    7.7500\n",
       "1249       3    male   NaN    7.7500\n",
       "88         1  female  33.0  151.5500\n",
       "\n",
       "[393 rows x 4 columns]"
      ]
     },
     "execution_count": 67,
     "metadata": {},
     "output_type": "execute_result"
    }
   ],
   "source": [
    "X_test"
   ]
  },
  {
   "cell_type": "code",
   "execution_count": 68,
   "id": "149e7ada",
   "metadata": {},
   "outputs": [],
   "source": [
    "X_train['fare'] = X_train['fare']**(1/2)\n",
    "X_test['fare'] = X_test['fare']**(1/2)\n",
    "X_train['age'], param = stats.boxcox(X_train['age'])\n",
    "X_test['age'], param = stats.boxcox(X_test['age'])"
   ]
  },
  {
   "cell_type": "code",
   "execution_count": 69,
   "id": "14945fcb",
   "metadata": {},
   "outputs": [
    {
     "data": {
      "text/html": [
       "<div>\n",
       "<style scoped>\n",
       "    .dataframe tbody tr th:only-of-type {\n",
       "        vertical-align: middle;\n",
       "    }\n",
       "\n",
       "    .dataframe tbody tr th {\n",
       "        vertical-align: top;\n",
       "    }\n",
       "\n",
       "    .dataframe thead th {\n",
       "        text-align: right;\n",
       "    }\n",
       "</style>\n",
       "<table border=\"1\" class=\"dataframe\">\n",
       "  <thead>\n",
       "    <tr style=\"text-align: right;\">\n",
       "      <th></th>\n",
       "      <th>pclass</th>\n",
       "      <th>sex</th>\n",
       "      <th>age</th>\n",
       "      <th>fare</th>\n",
       "    </tr>\n",
       "  </thead>\n",
       "  <tbody>\n",
       "    <tr>\n",
       "      <th>501</th>\n",
       "      <td>2</td>\n",
       "      <td>female</td>\n",
       "      <td>3.232112e+08</td>\n",
       "      <td>4.415880</td>\n",
       "    </tr>\n",
       "    <tr>\n",
       "      <th>588</th>\n",
       "      <td>2</td>\n",
       "      <td>female</td>\n",
       "      <td>1.488462e+04</td>\n",
       "      <td>4.795832</td>\n",
       "    </tr>\n",
       "    <tr>\n",
       "      <th>402</th>\n",
       "      <td>2</td>\n",
       "      <td>female</td>\n",
       "      <td>3.858149e+11</td>\n",
       "      <td>3.722674</td>\n",
       "    </tr>\n",
       "    <tr>\n",
       "      <th>1193</th>\n",
       "      <td>3</td>\n",
       "      <td>male</td>\n",
       "      <td>NaN</td>\n",
       "      <td>2.779388</td>\n",
       "    </tr>\n",
       "    <tr>\n",
       "      <th>686</th>\n",
       "      <td>3</td>\n",
       "      <td>female</td>\n",
       "      <td>2.787368e+10</td>\n",
       "      <td>2.779388</td>\n",
       "    </tr>\n",
       "    <tr>\n",
       "      <th>...</th>\n",
       "      <td>...</td>\n",
       "      <td>...</td>\n",
       "      <td>...</td>\n",
       "      <td>...</td>\n",
       "    </tr>\n",
       "    <tr>\n",
       "      <th>763</th>\n",
       "      <td>3</td>\n",
       "      <td>female</td>\n",
       "      <td>-1.180340e-01</td>\n",
       "      <td>4.535967</td>\n",
       "    </tr>\n",
       "    <tr>\n",
       "      <th>835</th>\n",
       "      <td>3</td>\n",
       "      <td>male</td>\n",
       "      <td>NaN</td>\n",
       "      <td>2.837252</td>\n",
       "    </tr>\n",
       "    <tr>\n",
       "      <th>1216</th>\n",
       "      <td>3</td>\n",
       "      <td>female</td>\n",
       "      <td>NaN</td>\n",
       "      <td>2.780881</td>\n",
       "    </tr>\n",
       "    <tr>\n",
       "      <th>559</th>\n",
       "      <td>2</td>\n",
       "      <td>female</td>\n",
       "      <td>1.243111e+10</td>\n",
       "      <td>6.062178</td>\n",
       "    </tr>\n",
       "    <tr>\n",
       "      <th>684</th>\n",
       "      <td>3</td>\n",
       "      <td>female</td>\n",
       "      <td>6.665644e+11</td>\n",
       "      <td>3.937004</td>\n",
       "    </tr>\n",
       "  </tbody>\n",
       "</table>\n",
       "<p>916 rows × 4 columns</p>\n",
       "</div>"
      ],
      "text/plain": [
       "      pclass     sex           age      fare\n",
       "501        2  female  3.232112e+08  4.415880\n",
       "588        2  female  1.488462e+04  4.795832\n",
       "402        2  female  3.858149e+11  3.722674\n",
       "1193       3    male           NaN  2.779388\n",
       "686        3  female  2.787368e+10  2.779388\n",
       "...      ...     ...           ...       ...\n",
       "763        3  female -1.180340e-01  4.535967\n",
       "835        3    male           NaN  2.837252\n",
       "1216       3  female           NaN  2.780881\n",
       "559        2  female  1.243111e+10  6.062178\n",
       "684        3  female  6.665644e+11  3.937004\n",
       "\n",
       "[916 rows x 4 columns]"
      ]
     },
     "execution_count": 69,
     "metadata": {},
     "output_type": "execute_result"
    }
   ],
   "source": [
    "X_train"
   ]
  },
  {
   "cell_type": "code",
   "execution_count": 70,
   "id": "5f66c56e",
   "metadata": {},
   "outputs": [],
   "source": [
    "X_train_copy = X_train\n",
    "X_test_copy = X_test"
   ]
  },
  {
   "cell_type": "markdown",
   "id": "c959328e",
   "metadata": {},
   "source": [
    "<h3> Decision Tree Classifier </h3>"
   ]
  },
  {
   "cell_type": "code",
   "execution_count": 71,
   "id": "b300b203",
   "metadata": {},
   "outputs": [
    {
     "name": "stdout",
     "output_type": "stream",
     "text": [
      "Best parameters:  {'classifier__criterion': 'gini', 'classifier__splitter': 'best'}\n"
     ]
    }
   ],
   "source": [
    "#Create pipeline\n",
    "DTC_pipe = Pipeline(steps = [\n",
    "    ('imputer_age', MeanMedianImputer(imputation_method='mean', variables = ['age','fare'])),\n",
    "    ('encoder_sex', OneHotEncoder(variables = ['sex'], drop_last = True)),\n",
    "    ('discretiser_age',DecisionTreeDiscretiser(cv = 10, scoring = 'accuracy', variables = ['age'], regression = False)),\n",
    "    ('scaler',RobustScaler(with_centering = False, with_scaling = True, quantile_range = (0, 100))),\n",
    "    ('classifier', DecisionTreeClassifier(criterion='entropy', random_state=0))\n",
    "])\n",
    "\n",
    "X_train = X_train_copy.copy()\n",
    "X_test = X_test_copy.copy()\n",
    "\n",
    "#Fit pipeline\n",
    "DTC_pipe.fit(X_train, y_train)\n",
    "\n",
    "\n",
    "#GridSearch\n",
    "parameters = [\n",
    "    {\n",
    "     'classifier__criterion' : [\"gini\",\"entropy\",\"log_loss\"],\n",
    "     'classifier__splitter' : [\"best\",\"random\"]\n",
    "     }\n",
    "]\n",
    "\n",
    "grid_search = GridSearchCV(\n",
    "    estimator = DTC_pipe,\n",
    "    param_grid = parameters,\n",
    "    scoring = 'accuracy',\n",
    "    cv = 10,\n",
    "    n_jobs = -1\n",
    ")\n",
    "\n",
    "grid_search.fit(X_train, y_train)\n",
    "best_parameters = grid_search.best_params_\n",
    "print('Best parameters: ', best_parameters)\n",
    "\n",
    "model = grid_search.best_estimator_"
   ]
  },
  {
   "cell_type": "code",
   "execution_count": 72,
   "id": "a52b2b0b",
   "metadata": {
    "scrolled": true
   },
   "outputs": [
    {
     "name": "stdout",
     "output_type": "stream",
     "text": [
      "Accuracy score: 0.7989821882951654\n"
     ]
    },
    {
     "data": {
      "image/png": "[encoded data removed]",
      "text/plain": [
       "<Figure size 640x480 with 2 Axes>"
      ]
     },
     "metadata": {},
     "output_type": "display_data"
    }
   ],
   "source": [
    "#Repeat pipeline with best parameters\n",
    "DTC_pipe = Pipeline(steps = [\n",
    "    ('imputer_age', MeanMedianImputer(imputation_method='mean', variables = ['age','fare'])),\n",
    "    ('encoder_sex', OneHotEncoder(variables = ['sex'], drop_last = True)),\n",
    "    ('discretiser_age',DecisionTreeDiscretiser(cv = 10, scoring = 'accuracy', variables = ['age'], regression = False)),\n",
    "    ('scaler',RobustScaler(with_centering = False, with_scaling = True, quantile_range = (0, 100))),\n",
    "    ('classifier', DecisionTreeClassifier(criterion='gini', splitter = 'best', random_state=0))\n",
    "])\n",
    "\n",
    "X_train = X_train_copy.copy()\n",
    "X_test = X_test_copy.copy()\n",
    "\n",
    "#Fit pipeline Train\n",
    "DTC_pipe.fit(X_train, y_train)\n",
    "\n",
    "#Prediction\n",
    "\n",
    "y_pred = DTC_pipe.predict(X_train)\n",
    "act = accuracy_score(y_train, y_pred)\n",
    "train_accuracy_score_list.append(act)\n",
    "\n",
    "y_pred = DTC_pipe.predict(X_test)\n",
    "\n",
    "cm = confusion_matrix(y_test, y_pred)\n",
    "ac = accuracy_score(y_test, y_pred)\n",
    "\n",
    "ax = sns.heatmap(cm, annot=True,fmt='.2f', cmap='Blues')\n",
    "print('Accuracy score:',ac)"
   ]
  },
  {
   "cell_type": "code",
   "execution_count": 73,
   "id": "cbf7489a",
   "metadata": {},
   "outputs": [],
   "source": [
    "model_list.append('Decision Tree Classifier')\n",
    "accuracy_score_list.append(ac)"
   ]
  },
  {
   "cell_type": "code",
   "execution_count": 74,
   "id": "ffd3492d",
   "metadata": {},
   "outputs": [
    {
     "name": "stdout",
     "output_type": "stream",
     "text": [
      "Model ROC-AUC=0.785\n"
     ]
    }
   ],
   "source": [
    "probs = DTC_pipe.predict_proba(X_test)\n",
    "# save probability for true-positive\n",
    "probs = probs[:, 1]\n",
    "# ROC-AUC\n",
    "auc = roc_auc_score(y_test, probs)\n",
    "print('Model ROC-AUC=%.3f' % (auc))\n",
    "roc_auc_list.append(auc)"
   ]
  },
  {
   "cell_type": "code",
   "execution_count": 75,
   "id": "ad7ba64e",
   "metadata": {},
   "outputs": [
    {
     "name": "stdout",
     "output_type": "stream",
     "text": [
      "              precision    recall  f1-score   support\n",
      "\n",
      "           0       0.81      0.89      0.85       246\n",
      "           1       0.78      0.64      0.70       147\n",
      "\n",
      "    accuracy                           0.80       393\n",
      "   macro avg       0.79      0.77      0.78       393\n",
      "weighted avg       0.80      0.80      0.79       393\n",
      "\n"
     ]
    }
   ],
   "source": [
    "print(classification_report(y_test, y_pred))"
   ]
  },
  {
   "cell_type": "markdown",
   "id": "2d9126b1",
   "metadata": {},
   "source": [
    "<h3> Random Forest Classifier </h3>"
   ]
  },
  {
   "cell_type": "code",
   "execution_count": 76,
   "id": "7d7ec483",
   "metadata": {},
   "outputs": [
    {
     "name": "stdout",
     "output_type": "stream",
     "text": [
      "Best parameters:  {'classifier__criterion': 'gini'}\n"
     ]
    }
   ],
   "source": [
    "#Create pipeline\n",
    "RF_pipe = Pipeline(steps = [\n",
    "    ('imputer_age', MeanMedianImputer(imputation_method='mean', variables = ['age','fare'])),\n",
    "    ('encoder_sex', OneHotEncoder(variables = ['sex'], drop_last = True)),\n",
    "    ('discretiser_age',DecisionTreeDiscretiser(cv = 10, scoring = 'accuracy', variables = ['age'], regression = False)),\n",
    "    ('scaler',RobustScaler(with_centering = False, with_scaling = True, quantile_range = (0, 100))),\n",
    "    ('classifier', RandomForestClassifier(n_estimators=10, criterion='entropy', random_state=0))\n",
    "])\n",
    "\n",
    "X_train = X_train_copy.copy()\n",
    "X_test = X_test_copy.copy()\n",
    "\n",
    "#Fit pipeline\n",
    "RF_pipe.fit(X_train, y_train)\n",
    "\n",
    "\n",
    "#GridSearch\n",
    "parameters = [\n",
    "    {\n",
    "     'classifier__criterion' : [\"gini\",\"entropy\",\"log_loss\"]\n",
    "     }\n",
    "]\n",
    "\n",
    "grid_search = GridSearchCV(\n",
    "    estimator = RF_pipe,\n",
    "    param_grid = parameters,\n",
    "    scoring = 'accuracy',\n",
    "    cv = 10,\n",
    "    n_jobs = -1\n",
    ")\n",
    "\n",
    "grid_search.fit(X_train, y_train)\n",
    "best_parameters = grid_search.best_params_\n",
    "print('Best parameters: ', best_parameters)\n",
    "\n",
    "model = grid_search.best_estimator_"
   ]
  },
  {
   "cell_type": "code",
   "execution_count": 77,
   "id": "5f804cef",
   "metadata": {},
   "outputs": [
    {
     "name": "stdout",
     "output_type": "stream",
     "text": [
      "Accuracy score: 0.7862595419847328\n"
     ]
    },
    {
     "data": {
      "image/png": "[encoded data removed]",
      "text/plain": [
       "<Figure size 640x480 with 2 Axes>"
      ]
     },
     "metadata": {},
     "output_type": "display_data"
    }
   ],
   "source": [
    "#Repeat pipeline with best parameters\n",
    "RF_pipe = Pipeline(steps = [\n",
    "    ('imputer_age', MeanMedianImputer(imputation_method='mean', variables = ['age','fare'])),\n",
    "    ('encoder_sex', OneHotEncoder(variables = ['sex'], drop_last = True)),\n",
    "    ('discretiser_age',DecisionTreeDiscretiser(cv = 10, scoring = 'accuracy', variables = ['age'], regression = False)),\n",
    "    ('scaler',RobustScaler(with_centering = False, with_scaling = True, quantile_range = (0, 100))),\n",
    "    ('classifier', RandomForestClassifier(n_estimators=10, criterion='gini', random_state=0))\n",
    "])\n",
    "\n",
    "X_train = X_train_copy.copy()\n",
    "X_test = X_test_copy.copy()\n",
    "\n",
    "#Fit pipeline Train\n",
    "RF_pipe.fit(X_train, y_train)\n",
    "\n",
    "#Prediction\n",
    "\n",
    "y_pred = RF_pipe.predict(X_train)\n",
    "act = accuracy_score(y_train, y_pred)\n",
    "train_accuracy_score_list.append(act)\n",
    "\n",
    "y_pred = RF_pipe.predict(X_test)\n",
    "\n",
    "cm = confusion_matrix(y_test, y_pred)\n",
    "ac = accuracy_score(y_test, y_pred)\n",
    "\n",
    "ax = sns.heatmap(cm, annot=True,fmt='.2f', cmap='Blues')\n",
    "print('Accuracy score:',ac)"
   ]
  },
  {
   "cell_type": "code",
   "execution_count": 78,
   "id": "83632d62",
   "metadata": {},
   "outputs": [],
   "source": [
    "model_list.append('Random Forest Classifier')\n",
    "accuracy_score_list.append(ac)"
   ]
  },
  {
   "cell_type": "code",
   "execution_count": 79,
   "id": "da9186ee",
   "metadata": {},
   "outputs": [
    {
     "name": "stdout",
     "output_type": "stream",
     "text": [
      "Model ROC-AUC=0.807\n"
     ]
    }
   ],
   "source": [
    "probs = RF_pipe.predict_proba(X_test)\n",
    "# save probability for true-positive\n",
    "probs = probs[:, 1]\n",
    "# ROC-AUC\n",
    "auc = roc_auc_score(y_test, probs)\n",
    "print('Model ROC-AUC=%.3f' % (auc))\n",
    "roc_auc_list.append(auc)"
   ]
  },
  {
   "cell_type": "code",
   "execution_count": 80,
   "id": "aacb9dc0",
   "metadata": {},
   "outputs": [
    {
     "name": "stdout",
     "output_type": "stream",
     "text": [
      "              precision    recall  f1-score   support\n",
      "\n",
      "           0       0.80      0.88      0.84       246\n",
      "           1       0.76      0.63      0.69       147\n",
      "\n",
      "    accuracy                           0.79       393\n",
      "   macro avg       0.78      0.75      0.76       393\n",
      "weighted avg       0.78      0.79      0.78       393\n",
      "\n"
     ]
    }
   ],
   "source": [
    "print(classification_report(y_test, y_pred))"
   ]
  },
  {
   "cell_type": "markdown",
   "id": "5b337172",
   "metadata": {},
   "source": [
    "<h3> SVC </h3>"
   ]
  },
  {
   "cell_type": "code",
   "execution_count": 81,
   "id": "ebfeeb51",
   "metadata": {},
   "outputs": [
    {
     "name": "stdout",
     "output_type": "stream",
     "text": [
      "Best parameters:  {'classifier__C': 0.5, 'classifier__kernel': 'rbf'}\n"
     ]
    }
   ],
   "source": [
    "#Create pipeline\n",
    "SVC_pipe = Pipeline(steps = [\n",
    "    ('imputer_age', MeanMedianImputer(imputation_method='mean', variables = ['age','fare'])),\n",
    "    ('encoder_sex', OneHotEncoder(variables = ['sex'], drop_last = True)),\n",
    "    ('discretiser_age',DecisionTreeDiscretiser(cv = 10, scoring = 'accuracy', variables = ['age'], regression = False)),\n",
    "    ('scaler',RobustScaler(with_centering = False, with_scaling = True, quantile_range = (0, 100))),\n",
    "    ('classifier', SVC(kernel = 'linear',random_state = 0,probability = True))\n",
    "])\n",
    "\n",
    "X_train = X_train_copy.copy()\n",
    "X_test = X_test_copy.copy()\n",
    "\n",
    "#Fit pipeline\n",
    "SVC_pipe.fit(X_train, y_train)\n",
    "\n",
    "\n",
    "#GridSearch\n",
    "parameters = [\n",
    "    {\n",
    "     'classifier__C':[0.25, 0.5, 0.75, 1],\n",
    "     'classifier__kernel':['linear', 'rbf']\n",
    "     }\n",
    "]\n",
    "\n",
    "grid_search = GridSearchCV(\n",
    "    estimator = SVC_pipe,\n",
    "    param_grid = parameters,\n",
    "    scoring = 'accuracy',\n",
    "    cv = 10,\n",
    "    n_jobs = -1\n",
    ")\n",
    "\n",
    "grid_search.fit(X_train, y_train)\n",
    "best_parameters = grid_search.best_params_\n",
    "print('Best parameters: ', best_parameters)\n",
    "\n",
    "model = grid_search.best_estimator_"
   ]
  },
  {
   "cell_type": "code",
   "execution_count": 82,
   "id": "3356910f",
   "metadata": {},
   "outputs": [
    {
     "name": "stdout",
     "output_type": "stream",
     "text": [
      "Accuracy score: 0.7888040712468194\n"
     ]
    },
    {
     "data": {
      "image/png": "[encoded data removed]",
      "text/plain": [
       "<Figure size 640x480 with 2 Axes>"
      ]
     },
     "metadata": {},
     "output_type": "display_data"
    }
   ],
   "source": [
    "#Repeat pipeline with best parameters\n",
    "SVC_pipe = Pipeline(steps = [\n",
    "    ('imputer_age', MeanMedianImputer(imputation_method='mean', variables = ['age','fare'])),\n",
    "    ('encoder_sex', OneHotEncoder(variables = ['sex'], drop_last = True)),\n",
    "    ('discretiser_age',DecisionTreeDiscretiser(cv = 10, scoring = 'accuracy', variables = ['age'], regression = False)),\n",
    "    ('scaler',RobustScaler(with_centering = False, with_scaling = True, quantile_range = (0, 100))),\n",
    "    ('classifier', SVC(kernel = 'rbf',C = 0.5,random_state = 0,probability = True))\n",
    "])\n",
    "\n",
    "X_train = X_train_copy.copy()\n",
    "X_test = X_test_copy.copy()\n",
    "\n",
    "#Fit pipeline Train\n",
    "SVC_pipe.fit(X_train, y_train)\n",
    "\n",
    "#Prediction\n",
    "\n",
    "y_pred = SVC_pipe.predict(X_train)\n",
    "act = accuracy_score(y_train, y_pred)\n",
    "train_accuracy_score_list.append(act)\n",
    "\n",
    "y_pred = SVC_pipe.predict(X_test)\n",
    "\n",
    "cm = confusion_matrix(y_test, y_pred)\n",
    "ac = accuracy_score(y_test, y_pred)\n",
    "\n",
    "ax = sns.heatmap(cm, annot=True,fmt='.2f', cmap='Blues')\n",
    "print('Accuracy score:',ac)"
   ]
  },
  {
   "cell_type": "code",
   "execution_count": 83,
   "id": "75f72ab4",
   "metadata": {},
   "outputs": [],
   "source": [
    "model_list.append('SVC Classifier')\n",
    "accuracy_score_list.append(ac)"
   ]
  },
  {
   "cell_type": "code",
   "execution_count": 84,
   "id": "ae6e9a21",
   "metadata": {},
   "outputs": [
    {
     "name": "stdout",
     "output_type": "stream",
     "text": [
      "Model ROC-AUC=0.820\n"
     ]
    }
   ],
   "source": [
    "probs = SVC_pipe.predict_proba(X_test)\n",
    "# save probability for true-positive\n",
    "probs = probs[:, 1]\n",
    "# ROC-AUC\n",
    "auc = roc_auc_score(y_test, probs)\n",
    "print('Model ROC-AUC=%.3f' % (auc))\n",
    "roc_auc_list.append(auc)"
   ]
  },
  {
   "cell_type": "code",
   "execution_count": 85,
   "id": "1279086b",
   "metadata": {},
   "outputs": [
    {
     "name": "stdout",
     "output_type": "stream",
     "text": [
      "              precision    recall  f1-score   support\n",
      "\n",
      "           0       0.82      0.85      0.83       246\n",
      "           1       0.74      0.68      0.71       147\n",
      "\n",
      "    accuracy                           0.79       393\n",
      "   macro avg       0.78      0.77      0.77       393\n",
      "weighted avg       0.79      0.79      0.79       393\n",
      "\n"
     ]
    }
   ],
   "source": [
    "print(classification_report(y_test, y_pred))"
   ]
  },
  {
   "cell_type": "markdown",
   "id": "bf82aedd",
   "metadata": {},
   "source": [
    "<h3> KNN </h3>"
   ]
  },
  {
   "cell_type": "code",
   "execution_count": 86,
   "id": "a786521e",
   "metadata": {},
   "outputs": [
    {
     "name": "stdout",
     "output_type": "stream",
     "text": [
      "Best parameters:  {'classifier__algorithm': 'ball_tree', 'classifier__weights': 'uniform'}\n"
     ]
    }
   ],
   "source": [
    "#Create pipeline\n",
    "KNN_pipe = Pipeline(steps = [\n",
    "    ('imputer_age', MeanMedianImputer(imputation_method='mean', variables = ['age','fare'])),\n",
    "    ('encoder_sex', OneHotEncoder(variables = ['sex'], drop_last = True)),\n",
    "    ('discretiser_age',DecisionTreeDiscretiser(cv = 10, scoring = 'accuracy', variables = ['age'], regression = False)),\n",
    "    ('scaler',RobustScaler(with_centering = False, with_scaling = True, quantile_range = (0, 100))),\n",
    "    ('classifier', KNeighborsClassifier(n_neighbors = 5, metric = 'minkowski', p = 2))\n",
    "])\n",
    "\n",
    "X_train = X_train_copy.copy()\n",
    "X_test = X_test_copy.copy()\n",
    "\n",
    "#Fit pipeline\n",
    "KNN_pipe.fit(X_train, y_train)\n",
    "\n",
    "\n",
    "#GridSearch\n",
    "parameters = [\n",
    "    {\n",
    "     'classifier__weights':['uniform','distance'],\n",
    "     'classifier__algorithm':['ball_tree','kd_tree']\n",
    "     }\n",
    "]\n",
    "\n",
    "grid_search = GridSearchCV(\n",
    "    estimator = KNN_pipe,\n",
    "    param_grid = parameters,\n",
    "    scoring = 'accuracy',\n",
    "    cv = 10,\n",
    "    n_jobs = -1\n",
    ")\n",
    "\n",
    "grid_search.fit(X_train, y_train)\n",
    "best_parameters = grid_search.best_params_\n",
    "print('Best parameters: ', best_parameters)\n",
    "\n",
    "model = grid_search.best_estimator_"
   ]
  },
  {
   "cell_type": "code",
   "execution_count": 87,
   "id": "639fdb35",
   "metadata": {},
   "outputs": [
    {
     "name": "stdout",
     "output_type": "stream",
     "text": [
      "Accuracy score: 0.7837150127226463\n"
     ]
    },
    {
     "data": {
      "image/png": "[encoded data removed]",
      "text/plain": [
       "<Figure size 640x480 with 2 Axes>"
      ]
     },
     "metadata": {},
     "output_type": "display_data"
    }
   ],
   "source": [
    "#Repeat pipeline with best parameters\n",
    "KNN_pipe = Pipeline(steps = [\n",
    "    ('imputer_age', MeanMedianImputer(imputation_method='mean', variables = ['age','fare'])),\n",
    "    ('encoder_sex', OneHotEncoder(variables = ['sex'], drop_last = True)),\n",
    "    ('discretiser_age',DecisionTreeDiscretiser(cv = 10, scoring = 'accuracy', variables = ['age'], regression = False)),\n",
    "    ('scaler',RobustScaler(with_centering = False, with_scaling = True, quantile_range = (0, 100))),\n",
    "    ('classifier', KNeighborsClassifier(algorithm = 'ball_tree', weights = 'uniform', n_neighbors = 5, metric = 'minkowski', p = 2))\n",
    "])\n",
    "\n",
    "X_train = X_train_copy.copy()\n",
    "X_test = X_test_copy.copy()\n",
    "\n",
    "#Fit pipeline Train\n",
    "KNN_pipe.fit(X_train, y_train)\n",
    "\n",
    "#Prediction\n",
    "\n",
    "y_pred = KNN_pipe.predict(X_train)\n",
    "act = accuracy_score(y_train, y_pred)\n",
    "train_accuracy_score_list.append(act)\n",
    "\n",
    "y_pred = KNN_pipe.predict(X_test)\n",
    "\n",
    "cm = confusion_matrix(y_test, y_pred)\n",
    "ac = accuracy_score(y_test, y_pred)\n",
    "\n",
    "ax = sns.heatmap(cm, annot=True,fmt='.2f', cmap='Blues')\n",
    "print('Accuracy score:',ac)"
   ]
  },
  {
   "cell_type": "code",
   "execution_count": 88,
   "id": "9c2c1985",
   "metadata": {},
   "outputs": [],
   "source": [
    "model_list.append('KNN Classifier')\n",
    "accuracy_score_list.append(ac)"
   ]
  },
  {
   "cell_type": "code",
   "execution_count": 89,
   "id": "b639ad52",
   "metadata": {},
   "outputs": [
    {
     "name": "stdout",
     "output_type": "stream",
     "text": [
      "Model ROC-AUC=0.823\n"
     ]
    }
   ],
   "source": [
    "probs = KNN_pipe.predict_proba(X_test)\n",
    "# save probability for true-positive\n",
    "probs = probs[:, 1]\n",
    "# ROC-AUC\n",
    "auc = roc_auc_score(y_test, probs)\n",
    "print('Model ROC-AUC=%.3f' % (auc))\n",
    "roc_auc_list.append(auc)"
   ]
  },
  {
   "cell_type": "code",
   "execution_count": 90,
   "id": "d70907da",
   "metadata": {},
   "outputs": [
    {
     "name": "stdout",
     "output_type": "stream",
     "text": [
      "              precision    recall  f1-score   support\n",
      "\n",
      "           0       0.79      0.90      0.84       246\n",
      "           1       0.78      0.59      0.67       147\n",
      "\n",
      "    accuracy                           0.78       393\n",
      "   macro avg       0.78      0.75      0.76       393\n",
      "weighted avg       0.78      0.78      0.78       393\n",
      "\n"
     ]
    }
   ],
   "source": [
    "print(classification_report(y_test, y_pred))"
   ]
  },
  {
   "cell_type": "markdown",
   "id": "501fa12d",
   "metadata": {},
   "source": [
    "<h3> Logistic Regression </h3>"
   ]
  },
  {
   "cell_type": "code",
   "execution_count": 91,
   "id": "69d375e1",
   "metadata": {},
   "outputs": [
    {
     "data": {
      "text/html": [
       "<style>#sk-container-id-2 {color: black;background-color: white;}#sk-container-id-2 pre{padding: 0;}#sk-container-id-2 div.sk-toggleable {background-color: white;}#sk-container-id-2 label.sk-toggleable__label {cursor: pointer;display: block;width: 100%;margin-bottom: 0;padding: 0.3em;box-sizing: border-box;text-align: center;}#sk-container-id-2 label.sk-toggleable__label-arrow:before {content: \"▸\";float: left;margin-right: 0.25em;color: #696969;}#sk-container-id-2 label.sk-toggleable__label-arrow:hover:before {color: black;}#sk-container-id-2 div.sk-estimator:hover label.sk-toggleable__label-arrow:before {color: black;}#sk-container-id-2 div.sk-toggleable__content {max-height: 0;max-width: 0;overflow: hidden;text-align: left;background-color: #f0f8ff;}#sk-container-id-2 div.sk-toggleable__content pre {margin: 0.2em;color: black;border-radius: 0.25em;background-color: #f0f8ff;}#sk-container-id-2 input.sk-toggleable__control:checked~div.sk-toggleable__content {max-height: 200px;max-width: 100%;overflow: auto;}#sk-container-id-2 input.sk-toggleable__control:checked~label.sk-toggleable__label-arrow:before {content: \"▾\";}#sk-container-id-2 div.sk-estimator input.sk-toggleable__control:checked~label.sk-toggleable__label {background-color: #d4ebff;}#sk-container-id-2 div.sk-label input.sk-toggleable__control:checked~label.sk-toggleable__label {background-color: #d4ebff;}#sk-container-id-2 input.sk-hidden--visually {border: 0;clip: rect(1px 1px 1px 1px);clip: rect(1px, 1px, 1px, 1px);height: 1px;margin: -1px;overflow: hidden;padding: 0;position: absolute;width: 1px;}#sk-container-id-2 div.sk-estimator {font-family: monospace;background-color: #f0f8ff;border: 1px dotted black;border-radius: 0.25em;box-sizing: border-box;margin-bottom: 0.5em;}#sk-container-id-2 div.sk-estimator:hover {background-color: #d4ebff;}#sk-container-id-2 div.sk-parallel-item::after {content: \"\";width: 100%;border-bottom: 1px solid gray;flex-grow: 1;}#sk-container-id-2 div.sk-label:hover label.sk-toggleable__label {background-color: #d4ebff;}#sk-container-id-2 div.sk-serial::before {content: \"\";position: absolute;border-left: 1px solid gray;box-sizing: border-box;top: 0;bottom: 0;left: 50%;z-index: 0;}#sk-container-id-2 div.sk-serial {display: flex;flex-direction: column;align-items: center;background-color: white;padding-right: 0.2em;padding-left: 0.2em;position: relative;}#sk-container-id-2 div.sk-item {position: relative;z-index: 1;}#sk-container-id-2 div.sk-parallel {display: flex;align-items: stretch;justify-content: center;background-color: white;position: relative;}#sk-container-id-2 div.sk-item::before, #sk-container-id-2 div.sk-parallel-item::before {content: \"\";position: absolute;border-left: 1px solid gray;box-sizing: border-box;top: 0;bottom: 0;left: 50%;z-index: -1;}#sk-container-id-2 div.sk-parallel-item {display: flex;flex-direction: column;z-index: 1;position: relative;background-color: white;}#sk-container-id-2 div.sk-parallel-item:first-child::after {align-self: flex-end;width: 50%;}#sk-container-id-2 div.sk-parallel-item:last-child::after {align-self: flex-start;width: 50%;}#sk-container-id-2 div.sk-parallel-item:only-child::after {width: 0;}#sk-container-id-2 div.sk-dashed-wrapped {border: 1px dashed gray;margin: 0 0.4em 0.5em 0.4em;box-sizing: border-box;padding-bottom: 0.4em;background-color: white;}#sk-container-id-2 div.sk-label label {font-family: monospace;font-weight: bold;display: inline-block;line-height: 1.2em;}#sk-container-id-2 div.sk-label-container {text-align: center;}#sk-container-id-2 div.sk-container {/* jupyter's `normalize.less` sets `[hidden] { display: none; }` but bootstrap.min.css set `[hidden] { display: none !important; }` so we also need the `!important` here to be able to override the default hidden behavior on the sphinx rendered scikit-learn.org. See: https://github.com/scikit-learn/scikit-learn/issues/21755 */display: inline-block !important;position: relative;}#sk-container-id-2 div.sk-text-repr-fallback {display: none;}</style><div id=\"sk-container-id-2\" class=\"sk-top-container\"><div class=\"sk-text-repr-fallback\"><pre>Pipeline(steps=[(&#x27;imputer_age&#x27;,\n",
       "                 MeanMedianImputer(imputation_method=&#x27;mean&#x27;,\n",
       "                                   variables=[&#x27;age&#x27;, &#x27;fare&#x27;])),\n",
       "                (&#x27;encoder_sex&#x27;,\n",
       "                 OneHotEncoder(drop_last=True, variables=[&#x27;sex&#x27;])),\n",
       "                (&#x27;discretiser_age&#x27;,\n",
       "                 DecisionTreeDiscretiser(cv=10, regression=False,\n",
       "                                         scoring=&#x27;accuracy&#x27;,\n",
       "                                         variables=[&#x27;age&#x27;])),\n",
       "                (&#x27;scaler&#x27;,\n",
       "                 RobustScaler(quantile_range=(0, 100), with_centering=False)),\n",
       "                (&#x27;classifier&#x27;, LogisticRegression(random_state=0))])</pre><b>In a Jupyter environment, please rerun this cell to show the HTML representation or trust the notebook. <br />On GitHub, the HTML representation is unable to render, please try loading this page with nbviewer.org.</b></div><div class=\"sk-container\" hidden><div class=\"sk-item sk-dashed-wrapped\"><div class=\"sk-label-container\"><div class=\"sk-label sk-toggleable\"><input class=\"sk-toggleable__control sk-hidden--visually\" id=\"sk-estimator-id-2\" type=\"checkbox\" ><label for=\"sk-estimator-id-2\" class=\"sk-toggleable__label sk-toggleable__label-arrow\">Pipeline</label><div class=\"sk-toggleable__content\"><pre>Pipeline(steps=[(&#x27;imputer_age&#x27;,\n",
       "                 MeanMedianImputer(imputation_method=&#x27;mean&#x27;,\n",
       "                                   variables=[&#x27;age&#x27;, &#x27;fare&#x27;])),\n",
       "                (&#x27;encoder_sex&#x27;,\n",
       "                 OneHotEncoder(drop_last=True, variables=[&#x27;sex&#x27;])),\n",
       "                (&#x27;discretiser_age&#x27;,\n",
       "                 DecisionTreeDiscretiser(cv=10, regression=False,\n",
       "                                         scoring=&#x27;accuracy&#x27;,\n",
       "                                         variables=[&#x27;age&#x27;])),\n",
       "                (&#x27;scaler&#x27;,\n",
       "                 RobustScaler(quantile_range=(0, 100), with_centering=False)),\n",
       "                (&#x27;classifier&#x27;, LogisticRegression(random_state=0))])</pre></div></div></div><div class=\"sk-serial\"><div class=\"sk-item\"><div class=\"sk-estimator sk-toggleable\"><input class=\"sk-toggleable__control sk-hidden--visually\" id=\"sk-estimator-id-3\" type=\"checkbox\" ><label for=\"sk-estimator-id-3\" class=\"sk-toggleable__label sk-toggleable__label-arrow\">MeanMedianImputer</label><div class=\"sk-toggleable__content\"><pre>MeanMedianImputer(imputation_method=&#x27;mean&#x27;, variables=[&#x27;age&#x27;, &#x27;fare&#x27;])</pre></div></div></div><div class=\"sk-item\"><div class=\"sk-estimator sk-toggleable\"><input class=\"sk-toggleable__control sk-hidden--visually\" id=\"sk-estimator-id-4\" type=\"checkbox\" ><label for=\"sk-estimator-id-4\" class=\"sk-toggleable__label sk-toggleable__label-arrow\">OneHotEncoder</label><div class=\"sk-toggleable__content\"><pre>OneHotEncoder(drop_last=True, variables=[&#x27;sex&#x27;])</pre></div></div></div><div class=\"sk-item\"><div class=\"sk-estimator sk-toggleable\"><input class=\"sk-toggleable__control sk-hidden--visually\" id=\"sk-estimator-id-5\" type=\"checkbox\" ><label for=\"sk-estimator-id-5\" class=\"sk-toggleable__label sk-toggleable__label-arrow\">DecisionTreeDiscretiser</label><div class=\"sk-toggleable__content\"><pre>DecisionTreeDiscretiser(cv=10, regression=False, scoring=&#x27;accuracy&#x27;,\n",
       "                        variables=[&#x27;age&#x27;])</pre></div></div></div><div class=\"sk-item\"><div class=\"sk-estimator sk-toggleable\"><input class=\"sk-toggleable__control sk-hidden--visually\" id=\"sk-estimator-id-6\" type=\"checkbox\" ><label for=\"sk-estimator-id-6\" class=\"sk-toggleable__label sk-toggleable__label-arrow\">RobustScaler</label><div class=\"sk-toggleable__content\"><pre>RobustScaler(quantile_range=(0, 100), with_centering=False)</pre></div></div></div><div class=\"sk-item\"><div class=\"sk-estimator sk-toggleable\"><input class=\"sk-toggleable__control sk-hidden--visually\" id=\"sk-estimator-id-7\" type=\"checkbox\" ><label for=\"sk-estimator-id-7\" class=\"sk-toggleable__label sk-toggleable__label-arrow\">LogisticRegression</label><div class=\"sk-toggleable__content\"><pre>LogisticRegression(random_state=0)</pre></div></div></div></div></div></div></div>"
      ],
      "text/plain": [
       "Pipeline(steps=[('imputer_age',\n",
       "                 MeanMedianImputer(imputation_method='mean',\n",
       "                                   variables=['age', 'fare'])),\n",
       "                ('encoder_sex',\n",
       "                 OneHotEncoder(drop_last=True, variables=['sex'])),\n",
       "                ('discretiser_age',\n",
       "                 DecisionTreeDiscretiser(cv=10, regression=False,\n",
       "                                         scoring='accuracy',\n",
       "                                         variables=['age'])),\n",
       "                ('scaler',\n",
       "                 RobustScaler(quantile_range=(0, 100), with_centering=False)),\n",
       "                ('classifier', LogisticRegression(random_state=0))])"
      ]
     },
     "execution_count": 91,
     "metadata": {},
     "output_type": "execute_result"
    }
   ],
   "source": [
    "#Create pipeline\n",
    "Logit_pipe = Pipeline(steps = [\n",
    "    ('imputer_age', MeanMedianImputer(imputation_method='mean', variables = ['age','fare'])),\n",
    "    ('encoder_sex', OneHotEncoder(variables = ['sex'], drop_last = True)),\n",
    "    ('discretiser_age',DecisionTreeDiscretiser(cv = 10, scoring = 'accuracy', variables = ['age'], regression = False)),\n",
    "    ('scaler',RobustScaler(with_centering = False, with_scaling = True, quantile_range = (0, 100))),\n",
    "    ('classifier', LogisticRegression(random_state = 0))\n",
    "])\n",
    "\n",
    "X_train = X_train_copy.copy()\n",
    "X_test = X_test_copy.copy()\n",
    "\n",
    "#Fit pipeline\n",
    "Logit_pipe.fit(X_train, y_train)\n",
    "\n",
    "\n",
    "#GridSearch\n",
    "##None"
   ]
  },
  {
   "cell_type": "code",
   "execution_count": 92,
   "id": "d8b09d73",
   "metadata": {},
   "outputs": [
    {
     "name": "stdout",
     "output_type": "stream",
     "text": [
      "Accuracy score: 0.7786259541984732\n"
     ]
    },
    {
     "data": {
      "image/png": "[encoded data removed]",
      "text/plain": [
       "<Figure size 640x480 with 2 Axes>"
      ]
     },
     "metadata": {},
     "output_type": "display_data"
    }
   ],
   "source": [
    "#Prediction\n",
    "\n",
    "y_pred = Logit_pipe.predict(X_train)\n",
    "act = accuracy_score(y_train, y_pred)\n",
    "train_accuracy_score_list.append(act)\n",
    "\n",
    "y_pred = Logit_pipe.predict(X_test)\n",
    "\n",
    "cm = confusion_matrix(y_test, y_pred)\n",
    "ac = accuracy_score(y_test, y_pred)\n",
    "\n",
    "ax = sns.heatmap(cm, annot=True,fmt='.2f', cmap='Blues')\n",
    "print('Accuracy score:',ac)"
   ]
  },
  {
   "cell_type": "code",
   "execution_count": 93,
   "id": "83c82d3e",
   "metadata": {},
   "outputs": [],
   "source": [
    "model_list.append('Logistic Regression Classifier')\n",
    "accuracy_score_list.append(ac)"
   ]
  },
  {
   "cell_type": "code",
   "execution_count": 94,
   "id": "1fcb242b",
   "metadata": {},
   "outputs": [
    {
     "name": "stdout",
     "output_type": "stream",
     "text": [
      "Model ROC-AUC=0.830\n"
     ]
    }
   ],
   "source": [
    "probs = Logit_pipe.predict_proba(X_test)\n",
    "# save probability for true-positive\n",
    "probs = probs[:, 1]\n",
    "# ROC-AUC\n",
    "auc = roc_auc_score(y_test, probs)\n",
    "print('Model ROC-AUC=%.3f' % (auc))\n",
    "roc_auc_list.append(auc)"
   ]
  },
  {
   "cell_type": "code",
   "execution_count": 95,
   "id": "35e4beca",
   "metadata": {},
   "outputs": [
    {
     "name": "stdout",
     "output_type": "stream",
     "text": [
      "              precision    recall  f1-score   support\n",
      "\n",
      "           0       0.80      0.85      0.83       246\n",
      "           1       0.73      0.65      0.69       147\n",
      "\n",
      "    accuracy                           0.78       393\n",
      "   macro avg       0.77      0.75      0.76       393\n",
      "weighted avg       0.78      0.78      0.78       393\n",
      "\n"
     ]
    }
   ],
   "source": [
    "print(classification_report(y_test, y_pred))"
   ]
  },
  {
   "cell_type": "markdown",
   "id": "c6ee0e76",
   "metadata": {},
   "source": [
    "<h3> Naive Bayes </h3>"
   ]
  },
  {
   "cell_type": "code",
   "execution_count": 96,
   "id": "38df26e4",
   "metadata": {},
   "outputs": [
    {
     "data": {
      "text/html": [
       "<style>#sk-container-id-3 {color: black;background-color: white;}#sk-container-id-3 pre{padding: 0;}#sk-container-id-3 div.sk-toggleable {background-color: white;}#sk-container-id-3 label.sk-toggleable__label {cursor: pointer;display: block;width: 100%;margin-bottom: 0;padding: 0.3em;box-sizing: border-box;text-align: center;}#sk-container-id-3 label.sk-toggleable__label-arrow:before {content: \"▸\";float: left;margin-right: 0.25em;color: #696969;}#sk-container-id-3 label.sk-toggleable__label-arrow:hover:before {color: black;}#sk-container-id-3 div.sk-estimator:hover label.sk-toggleable__label-arrow:before {color: black;}#sk-container-id-3 div.sk-toggleable__content {max-height: 0;max-width: 0;overflow: hidden;text-align: left;background-color: #f0f8ff;}#sk-container-id-3 div.sk-toggleable__content pre {margin: 0.2em;color: black;border-radius: 0.25em;background-color: #f0f8ff;}#sk-container-id-3 input.sk-toggleable__control:checked~div.sk-toggleable__content {max-height: 200px;max-width: 100%;overflow: auto;}#sk-container-id-3 input.sk-toggleable__control:checked~label.sk-toggleable__label-arrow:before {content: \"▾\";}#sk-container-id-3 div.sk-estimator input.sk-toggleable__control:checked~label.sk-toggleable__label {background-color: #d4ebff;}#sk-container-id-3 div.sk-label input.sk-toggleable__control:checked~label.sk-toggleable__label {background-color: #d4ebff;}#sk-container-id-3 input.sk-hidden--visually {border: 0;clip: rect(1px 1px 1px 1px);clip: rect(1px, 1px, 1px, 1px);height: 1px;margin: -1px;overflow: hidden;padding: 0;position: absolute;width: 1px;}#sk-container-id-3 div.sk-estimator {font-family: monospace;background-color: #f0f8ff;border: 1px dotted black;border-radius: 0.25em;box-sizing: border-box;margin-bottom: 0.5em;}#sk-container-id-3 div.sk-estimator:hover {background-color: #d4ebff;}#sk-container-id-3 div.sk-parallel-item::after {content: \"\";width: 100%;border-bottom: 1px solid gray;flex-grow: 1;}#sk-container-id-3 div.sk-label:hover label.sk-toggleable__label {background-color: #d4ebff;}#sk-container-id-3 div.sk-serial::before {content: \"\";position: absolute;border-left: 1px solid gray;box-sizing: border-box;top: 0;bottom: 0;left: 50%;z-index: 0;}#sk-container-id-3 div.sk-serial {display: flex;flex-direction: column;align-items: center;background-color: white;padding-right: 0.2em;padding-left: 0.2em;position: relative;}#sk-container-id-3 div.sk-item {position: relative;z-index: 1;}#sk-container-id-3 div.sk-parallel {display: flex;align-items: stretch;justify-content: center;background-color: white;position: relative;}#sk-container-id-3 div.sk-item::before, #sk-container-id-3 div.sk-parallel-item::before {content: \"\";position: absolute;border-left: 1px solid gray;box-sizing: border-box;top: 0;bottom: 0;left: 50%;z-index: -1;}#sk-container-id-3 div.sk-parallel-item {display: flex;flex-direction: column;z-index: 1;position: relative;background-color: white;}#sk-container-id-3 div.sk-parallel-item:first-child::after {align-self: flex-end;width: 50%;}#sk-container-id-3 div.sk-parallel-item:last-child::after {align-self: flex-start;width: 50%;}#sk-container-id-3 div.sk-parallel-item:only-child::after {width: 0;}#sk-container-id-3 div.sk-dashed-wrapped {border: 1px dashed gray;margin: 0 0.4em 0.5em 0.4em;box-sizing: border-box;padding-bottom: 0.4em;background-color: white;}#sk-container-id-3 div.sk-label label {font-family: monospace;font-weight: bold;display: inline-block;line-height: 1.2em;}#sk-container-id-3 div.sk-label-container {text-align: center;}#sk-container-id-3 div.sk-container {/* jupyter's `normalize.less` sets `[hidden] { display: none; }` but bootstrap.min.css set `[hidden] { display: none !important; }` so we also need the `!important` here to be able to override the default hidden behavior on the sphinx rendered scikit-learn.org. See: https://github.com/scikit-learn/scikit-learn/issues/21755 */display: inline-block !important;position: relative;}#sk-container-id-3 div.sk-text-repr-fallback {display: none;}</style><div id=\"sk-container-id-3\" class=\"sk-top-container\"><div class=\"sk-text-repr-fallback\"><pre>Pipeline(steps=[(&#x27;imputer_age&#x27;,\n",
       "                 MeanMedianImputer(imputation_method=&#x27;mean&#x27;,\n",
       "                                   variables=[&#x27;age&#x27;, &#x27;fare&#x27;])),\n",
       "                (&#x27;encoder_sex&#x27;,\n",
       "                 OneHotEncoder(drop_last=True, variables=[&#x27;sex&#x27;])),\n",
       "                (&#x27;discretiser_age&#x27;,\n",
       "                 DecisionTreeDiscretiser(cv=10, regression=False,\n",
       "                                         scoring=&#x27;accuracy&#x27;,\n",
       "                                         variables=[&#x27;age&#x27;])),\n",
       "                (&#x27;scaler&#x27;,\n",
       "                 RobustScaler(quantile_range=(0, 100), with_centering=False)),\n",
       "                (&#x27;classifier&#x27;, GaussianNB())])</pre><b>In a Jupyter environment, please rerun this cell to show the HTML representation or trust the notebook. <br />On GitHub, the HTML representation is unable to render, please try loading this page with nbviewer.org.</b></div><div class=\"sk-container\" hidden><div class=\"sk-item sk-dashed-wrapped\"><div class=\"sk-label-container\"><div class=\"sk-label sk-toggleable\"><input class=\"sk-toggleable__control sk-hidden--visually\" id=\"sk-estimator-id-8\" type=\"checkbox\" ><label for=\"sk-estimator-id-8\" class=\"sk-toggleable__label sk-toggleable__label-arrow\">Pipeline</label><div class=\"sk-toggleable__content\"><pre>Pipeline(steps=[(&#x27;imputer_age&#x27;,\n",
       "                 MeanMedianImputer(imputation_method=&#x27;mean&#x27;,\n",
       "                                   variables=[&#x27;age&#x27;, &#x27;fare&#x27;])),\n",
       "                (&#x27;encoder_sex&#x27;,\n",
       "                 OneHotEncoder(drop_last=True, variables=[&#x27;sex&#x27;])),\n",
       "                (&#x27;discretiser_age&#x27;,\n",
       "                 DecisionTreeDiscretiser(cv=10, regression=False,\n",
       "                                         scoring=&#x27;accuracy&#x27;,\n",
       "                                         variables=[&#x27;age&#x27;])),\n",
       "                (&#x27;scaler&#x27;,\n",
       "                 RobustScaler(quantile_range=(0, 100), with_centering=False)),\n",
       "                (&#x27;classifier&#x27;, GaussianNB())])</pre></div></div></div><div class=\"sk-serial\"><div class=\"sk-item\"><div class=\"sk-estimator sk-toggleable\"><input class=\"sk-toggleable__control sk-hidden--visually\" id=\"sk-estimator-id-9\" type=\"checkbox\" ><label for=\"sk-estimator-id-9\" class=\"sk-toggleable__label sk-toggleable__label-arrow\">MeanMedianImputer</label><div class=\"sk-toggleable__content\"><pre>MeanMedianImputer(imputation_method=&#x27;mean&#x27;, variables=[&#x27;age&#x27;, &#x27;fare&#x27;])</pre></div></div></div><div class=\"sk-item\"><div class=\"sk-estimator sk-toggleable\"><input class=\"sk-toggleable__control sk-hidden--visually\" id=\"sk-estimator-id-10\" type=\"checkbox\" ><label for=\"sk-estimator-id-10\" class=\"sk-toggleable__label sk-toggleable__label-arrow\">OneHotEncoder</label><div class=\"sk-toggleable__content\"><pre>OneHotEncoder(drop_last=True, variables=[&#x27;sex&#x27;])</pre></div></div></div><div class=\"sk-item\"><div class=\"sk-estimator sk-toggleable\"><input class=\"sk-toggleable__control sk-hidden--visually\" id=\"sk-estimator-id-11\" type=\"checkbox\" ><label for=\"sk-estimator-id-11\" class=\"sk-toggleable__label sk-toggleable__label-arrow\">DecisionTreeDiscretiser</label><div class=\"sk-toggleable__content\"><pre>DecisionTreeDiscretiser(cv=10, regression=False, scoring=&#x27;accuracy&#x27;,\n",
       "                        variables=[&#x27;age&#x27;])</pre></div></div></div><div class=\"sk-item\"><div class=\"sk-estimator sk-toggleable\"><input class=\"sk-toggleable__control sk-hidden--visually\" id=\"sk-estimator-id-12\" type=\"checkbox\" ><label for=\"sk-estimator-id-12\" class=\"sk-toggleable__label sk-toggleable__label-arrow\">RobustScaler</label><div class=\"sk-toggleable__content\"><pre>RobustScaler(quantile_range=(0, 100), with_centering=False)</pre></div></div></div><div class=\"sk-item\"><div class=\"sk-estimator sk-toggleable\"><input class=\"sk-toggleable__control sk-hidden--visually\" id=\"sk-estimator-id-13\" type=\"checkbox\" ><label for=\"sk-estimator-id-13\" class=\"sk-toggleable__label sk-toggleable__label-arrow\">GaussianNB</label><div class=\"sk-toggleable__content\"><pre>GaussianNB()</pre></div></div></div></div></div></div></div>"
      ],
      "text/plain": [
       "Pipeline(steps=[('imputer_age',\n",
       "                 MeanMedianImputer(imputation_method='mean',\n",
       "                                   variables=['age', 'fare'])),\n",
       "                ('encoder_sex',\n",
       "                 OneHotEncoder(drop_last=True, variables=['sex'])),\n",
       "                ('discretiser_age',\n",
       "                 DecisionTreeDiscretiser(cv=10, regression=False,\n",
       "                                         scoring='accuracy',\n",
       "                                         variables=['age'])),\n",
       "                ('scaler',\n",
       "                 RobustScaler(quantile_range=(0, 100), with_centering=False)),\n",
       "                ('classifier', GaussianNB())])"
      ]
     },
     "execution_count": 96,
     "metadata": {},
     "output_type": "execute_result"
    }
   ],
   "source": [
    "#Create pipeline\n",
    "NB_pipe = Pipeline(steps = [\n",
    "    ('imputer_age', MeanMedianImputer(imputation_method='mean', variables = ['age','fare'])),\n",
    "    ('encoder_sex', OneHotEncoder(variables = ['sex'], drop_last = True)),\n",
    "    ('discretiser_age',DecisionTreeDiscretiser(cv = 10, scoring = 'accuracy', variables = ['age'], regression = False)),\n",
    "    ('scaler',RobustScaler(with_centering = False, with_scaling = True, quantile_range = (0, 100))),\n",
    "    ('classifier', GaussianNB())\n",
    "])\n",
    "\n",
    "X_train = X_train_copy.copy()\n",
    "X_test = X_test_copy.copy()\n",
    "\n",
    "#Fit pipeline\n",
    "NB_pipe.fit(X_train, y_train)\n",
    "\n",
    "\n",
    "#GridSearch\n",
    "##None"
   ]
  },
  {
   "cell_type": "code",
   "execution_count": 97,
   "id": "4bccfd7d",
   "metadata": {},
   "outputs": [
    {
     "name": "stdout",
     "output_type": "stream",
     "text": [
      "Accuracy score: 0.7786259541984732\n"
     ]
    },
    {
     "data": {
      "image/png": "[encoded data removed]",
      "text/plain": [
       "<Figure size 640x480 with 2 Axes>"
      ]
     },
     "metadata": {},
     "output_type": "display_data"
    }
   ],
   "source": [
    "#Prediction\n",
    "\n",
    "y_pred = NB_pipe.predict(X_train)\n",
    "act = accuracy_score(y_train, y_pred)\n",
    "train_accuracy_score_list.append(act)\n",
    "\n",
    "y_pred = NB_pipe.predict(X_test)\n",
    "\n",
    "cm = confusion_matrix(y_test, y_pred)\n",
    "ac = accuracy_score(y_test, y_pred)\n",
    "\n",
    "ax = sns.heatmap(cm, annot=True,fmt='.2f', cmap='Blues')\n",
    "print('Accuracy score:',ac)"
   ]
  },
  {
   "cell_type": "code",
   "execution_count": 98,
   "id": "57efb0f6",
   "metadata": {},
   "outputs": [],
   "source": [
    "model_list.append('Naive Bayes Classifier')\n",
    "accuracy_score_list.append(ac)"
   ]
  },
  {
   "cell_type": "code",
   "execution_count": 99,
   "id": "df70c768",
   "metadata": {},
   "outputs": [
    {
     "name": "stdout",
     "output_type": "stream",
     "text": [
      "Model ROC-AUC=0.820\n"
     ]
    }
   ],
   "source": [
    "probs = NB_pipe.predict_proba(X_test)\n",
    "# save probability for true-positive\n",
    "probs = probs[:, 1]\n",
    "# ROC-AUC\n",
    "auc = roc_auc_score(y_test, probs)\n",
    "print('Model ROC-AUC=%.3f' % (auc))\n",
    "roc_auc_list.append(auc)"
   ]
  },
  {
   "cell_type": "code",
   "execution_count": 100,
   "id": "0174b597",
   "metadata": {},
   "outputs": [
    {
     "name": "stdout",
     "output_type": "stream",
     "text": [
      "              precision    recall  f1-score   support\n",
      "\n",
      "           0       0.81      0.85      0.83       246\n",
      "           1       0.72      0.67      0.69       147\n",
      "\n",
      "    accuracy                           0.78       393\n",
      "   macro avg       0.76      0.76      0.76       393\n",
      "weighted avg       0.78      0.78      0.78       393\n",
      "\n"
     ]
    }
   ],
   "source": [
    "print(classification_report(y_test, y_pred))"
   ]
  },
  {
   "cell_type": "markdown",
   "id": "0f2a7f08",
   "metadata": {},
   "source": [
    "<h3> XG Boost </h3>"
   ]
  },
  {
   "cell_type": "code",
   "execution_count": 101,
   "id": "13e84ce4",
   "metadata": {},
   "outputs": [
    {
     "data": {
      "text/html": [
       "<style>#sk-container-id-4 {color: black;background-color: white;}#sk-container-id-4 pre{padding: 0;}#sk-container-id-4 div.sk-toggleable {background-color: white;}#sk-container-id-4 label.sk-toggleable__label {cursor: pointer;display: block;width: 100%;margin-bottom: 0;padding: 0.3em;box-sizing: border-box;text-align: center;}#sk-container-id-4 label.sk-toggleable__label-arrow:before {content: \"▸\";float: left;margin-right: 0.25em;color: #696969;}#sk-container-id-4 label.sk-toggleable__label-arrow:hover:before {color: black;}#sk-container-id-4 div.sk-estimator:hover label.sk-toggleable__label-arrow:before {color: black;}#sk-container-id-4 div.sk-toggleable__content {max-height: 0;max-width: 0;overflow: hidden;text-align: left;background-color: #f0f8ff;}#sk-container-id-4 div.sk-toggleable__content pre {margin: 0.2em;color: black;border-radius: 0.25em;background-color: #f0f8ff;}#sk-container-id-4 input.sk-toggleable__control:checked~div.sk-toggleable__content {max-height: 200px;max-width: 100%;overflow: auto;}#sk-container-id-4 input.sk-toggleable__control:checked~label.sk-toggleable__label-arrow:before {content: \"▾\";}#sk-container-id-4 div.sk-estimator input.sk-toggleable__control:checked~label.sk-toggleable__label {background-color: #d4ebff;}#sk-container-id-4 div.sk-label input.sk-toggleable__control:checked~label.sk-toggleable__label {background-color: #d4ebff;}#sk-container-id-4 input.sk-hidden--visually {border: 0;clip: rect(1px 1px 1px 1px);clip: rect(1px, 1px, 1px, 1px);height: 1px;margin: -1px;overflow: hidden;padding: 0;position: absolute;width: 1px;}#sk-container-id-4 div.sk-estimator {font-family: monospace;background-color: #f0f8ff;border: 1px dotted black;border-radius: 0.25em;box-sizing: border-box;margin-bottom: 0.5em;}#sk-container-id-4 div.sk-estimator:hover {background-color: #d4ebff;}#sk-container-id-4 div.sk-parallel-item::after {content: \"\";width: 100%;border-bottom: 1px solid gray;flex-grow: 1;}#sk-container-id-4 div.sk-label:hover label.sk-toggleable__label {background-color: #d4ebff;}#sk-container-id-4 div.sk-serial::before {content: \"\";position: absolute;border-left: 1px solid gray;box-sizing: border-box;top: 0;bottom: 0;left: 50%;z-index: 0;}#sk-container-id-4 div.sk-serial {display: flex;flex-direction: column;align-items: center;background-color: white;padding-right: 0.2em;padding-left: 0.2em;position: relative;}#sk-container-id-4 div.sk-item {position: relative;z-index: 1;}#sk-container-id-4 div.sk-parallel {display: flex;align-items: stretch;justify-content: center;background-color: white;position: relative;}#sk-container-id-4 div.sk-item::before, #sk-container-id-4 div.sk-parallel-item::before {content: \"\";position: absolute;border-left: 1px solid gray;box-sizing: border-box;top: 0;bottom: 0;left: 50%;z-index: -1;}#sk-container-id-4 div.sk-parallel-item {display: flex;flex-direction: column;z-index: 1;position: relative;background-color: white;}#sk-container-id-4 div.sk-parallel-item:first-child::after {align-self: flex-end;width: 50%;}#sk-container-id-4 div.sk-parallel-item:last-child::after {align-self: flex-start;width: 50%;}#sk-container-id-4 div.sk-parallel-item:only-child::after {width: 0;}#sk-container-id-4 div.sk-dashed-wrapped {border: 1px dashed gray;margin: 0 0.4em 0.5em 0.4em;box-sizing: border-box;padding-bottom: 0.4em;background-color: white;}#sk-container-id-4 div.sk-label label {font-family: monospace;font-weight: bold;display: inline-block;line-height: 1.2em;}#sk-container-id-4 div.sk-label-container {text-align: center;}#sk-container-id-4 div.sk-container {/* jupyter's `normalize.less` sets `[hidden] { display: none; }` but bootstrap.min.css set `[hidden] { display: none !important; }` so we also need the `!important` here to be able to override the default hidden behavior on the sphinx rendered scikit-learn.org. See: https://github.com/scikit-learn/scikit-learn/issues/21755 */display: inline-block !important;position: relative;}#sk-container-id-4 div.sk-text-repr-fallback {display: none;}</style><div id=\"sk-container-id-4\" class=\"sk-top-container\"><div class=\"sk-text-repr-fallback\"><pre>Pipeline(steps=[(&#x27;imputer_age&#x27;,\n",
       "                 MeanMedianImputer(imputation_method=&#x27;mean&#x27;,\n",
       "                                   variables=[&#x27;age&#x27;, &#x27;fare&#x27;])),\n",
       "                (&#x27;encoder_sex&#x27;,\n",
       "                 OneHotEncoder(drop_last=True, variables=[&#x27;sex&#x27;])),\n",
       "                (&#x27;discretiser_age&#x27;,\n",
       "                 DecisionTreeDiscretiser(cv=10, regression=False,\n",
       "                                         scoring=&#x27;accuracy&#x27;,\n",
       "                                         variables=[&#x27;age&#x27;])),\n",
       "                (&#x27;scaler&#x27;,\n",
       "                 RobustScaler(quantile_range=(0, 100), with_centering=False)),\n",
       "                (&#x27;classifie...\n",
       "                               feature_types=None, gamma=None, gpu_id=None,\n",
       "                               grow_policy=None, importance_type=None,\n",
       "                               interaction_constraints=None, learning_rate=None,\n",
       "                               max_bin=None, max_cat_threshold=None,\n",
       "                               max_cat_to_onehot=None, max_delta_step=None,\n",
       "                               max_depth=None, max_leaves=None,\n",
       "                               min_child_weight=None, missing=nan,\n",
       "                               monotone_constraints=None, n_estimators=100,\n",
       "                               n_jobs=None, num_parallel_tree=None,\n",
       "                               predictor=None, random_state=None, ...))])</pre><b>In a Jupyter environment, please rerun this cell to show the HTML representation or trust the notebook. <br />On GitHub, the HTML representation is unable to render, please try loading this page with nbviewer.org.</b></div><div class=\"sk-container\" hidden><div class=\"sk-item sk-dashed-wrapped\"><div class=\"sk-label-container\"><div class=\"sk-label sk-toggleable\"><input class=\"sk-toggleable__control sk-hidden--visually\" id=\"sk-estimator-id-14\" type=\"checkbox\" ><label for=\"sk-estimator-id-14\" class=\"sk-toggleable__label sk-toggleable__label-arrow\">Pipeline</label><div class=\"sk-toggleable__content\"><pre>Pipeline(steps=[(&#x27;imputer_age&#x27;,\n",
       "                 MeanMedianImputer(imputation_method=&#x27;mean&#x27;,\n",
       "                                   variables=[&#x27;age&#x27;, &#x27;fare&#x27;])),\n",
       "                (&#x27;encoder_sex&#x27;,\n",
       "                 OneHotEncoder(drop_last=True, variables=[&#x27;sex&#x27;])),\n",
       "                (&#x27;discretiser_age&#x27;,\n",
       "                 DecisionTreeDiscretiser(cv=10, regression=False,\n",
       "                                         scoring=&#x27;accuracy&#x27;,\n",
       "                                         variables=[&#x27;age&#x27;])),\n",
       "                (&#x27;scaler&#x27;,\n",
       "                 RobustScaler(quantile_range=(0, 100), with_centering=False)),\n",
       "                (&#x27;classifie...\n",
       "                               feature_types=None, gamma=None, gpu_id=None,\n",
       "                               grow_policy=None, importance_type=None,\n",
       "                               interaction_constraints=None, learning_rate=None,\n",
       "                               max_bin=None, max_cat_threshold=None,\n",
       "                               max_cat_to_onehot=None, max_delta_step=None,\n",
       "                               max_depth=None, max_leaves=None,\n",
       "                               min_child_weight=None, missing=nan,\n",
       "                               monotone_constraints=None, n_estimators=100,\n",
       "                               n_jobs=None, num_parallel_tree=None,\n",
       "                               predictor=None, random_state=None, ...))])</pre></div></div></div><div class=\"sk-serial\"><div class=\"sk-item\"><div class=\"sk-estimator sk-toggleable\"><input class=\"sk-toggleable__control sk-hidden--visually\" id=\"sk-estimator-id-15\" type=\"checkbox\" ><label for=\"sk-estimator-id-15\" class=\"sk-toggleable__label sk-toggleable__label-arrow\">MeanMedianImputer</label><div class=\"sk-toggleable__content\"><pre>MeanMedianImputer(imputation_method=&#x27;mean&#x27;, variables=[&#x27;age&#x27;, &#x27;fare&#x27;])</pre></div></div></div><div class=\"sk-item\"><div class=\"sk-estimator sk-toggleable\"><input class=\"sk-toggleable__control sk-hidden--visually\" id=\"sk-estimator-id-16\" type=\"checkbox\" ><label for=\"sk-estimator-id-16\" class=\"sk-toggleable__label sk-toggleable__label-arrow\">OneHotEncoder</label><div class=\"sk-toggleable__content\"><pre>OneHotEncoder(drop_last=True, variables=[&#x27;sex&#x27;])</pre></div></div></div><div class=\"sk-item\"><div class=\"sk-estimator sk-toggleable\"><input class=\"sk-toggleable__control sk-hidden--visually\" id=\"sk-estimator-id-17\" type=\"checkbox\" ><label for=\"sk-estimator-id-17\" class=\"sk-toggleable__label sk-toggleable__label-arrow\">DecisionTreeDiscretiser</label><div class=\"sk-toggleable__content\"><pre>DecisionTreeDiscretiser(cv=10, regression=False, scoring=&#x27;accuracy&#x27;,\n",
       "                        variables=[&#x27;age&#x27;])</pre></div></div></div><div class=\"sk-item\"><div class=\"sk-estimator sk-toggleable\"><input class=\"sk-toggleable__control sk-hidden--visually\" id=\"sk-estimator-id-18\" type=\"checkbox\" ><label for=\"sk-estimator-id-18\" class=\"sk-toggleable__label sk-toggleable__label-arrow\">RobustScaler</label><div class=\"sk-toggleable__content\"><pre>RobustScaler(quantile_range=(0, 100), with_centering=False)</pre></div></div></div><div class=\"sk-item\"><div class=\"sk-estimator sk-toggleable\"><input class=\"sk-toggleable__control sk-hidden--visually\" id=\"sk-estimator-id-19\" type=\"checkbox\" ><label for=\"sk-estimator-id-19\" class=\"sk-toggleable__label sk-toggleable__label-arrow\">XGBClassifier</label><div class=\"sk-toggleable__content\"><pre>XGBClassifier(base_score=None, booster=None, callbacks=None,\n",
       "              colsample_bylevel=None, colsample_bynode=None,\n",
       "              colsample_bytree=None, early_stopping_rounds=None,\n",
       "              enable_categorical=False, eval_metric=None, feature_types=None,\n",
       "              gamma=None, gpu_id=None, grow_policy=None, importance_type=None,\n",
       "              interaction_constraints=None, learning_rate=None, max_bin=None,\n",
       "              max_cat_threshold=None, max_cat_to_onehot=None,\n",
       "              max_delta_step=None, max_depth=None, max_leaves=None,\n",
       "              min_child_weight=None, missing=nan, monotone_constraints=None,\n",
       "              n_estimators=100, n_jobs=None, num_parallel_tree=None,\n",
       "              predictor=None, random_state=None, ...)</pre></div></div></div></div></div></div></div>"
      ],
      "text/plain": [
       "Pipeline(steps=[('imputer_age',\n",
       "                 MeanMedianImputer(imputation_method='mean',\n",
       "                                   variables=['age', 'fare'])),\n",
       "                ('encoder_sex',\n",
       "                 OneHotEncoder(drop_last=True, variables=['sex'])),\n",
       "                ('discretiser_age',\n",
       "                 DecisionTreeDiscretiser(cv=10, regression=False,\n",
       "                                         scoring='accuracy',\n",
       "                                         variables=['age'])),\n",
       "                ('scaler',\n",
       "                 RobustScaler(quantile_range=(0, 100), with_centering=False)),\n",
       "                ('classifie...\n",
       "                               feature_types=None, gamma=None, gpu_id=None,\n",
       "                               grow_policy=None, importance_type=None,\n",
       "                               interaction_constraints=None, learning_rate=None,\n",
       "                               max_bin=None, max_cat_threshold=None,\n",
       "                               max_cat_to_onehot=None, max_delta_step=None,\n",
       "                               max_depth=None, max_leaves=None,\n",
       "                               min_child_weight=None, missing=nan,\n",
       "                               monotone_constraints=None, n_estimators=100,\n",
       "                               n_jobs=None, num_parallel_tree=None,\n",
       "                               predictor=None, random_state=None, ...))])"
      ]
     },
     "execution_count": 101,
     "metadata": {},
     "output_type": "execute_result"
    }
   ],
   "source": [
    "#Create pipeline\n",
    "XGB_pipe = Pipeline(steps = [\n",
    "    ('imputer_age', MeanMedianImputer(imputation_method='mean', variables = ['age','fare'])),\n",
    "    ('encoder_sex', OneHotEncoder(variables = ['sex'], drop_last = True)),\n",
    "    ('discretiser_age',DecisionTreeDiscretiser(cv = 10, scoring = 'accuracy', variables = ['age'], regression = False)),\n",
    "    ('scaler',RobustScaler(with_centering = False, with_scaling = True, quantile_range = (0, 100))),\n",
    "    ('classifier', XGBClassifier())\n",
    "])\n",
    "\n",
    "X_train = X_train_copy.copy()\n",
    "X_test = X_test_copy.copy()\n",
    "\n",
    "#Fit pipeline\n",
    "XGB_pipe.fit(X_train, y_train)\n",
    "\n",
    "\n",
    "#GridSearch\n",
    "##None"
   ]
  },
  {
   "cell_type": "code",
   "execution_count": 102,
   "id": "ff38bc85",
   "metadata": {},
   "outputs": [
    {
     "name": "stdout",
     "output_type": "stream",
     "text": [
      "Accuracy score: 0.8015267175572519\n"
     ]
    },
    {
     "data": {
      "image/png": "[encoded data removed]",
      "text/plain": [
       "<Figure size 640x480 with 2 Axes>"
      ]
     },
     "metadata": {},
     "output_type": "display_data"
    }
   ],
   "source": [
    "#Prediction\n",
    "\n",
    "y_pred = XGB_pipe.predict(X_train)\n",
    "act = accuracy_score(y_train, y_pred)\n",
    "train_accuracy_score_list.append(act)\n",
    "\n",
    "y_pred = XGB_pipe.predict(X_test)\n",
    "\n",
    "cm = confusion_matrix(y_test, y_pred)\n",
    "ac = accuracy_score(y_test, y_pred)\n",
    "\n",
    "ax = sns.heatmap(cm, annot=True,fmt='.2f', cmap='Blues')\n",
    "print('Accuracy score:',ac)"
   ]
  },
  {
   "cell_type": "code",
   "execution_count": 103,
   "id": "3aa56ad1",
   "metadata": {},
   "outputs": [],
   "source": [
    "model_list.append('XGBoost Classifier')\n",
    "accuracy_score_list.append(ac)"
   ]
  },
  {
   "cell_type": "code",
   "execution_count": 104,
   "id": "cb0eca9f",
   "metadata": {},
   "outputs": [
    {
     "name": "stdout",
     "output_type": "stream",
     "text": [
      "Model ROC-AUC=0.846\n"
     ]
    }
   ],
   "source": [
    "probs = XGB_pipe.predict_proba(X_test)\n",
    "# save probability for true-positive\n",
    "probs = probs[:, 1]\n",
    "# ROC-AUC\n",
    "auc = roc_auc_score(y_test, probs)\n",
    "print('Model ROC-AUC=%.3f' % (auc))\n",
    "roc_auc_list.append(auc)"
   ]
  },
  {
   "cell_type": "code",
   "execution_count": 105,
   "id": "273d973d",
   "metadata": {},
   "outputs": [
    {
     "name": "stdout",
     "output_type": "stream",
     "text": [
      "              precision    recall  f1-score   support\n",
      "\n",
      "           0       0.81      0.89      0.85       246\n",
      "           1       0.78      0.66      0.71       147\n",
      "\n",
      "    accuracy                           0.80       393\n",
      "   macro avg       0.79      0.77      0.78       393\n",
      "weighted avg       0.80      0.80      0.80       393\n",
      "\n"
     ]
    }
   ],
   "source": [
    "print(classification_report(y_test, y_pred))"
   ]
  },
  {
   "cell_type": "markdown",
   "id": "c66bca63",
   "metadata": {},
   "source": [
    "<h3> Ada Boost </h3>"
   ]
  },
  {
   "cell_type": "code",
   "execution_count": 106,
   "id": "1ff2d7cc",
   "metadata": {},
   "outputs": [
    {
     "data": {
      "text/html": [
       "<style>#sk-container-id-5 {color: black;background-color: white;}#sk-container-id-5 pre{padding: 0;}#sk-container-id-5 div.sk-toggleable {background-color: white;}#sk-container-id-5 label.sk-toggleable__label {cursor: pointer;display: block;width: 100%;margin-bottom: 0;padding: 0.3em;box-sizing: border-box;text-align: center;}#sk-container-id-5 label.sk-toggleable__label-arrow:before {content: \"▸\";float: left;margin-right: 0.25em;color: #696969;}#sk-container-id-5 label.sk-toggleable__label-arrow:hover:before {color: black;}#sk-container-id-5 div.sk-estimator:hover label.sk-toggleable__label-arrow:before {color: black;}#sk-container-id-5 div.sk-toggleable__content {max-height: 0;max-width: 0;overflow: hidden;text-align: left;background-color: #f0f8ff;}#sk-container-id-5 div.sk-toggleable__content pre {margin: 0.2em;color: black;border-radius: 0.25em;background-color: #f0f8ff;}#sk-container-id-5 input.sk-toggleable__control:checked~div.sk-toggleable__content {max-height: 200px;max-width: 100%;overflow: auto;}#sk-container-id-5 input.sk-toggleable__control:checked~label.sk-toggleable__label-arrow:before {content: \"▾\";}#sk-container-id-5 div.sk-estimator input.sk-toggleable__control:checked~label.sk-toggleable__label {background-color: #d4ebff;}#sk-container-id-5 div.sk-label input.sk-toggleable__control:checked~label.sk-toggleable__label {background-color: #d4ebff;}#sk-container-id-5 input.sk-hidden--visually {border: 0;clip: rect(1px 1px 1px 1px);clip: rect(1px, 1px, 1px, 1px);height: 1px;margin: -1px;overflow: hidden;padding: 0;position: absolute;width: 1px;}#sk-container-id-5 div.sk-estimator {font-family: monospace;background-color: #f0f8ff;border: 1px dotted black;border-radius: 0.25em;box-sizing: border-box;margin-bottom: 0.5em;}#sk-container-id-5 div.sk-estimator:hover {background-color: #d4ebff;}#sk-container-id-5 div.sk-parallel-item::after {content: \"\";width: 100%;border-bottom: 1px solid gray;flex-grow: 1;}#sk-container-id-5 div.sk-label:hover label.sk-toggleable__label {background-color: #d4ebff;}#sk-container-id-5 div.sk-serial::before {content: \"\";position: absolute;border-left: 1px solid gray;box-sizing: border-box;top: 0;bottom: 0;left: 50%;z-index: 0;}#sk-container-id-5 div.sk-serial {display: flex;flex-direction: column;align-items: center;background-color: white;padding-right: 0.2em;padding-left: 0.2em;position: relative;}#sk-container-id-5 div.sk-item {position: relative;z-index: 1;}#sk-container-id-5 div.sk-parallel {display: flex;align-items: stretch;justify-content: center;background-color: white;position: relative;}#sk-container-id-5 div.sk-item::before, #sk-container-id-5 div.sk-parallel-item::before {content: \"\";position: absolute;border-left: 1px solid gray;box-sizing: border-box;top: 0;bottom: 0;left: 50%;z-index: -1;}#sk-container-id-5 div.sk-parallel-item {display: flex;flex-direction: column;z-index: 1;position: relative;background-color: white;}#sk-container-id-5 div.sk-parallel-item:first-child::after {align-self: flex-end;width: 50%;}#sk-container-id-5 div.sk-parallel-item:last-child::after {align-self: flex-start;width: 50%;}#sk-container-id-5 div.sk-parallel-item:only-child::after {width: 0;}#sk-container-id-5 div.sk-dashed-wrapped {border: 1px dashed gray;margin: 0 0.4em 0.5em 0.4em;box-sizing: border-box;padding-bottom: 0.4em;background-color: white;}#sk-container-id-5 div.sk-label label {font-family: monospace;font-weight: bold;display: inline-block;line-height: 1.2em;}#sk-container-id-5 div.sk-label-container {text-align: center;}#sk-container-id-5 div.sk-container {/* jupyter's `normalize.less` sets `[hidden] { display: none; }` but bootstrap.min.css set `[hidden] { display: none !important; }` so we also need the `!important` here to be able to override the default hidden behavior on the sphinx rendered scikit-learn.org. See: https://github.com/scikit-learn/scikit-learn/issues/21755 */display: inline-block !important;position: relative;}#sk-container-id-5 div.sk-text-repr-fallback {display: none;}</style><div id=\"sk-container-id-5\" class=\"sk-top-container\"><div class=\"sk-text-repr-fallback\"><pre>Pipeline(steps=[(&#x27;imputer_age&#x27;,\n",
       "                 MeanMedianImputer(imputation_method=&#x27;mean&#x27;,\n",
       "                                   variables=[&#x27;age&#x27;, &#x27;fare&#x27;])),\n",
       "                (&#x27;encoder_sex&#x27;,\n",
       "                 OneHotEncoder(drop_last=True, variables=[&#x27;sex&#x27;])),\n",
       "                (&#x27;discretiser_age&#x27;,\n",
       "                 DecisionTreeDiscretiser(cv=10, regression=False,\n",
       "                                         scoring=&#x27;accuracy&#x27;,\n",
       "                                         variables=[&#x27;age&#x27;])),\n",
       "                (&#x27;scaler&#x27;,\n",
       "                 RobustScaler(quantile_range=(0, 100), with_centering=False)),\n",
       "                (&#x27;classifier&#x27;,\n",
       "                 AdaBoostClassifier(learning_rate=0.5, random_state=1))])</pre><b>In a Jupyter environment, please rerun this cell to show the HTML representation or trust the notebook. <br />On GitHub, the HTML representation is unable to render, please try loading this page with nbviewer.org.</b></div><div class=\"sk-container\" hidden><div class=\"sk-item sk-dashed-wrapped\"><div class=\"sk-label-container\"><div class=\"sk-label sk-toggleable\"><input class=\"sk-toggleable__control sk-hidden--visually\" id=\"sk-estimator-id-20\" type=\"checkbox\" ><label for=\"sk-estimator-id-20\" class=\"sk-toggleable__label sk-toggleable__label-arrow\">Pipeline</label><div class=\"sk-toggleable__content\"><pre>Pipeline(steps=[(&#x27;imputer_age&#x27;,\n",
       "                 MeanMedianImputer(imputation_method=&#x27;mean&#x27;,\n",
       "                                   variables=[&#x27;age&#x27;, &#x27;fare&#x27;])),\n",
       "                (&#x27;encoder_sex&#x27;,\n",
       "                 OneHotEncoder(drop_last=True, variables=[&#x27;sex&#x27;])),\n",
       "                (&#x27;discretiser_age&#x27;,\n",
       "                 DecisionTreeDiscretiser(cv=10, regression=False,\n",
       "                                         scoring=&#x27;accuracy&#x27;,\n",
       "                                         variables=[&#x27;age&#x27;])),\n",
       "                (&#x27;scaler&#x27;,\n",
       "                 RobustScaler(quantile_range=(0, 100), with_centering=False)),\n",
       "                (&#x27;classifier&#x27;,\n",
       "                 AdaBoostClassifier(learning_rate=0.5, random_state=1))])</pre></div></div></div><div class=\"sk-serial\"><div class=\"sk-item\"><div class=\"sk-estimator sk-toggleable\"><input class=\"sk-toggleable__control sk-hidden--visually\" id=\"sk-estimator-id-21\" type=\"checkbox\" ><label for=\"sk-estimator-id-21\" class=\"sk-toggleable__label sk-toggleable__label-arrow\">MeanMedianImputer</label><div class=\"sk-toggleable__content\"><pre>MeanMedianImputer(imputation_method=&#x27;mean&#x27;, variables=[&#x27;age&#x27;, &#x27;fare&#x27;])</pre></div></div></div><div class=\"sk-item\"><div class=\"sk-estimator sk-toggleable\"><input class=\"sk-toggleable__control sk-hidden--visually\" id=\"sk-estimator-id-22\" type=\"checkbox\" ><label for=\"sk-estimator-id-22\" class=\"sk-toggleable__label sk-toggleable__label-arrow\">OneHotEncoder</label><div class=\"sk-toggleable__content\"><pre>OneHotEncoder(drop_last=True, variables=[&#x27;sex&#x27;])</pre></div></div></div><div class=\"sk-item\"><div class=\"sk-estimator sk-toggleable\"><input class=\"sk-toggleable__control sk-hidden--visually\" id=\"sk-estimator-id-23\" type=\"checkbox\" ><label for=\"sk-estimator-id-23\" class=\"sk-toggleable__label sk-toggleable__label-arrow\">DecisionTreeDiscretiser</label><div class=\"sk-toggleable__content\"><pre>DecisionTreeDiscretiser(cv=10, regression=False, scoring=&#x27;accuracy&#x27;,\n",
       "                        variables=[&#x27;age&#x27;])</pre></div></div></div><div class=\"sk-item\"><div class=\"sk-estimator sk-toggleable\"><input class=\"sk-toggleable__control sk-hidden--visually\" id=\"sk-estimator-id-24\" type=\"checkbox\" ><label for=\"sk-estimator-id-24\" class=\"sk-toggleable__label sk-toggleable__label-arrow\">RobustScaler</label><div class=\"sk-toggleable__content\"><pre>RobustScaler(quantile_range=(0, 100), with_centering=False)</pre></div></div></div><div class=\"sk-item\"><div class=\"sk-estimator sk-toggleable\"><input class=\"sk-toggleable__control sk-hidden--visually\" id=\"sk-estimator-id-25\" type=\"checkbox\" ><label for=\"sk-estimator-id-25\" class=\"sk-toggleable__label sk-toggleable__label-arrow\">AdaBoostClassifier</label><div class=\"sk-toggleable__content\"><pre>AdaBoostClassifier(learning_rate=0.5, random_state=1)</pre></div></div></div></div></div></div></div>"
      ],
      "text/plain": [
       "Pipeline(steps=[('imputer_age',\n",
       "                 MeanMedianImputer(imputation_method='mean',\n",
       "                                   variables=['age', 'fare'])),\n",
       "                ('encoder_sex',\n",
       "                 OneHotEncoder(drop_last=True, variables=['sex'])),\n",
       "                ('discretiser_age',\n",
       "                 DecisionTreeDiscretiser(cv=10, regression=False,\n",
       "                                         scoring='accuracy',\n",
       "                                         variables=['age'])),\n",
       "                ('scaler',\n",
       "                 RobustScaler(quantile_range=(0, 100), with_centering=False)),\n",
       "                ('classifier',\n",
       "                 AdaBoostClassifier(learning_rate=0.5, random_state=1))])"
      ]
     },
     "execution_count": 106,
     "metadata": {},
     "output_type": "execute_result"
    }
   ],
   "source": [
    "#Create pipeline\n",
    "Ada_pipe = Pipeline(steps = [\n",
    "    ('imputer_age', MeanMedianImputer(imputation_method='mean', variables = ['age','fare'])),\n",
    "    ('encoder_sex', OneHotEncoder(variables = ['sex'], drop_last = True)),\n",
    "    ('discretiser_age',DecisionTreeDiscretiser(cv = 10, scoring = 'accuracy', variables = ['age'], regression = False)),\n",
    "    ('scaler',RobustScaler(with_centering = False, with_scaling = True, quantile_range = (0, 100))),\n",
    "     ('classifier', AdaBoostClassifier(n_estimators=50, learning_rate=0.5, algorithm='SAMME.R', random_state=1))\n",
    "])\n",
    "\n",
    "X_train = X_train_copy.copy()\n",
    "X_test = X_test_copy.copy()\n",
    "\n",
    "#Fit pipeline\n",
    "Ada_pipe.fit(X_train, y_train)\n",
    "\n",
    "\n",
    "#GridSearch\n",
    "##None"
   ]
  },
  {
   "cell_type": "code",
   "execution_count": 107,
   "id": "d08b0e7b",
   "metadata": {},
   "outputs": [
    {
     "name": "stdout",
     "output_type": "stream",
     "text": [
      "Accuracy score: 0.7709923664122137\n"
     ]
    },
    {
     "data": {
      "image/png": "[encoded data removed]",
      "text/plain": [
       "<Figure size 640x480 with 2 Axes>"
      ]
     },
     "metadata": {},
     "output_type": "display_data"
    }
   ],
   "source": [
    "#Prediction\n",
    "\n",
    "y_pred = Ada_pipe.predict(X_train)\n",
    "act = accuracy_score(y_train, y_pred)\n",
    "train_accuracy_score_list.append(act)\n",
    "\n",
    "y_pred = Ada_pipe.predict(X_test)\n",
    "\n",
    "cm = confusion_matrix(y_test, y_pred)\n",
    "ac = accuracy_score(y_test, y_pred)\n",
    "\n",
    "ax = sns.heatmap(cm, annot=True,fmt='.2f', cmap='Blues')\n",
    "print('Accuracy score:',ac)"
   ]
  },
  {
   "cell_type": "code",
   "execution_count": 108,
   "id": "b0ed7945",
   "metadata": {},
   "outputs": [],
   "source": [
    "model_list.append('AdaBoost Classifier')\n",
    "accuracy_score_list.append(ac)"
   ]
  },
  {
   "cell_type": "code",
   "execution_count": 109,
   "id": "15c1a958",
   "metadata": {},
   "outputs": [
    {
     "name": "stdout",
     "output_type": "stream",
     "text": [
      "Model ROC-AUC=0.838\n"
     ]
    }
   ],
   "source": [
    "probs = Ada_pipe.predict_proba(X_test)\n",
    "# save probability for true-positive\n",
    "probs = probs[:, 1]\n",
    "# ROC-AUC\n",
    "auc = roc_auc_score(y_test, probs)\n",
    "print('Model ROC-AUC=%.3f' % (auc))\n",
    "roc_auc_list.append(auc)"
   ]
  },
  {
   "cell_type": "code",
   "execution_count": 110,
   "id": "c51082b4",
   "metadata": {},
   "outputs": [
    {
     "name": "stdout",
     "output_type": "stream",
     "text": [
      "              precision    recall  f1-score   support\n",
      "\n",
      "           0       0.81      0.83      0.82       246\n",
      "           1       0.71      0.67      0.69       147\n",
      "\n",
      "    accuracy                           0.77       393\n",
      "   macro avg       0.76      0.75      0.75       393\n",
      "weighted avg       0.77      0.77      0.77       393\n",
      "\n"
     ]
    }
   ],
   "source": [
    "print(classification_report(y_test, y_pred))"
   ]
  },
  {
   "cell_type": "markdown",
   "id": "3ea644e8",
   "metadata": {},
   "source": [
    "<center><h2> RESULTS </h2><center>"
   ]
  },
  {
   "cell_type": "code",
   "execution_count": 111,
   "id": "0c29ab83",
   "metadata": {},
   "outputs": [],
   "source": [
    "results = pd.DataFrame({'model': model_list,\n",
    "                       'train_accuracy_score': train_accuracy_score_list,\n",
    "                       'accuracy_score': accuracy_score_list,\n",
    "                       'roc-auc_score': roc_auc_list}\n",
    "                       )"
   ]
  },
  {
   "cell_type": "code",
   "execution_count": 112,
   "id": "b794080a",
   "metadata": {},
   "outputs": [
    {
     "data": {
      "text/html": [
       "<div>\n",
       "<style scoped>\n",
       "    .dataframe tbody tr th:only-of-type {\n",
       "        vertical-align: middle;\n",
       "    }\n",
       "\n",
       "    .dataframe tbody tr th {\n",
       "        vertical-align: top;\n",
       "    }\n",
       "\n",
       "    .dataframe thead th {\n",
       "        text-align: right;\n",
       "    }\n",
       "</style>\n",
       "<table border=\"1\" class=\"dataframe\">\n",
       "  <thead>\n",
       "    <tr style=\"text-align: right;\">\n",
       "      <th></th>\n",
       "      <th>model</th>\n",
       "      <th>train_accuracy_score</th>\n",
       "      <th>accuracy_score</th>\n",
       "      <th>roc-auc_score</th>\n",
       "    </tr>\n",
       "  </thead>\n",
       "  <tbody>\n",
       "    <tr>\n",
       "      <th>6</th>\n",
       "      <td>XGBoost Classifier</td>\n",
       "      <td>0.889738</td>\n",
       "      <td>0.801527</td>\n",
       "      <td>0.846164</td>\n",
       "    </tr>\n",
       "    <tr>\n",
       "      <th>7</th>\n",
       "      <td>AdaBoost Classifier</td>\n",
       "      <td>0.784934</td>\n",
       "      <td>0.770992</td>\n",
       "      <td>0.837896</td>\n",
       "    </tr>\n",
       "    <tr>\n",
       "      <th>4</th>\n",
       "      <td>Logistic Regression Classifier</td>\n",
       "      <td>0.783843</td>\n",
       "      <td>0.778626</td>\n",
       "      <td>0.830333</td>\n",
       "    </tr>\n",
       "    <tr>\n",
       "      <th>3</th>\n",
       "      <td>KNN Classifier</td>\n",
       "      <td>0.844978</td>\n",
       "      <td>0.783715</td>\n",
       "      <td>0.822936</td>\n",
       "    </tr>\n",
       "    <tr>\n",
       "      <th>5</th>\n",
       "      <td>Naive Bayes Classifier</td>\n",
       "      <td>0.751092</td>\n",
       "      <td>0.778626</td>\n",
       "      <td>0.819686</td>\n",
       "    </tr>\n",
       "    <tr>\n",
       "      <th>2</th>\n",
       "      <td>SVC Classifier</td>\n",
       "      <td>0.791485</td>\n",
       "      <td>0.788804</td>\n",
       "      <td>0.819603</td>\n",
       "    </tr>\n",
       "    <tr>\n",
       "      <th>1</th>\n",
       "      <td>Random Forest Classifier</td>\n",
       "      <td>0.894105</td>\n",
       "      <td>0.786260</td>\n",
       "      <td>0.806745</td>\n",
       "    </tr>\n",
       "    <tr>\n",
       "      <th>0</th>\n",
       "      <td>Decision Tree Classifier</td>\n",
       "      <td>0.900655</td>\n",
       "      <td>0.798982</td>\n",
       "      <td>0.784954</td>\n",
       "    </tr>\n",
       "  </tbody>\n",
       "</table>\n",
       "</div>"
      ],
      "text/plain": [
       "                            model  train_accuracy_score  accuracy_score  \\\n",
       "6              XGBoost Classifier              0.889738        0.801527   \n",
       "7             AdaBoost Classifier              0.784934        0.770992   \n",
       "4  Logistic Regression Classifier              0.783843        0.778626   \n",
       "3                  KNN Classifier              0.844978        0.783715   \n",
       "5          Naive Bayes Classifier              0.751092        0.778626   \n",
       "2                  SVC Classifier              0.791485        0.788804   \n",
       "1        Random Forest Classifier              0.894105        0.786260   \n",
       "0        Decision Tree Classifier              0.900655        0.798982   \n",
       "\n",
       "   roc-auc_score  \n",
       "6       0.846164  \n",
       "7       0.837896  \n",
       "4       0.830333  \n",
       "3       0.822936  \n",
       "5       0.819686  \n",
       "2       0.819603  \n",
       "1       0.806745  \n",
       "0       0.784954  "
      ]
     },
     "execution_count": 112,
     "metadata": {},
     "output_type": "execute_result"
    }
   ],
   "source": [
    "results.sort_values(by = 'roc-auc_score', ascending = False)"
   ]
  },
  {
   "cell_type": "code",
   "execution_count": 113,
   "id": "fc688a61",
   "metadata": {},
   "outputs": [
    {
     "data": {
      "text/plain": [
       "(0.75, 0.91)"
      ]
     },
     "execution_count": 113,
     "metadata": {},
     "output_type": "execute_result"
    },
    {
     "data": {
      "image/png": "[encoded data removed]",
      "text/plain": [
       "<Figure size 640x480 with 1 Axes>"
      ]
     },
     "metadata": {},
     "output_type": "display_data"
    }
   ],
   "source": [
    "plt.bar(results['model'], results['train_accuracy_score'])\n",
    "plt.xticks(results['model'],rotation = 90, fontsize = 7)\n",
    "plt.yticks(results['train_accuracy_score'], fontsize = 7)\n",
    "plt.xlabel('Model')\n",
    "plt.ylabel('Train Accuracy score')\n",
    "plt.ylim(0.75, 0.91)"
   ]
  },
  {
   "cell_type": "code",
   "execution_count": 114,
   "id": "69970040",
   "metadata": {},
   "outputs": [
    {
     "data": {
      "text/plain": [
       "(0.77, 0.81)"
      ]
     },
     "execution_count": 114,
     "metadata": {},
     "output_type": "execute_result"
    },
    {
     "data": {
      "image/png": "[encoded data removed]",
      "text/plain": [
       "<Figure size 640x480 with 1 Axes>"
      ]
     },
     "metadata": {},
     "output_type": "display_data"
    }
   ],
   "source": [
    "plt.bar(results['model'], results['accuracy_score'])\n",
    "plt.xticks(results['model'],rotation = 90, fontsize = 7)\n",
    "plt.yticks(results['accuracy_score'], fontsize = 7)\n",
    "plt.xlabel('Model')\n",
    "plt.ylabel('Test Accuracy score')\n",
    "plt.ylim(0.77, 0.81)"
   ]
  },
  {
   "cell_type": "code",
   "execution_count": 115,
   "id": "71625bca",
   "metadata": {},
   "outputs": [
    {
     "data": {
      "text/plain": [
       "(0.77, 0.85)"
      ]
     },
     "execution_count": 115,
     "metadata": {},
     "output_type": "execute_result"
    },
    {
     "data": {
      "image/png": "[encoded data removed]",
      "text/plain": [
       "<Figure size 640x480 with 1 Axes>"
      ]
     },
     "metadata": {},
     "output_type": "display_data"
    }
   ],
   "source": [
    "plt.bar(results['model'], results['roc-auc_score'])\n",
    "plt.xticks(results['model'],rotation = 90, fontsize = 7)\n",
    "plt.yticks(results['roc-auc_score'], fontsize = 7)\n",
    "plt.xlabel('Model')\n",
    "plt.ylabel('ROC-AUC')\n",
    "plt.ylim(0.77, 0.85)"
   ]
  },
  {
   "cell_type": "markdown",
   "id": "2bb5be99",
   "metadata": {},
   "source": [
    "According to the accuracy score for test set ( accuracy score is less than 90%), comparison of train/test accuracy score (difference is less than 1.5%) and ROC-AUC (above 83%) for test set <b> AdaBoost Classifier </b> was chosen as the best classification model."
   ]
  }
 ],
 "metadata": {
  "kernelspec": {
   "display_name": "Python 3 (ipykernel)",
   "language": "python",
   "name": "python3"
  },
  "language_info": {
   "codemirror_mode": {
    "name": "ipython",
    "version": 3
   },
   "file_extension": ".py",
   "mimetype": "text/x-python",
   "name": "python",
   "nbconvert_exporter": "python",
   "pygments_lexer": "ipython3",
   "version": "3.9.16"
  }
 },
 "nbformat": 4,
 "nbformat_minor": 5
}
